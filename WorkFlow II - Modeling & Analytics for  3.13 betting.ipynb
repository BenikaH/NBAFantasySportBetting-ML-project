{
 "cells": [
  {
   "cell_type": "code",
   "execution_count": 1,
   "metadata": {
    "collapsed": false
   },
   "outputs": [
    {
     "name": "stderr",
     "output_type": "stream",
     "text": [
      ":0: FutureWarning: IPython widgets are experimental and may change in the future.\n"
     ]
    }
   ],
   "source": [
    "import pandas as pd\n",
    "from sklearn import cross_validation, metrics\n",
    "from sklearn.grid_search import GridSearchCV\n",
    "import matplotlib.pylab as plt\n",
    "import seaborn as sns\n",
    "%matplotlib inline "
   ]
  },
  {
   "cell_type": "code",
   "execution_count": null,
   "metadata": {
    "collapsed": true
   },
   "outputs": [],
   "source": [
    "train_df = pd.read_csv('../Data/train_df_0313.csv',index=False)\n",
    "y_train = pd.read_csv('../Data/y_train_0313.csv',index=False)\n",
    "valid_df = pd.read_csv('../Data/valid_df_0313.csv',index=False)\n",
    "y_valid = pd.read_csv('../Data/y_valid_0313.csv',index=False)"
   ]
  },
  {
   "cell_type": "code",
   "execution_count": null,
   "metadata": {
    "collapsed": true
   },
   "outputs": [],
   "source": [
    "IDcol = 'Player_ID'\n",
    "predictors = [x for x in data.columns if x not in [target, IDcol, 'fullName','Rank_dup']]"
   ]
  },
  {
   "cell_type": "code",
   "execution_count": null,
   "metadata": {
    "collapsed": true
   },
   "outputs": [],
   "source": [
    "import xgboost as xgb\n",
    "from xgboost.sklearn import XGBRegressor"
   ]
  },
  {
   "cell_type": "code",
   "execution_count": null,
   "metadata": {
    "collapsed": true
   },
   "outputs": [],
   "source": [
    "def modelfit(alg, train_df,y_train,predictors,useTrainCV=True, cv_folds=3,early_stopping_rounds=50): \n",
    "    #cross validation for selecting the number of estomators(trees)\n",
    "    if useTrainCV:\n",
    "        xgb_param = alg.get_xgb_params()\n",
    "        xgtrain = xgb.DMatrix(train_df.values[predictors], label= y_train.values)\n",
    "        cvresult = xgb.cv(xgb_param, xgtrain, num_boost_round=alg.get_params()['n_estimators'], nfold=cv_folds,\\\n",
    "                          early_stopping_rounds=early_stopping_rounds, show_progress=True)\n",
    "        alg.set_params(n_estimators=cvresult.shape[0])\n",
    "        print \"number of estomators : \"+ str(cvresult.shape[0])\n",
    "    \n",
    "    #Fit the algorithm on the data\n",
    "    alg.fit(train_df[predictors], y_train, eval_metric='rmse')\n",
    "                \n",
    "    return alg"
   ]
  },
  {
   "cell_type": "code",
   "execution_count": null,
   "metadata": {
    "collapsed": true
   },
   "outputs": [],
   "source": [
    "xgb1 = XGBRegressor(\n",
    "        learning_rate =0.1,\n",
    "        n_estimators=500,\n",
    "        max_depth=4,\n",
    "        min_child_weight=1,\n",
    "        gamma=0,\n",
    "        subsample=0.8,\n",
    "        colsample_bytree=0.8,\n",
    "        objective= 'reg:linear',\n",
    "        nthread=-1,\n",
    "        scale_pos_weight=1,\n",
    "        seed=27)\n",
    "model1 = modelfit(xgb1, train_df, y_train, predictors)"
   ]
  },
  {
   "cell_type": "code",
   "execution_count": null,
   "metadata": {
    "collapsed": true
   },
   "outputs": [],
   "source": [
    "with open('../Data/xgboost_model1_0313.pickle', 'wb') as handle:\n",
    "  pickle.dump(model1,handle)"
   ]
  },
  {
   "cell_type": "markdown",
   "metadata": {},
   "source": [
    "##Model evaluation"
   ]
  },
  {
   "cell_type": "code",
   "execution_count": null,
   "metadata": {
    "collapsed": true
   },
   "outputs": [],
   "source": [
    "def get_performance(xgbmodel,train_df, y_train, valid_df, y_valid,predictors):\n",
    "    train_predictions = xgbmodel.predict(train_df[predictors])\n",
    "    print \"\\nModel Report\"\n",
    "    print \"RMSE(Train) : %.4g\" % metrics.mean_squared_error(y_train, train_predictions)**0.5\n",
    "    print \"R^2 Score (Train): %f\" % metrics.r2_score(y_train, train_predictions)\n",
    "    test_result = xgbmodel.predict(valid_df[predictors])\n",
    "    print \"RMSE(Test) : %.4g\" % metrics.mean_squared_error(y_valid, test_result)**0.5\n",
    "    print 'R^2 Score (Test): %f' % metrics.r2_score(y_valid, test_result)"
   ]
  },
  {
   "cell_type": "code",
   "execution_count": null,
   "metadata": {
    "collapsed": true
   },
   "outputs": [],
   "source": [
    "get_performance(model1,train_df, y_train, valid_df, y_valid, predictors)"
   ]
  },
  {
   "cell_type": "code",
   "execution_count": null,
   "metadata": {
    "collapsed": true
   },
   "outputs": [],
   "source": [
    "from ggplot import *\n",
    "def plot_predictions(xgbmodel,predictors,pred_label,data): \n",
    "    data[pred_label] = xgbmodel.predict(data[predictors])\n",
    "    plot_obj = ggplot(aes(x='NewGameFanPTs', y=pred_label, colour='Rank_dup'), data=data)+geom_point()+\\\n",
    "    ggtitle(pred_label+\" Prediction Performance\")+ geom_abline(intercept = 0, slope = 1)\n",
    "    return(plot_obj)"
   ]
  },
  {
   "cell_type": "code",
   "execution_count": null,
   "metadata": {
    "collapsed": true
   },
   "outputs": [],
   "source": [
    "plot_predictions(model1,predictors,'Train_pred',train_df)"
   ]
  },
  {
   "cell_type": "code",
   "execution_count": null,
   "metadata": {
    "collapsed": true
   },
   "outputs": [],
   "source": []
  },
  {
   "cell_type": "markdown",
   "metadata": {},
   "source": [
    "#Testing"
   ]
  },
  {
   "cell_type": "code",
   "execution_count": null,
   "metadata": {
    "collapsed": true
   },
   "outputs": [],
   "source": [
    "def get_experiment_set(games_list):\n",
    "    OpponentTeam = [x.split('@')[0] for x in games_list]\n",
    "    HomeTeam = [x.split('@')[1] for x in games_list]\n",
    "    teams = HomeTeam + OpponentTeam \n",
    "    matchup_map = {}\n",
    "    for (x,y) in zip(HomeTeam,OpponentTeam):\n",
    "        matchup_map[x]=y\n",
    "        matchup_map[y]=x \n",
    "    \n",
    "    GameMonth = 3\n",
    "    \n",
    "    #get all the players in the games today\n",
    "    with open('Data/allplayerFantasyGameLogs.pickle', 'rb') as handle:\n",
    "        playerBios = pickle.load(handle)\n",
    "    todayPlayers_df = playerBios[playerBios['Team'].isin(pd.Series(teams))][['fullName','Player_ID','position1','Team']] \n",
    "    todayPlayers_df = todayPlayers_df.drop_duplicates()\n",
    "    \n",
    "    todayPlayers_df['Home'] = todayPlayers_df['Team'].map(lambda x:1 if x in HomeTeam else 0)\n",
    "    todayPlayers_df['OpponentTeam'] = todayPlayers_df['Team'].map(lambda x: matchup_map[x])\n",
    "    todayPlayers_df['GameMonth'] = 3\n",
    "    \n",
    "    #integrate the player feature table\n",
    "    \n",
    "    \n",
    "    "
   ]
  },
  {
   "cell_type": "code",
   "execution_count": 20,
   "metadata": {
    "collapsed": true
   },
   "outputs": [],
   "source": [
    "with open('Data/allplayerFantasyGameLogs.pickle', 'rb') as handle:\n",
    "        playerBios = pickle.load(handle)"
   ]
  },
  {
   "cell_type": "code",
   "execution_count": 48,
   "metadata": {
    "collapsed": false
   },
   "outputs": [],
   "source": [
    "todayPlayers_df = playerBios[playerBios['Team'].isin(pd.Series(teams))][['fullName','Player_ID','position1','Team']]"
   ]
  },
  {
   "cell_type": "code",
   "execution_count": 49,
   "metadata": {
    "collapsed": true
   },
   "outputs": [],
   "source": [
    "todayPlayers_df = todayPlayers_df.drop_duplicates()"
   ]
  },
  {
   "cell_type": "code",
   "execution_count": 51,
   "metadata": {
    "collapsed": true
   },
   "outputs": [],
   "source": [
    "todayPlayers_df['Home'] = todayPlayers_df['Team'].map(lambda x:1 if x in HomeTeam else 0)"
   ]
  },
  {
   "cell_type": "code",
   "execution_count": 71,
   "metadata": {
    "collapsed": false
   },
   "outputs": [],
   "source": [
    "todayPlayers_df['OpponentTeam'] = todayPlayers_df['Team'].map(lambda x: matchup_map[x])"
   ]
  },
  {
   "cell_type": "code",
   "execution_count": 79,
   "metadata": {
    "collapsed": false
   },
   "outputs": [
    {
     "data": {
      "text/plain": [
       "['IND@ATL', 'UTA@SAC', 'MIL@BKN', 'NY@LAL']"
      ]
     },
     "execution_count": 79,
     "metadata": {},
     "output_type": "execute_result"
    }
   ],
   "source": [
    "games_list"
   ]
  },
  {
   "cell_type": "code",
   "execution_count": 10,
   "metadata": {
    "collapsed": false
   },
   "outputs": [],
   "source": [
    "import pickle\n",
    "with open('Data/allPlayerBios.pickle', 'rb') as handle:\n",
    "      playerBios = pickle.load(handle)"
   ]
  },
  {
   "cell_type": "code",
   "execution_count": 12,
   "metadata": {
    "collapsed": false
   },
   "outputs": [
    {
     "data": {
      "text/html": [
       "<div>\n",
       "<table border=\"1\" class=\"dataframe\">\n",
       "  <thead>\n",
       "    <tr style=\"text-align: right;\">\n",
       "      <th></th>\n",
       "      <th>0</th>\n",
       "      <th>1</th>\n",
       "      <th>2</th>\n",
       "    </tr>\n",
       "  </thead>\n",
       "  <tbody>\n",
       "    <tr>\n",
       "      <th>PERSON_ID</th>\n",
       "      <td>203112</td>\n",
       "      <td>203919</td>\n",
       "      <td>203500</td>\n",
       "    </tr>\n",
       "    <tr>\n",
       "      <th>FIRST_NAME</th>\n",
       "      <td>Quincy</td>\n",
       "      <td>Jordan</td>\n",
       "      <td>Steven</td>\n",
       "    </tr>\n",
       "    <tr>\n",
       "      <th>LAST_NAME</th>\n",
       "      <td>Acy</td>\n",
       "      <td>Adams</td>\n",
       "      <td>Adams</td>\n",
       "    </tr>\n",
       "    <tr>\n",
       "      <th>DISPLAY_FIRST_LAST</th>\n",
       "      <td>Quincy Acy</td>\n",
       "      <td>Jordan Adams</td>\n",
       "      <td>Steven Adams</td>\n",
       "    </tr>\n",
       "    <tr>\n",
       "      <th>DISPLAY_LAST_COMMA_FIRST</th>\n",
       "      <td>Acy, Quincy</td>\n",
       "      <td>Adams, Jordan</td>\n",
       "      <td>Adams, Steven</td>\n",
       "    </tr>\n",
       "    <tr>\n",
       "      <th>DISPLAY_FI_LAST</th>\n",
       "      <td>Q. Acy</td>\n",
       "      <td>J. Adams</td>\n",
       "      <td>S. Adams</td>\n",
       "    </tr>\n",
       "    <tr>\n",
       "      <th>BIRTHDATE</th>\n",
       "      <td>1990-10-06T00:00:00</td>\n",
       "      <td>1994-07-08T00:00:00</td>\n",
       "      <td>1993-07-20T00:00:00</td>\n",
       "    </tr>\n",
       "    <tr>\n",
       "      <th>SCHOOL</th>\n",
       "      <td>Baylor</td>\n",
       "      <td>UCLA</td>\n",
       "      <td>Pittsburgh</td>\n",
       "    </tr>\n",
       "    <tr>\n",
       "      <th>COUNTRY</th>\n",
       "      <td>USA</td>\n",
       "      <td>USA</td>\n",
       "      <td>New Zealand</td>\n",
       "    </tr>\n",
       "    <tr>\n",
       "      <th>LAST_AFFILIATION</th>\n",
       "      <td>Baylor/USA</td>\n",
       "      <td>UCLA/USA</td>\n",
       "      <td>Pittsburgh/New Zealand</td>\n",
       "    </tr>\n",
       "    <tr>\n",
       "      <th>HEIGHT</th>\n",
       "      <td>6-7</td>\n",
       "      <td>6-5</td>\n",
       "      <td>7-0</td>\n",
       "    </tr>\n",
       "    <tr>\n",
       "      <th>WEIGHT</th>\n",
       "      <td>240</td>\n",
       "      <td>209</td>\n",
       "      <td>255</td>\n",
       "    </tr>\n",
       "    <tr>\n",
       "      <th>SEASON_EXP</th>\n",
       "      <td>3</td>\n",
       "      <td>1</td>\n",
       "      <td>2</td>\n",
       "    </tr>\n",
       "    <tr>\n",
       "      <th>JERSEY</th>\n",
       "      <td>13</td>\n",
       "      <td>3</td>\n",
       "      <td>12</td>\n",
       "    </tr>\n",
       "    <tr>\n",
       "      <th>POSITION</th>\n",
       "      <td>Forward</td>\n",
       "      <td>Guard</td>\n",
       "      <td>Center</td>\n",
       "    </tr>\n",
       "    <tr>\n",
       "      <th>ROSTERSTATUS</th>\n",
       "      <td>Active</td>\n",
       "      <td>Active</td>\n",
       "      <td>Active</td>\n",
       "    </tr>\n",
       "    <tr>\n",
       "      <th>TEAM_ID</th>\n",
       "      <td>1610612758</td>\n",
       "      <td>1610612763</td>\n",
       "      <td>1610612760</td>\n",
       "    </tr>\n",
       "    <tr>\n",
       "      <th>TEAM_NAME</th>\n",
       "      <td>Kings</td>\n",
       "      <td>Grizzlies</td>\n",
       "      <td>Thunder</td>\n",
       "    </tr>\n",
       "    <tr>\n",
       "      <th>TEAM_ABBREVIATION</th>\n",
       "      <td>SAC</td>\n",
       "      <td>MEM</td>\n",
       "      <td>OKC</td>\n",
       "    </tr>\n",
       "    <tr>\n",
       "      <th>TEAM_CODE</th>\n",
       "      <td>kings</td>\n",
       "      <td>grizzlies</td>\n",
       "      <td>thunder</td>\n",
       "    </tr>\n",
       "    <tr>\n",
       "      <th>TEAM_CITY</th>\n",
       "      <td>Sacramento</td>\n",
       "      <td>Memphis</td>\n",
       "      <td>Oklahoma City</td>\n",
       "    </tr>\n",
       "    <tr>\n",
       "      <th>PLAYERCODE</th>\n",
       "      <td>quincy_acy</td>\n",
       "      <td>jordan_adams</td>\n",
       "      <td>steven_adams</td>\n",
       "    </tr>\n",
       "    <tr>\n",
       "      <th>FROM_YEAR</th>\n",
       "      <td>2012</td>\n",
       "      <td>2014</td>\n",
       "      <td>2013</td>\n",
       "    </tr>\n",
       "    <tr>\n",
       "      <th>TO_YEAR</th>\n",
       "      <td>2015</td>\n",
       "      <td>2015</td>\n",
       "      <td>2015</td>\n",
       "    </tr>\n",
       "    <tr>\n",
       "      <th>DLEAGUE_FLAG</th>\n",
       "      <td>Y</td>\n",
       "      <td>Y</td>\n",
       "      <td>N</td>\n",
       "    </tr>\n",
       "    <tr>\n",
       "      <th>GAMES_PLAYED_FLAG</th>\n",
       "      <td>Y</td>\n",
       "      <td>Y</td>\n",
       "      <td>Y</td>\n",
       "    </tr>\n",
       "    <tr>\n",
       "      <th>position1</th>\n",
       "      <td>PF</td>\n",
       "      <td>SG</td>\n",
       "      <td>C</td>\n",
       "    </tr>\n",
       "    <tr>\n",
       "      <th>position2</th>\n",
       "      <td>SF</td>\n",
       "      <td>None</td>\n",
       "      <td>None</td>\n",
       "    </tr>\n",
       "  </tbody>\n",
       "</table>\n",
       "</div>"
      ],
      "text/plain": [
       "                                            0                    1  \\\n",
       "PERSON_ID                              203112               203919   \n",
       "FIRST_NAME                             Quincy               Jordan   \n",
       "LAST_NAME                                 Acy                Adams   \n",
       "DISPLAY_FIRST_LAST                 Quincy Acy         Jordan Adams   \n",
       "DISPLAY_LAST_COMMA_FIRST          Acy, Quincy        Adams, Jordan   \n",
       "DISPLAY_FI_LAST                        Q. Acy             J. Adams   \n",
       "BIRTHDATE                 1990-10-06T00:00:00  1994-07-08T00:00:00   \n",
       "SCHOOL                                 Baylor                 UCLA   \n",
       "COUNTRY                                   USA                  USA   \n",
       "LAST_AFFILIATION                   Baylor/USA             UCLA/USA   \n",
       "HEIGHT                                    6-7                  6-5   \n",
       "WEIGHT                                    240                  209   \n",
       "SEASON_EXP                                  3                    1   \n",
       "JERSEY                                     13                    3   \n",
       "POSITION                              Forward                Guard   \n",
       "ROSTERSTATUS                           Active               Active   \n",
       "TEAM_ID                            1610612758           1610612763   \n",
       "TEAM_NAME                               Kings            Grizzlies   \n",
       "TEAM_ABBREVIATION                         SAC                  MEM   \n",
       "TEAM_CODE                               kings            grizzlies   \n",
       "TEAM_CITY                          Sacramento              Memphis   \n",
       "PLAYERCODE                         quincy_acy         jordan_adams   \n",
       "FROM_YEAR                                2012                 2014   \n",
       "TO_YEAR                                  2015                 2015   \n",
       "DLEAGUE_FLAG                                Y                    Y   \n",
       "GAMES_PLAYED_FLAG                           Y                    Y   \n",
       "position1                                  PF                   SG   \n",
       "position2                                  SF                 None   \n",
       "\n",
       "                                               2  \n",
       "PERSON_ID                                 203500  \n",
       "FIRST_NAME                                Steven  \n",
       "LAST_NAME                                  Adams  \n",
       "DISPLAY_FIRST_LAST                  Steven Adams  \n",
       "DISPLAY_LAST_COMMA_FIRST           Adams, Steven  \n",
       "DISPLAY_FI_LAST                         S. Adams  \n",
       "BIRTHDATE                    1993-07-20T00:00:00  \n",
       "SCHOOL                                Pittsburgh  \n",
       "COUNTRY                              New Zealand  \n",
       "LAST_AFFILIATION          Pittsburgh/New Zealand  \n",
       "HEIGHT                                       7-0  \n",
       "WEIGHT                                       255  \n",
       "SEASON_EXP                                     2  \n",
       "JERSEY                                        12  \n",
       "POSITION                                  Center  \n",
       "ROSTERSTATUS                              Active  \n",
       "TEAM_ID                               1610612760  \n",
       "TEAM_NAME                                Thunder  \n",
       "TEAM_ABBREVIATION                            OKC  \n",
       "TEAM_CODE                                thunder  \n",
       "TEAM_CITY                          Oklahoma City  \n",
       "PLAYERCODE                          steven_adams  \n",
       "FROM_YEAR                                   2013  \n",
       "TO_YEAR                                     2015  \n",
       "DLEAGUE_FLAG                                   N  \n",
       "GAMES_PLAYED_FLAG                              Y  \n",
       "position1                                      C  \n",
       "position2                                   None  "
      ]
     },
     "execution_count": 12,
     "metadata": {},
     "output_type": "execute_result"
    }
   ],
   "source": [
    "playerBios.head(3).transpose()"
   ]
  },
  {
   "cell_type": "code",
   "execution_count": null,
   "metadata": {
    "collapsed": true
   },
   "outputs": [],
   "source": []
  }
 ],
 "metadata": {
  "kernelspec": {
   "display_name": "Python 2",
   "language": "python",
   "name": "python2"
  },
  "language_info": {
   "codemirror_mode": {
    "name": "ipython",
    "version": 2
   },
   "file_extension": ".py",
   "mimetype": "text/x-python",
   "name": "python",
   "nbconvert_exporter": "python",
   "pygments_lexer": "ipython2",
   "version": "2.7.11"
  }
 },
 "nbformat": 4,
 "nbformat_minor": 0
}
