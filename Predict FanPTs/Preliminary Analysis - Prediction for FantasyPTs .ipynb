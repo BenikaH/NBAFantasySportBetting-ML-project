{
 "cells": [
  {
   "cell_type": "code",
   "execution_count": 5,
   "metadata": {
    "collapsed": true
   },
   "outputs": [],
   "source": [
    "import pickle\n",
    "import pandas as pd"
   ]
  },
  {
   "cell_type": "code",
   "execution_count": 6,
   "metadata": {
    "collapsed": true
   },
   "outputs": [],
   "source": [
    "from datetime import datetime"
   ]
  },
  {
   "cell_type": "code",
   "execution_count": 7,
   "metadata": {
    "collapsed": true
   },
   "outputs": [],
   "source": [
    "with open('../Data/allplayerFantasyGameLogs.pickle', 'rb') as handle:\n",
    "  allplayerFantasyGameLogs = pickle.load(handle)"
   ]
  },
  {
   "cell_type": "code",
   "execution_count": 8,
   "metadata": {
    "collapsed": true
   },
   "outputs": [],
   "source": [
    "allplayerFantasyGameLogs.set_index('GAME_DATE', inplace=True)"
   ]
  },
  {
   "cell_type": "code",
   "execution_count": 9,
   "metadata": {
    "collapsed": false
   },
   "outputs": [
    {
     "data": {
      "text/plain": [
       "Index([   u'SEASON_ID',    u'Player_ID',      u'Game_ID',      u'MATCHUP',\n",
       "                 u'WL',          u'MIN',          u'FGM',          u'FGA',\n",
       "             u'FG_PCT',         u'FG3M',         u'FG3A',      u'FG3_PCT',\n",
       "                u'FTM',          u'FTA',       u'FT_PCT',         u'OREB',\n",
       "               u'DREB',          u'REB',          u'AST',          u'STL',\n",
       "                u'BLK',          u'TOV',           u'PF',          u'PTS',\n",
       "         u'PLUS_MINUS',        u'DouBL',        u'TriBL',       u'FanPTs',\n",
       "           u'fullName',    u'position1',         u'Team', u'OpponentTeam',\n",
       "           u'HomeGame'],\n",
       "      dtype='object')"
      ]
     },
     "execution_count": 9,
     "metadata": {},
     "output_type": "execute_result"
    }
   ],
   "source": [
    "allplayerFantasyGameLogs.columns"
   ]
  },
  {
   "cell_type": "markdown",
   "metadata": {},
   "source": [
    "##Data Integration"
   ]
  },
  {
   "cell_type": "markdown",
   "metadata": {},
   "source": [
    "We will split the allplayerGameLogs into training and test sets. And we need to use two helpful functions to extract player-level and team-level features to train the prediction model for fantasy points from a player. We also need another helpful function to aggregate corresponding information from the test set for the testing purpose."
   ]
  },
  {
   "cell_type": "code",
   "execution_count": 11,
   "metadata": {
    "collapsed": false
   },
   "outputs": [],
   "source": [
    "def aggr(group):\n",
    "        #group['NumGames'] = group['fullName'].count()\n",
    "        group['AvgFanPTs'] = group['FanPTs'].mean()\n",
    "        group['LastFanPTs'] = group['FanPTs'].tolist()[-1]\n",
    "        group['AvgPTS'] = group['PTS'].mean()\n",
    "        group['LastPT'] = group['PTS'].tolist()[-1]\n",
    "        group['AvgMIN'] = group['MIN'].mean()\n",
    "        group['LastMIN'] = group['MIN'].tolist()[-1]\n",
    "        group['AvgFGM'] = group['FGM'].mean()\n",
    "        group['LastFGM'] = group['FGM'].tolist()[-1]\n",
    "        group['AvgFGA'] = group['FGA'].mean()\n",
    "        group['LastFGA'] = group['FGA'].tolist()[-1]\n",
    "        group['AvgFG3M'] = group['FG3M'].mean()\n",
    "        group['LastFG3M'] = group['FG3M'].tolist()[-1]\n",
    "        group['AvgFG3A'] = group['FG3A'].mean()\n",
    "        group['LastFG3A'] = group['FG3A'].tolist()[-1]\n",
    "        group['AvgREB'] = group['REB'].mean()\n",
    "        group['LastREB'] = group['REB'].tolist()[-1]\n",
    "        group['AvgAST'] = group['AST'].mean()\n",
    "        group['LastAST'] = group['AST'].tolist()[-1]\n",
    "        group['AvgSTL'] = group['STL'].mean()\n",
    "        group['AvgTOV'] = group['TOV'].mean() \n",
    "        group['LastTOV'] = group['TOV'].tolist()[-1]\n",
    "        group['AvgPF'] = group['PF'].mean()\n",
    "        group['LastPT'] = group['PF'].tolist()[-1]\n",
    "        group['AvgPLUS_MINUS'] = group['PLUS_MINUS'].mean()\n",
    "        group['LastPLUS_MINUS'] = group['PLUS_MINUS'].tolist()[-1]\n",
    "        #group['NumDouBL'] = group['DouBL'].sum()\n",
    "        #group['NumTriBL'] = group['TriBL'].sum()\n",
    "\n",
    "        group['Last3GameAvgFanPTs'] = group['FanPTs'][:3].mean()\n",
    "        group['Last3GameAvgMIN'] = group['MIN'][:3].mean()\n",
    "        group['Last3GameAvgPTS'] = group['PTS'][:3].mean()\n",
    "    \n",
    "def aggr_stats(date,allplayerFantasyGameLogs):\n",
    "    interest_columns = ['fullName','Player_ID','Team','position1','MIN','PTS','FGM','FGA', 'FG3M','FG3A', \\\n",
    "                        'REB','AST','STL','TOV','PF','PLUS_MINUS','DouBL','TriBL','FanPTs']\n",
    "    tmp = allplayerFantasyGameLogs.ix['2015-10-27':date]\n",
    "    \n",
    "    playerID_tmp = tmp.reset_index().copy()\n",
    "    tmp.grouped = playerID_tmp[interest_columns].groupby('Player_ID')\n",
    "    \n",
    "    Newdf = tmp.grouped.apply(aggr)\n",
    "    Newdf = Newdf.drop(['MIN','PTS','FGM','FGA', 'FG3M','FG3A','REB','AST','STL','TOV','PF','PLUS_MINUS','DouBL','TriBL','FanPTs'],axis=1)\n",
    "    Newdf.drop_duplicates(inplace=True)\n",
    "    \n",
    "    bins = [-10, 10, 20, 30, 40, 100]\n",
    "    group_names = ['benchPlayer','belowAvg','average','advanced','top']\n",
    "    Newdf['Rank']= pd.cut(Newdf['AvgFanPTs'],bins,labels=group_names)\n",
    "    \n",
    "    return(Newdf)"
   ]
  },
  {
   "cell_type": "code",
   "execution_count": 12,
   "metadata": {
    "collapsed": true
   },
   "outputs": [],
   "source": [
    "def aggr_teamVSteam(group):\n",
    "        group['TeamStdVSFanPTs'] = group['FanPTs'].std()\n",
    "        group['TeamAvgVSFanPTs'] = group['FanPTs'].mean()\n",
    "        group['TeamMaxVSFanPTs'] = group['FanPTs'].max()\n",
    "        return group\n",
    "\n",
    "def aggr_team(group):\n",
    "        group['TeamStdFanPTs'] = group['TeamStdVSFanPTs'].mean()\n",
    "        group['TeamAvgFanPTs'] = group['TeamAvgVSFanPTs'].mean()\n",
    "        group['TeamMaxFanPTs'] = group['TeamMaxVSFanPTs'].mean()\n",
    "        return group    \n",
    "\n",
    "def generate_team_features(playerGameLogs, playerFeatureTable, date):\n",
    "    tmp = playerGameLogs['2015-10-27': date]\n",
    "    tmp = tmp.reset_index()\n",
    "    bad_players = playerFeatureTable[playerFeatureTable.Rank=='benchPlayer']['Player_ID']\n",
    "    interest_cols = ['fullName','Player_ID','Team','OpponentTeam','position1','FanPTs','MIN']\n",
    "    tmp = tmp[interest_cols]\n",
    "    tmp = tmp[~tmp['Player_ID'].isin(bad_players)]\n",
    "    \n",
    "    newdf = tmp.copy()\n",
    "    newdf_grouped = newdf.groupby(['Team','OpponentTeam'])\n",
    "        \n",
    "    Newdf = newdf_grouped.apply(aggr_teamVSteam)\n",
    "    Newdf.drop(['fullName','Player_ID','MIN','FanPTs','position1'],inplace=True,axis=1)\n",
    "    Newdf.drop_duplicates(['Team','OpponentTeam'],inplace=True)\n",
    "    \n",
    "    Newdf.drop('OpponentTeam',axis=1,inplace=True)\n",
    "    \n",
    "    Newdf2 = Newdf.copy()\n",
    "    Newdf2_grouped = Newdf2.groupby('Team')\n",
    "    \n",
    "    Newdf_overall = Newdf2_grouped.apply(aggr_team)\n",
    "    Newdf_overall.drop(['TeamStdVSFanPTs','TeamAvgVSFanPTs','TeamMaxVSFanPTs'],inplace=True,axis=1)\n",
    "    Newdf_overall.drop_duplicates('Team',inplace=True)\n",
    "    \n",
    "    return(Newdf_overall)"
   ]
  },
  {
   "cell_type": "code",
   "execution_count": 13,
   "metadata": {
    "collapsed": true
   },
   "outputs": [],
   "source": [
    "def drop_y(df):\n",
    "    # list comprehension of the cols that end with '_y'\n",
    "    to_drop = [x for x in df if x.endswith('_y')]\n",
    "    df.drop(to_drop, axis=1, inplace=True)\n",
    "\n",
    "def rename_x(df):\n",
    "    for col in df:\n",
    "        if col.endswith('_x'):\n",
    "            df.rename(columns={col:col.rstrip('_x')}, inplace=True)"
   ]
  },
  {
   "cell_type": "code",
   "execution_count": 14,
   "metadata": {
    "collapsed": true
   },
   "outputs": [],
   "source": [
    "def get_train_test(train_date, test_date): #format like'2/10/2016'\n",
    "    train_date_index = pd.date_range(start='11/10/2015', end=train_date, freq='D')\n",
    "    train_df = pd.DataFrame()\n",
    "    \n",
    "    alldates = allplayerFantasyGameLogs.index\n",
    "    trydates = pd.date_range(start='10/27/2015', end='2/28/2016', freq='D')\n",
    "    s = set(alldates)\n",
    "    nodates = [x for x in trydates if x not in s]\n",
    "    \n",
    "    for idx in train_date_index:\n",
    "        tmp_idx = idx+1\n",
    "        if tmp_idx not in nodates and idx not in nodates:\n",
    "            #aggregate the statistics from players -> player-level features\n",
    "            trainLogs = allplayerFantasyGameLogs.ix['2015-10-27':idx]\n",
    "            train_player_df = aggr_stats(idx,trainLogs)   \n",
    "            #next we need to collect the player's next game Fantasy Points.\n",
    "            next_date = idx + 1\n",
    "            tmpLogs = allplayerFantasyGameLogs[['fullName', 'Player_ID','Team','OpponentTeam','HomeGame','FanPTs']].ix[next_date]\n",
    "            tmpLogs.rename(columns={'FanPTs':'NewGameFanPTs'},inplace=True)\n",
    "            #join the tmpLogs and player festure table by Player_ID, which is based on the players on a new game day\n",
    "            newgame_df = pd.merge(tmpLogs,train_player_df,how='inner',on='Player_ID')\n",
    "            drop_y(newgame_df)\n",
    "            rename_x(newgame_df)\n",
    "\n",
    "            #get the team features table \n",
    "            train_team_df = generate_team_features(allplayerFantasyGameLogs, train_player_df, idx)\n",
    "            newgame_df = pd.merge(newgame_df,train_team_df,how='left',on='Team')\n",
    "            train_df = pd.concat([train_df,newgame_df],axis=0)\n",
    "\n",
    "    test_date_index = pd.date_range(start=train_date, end=test_date, freq='D')[1:]\n",
    "    start_test_date = pd.date_range(start=train_date, end=test_date, freq='D')[0]\n",
    "    test_df = pd.DataFrame()\n",
    "    for idx in test_date_index:\n",
    "        tmp_idx = idx+1\n",
    "        if tmp_idx not in nodates and idx not in nodates:\n",
    "            #aggregate the statistics from players -> player-level features\n",
    "            testLogs = allplayerFantasyGameLogs.ix[start_test_date:idx]\n",
    "            test_player_df = aggr_stats(idx,testLogs)   \n",
    "            #next we need to collect the player's next game Fantasy Points.\n",
    "            next_date = idx + 1\n",
    "            tmpLogs = allplayerFantasyGameLogs[['fullName', 'Player_ID','Team','OpponentTeam','HomeGame','FanPTs']].ix[next_date]\n",
    "            tmpLogs.rename(columns={'FanPTs':'NewGameFanPTs'},inplace=True)\n",
    "            #join the tmpLogs and player festure table by Player_ID, which is based on the players on a new game day\n",
    "            newgame_df = pd.merge(tmpLogs,train_player_df,how='inner',on='Player_ID')\n",
    "            drop_y(newgame_df)\n",
    "            rename_x(newgame_df)\n",
    "\n",
    "            #get the team features table \n",
    "            test_team_df = generate_team_features(allplayerFantasyGameLogs, test_player_df, idx)\n",
    "            newgame_df = pd.merge(newgame_df,test_team_df,how='left',on='Team')\n",
    "            test_df = pd.concat([test_df,newgame_df],axis=0)                \n",
    "        \n",
    "    return(train_df, test_df)"
   ]
  },
  {
   "cell_type": "code",
   "execution_count": 15,
   "metadata": {
    "collapsed": false
   },
   "outputs": [],
   "source": [
    "train_set, test_set = get_train_test('2/18/2016', '2/28/2016')"
   ]
  },
  {
   "cell_type": "code",
   "execution_count": 14,
   "metadata": {
    "collapsed": false
   },
   "outputs": [
    {
     "ename": "NameError",
     "evalue": "name 'train_set' is not defined",
     "output_type": "error",
     "traceback": [
      "\u001b[0;31m---------------------------------------------------------------------------\u001b[0m",
      "\u001b[0;31mNameError\u001b[0m                                 Traceback (most recent call last)",
      "\u001b[0;32m<ipython-input-14-bb75eee90896>\u001b[0m in \u001b[0;36m<module>\u001b[0;34m()\u001b[0m\n\u001b[0;32m----> 1\u001b[0;31m \u001b[0mtrain_set\u001b[0m\u001b[0;34m.\u001b[0m\u001b[0mshape\u001b[0m\u001b[0;34m\u001b[0m\u001b[0m\n\u001b[0m",
      "\u001b[0;31mNameError\u001b[0m: name 'train_set' is not defined"
     ]
    }
   ],
   "source": [
    "train_set.shape"
   ]
  },
  {
   "cell_type": "code",
   "execution_count": 17,
   "metadata": {
    "collapsed": false
   },
   "outputs": [
    {
     "data": {
      "text/plain": [
       "(1530, 38)"
      ]
     },
     "execution_count": 17,
     "metadata": {},
     "output_type": "execute_result"
    }
   ],
   "source": [
    "test_set.shape"
   ]
  },
  {
   "cell_type": "code",
   "execution_count": 18,
   "metadata": {
    "collapsed": false
   },
   "outputs": [
    {
     "data": {
      "text/plain": [
       "Index([          u'fullName',          u'Player_ID',               u'Team',\n",
       "             u'OpponentTeam',           u'HomeGame',      u'NewGameFanPTs',\n",
       "                u'position1',          u'AvgFanPTs',         u'LastFanPTs',\n",
       "                   u'AvgPTS',             u'LastPT',             u'AvgMIN',\n",
       "                  u'LastMIN',             u'AvgFGM',            u'LastFGM',\n",
       "                   u'AvgFGA',            u'LastFGA',            u'AvgFG3M',\n",
       "                 u'LastFG3M',            u'AvgFG3A',           u'LastFG3A',\n",
       "                   u'AvgREB',            u'LastREB',             u'AvgAST',\n",
       "                  u'LastAST',             u'AvgSTL',             u'AvgTOV',\n",
       "                  u'LastTOV',              u'AvgPF',      u'AvgPLUS_MINUS',\n",
       "           u'LastPLUS_MINUS', u'Last3GameAvgFanPTs',    u'Last3GameAvgMIN',\n",
       "          u'Last3GameAvgPTS',               u'Rank',      u'TeamStdFanPTs',\n",
       "            u'TeamAvgFanPTs',      u'TeamMaxFanPTs'],\n",
       "      dtype='object')"
      ]
     },
     "execution_count": 18,
     "metadata": {},
     "output_type": "execute_result"
    }
   ],
   "source": [
    "train_set.columns"
   ]
  },
  {
   "cell_type": "code",
   "execution_count": 19,
   "metadata": {
    "collapsed": true
   },
   "outputs": [],
   "source": [
    "with open('../Data/train_set_02_29.pickle', 'wb') as handle:\n",
    "  pickle.dump(train_set, handle)"
   ]
  },
  {
   "cell_type": "code",
   "execution_count": 20,
   "metadata": {
    "collapsed": true
   },
   "outputs": [],
   "source": [
    "with open('../Data/test_set_02_29.pickle', 'wb') as handle:\n",
    "  pickle.dump(test_set, handle)"
   ]
  },
  {
   "cell_type": "markdown",
   "metadata": {},
   "source": [
    "##Prepocessing"
   ]
  },
  {
   "cell_type": "code",
   "execution_count": 21,
   "metadata": {
    "collapsed": true
   },
   "outputs": [],
   "source": [
    "with open('../Data/train_set_02_29.pickle', 'rb') as handle:\n",
    "  train_set = pickle.load(handle)"
   ]
  },
  {
   "cell_type": "code",
   "execution_count": 22,
   "metadata": {
    "collapsed": true
   },
   "outputs": [],
   "source": [
    "with open('../Data/test_set_02_29.pickle', 'rb') as handle:\n",
    "  test_set = pickle.load(handle)"
   ]
  },
  {
   "cell_type": "code",
   "execution_count": 23,
   "metadata": {
    "collapsed": false
   },
   "outputs": [
    {
     "data": {
      "text/plain": [
       "(1530, 38)"
      ]
     },
     "execution_count": 23,
     "metadata": {},
     "output_type": "execute_result"
    }
   ],
   "source": [
    "test_set.shape"
   ]
  },
  {
   "cell_type": "code",
   "execution_count": 24,
   "metadata": {
    "collapsed": false
   },
   "outputs": [
    {
     "data": {
      "text/html": [
       "<div>\n",
       "<table border=\"1\" class=\"dataframe\">\n",
       "  <thead>\n",
       "    <tr style=\"text-align: right;\">\n",
       "      <th></th>\n",
       "      <th>fullName</th>\n",
       "      <th>Player_ID</th>\n",
       "      <th>Team</th>\n",
       "      <th>OpponentTeam</th>\n",
       "      <th>HomeGame</th>\n",
       "      <th>NewGameFanPTs</th>\n",
       "      <th>position1</th>\n",
       "      <th>AvgFanPTs</th>\n",
       "      <th>LastFanPTs</th>\n",
       "      <th>AvgPTS</th>\n",
       "      <th>...</th>\n",
       "      <th>AvgPF</th>\n",
       "      <th>AvgPLUS_MINUS</th>\n",
       "      <th>LastPLUS_MINUS</th>\n",
       "      <th>Last3GameAvgFanPTs</th>\n",
       "      <th>Last3GameAvgMIN</th>\n",
       "      <th>Last3GameAvgPTS</th>\n",
       "      <th>Rank</th>\n",
       "      <th>TeamStdFanPTs</th>\n",
       "      <th>TeamAvgFanPTs</th>\n",
       "      <th>TeamMaxFanPTs</th>\n",
       "    </tr>\n",
       "  </thead>\n",
       "  <tbody>\n",
       "    <tr>\n",
       "      <th>0</th>\n",
       "      <td>Jamal Crawford</td>\n",
       "      <td>2037</td>\n",
       "      <td>LAC</td>\n",
       "      <td>DAL</td>\n",
       "      <td>0</td>\n",
       "      <td>12.50</td>\n",
       "      <td>SG</td>\n",
       "      <td>15.607143</td>\n",
       "      <td>15.25</td>\n",
       "      <td>10.000000</td>\n",
       "      <td>...</td>\n",
       "      <td>0.714286</td>\n",
       "      <td>1.714286</td>\n",
       "      <td>19</td>\n",
       "      <td>15.750000</td>\n",
       "      <td>20.333333</td>\n",
       "      <td>12.000000</td>\n",
       "      <td>belowAvg</td>\n",
       "      <td>13.805475</td>\n",
       "      <td>23.300926</td>\n",
       "      <td>49.50000</td>\n",
       "    </tr>\n",
       "    <tr>\n",
       "      <th>1</th>\n",
       "      <td>DeAndre Jordan</td>\n",
       "      <td>201599</td>\n",
       "      <td>LAC</td>\n",
       "      <td>DAL</td>\n",
       "      <td>0</td>\n",
       "      <td>23.75</td>\n",
       "      <td>C</td>\n",
       "      <td>36.821429</td>\n",
       "      <td>38.50</td>\n",
       "      <td>10.142857</td>\n",
       "      <td>...</td>\n",
       "      <td>3.000000</td>\n",
       "      <td>7.857143</td>\n",
       "      <td>-12</td>\n",
       "      <td>41.083333</td>\n",
       "      <td>29.666667</td>\n",
       "      <td>9.666667</td>\n",
       "      <td>advanced</td>\n",
       "      <td>13.805475</td>\n",
       "      <td>23.300926</td>\n",
       "      <td>49.50000</td>\n",
       "    </tr>\n",
       "    <tr>\n",
       "      <th>2</th>\n",
       "      <td>JJ Hickson</td>\n",
       "      <td>201581</td>\n",
       "      <td>DEN</td>\n",
       "      <td>MIL</td>\n",
       "      <td>1</td>\n",
       "      <td>19.50</td>\n",
       "      <td>C</td>\n",
       "      <td>21.350000</td>\n",
       "      <td>44.25</td>\n",
       "      <td>10.000000</td>\n",
       "      <td>...</td>\n",
       "      <td>2.400000</td>\n",
       "      <td>2.200000</td>\n",
       "      <td>4</td>\n",
       "      <td>18.416667</td>\n",
       "      <td>17.666667</td>\n",
       "      <td>8.666667</td>\n",
       "      <td>average</td>\n",
       "      <td>10.420933</td>\n",
       "      <td>21.045960</td>\n",
       "      <td>38.25000</td>\n",
       "    </tr>\n",
       "    <tr>\n",
       "      <th>3</th>\n",
       "      <td>Frank Kaminsky</td>\n",
       "      <td>1626163</td>\n",
       "      <td>CHA</td>\n",
       "      <td>NYK</td>\n",
       "      <td>1</td>\n",
       "      <td>12.00</td>\n",
       "      <td>C</td>\n",
       "      <td>6.250000</td>\n",
       "      <td>-0.50</td>\n",
       "      <td>3.142857</td>\n",
       "      <td>...</td>\n",
       "      <td>0.428571</td>\n",
       "      <td>0.571429</td>\n",
       "      <td>-5</td>\n",
       "      <td>5.166667</td>\n",
       "      <td>8.666667</td>\n",
       "      <td>2.666667</td>\n",
       "      <td>benchPlayer</td>\n",
       "      <td>8.812792</td>\n",
       "      <td>23.941592</td>\n",
       "      <td>38.12500</td>\n",
       "    </tr>\n",
       "    <tr>\n",
       "      <th>4</th>\n",
       "      <td>Mike Conley</td>\n",
       "      <td>201144</td>\n",
       "      <td>MEM</td>\n",
       "      <td>GSW</td>\n",
       "      <td>1</td>\n",
       "      <td>24.00</td>\n",
       "      <td>PG</td>\n",
       "      <td>28.593750</td>\n",
       "      <td>32.50</td>\n",
       "      <td>13.750000</td>\n",
       "      <td>...</td>\n",
       "      <td>1.500000</td>\n",
       "      <td>-6.750000</td>\n",
       "      <td>8</td>\n",
       "      <td>32.833333</td>\n",
       "      <td>30.333333</td>\n",
       "      <td>14.333333</td>\n",
       "      <td>average</td>\n",
       "      <td>9.556530</td>\n",
       "      <td>19.327778</td>\n",
       "      <td>35.59375</td>\n",
       "    </tr>\n",
       "  </tbody>\n",
       "</table>\n",
       "<p>5 rows × 38 columns</p>\n",
       "</div>"
      ],
      "text/plain": [
       "         fullName  Player_ID Team OpponentTeam  HomeGame  NewGameFanPTs  \\\n",
       "0  Jamal Crawford       2037  LAC          DAL         0          12.50   \n",
       "1  DeAndre Jordan     201599  LAC          DAL         0          23.75   \n",
       "2      JJ Hickson     201581  DEN          MIL         1          19.50   \n",
       "3  Frank Kaminsky    1626163  CHA          NYK         1          12.00   \n",
       "4     Mike Conley     201144  MEM          GSW         1          24.00   \n",
       "\n",
       "  position1  AvgFanPTs  LastFanPTs     AvgPTS      ...           AvgPF  \\\n",
       "0        SG  15.607143       15.25  10.000000      ...        0.714286   \n",
       "1         C  36.821429       38.50  10.142857      ...        3.000000   \n",
       "2         C  21.350000       44.25  10.000000      ...        2.400000   \n",
       "3         C   6.250000       -0.50   3.142857      ...        0.428571   \n",
       "4        PG  28.593750       32.50  13.750000      ...        1.500000   \n",
       "\n",
       "   AvgPLUS_MINUS  LastPLUS_MINUS  Last3GameAvgFanPTs  Last3GameAvgMIN  \\\n",
       "0       1.714286              19           15.750000        20.333333   \n",
       "1       7.857143             -12           41.083333        29.666667   \n",
       "2       2.200000               4           18.416667        17.666667   \n",
       "3       0.571429              -5            5.166667         8.666667   \n",
       "4      -6.750000               8           32.833333        30.333333   \n",
       "\n",
       "   Last3GameAvgPTS         Rank  TeamStdFanPTs  TeamAvgFanPTs  TeamMaxFanPTs  \n",
       "0        12.000000     belowAvg      13.805475      23.300926       49.50000  \n",
       "1         9.666667     advanced      13.805475      23.300926       49.50000  \n",
       "2         8.666667      average      10.420933      21.045960       38.25000  \n",
       "3         2.666667  benchPlayer       8.812792      23.941592       38.12500  \n",
       "4        14.333333      average       9.556530      19.327778       35.59375  \n",
       "\n",
       "[5 rows x 38 columns]"
      ]
     },
     "execution_count": 24,
     "metadata": {},
     "output_type": "execute_result"
    }
   ],
   "source": [
    "train_set.head()"
   ]
  },
  {
   "cell_type": "code",
   "execution_count": 25,
   "metadata": {
    "collapsed": false
   },
   "outputs": [
    {
     "data": {
      "text/plain": [
       "(16168, 39)"
      ]
     },
     "execution_count": 25,
     "metadata": {},
     "output_type": "execute_result"
    }
   ],
   "source": [
    "#Combine into data:\n",
    "train_set['source']= 'train'\n",
    "test_set['source'] = 'test'\n",
    "data=pd.concat([train_set, test_set],ignore_index=True)\n",
    "data.shape"
   ]
  },
  {
   "cell_type": "markdown",
   "metadata": {},
   "source": [
    "###Check Missing values"
   ]
  },
  {
   "cell_type": "code",
   "execution_count": 26,
   "metadata": {
    "collapsed": false
   },
   "outputs": [
    {
     "data": {
      "text/plain": [
       "fullName              0\n",
       "Player_ID             0\n",
       "Team                  0\n",
       "OpponentTeam          0\n",
       "HomeGame              0\n",
       "NewGameFanPTs         0\n",
       "position1             0\n",
       "AvgFanPTs             0\n",
       "LastFanPTs            0\n",
       "AvgPTS                0\n",
       "LastPT                0\n",
       "AvgMIN                0\n",
       "LastMIN               0\n",
       "AvgFGM                0\n",
       "LastFGM               0\n",
       "AvgFGA                0\n",
       "LastFGA               0\n",
       "AvgFG3M               0\n",
       "LastFG3M              0\n",
       "AvgFG3A               0\n",
       "LastFG3A              0\n",
       "AvgREB                0\n",
       "LastREB               0\n",
       "AvgAST                0\n",
       "LastAST               0\n",
       "AvgSTL                0\n",
       "AvgTOV                0\n",
       "LastTOV               0\n",
       "AvgPF                 0\n",
       "AvgPLUS_MINUS         0\n",
       "LastPLUS_MINUS        0\n",
       "Last3GameAvgFanPTs    0\n",
       "Last3GameAvgMIN       0\n",
       "Last3GameAvgPTS       0\n",
       "Rank                  0\n",
       "TeamStdFanPTs         0\n",
       "TeamAvgFanPTs         0\n",
       "TeamMaxFanPTs         0\n",
       "source                0\n",
       "dtype: int64"
      ]
     },
     "execution_count": 26,
     "metadata": {},
     "output_type": "execute_result"
    }
   ],
   "source": [
    "data.apply(lambda x: sum(x.isnull()))"
   ]
  },
  {
   "cell_type": "markdown",
   "metadata": {},
   "source": [
    "###Look at categories of all object variables"
   ]
  },
  {
   "cell_type": "code",
   "execution_count": 27,
   "metadata": {
    "collapsed": false
   },
   "outputs": [
    {
     "name": "stdout",
     "output_type": "stream",
     "text": [
      "\n",
      "Frequency count for variable Team\n",
      "SAS    596\n",
      "DAL    586\n",
      "BOS    578\n",
      "PHI    576\n",
      "NYK    570\n",
      "MEM    570\n",
      "BKN    568\n",
      "POR    566\n",
      "MIN    559\n",
      "ATL    556\n",
      "UTA    555\n",
      "OKC    543\n",
      "GSW    543\n",
      "HOU    542\n",
      "DEN    538\n",
      "LAL    538\n",
      "ORL    535\n",
      "LAC    532\n",
      "IND    531\n",
      "PHX    526\n",
      "DET    517\n",
      "CHA    516\n",
      "MIL    516\n",
      "WAS    513\n",
      "MIA    512\n",
      "TOR    508\n",
      "CLE    506\n",
      "NOP    506\n",
      "CHI    484\n",
      "SAC    482\n",
      "Name: Team, dtype: int64\n",
      "\n",
      "Frequency count for variable OpponentTeam\n",
      "PHI    577\n",
      "LAL    572\n",
      "BKN    570\n",
      "DAL    567\n",
      "BOS    565\n",
      "DET    560\n",
      "PHX    560\n",
      "DEN    559\n",
      "POR    559\n",
      "MIN    548\n",
      "NYK    547\n",
      "UTA    544\n",
      "SAS    544\n",
      "MIL    541\n",
      "HOU    540\n",
      "ATL    539\n",
      "MEM    537\n",
      "IND    532\n",
      "CHA    530\n",
      "ORL    529\n",
      "WAS    527\n",
      "NOP    527\n",
      "OKC    522\n",
      "CLE    520\n",
      "LAC    518\n",
      "SAC    516\n",
      "TOR    512\n",
      "MIA    511\n",
      "GSW    511\n",
      "CHI    484\n",
      "Name: OpponentTeam, dtype: int64\n",
      "\n",
      "Frequency count for variable position1\n",
      "SG    3517\n",
      "PG    3438\n",
      "PF    3353\n",
      "SF    3037\n",
      "C     2823\n",
      "Name: position1, dtype: int64\n",
      "\n",
      "Frequency count for variable Rank\n",
      "belowAvg       6048\n",
      "average        4209\n",
      "benchPlayer    3161\n",
      "advanced       1946\n",
      "top             804\n",
      "Name: Rank, dtype: int64\n"
     ]
    }
   ],
   "source": [
    "var = ['Team','OpponentTeam', 'position1','Rank']\n",
    "for v in var:\n",
    "    print '\\nFrequency count for variable %s'%v\n",
    "    print data[v].value_counts()"
   ]
  },
  {
   "cell_type": "markdown",
   "metadata": {},
   "source": [
    "###Numerical Coding and One-Hot Coding"
   ]
  },
  {
   "cell_type": "code",
   "execution_count": 28,
   "metadata": {
    "collapsed": true
   },
   "outputs": [],
   "source": [
    "from sklearn.preprocessing import LabelEncoder\n",
    "le = LabelEncoder()\n",
    "var_to_encode = ['Team','OpponentTeam','position1','HomeGame','Rank']\n",
    "for col in var_to_encode:\n",
    "    data[col] = le.fit_transform(data[col])"
   ]
  },
  {
   "cell_type": "code",
   "execution_count": 29,
   "metadata": {
    "collapsed": false
   },
   "outputs": [
    {
     "data": {
      "text/plain": [
       "Index([     u'fullName',     u'Player_ID', u'NewGameFanPTs',     u'AvgFanPTs',\n",
       "          u'LastFanPTs',        u'AvgPTS',        u'LastPT',        u'AvgMIN',\n",
       "             u'LastMIN',        u'AvgFGM',\n",
       "       ...\n",
       "         u'position1_2',   u'position1_3',   u'position1_4',    u'HomeGame_0',\n",
       "          u'HomeGame_1',        u'Rank_0',        u'Rank_1',        u'Rank_2',\n",
       "              u'Rank_3',        u'Rank_4'],\n",
       "      dtype='object', length=106)"
      ]
     },
     "execution_count": 29,
     "metadata": {},
     "output_type": "execute_result"
    }
   ],
   "source": [
    "data = pd.get_dummies(data, columns=var_to_encode)\n",
    "data.columns"
   ]
  },
  {
   "cell_type": "markdown",
   "metadata": {},
   "source": [
    "###Separate train & test:"
   ]
  },
  {
   "cell_type": "code",
   "execution_count": 30,
   "metadata": {
    "collapsed": true
   },
   "outputs": [],
   "source": [
    "train = data.loc[data['source']=='train']\n",
    "test = data.loc[data['source']=='test']"
   ]
  },
  {
   "cell_type": "code",
   "execution_count": 31,
   "metadata": {
    "collapsed": false
   },
   "outputs": [
    {
     "name": "stderr",
     "output_type": "stream",
     "text": [
      "/usr/local/lib/python2.7/site-packages/IPython/kernel/__main__.py:1: SettingWithCopyWarning: \n",
      "A value is trying to be set on a copy of a slice from a DataFrame\n",
      "\n",
      "See the caveats in the documentation: http://pandas.pydata.org/pandas-docs/stable/indexing.html#indexing-view-versus-copy\n",
      "  if __name__ == '__main__':\n",
      "/usr/local/lib/python2.7/site-packages/IPython/kernel/__main__.py:2: SettingWithCopyWarning: \n",
      "A value is trying to be set on a copy of a slice from a DataFrame\n",
      "\n",
      "See the caveats in the documentation: http://pandas.pydata.org/pandas-docs/stable/indexing.html#indexing-view-versus-copy\n",
      "  from IPython.kernel.zmq import kernelapp as app\n"
     ]
    }
   ],
   "source": [
    "train.drop('source',axis=1,inplace=True)\n",
    "test.drop('source',axis=1,inplace=True)"
   ]
  },
  {
   "cell_type": "code",
   "execution_count": 32,
   "metadata": {
    "collapsed": true
   },
   "outputs": [],
   "source": [
    "train.to_csv('../Data/train_modified_0229.csv',index=False)\n",
    "test.to_csv('../Data/test_modified_0229.csv',index=False)"
   ]
  },
  {
   "cell_type": "code",
   "execution_count": null,
   "metadata": {
    "collapsed": true
   },
   "outputs": [],
   "source": []
  }
 ],
 "metadata": {
  "kernelspec": {
   "display_name": "Python 2",
   "language": "python",
   "name": "python2"
  },
  "language_info": {
   "codemirror_mode": {
    "name": "ipython",
    "version": 2
   },
   "file_extension": ".py",
   "mimetype": "text/x-python",
   "name": "python",
   "nbconvert_exporter": "python",
   "pygments_lexer": "ipython2",
   "version": "2.7.11"
  }
 },
 "nbformat": 4,
 "nbformat_minor": 0
}
