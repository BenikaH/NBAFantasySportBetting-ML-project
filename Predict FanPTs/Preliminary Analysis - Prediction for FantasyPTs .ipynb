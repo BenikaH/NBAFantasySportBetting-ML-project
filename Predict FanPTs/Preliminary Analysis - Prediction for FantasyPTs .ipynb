{
 "cells": [
  {
   "cell_type": "code",
   "execution_count": 1,
   "metadata": {
    "collapsed": true
   },
   "outputs": [],
   "source": [
    "import pickle\n",
    "import pandas as pd"
   ]
  },
  {
   "cell_type": "code",
   "execution_count": 2,
   "metadata": {
    "collapsed": true
   },
   "outputs": [],
   "source": [
    "from datetime import datetime"
   ]
  },
  {
   "cell_type": "code",
   "execution_count": 11,
   "metadata": {
    "collapsed": true
   },
   "outputs": [],
   "source": [
    "with open('../Data/allplayerFantasyGameLogs.pickle', 'rb') as handle:\n",
    "  allplayerFantasyGameLogs = pickle.load(handle)"
   ]
  },
  {
   "cell_type": "code",
   "execution_count": 19,
   "metadata": {
    "collapsed": true
   },
   "outputs": [],
   "source": [
    "allplayerFantasyGameLogs.set_index('GAME_DATE', inplace=True)"
   ]
  },
  {
   "cell_type": "markdown",
   "metadata": {},
   "source": [
    "##Data Integration"
   ]
  },
  {
   "cell_type": "markdown",
   "metadata": {},
   "source": [
    "We will split the allplayerGameLogs into training and test sets. And we need to use two helpful functions to extract player-level and team-level features to train the prediction model for fantasy points from a player. We also need another helpful function to aggregate corresponding information from the test set for the testing purpose."
   ]
  },
  {
   "cell_type": "code",
   "execution_count": 60,
   "metadata": {
    "collapsed": true
   },
   "outputs": [],
   "source": [
    "def aggr(group):\n",
    "        group['NumGames'] = group['fullName'].count()\n",
    "        group['AvgFanPTs'] = group['FanPTs'].mean()\n",
    "        group['AvgPTS'] = group['PTS'].mean()\n",
    "        group['AvgMIN'] = group['MIN'].mean() \n",
    "        group['AvgFGM'] = group['FGM'].mean()\n",
    "        group['AvgFGA'] = group['FGA'].mean()\n",
    "        group['AvgFG3M'] = group['FG3M'].mean()\n",
    "        group['AvgFG3A'] = group['FG3A'].mean()\n",
    "        group['AvgREB'] = group['REB'].mean()\n",
    "        group['AvgAST'] = group['AST'].mean()\n",
    "        group['AvgSTL'] = group['STL'].mean()\n",
    "        group['AvgTOV'] = group['TOV'].mean()\n",
    "        group['AvgPLUS_MINUS'] = group['PLUS_MINUS'].mean()\n",
    "        group['NumDouBL'] = group['DouBL'].sum()\n",
    "        group['NumTriBL'] = group['TriBL'].sum()\n",
    "\n",
    "        group['Last3GameAvgFanPTs'] = group['FanPTs'][:3].mean()\n",
    "        group['Last6GameAvgFanPTs'] = group['FanPTs'][:6].mean()\n",
    "        \n",
    "        group['Last3GameAvgMIN'] = group['MIN'][:3].mean()\n",
    "        group['Last3GameAvgPTS'] = group['PTS'][:3].mean()\n",
    "        return group\n",
    "    \n",
    "def aggr_stats(date,allplayerFantasyGameLogs):\n",
    "    interest_columns = ['fullName','Player_ID','Team','position1','MIN','PTS','FGM','FGA', 'FG3M','FG3A', \\\n",
    "                        'REB','AST','STL','TOV','PLUS_MINUS','DouBL','TriBL','FanPTs']\n",
    "    tmp = allplayerFantasyGameLogs.ix['2015-10-27':date]\n",
    "    \n",
    "    playerID_tmp = tmp.reset_index().copy()\n",
    "    tmp.grouped = playerID_tmp[interest_columns].groupby('Player_ID')\n",
    "    \n",
    "    Newdf = tmp.grouped.apply(aggr)\n",
    "    Newdf = Newdf.drop(['MIN','PTS','FGM','FGA', 'FG3M','FG3A','REB','AST','STL','TOV','PLUS_MINUS','DouBL','TriBL','FanPTs'],axis=1)\n",
    "    Newdf.drop_duplicates(inplace=True)\n",
    "    \n",
    "    bins = [0, 10, 20, 30, 40, 100]\n",
    "    group_names = ['benchPlayer','belowAvg','average','advanced','top']\n",
    "    Newdf['Rank']= pd.cut(Newdf['AvgFanPTs'],bins,labels=group_names)\n",
    "    \n",
    "    return(Newdf)"
   ]
  },
  {
   "cell_type": "code",
   "execution_count": 54,
   "metadata": {
    "collapsed": true
   },
   "outputs": [],
   "source": [
    "def aggr_teamVSteam(group):\n",
    "        group['TeamStdVSFanPTs'] = group['FanPTs'].std()\n",
    "        group['TeamAvgVSFanPTs'] = group['FanPTs'].mean()\n",
    "        group['TeamMaxVSFanPTs'] = group['FanPTs'].max()\n",
    "        return group\n",
    "\n",
    "def aggr_team(group):\n",
    "        group['TeamStdFanPTs'] = group['TeamStdVSFanPTs'].mean()\n",
    "        group['TeamAvgFanPTs'] = group['TeamAvgVSFanPTs'].mean()\n",
    "        group['TeamMaxFanPTs'] = group['TeamMaxVSFanPTs'].mean()\n",
    "        return group    \n",
    "\n",
    "def generate_team_features(playerGameLogs, playerFeatureTable, date):\n",
    "    tmp = playerGameLogs['2015-10-27': date]\n",
    "    tmp = tmp.reset_index()\n",
    "    bad_players = playerFeatureTable[playerFeatureTable.Rank=='benchPlayer']['Player_ID']\n",
    "    interest_cols = ['fullName','Player_ID','Team','OpponentTeam','position1','FanPTs','MIN']\n",
    "    tmp = tmp[interest_cols]\n",
    "    tmp = tmp[~tmp['Player_ID'].isin(bad_players)]\n",
    "    \n",
    "    newdf = tmp.copy()\n",
    "    newdf_grouped = newdf.groupby(['Team','OpponentTeam'])\n",
    "        \n",
    "    Newdf = newdf_grouped.apply(aggr_teamVSteam)\n",
    "    Newdf.drop(['fullName','Player_ID','MIN','FanPTs','position1'],inplace=True,axis=1)\n",
    "    Newdf.drop_duplicates(['Team','OpponentTeam'],inplace=True)\n",
    "    \n",
    "    Newdf.drop('OpponentTeam',axis=1,inplace=True)\n",
    "    \n",
    "    Newdf2 = Newdf.copy()\n",
    "    Newdf2_grouped = Newdf2.groupby('Team')\n",
    "    \n",
    "    Newdf_overall = Newdf2_grouped.apply(aggr_team)\n",
    "    Newdf_overall.drop(['TeamStdVSFanPTs','TeamAvgVSFanPTs','TeamMaxVSFanPTs'],inplace=True,axis=1)\n",
    "    Newdf_overall.drop_duplicates('Team',inplace=True)\n",
    "    \n",
    "    return(Newdf_overall)"
   ]
  },
  {
   "cell_type": "code",
   "execution_count": 64,
   "metadata": {
    "collapsed": true
   },
   "outputs": [],
   "source": [
    "def drop_y(df):\n",
    "    # list comprehension of the cols that end with '_y'\n",
    "    to_drop = [x for x in df if x.endswith('_y')]\n",
    "    df.drop(to_drop, axis=1, inplace=True)\n",
    "\n",
    "def rename_x(df):\n",
    "    for col in df:\n",
    "        if col.endswith('_x'):\n",
    "            df.rename(columns={col:col.rstrip('_x')}, inplace=True)"
   ]
  },
  {
   "cell_type": "code",
   "execution_count": 82,
   "metadata": {
    "collapsed": true
   },
   "outputs": [],
   "source": [
    "def get_train_test(train_date, test_date): #format like'2/10/2016'\n",
    "    train_date_index = pd.date_range(start='11/1/2015', end=train_date, freq='D')\n",
    "    train_df = pd.DataFrame()\n",
    "    \n",
    "    alldates = allplayerFantasyGameLogs.index\n",
    "    trydates = pd.date_range(start='10/27/2015', end='2/29/2016', freq='D')\n",
    "    s = set(alldates)\n",
    "    nodates = [x for x in trydates if x not in s]\n",
    "    \n",
    "    for idx in train_date_index:\n",
    "        tmp_idx = idx+1\n",
    "        if tmp_idx not in nodates and idx not in nodates:\n",
    "            #aggregate the statistics from players -> player-level features\n",
    "            trainLogs = allplayerFantasyGameLogs.ix['2015-10-27':idx]\n",
    "            train_player_df = aggr_stats(idx,trainLogs)   \n",
    "            #next we need to collect the player's next game Fantasy Points.\n",
    "            next_date = idx + 1\n",
    "            tmpLogs = allplayerFantasyGameLogs[['fullName', 'Player_ID','Team','OpponentTeam','FanPTs']].ix[next_date]\n",
    "            tmpLogs.rename(columns={'FanPTs':'NewGameFanPTs'},inplace=True)\n",
    "            #join the tmpLogs and player festure table by Player_ID, which is based on the players on a new game day\n",
    "            newgame_df = pd.merge(tmpLogs,train_player_df,how='inner',on='Player_ID')\n",
    "            drop_y(newgame_df)\n",
    "            rename_x(newgame_df)\n",
    "\n",
    "            #get the team features table \n",
    "            train_team_df = generate_team_features(allplayerFantasyGameLogs, train_player_df, idx)\n",
    "            newgame_df = pd.merge(newgame_df,train_team_df,how='left',on='Team')\n",
    "            train_df = pd.concat([train_df,newgame_df],axis=0)\n",
    "\n",
    "    test_date_index = pd.date_range(start=train_date, end=test_date, freq='D')[1:]\n",
    "    start_test_date = pd.date_range(start=train_date, end=test_date, freq='D')[0]\n",
    "    test_df = pd.DataFrame()\n",
    "    for idx in test_date_index:\n",
    "        tmp_idx = idx+1\n",
    "        if tmp_idx not in nodates and idx not in nodates:\n",
    "            #aggregate the statistics from players -> player-level features\n",
    "            testLogs = allplayerFantasyGameLogs.ix[start_test_date:idx]\n",
    "            test_player_df = aggr_stats(idx,testLogs)   \n",
    "            #next we need to collect the player's next game Fantasy Points.\n",
    "            next_date = idx + 1\n",
    "            tmpLogs = allplayerFantasyGameLogs[['fullName', 'Player_ID','Team','OpponentTeam','FanPTs']].ix[next_date]\n",
    "            tmpLogs.rename(columns={'FanPTs':'NewGameFanPTs'},inplace=True)\n",
    "            #join the tmpLogs and player festure table by Player_ID, which is based on the players on a new game day\n",
    "            newgame_df = pd.merge(tmpLogs,train_player_df,how='inner',on='Player_ID')\n",
    "            drop_y(newgame_df)\n",
    "            rename_x(newgame_df)\n",
    "\n",
    "            #get the team features table \n",
    "            test_team_df = generate_team_features(allplayerFantasyGameLogs, test_player_df, idx)\n",
    "            newgame_df = pd.merge(newgame_df,test_team_df,how='left',on='Team')\n",
    "            test_df = pd.concat([test_df,newgame_df],axis=0) \n",
    "        \n",
    "    return(train_df, test_df)"
   ]
  },
  {
   "cell_type": "code",
   "execution_count": 83,
   "metadata": {
    "collapsed": false
   },
   "outputs": [],
   "source": [
    "train_set, test_set = get_train_test('2/20/2016', '2/28/2016')"
   ]
  },
  {
   "cell_type": "code",
   "execution_count": 86,
   "metadata": {
    "collapsed": false
   },
   "outputs": [
    {
     "data": {
      "text/plain": [
       "(16384, 29)"
      ]
     },
     "execution_count": 86,
     "metadata": {},
     "output_type": "execute_result"
    }
   ],
   "source": [
    "train_set.shape"
   ]
  },
  {
   "cell_type": "code",
   "execution_count": 87,
   "metadata": {
    "collapsed": false
   },
   "outputs": [
    {
     "data": {
      "text/plain": [
       "(1269, 29)"
      ]
     },
     "execution_count": 87,
     "metadata": {},
     "output_type": "execute_result"
    }
   ],
   "source": [
    "test_set.shape"
   ]
  },
  {
   "cell_type": "code",
   "execution_count": 88,
   "metadata": {
    "collapsed": true
   },
   "outputs": [],
   "source": [
    "with open('../Data/train_set_02_29.pickle', 'wb') as handle:\n",
    "  pickle.dump(train_set, handle)"
   ]
  },
  {
   "cell_type": "code",
   "execution_count": 89,
   "metadata": {
    "collapsed": true
   },
   "outputs": [],
   "source": [
    "with open('../Data/test_set_02_29.pickle', 'wb') as handle:\n",
    "  pickle.dump(test_set, handle)"
   ]
  },
  {
   "cell_type": "markdown",
   "metadata": {},
   "source": [
    "##Prepocessing"
   ]
  },
  {
   "cell_type": "code",
   "execution_count": 3,
   "metadata": {
    "collapsed": true
   },
   "outputs": [],
   "source": [
    "with open('../Data/train_set_02_29.pickle', 'rb') as handle:\n",
    "  train_set = pickle.load(handle)"
   ]
  },
  {
   "cell_type": "code",
   "execution_count": 4,
   "metadata": {
    "collapsed": true
   },
   "outputs": [],
   "source": [
    "with open('../Data/test_set_02_29.pickle', 'rb') as handle:\n",
    "  test_set = pickle.load(handle)"
   ]
  },
  {
   "cell_type": "code",
   "execution_count": 5,
   "metadata": {
    "collapsed": false
   },
   "outputs": [
    {
     "data": {
      "text/html": [
       "<div>\n",
       "<table border=\"1\" class=\"dataframe\">\n",
       "  <thead>\n",
       "    <tr style=\"text-align: right;\">\n",
       "      <th></th>\n",
       "      <th>fullName</th>\n",
       "      <th>Player_ID</th>\n",
       "      <th>Team</th>\n",
       "      <th>OpponentTeam</th>\n",
       "      <th>NewGameFanPTs</th>\n",
       "      <th>position1</th>\n",
       "      <th>NumGames</th>\n",
       "      <th>AvgFanPTs</th>\n",
       "      <th>AvgPTS</th>\n",
       "      <th>AvgMIN</th>\n",
       "      <th>...</th>\n",
       "      <th>NumDouBL</th>\n",
       "      <th>NumTriBL</th>\n",
       "      <th>Last3GameAvgFanPTs</th>\n",
       "      <th>Last6GameAvgFanPTs</th>\n",
       "      <th>Last3GameAvgMIN</th>\n",
       "      <th>Last3GameAvgPTS</th>\n",
       "      <th>Rank</th>\n",
       "      <th>TeamStdFanPTs</th>\n",
       "      <th>TeamAvgFanPTs</th>\n",
       "      <th>TeamMaxFanPTs</th>\n",
       "    </tr>\n",
       "  </thead>\n",
       "  <tbody>\n",
       "    <tr>\n",
       "      <th>0</th>\n",
       "      <td>Austin Rivers</td>\n",
       "      <td>203085</td>\n",
       "      <td>LAC</td>\n",
       "      <td>PHX</td>\n",
       "      <td>10.00</td>\n",
       "      <td>SG</td>\n",
       "      <td>3</td>\n",
       "      <td>10.833333</td>\n",
       "      <td>5.666667</td>\n",
       "      <td>17.333333</td>\n",
       "      <td>...</td>\n",
       "      <td>0</td>\n",
       "      <td>0</td>\n",
       "      <td>10.833333</td>\n",
       "      <td>10.833333</td>\n",
       "      <td>17.333333</td>\n",
       "      <td>5.666667</td>\n",
       "      <td>belowAvg</td>\n",
       "      <td>14.640730</td>\n",
       "      <td>23.930556</td>\n",
       "      <td>52.625000</td>\n",
       "    </tr>\n",
       "    <tr>\n",
       "      <th>1</th>\n",
       "      <td>JJ Redick</td>\n",
       "      <td>200755</td>\n",
       "      <td>LAC</td>\n",
       "      <td>PHX</td>\n",
       "      <td>17.75</td>\n",
       "      <td>SG</td>\n",
       "      <td>3</td>\n",
       "      <td>21.750000</td>\n",
       "      <td>16.666667</td>\n",
       "      <td>29.333333</td>\n",
       "      <td>...</td>\n",
       "      <td>0</td>\n",
       "      <td>0</td>\n",
       "      <td>21.750000</td>\n",
       "      <td>21.750000</td>\n",
       "      <td>29.333333</td>\n",
       "      <td>16.666667</td>\n",
       "      <td>average</td>\n",
       "      <td>14.640730</td>\n",
       "      <td>23.930556</td>\n",
       "      <td>52.625000</td>\n",
       "    </tr>\n",
       "    <tr>\n",
       "      <th>2</th>\n",
       "      <td>Thomas Robinson</td>\n",
       "      <td>203080</td>\n",
       "      <td>BKN</td>\n",
       "      <td>MIL</td>\n",
       "      <td>3.50</td>\n",
       "      <td>PF</td>\n",
       "      <td>3</td>\n",
       "      <td>17.083333</td>\n",
       "      <td>4.666667</td>\n",
       "      <td>15.000000</td>\n",
       "      <td>...</td>\n",
       "      <td>0</td>\n",
       "      <td>0</td>\n",
       "      <td>17.083333</td>\n",
       "      <td>17.083333</td>\n",
       "      <td>15.000000</td>\n",
       "      <td>4.666667</td>\n",
       "      <td>belowAvg</td>\n",
       "      <td>9.567647</td>\n",
       "      <td>19.671296</td>\n",
       "      <td>33.833333</td>\n",
       "    </tr>\n",
       "    <tr>\n",
       "      <th>3</th>\n",
       "      <td>Rasual Butler</td>\n",
       "      <td>2446</td>\n",
       "      <td>SAS</td>\n",
       "      <td>NYK</td>\n",
       "      <td>0.00</td>\n",
       "      <td>SF</td>\n",
       "      <td>2</td>\n",
       "      <td>6.000000</td>\n",
       "      <td>2.500000</td>\n",
       "      <td>9.500000</td>\n",
       "      <td>...</td>\n",
       "      <td>0</td>\n",
       "      <td>0</td>\n",
       "      <td>6.000000</td>\n",
       "      <td>6.000000</td>\n",
       "      <td>9.500000</td>\n",
       "      <td>2.500000</td>\n",
       "      <td>benchPlayer</td>\n",
       "      <td>11.173312</td>\n",
       "      <td>24.663194</td>\n",
       "      <td>46.666667</td>\n",
       "    </tr>\n",
       "    <tr>\n",
       "      <th>4</th>\n",
       "      <td>Joe Johnson</td>\n",
       "      <td>2207</td>\n",
       "      <td>BKN</td>\n",
       "      <td>MIL</td>\n",
       "      <td>27.75</td>\n",
       "      <td>SG</td>\n",
       "      <td>3</td>\n",
       "      <td>18.666667</td>\n",
       "      <td>7.666667</td>\n",
       "      <td>29.666667</td>\n",
       "      <td>...</td>\n",
       "      <td>1</td>\n",
       "      <td>0</td>\n",
       "      <td>18.666667</td>\n",
       "      <td>18.666667</td>\n",
       "      <td>29.666667</td>\n",
       "      <td>7.666667</td>\n",
       "      <td>belowAvg</td>\n",
       "      <td>9.567647</td>\n",
       "      <td>19.671296</td>\n",
       "      <td>33.833333</td>\n",
       "    </tr>\n",
       "  </tbody>\n",
       "</table>\n",
       "<p>5 rows × 29 columns</p>\n",
       "</div>"
      ],
      "text/plain": [
       "          fullName  Player_ID Team OpponentTeam  NewGameFanPTs position1  \\\n",
       "0    Austin Rivers     203085  LAC          PHX          10.00        SG   \n",
       "1        JJ Redick     200755  LAC          PHX          17.75        SG   \n",
       "2  Thomas Robinson     203080  BKN          MIL           3.50        PF   \n",
       "3    Rasual Butler       2446  SAS          NYK           0.00        SF   \n",
       "4      Joe Johnson       2207  BKN          MIL          27.75        SG   \n",
       "\n",
       "   NumGames  AvgFanPTs     AvgPTS     AvgMIN      ...        NumDouBL  \\\n",
       "0         3  10.833333   5.666667  17.333333      ...               0   \n",
       "1         3  21.750000  16.666667  29.333333      ...               0   \n",
       "2         3  17.083333   4.666667  15.000000      ...               0   \n",
       "3         2   6.000000   2.500000   9.500000      ...               0   \n",
       "4         3  18.666667   7.666667  29.666667      ...               1   \n",
       "\n",
       "   NumTriBL  Last3GameAvgFanPTs  Last6GameAvgFanPTs  Last3GameAvgMIN  \\\n",
       "0         0           10.833333           10.833333        17.333333   \n",
       "1         0           21.750000           21.750000        29.333333   \n",
       "2         0           17.083333           17.083333        15.000000   \n",
       "3         0            6.000000            6.000000         9.500000   \n",
       "4         0           18.666667           18.666667        29.666667   \n",
       "\n",
       "   Last3GameAvgPTS         Rank  TeamStdFanPTs  TeamAvgFanPTs  TeamMaxFanPTs  \n",
       "0         5.666667     belowAvg      14.640730      23.930556      52.625000  \n",
       "1        16.666667      average      14.640730      23.930556      52.625000  \n",
       "2         4.666667     belowAvg       9.567647      19.671296      33.833333  \n",
       "3         2.500000  benchPlayer      11.173312      24.663194      46.666667  \n",
       "4         7.666667     belowAvg       9.567647      19.671296      33.833333  \n",
       "\n",
       "[5 rows x 29 columns]"
      ]
     },
     "execution_count": 5,
     "metadata": {},
     "output_type": "execute_result"
    }
   ],
   "source": [
    "train_set.head()"
   ]
  },
  {
   "cell_type": "markdown",
   "metadata": {},
   "source": [
    "###Check Missing values"
   ]
  },
  {
   "cell_type": "code",
   "execution_count": 6,
   "metadata": {
    "collapsed": false
   },
   "outputs": [
    {
     "data": {
      "text/plain": [
       "fullName               0\n",
       "Player_ID              0\n",
       "Team                   0\n",
       "OpponentTeam           0\n",
       "NewGameFanPTs          0\n",
       "position1              0\n",
       "NumGames               0\n",
       "AvgFanPTs              0\n",
       "AvgPTS                 0\n",
       "AvgMIN                 0\n",
       "AvgFGM                 0\n",
       "AvgFGA                 0\n",
       "AvgFG3M                0\n",
       "AvgFG3A                0\n",
       "AvgREB                 0\n",
       "AvgAST                 0\n",
       "AvgSTL                 0\n",
       "AvgTOV                 0\n",
       "AvgPLUS_MINUS          0\n",
       "NumDouBL               0\n",
       "NumTriBL               0\n",
       "Last3GameAvgFanPTs     0\n",
       "Last6GameAvgFanPTs     0\n",
       "Last3GameAvgMIN        0\n",
       "Last3GameAvgPTS        0\n",
       "Rank                  18\n",
       "TeamStdFanPTs          0\n",
       "TeamAvgFanPTs          0\n",
       "TeamMaxFanPTs          0\n",
       "dtype: int64"
      ]
     },
     "execution_count": 6,
     "metadata": {},
     "output_type": "execute_result"
    }
   ],
   "source": [
    "train_set.apply(lambda x: sum(x.isnull()))"
   ]
  }
 ],
 "metadata": {
  "kernelspec": {
   "display_name": "Python 2",
   "language": "python",
   "name": "python2"
  },
  "language_info": {
   "codemirror_mode": {
    "name": "ipython",
    "version": 2
   },
   "file_extension": ".py",
   "mimetype": "text/x-python",
   "name": "python",
   "nbconvert_exporter": "python",
   "pygments_lexer": "ipython2",
   "version": "2.7.11"
  }
 },
 "nbformat": 4,
 "nbformat_minor": 0
}
