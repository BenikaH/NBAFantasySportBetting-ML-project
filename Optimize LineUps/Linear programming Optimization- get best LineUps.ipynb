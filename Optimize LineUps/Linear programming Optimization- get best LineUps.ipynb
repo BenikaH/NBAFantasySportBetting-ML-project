{
 "cells": [
  {
   "cell_type": "code",
   "execution_count": 3,
   "metadata": {
    "collapsed": false
   },
   "outputs": [],
   "source": [
    "import glob"
   ]
  },
  {
   "cell_type": "code",
   "execution_count": 6,
   "metadata": {
    "collapsed": false
   },
   "outputs": [],
   "source": [
    "import numpy\n",
    "import pandas\n",
    "import pulp"
   ]
  },
  {
   "cell_type": "code",
   "execution_count": 10,
   "metadata": {
    "collapsed": true
   },
   "outputs": [],
   "source": [
    "df_ls = []\n",
    "for file in glob.glob('../Data/SalaryHistory/*.csv'):\n",
    "    df_ls.append(pandas.read_csv(file, sep=';'))"
   ]
  },
  {
   "cell_type": "code",
   "execution_count": 11,
   "metadata": {
    "collapsed": false
   },
   "outputs": [],
   "source": [
    "pastsalaries = pandas.concat(df_ls)"
   ]
  },
  {
   "cell_type": "code",
   "execution_count": 12,
   "metadata": {
    "collapsed": false
   },
   "outputs": [
    {
     "data": {
      "text/html": [
       "<div>\n",
       "<table border=\"1\" class=\"dataframe\">\n",
       "  <thead>\n",
       "    <tr style=\"text-align: right;\">\n",
       "      <th></th>\n",
       "      <th>Date</th>\n",
       "      <th>GID</th>\n",
       "      <th>Pos</th>\n",
       "      <th>Name</th>\n",
       "      <th>Starter</th>\n",
       "      <th>DK Pts</th>\n",
       "      <th>DK Salary</th>\n",
       "      <th>Team</th>\n",
       "      <th>H/A</th>\n",
       "      <th>Oppt</th>\n",
       "      <th>Team Score</th>\n",
       "      <th>Oppt Score</th>\n",
       "      <th>Minutes</th>\n",
       "      <th>Stat line</th>\n",
       "    </tr>\n",
       "  </thead>\n",
       "  <tbody>\n",
       "    <tr>\n",
       "      <th>0</th>\n",
       "      <td>20151116</td>\n",
       "      <td>4382</td>\n",
       "      <td>PG</td>\n",
       "      <td>Knight, Brandon</td>\n",
       "      <td>1</td>\n",
       "      <td>78.00</td>\n",
       "      <td>$7,000</td>\n",
       "      <td>pho</td>\n",
       "      <td>H</td>\n",
       "      <td>lal</td>\n",
       "      <td>120</td>\n",
       "      <td>101</td>\n",
       "      <td>40.78</td>\n",
       "      <td>30pt 10rb 15as 4st 2to 3trey 11-23fg 5-7ft</td>\n",
       "    </tr>\n",
       "    <tr>\n",
       "      <th>1</th>\n",
       "      <td>20151116</td>\n",
       "      <td>4079</td>\n",
       "      <td>PG</td>\n",
       "      <td>Westbrook, Russell</td>\n",
       "      <td>1</td>\n",
       "      <td>72.00</td>\n",
       "      <td>$12,200</td>\n",
       "      <td>okc</td>\n",
       "      <td>A</td>\n",
       "      <td>mem</td>\n",
       "      <td>114</td>\n",
       "      <td>122</td>\n",
       "      <td>38.53</td>\n",
       "      <td>40pt 4rb 14as 3st 8to 5trey 13-19fg 9-13ft</td>\n",
       "    </tr>\n",
       "    <tr>\n",
       "      <th>2</th>\n",
       "      <td>20151116</td>\n",
       "      <td>4523</td>\n",
       "      <td>PG</td>\n",
       "      <td>Lillard, Damian</td>\n",
       "      <td>1</td>\n",
       "      <td>47.75</td>\n",
       "      <td>$8,700</td>\n",
       "      <td>por</td>\n",
       "      <td>A</td>\n",
       "      <td>sas</td>\n",
       "      <td>80</td>\n",
       "      <td>93</td>\n",
       "      <td>41.97</td>\n",
       "      <td>27pt 7rb 6as 1st 1bl 3to 1trey 10-21fg 6-6ft</td>\n",
       "    </tr>\n",
       "    <tr>\n",
       "      <th>3</th>\n",
       "      <td>20151116</td>\n",
       "      <td>3979</td>\n",
       "      <td>PG</td>\n",
       "      <td>Conley, Mike</td>\n",
       "      <td>1</td>\n",
       "      <td>46.50</td>\n",
       "      <td>$6,000</td>\n",
       "      <td>mem</td>\n",
       "      <td>H</td>\n",
       "      <td>okc</td>\n",
       "      <td>122</td>\n",
       "      <td>114</td>\n",
       "      <td>31.38</td>\n",
       "      <td>22pt 4rb 9as 2st 4trey 8-13fg 2-3ft</td>\n",
       "    </tr>\n",
       "    <tr>\n",
       "      <th>4</th>\n",
       "      <td>20151116</td>\n",
       "      <td>4073</td>\n",
       "      <td>PG</td>\n",
       "      <td>Rose, Derrick</td>\n",
       "      <td>1</td>\n",
       "      <td>41.50</td>\n",
       "      <td>$5,900</td>\n",
       "      <td>chi</td>\n",
       "      <td>H</td>\n",
       "      <td>ind</td>\n",
       "      <td>96</td>\n",
       "      <td>95</td>\n",
       "      <td>33.22</td>\n",
       "      <td>23pt 2rb 6as 2st 1bl 2trey 9-18fg 3-4ft</td>\n",
       "    </tr>\n",
       "  </tbody>\n",
       "</table>\n",
       "</div>"
      ],
      "text/plain": [
       "       Date   GID Pos                Name  Starter  DK Pts DK Salary Team H/A  \\\n",
       "0  20151116  4382  PG     Knight, Brandon        1   78.00    $7,000  pho   H   \n",
       "1  20151116  4079  PG  Westbrook, Russell        1   72.00   $12,200  okc   A   \n",
       "2  20151116  4523  PG     Lillard, Damian        1   47.75    $8,700  por   A   \n",
       "3  20151116  3979  PG        Conley, Mike        1   46.50    $6,000  mem   H   \n",
       "4  20151116  4073  PG       Rose, Derrick        1   41.50    $5,900  chi   H   \n",
       "\n",
       "  Oppt  Team Score  Oppt Score Minutes  \\\n",
       "0  lal         120         101   40.78   \n",
       "1  mem         114         122   38.53   \n",
       "2  sas          80          93   41.97   \n",
       "3  okc         122         114   31.38   \n",
       "4  ind          96          95   33.22   \n",
       "\n",
       "                                      Stat line  \n",
       "0    30pt 10rb 15as 4st 2to 3trey 11-23fg 5-7ft  \n",
       "1    40pt 4rb 14as 3st 8to 5trey 13-19fg 9-13ft  \n",
       "2  27pt 7rb 6as 1st 1bl 3to 1trey 10-21fg 6-6ft  \n",
       "3           22pt 4rb 9as 2st 4trey 8-13fg 2-3ft  \n",
       "4       23pt 2rb 6as 2st 1bl 2trey 9-18fg 3-4ft  "
      ]
     },
     "execution_count": 12,
     "metadata": {},
     "output_type": "execute_result"
    }
   ],
   "source": [
    "pastsalaries.head()"
   ]
  },
  {
   "cell_type": "code",
   "execution_count": 13,
   "metadata": {
    "collapsed": true
   },
   "outputs": [],
   "source": [
    "pastsalaries = pastsalaries.dropna()"
   ]
  },
  {
   "cell_type": "code",
   "execution_count": 14,
   "metadata": {
    "collapsed": true
   },
   "outputs": [],
   "source": [
    "pastsalaries['DK Salary'] = pastsalaries['DK Salary'].astype(str).map(\n",
    "    lambda ele: int(ele.replace('$', '').replace(',', '')))"
   ]
  },
  {
   "cell_type": "code",
   "execution_count": 15,
   "metadata": {
    "collapsed": true
   },
   "outputs": [],
   "source": [
    "specificDate = pastsalaries[pastsalaries['Date'] == 20160306]"
   ]
  },
  {
   "cell_type": "code",
   "execution_count": 17,
   "metadata": {
    "collapsed": false
   },
   "outputs": [
    {
     "data": {
      "text/plain": [
       "(70, 14)"
      ]
     },
     "execution_count": 17,
     "metadata": {},
     "output_type": "execute_result"
    }
   ],
   "source": [
    "specificDate.shape"
   ]
  },
  {
   "cell_type": "code",
   "execution_count": 18,
   "metadata": {
    "collapsed": true
   },
   "outputs": [],
   "source": [
    "# initialize variables\n",
    "playerPositions = specificDate['Pos'].tolist()\n",
    "playerNames = specificDate['Name'].tolist()\n",
    "playerTeams = tuple(specificDate['Team'].unique())\n",
    "playerCosts = tuple(specificDate['DK Salary'])\n",
    "playerPoints = tuple(specificDate['DK Pts'])\n",
    "salaryCap = 50000\n",
    "numOfPlayers = range(len(playerCosts))"
   ]
  },
  {
   "cell_type": "code",
   "execution_count": 20,
   "metadata": {
    "collapsed": true
   },
   "outputs": [],
   "source": [
    "# create problem\n",
    "problem = pulp.LpProblem(\"Optimal Line-Up\", pulp.LpMaximize)"
   ]
  },
  {
   "cell_type": "code",
   "execution_count": 21,
   "metadata": {
    "collapsed": true
   },
   "outputs": [],
   "source": [
    "# create variable to represent each player\n",
    "playerInLineup = pulp.LpVariable.dicts(\"Players\", [i for i in numOfPlayers], 0, 1, cat=\"Binary\")"
   ]
  },
  {
   "cell_type": "code",
   "execution_count": 22,
   "metadata": {
    "collapsed": true
   },
   "outputs": [],
   "source": [
    "# objective: maximize sum of player points\n",
    "problem += pulp.lpSum(playerInLineup[i] * playerPoints[i] for i in numOfPlayers)"
   ]
  },
  {
   "cell_type": "code",
   "execution_count": 23,
   "metadata": {
    "collapsed": true
   },
   "outputs": [],
   "source": [
    "# constraint: each player can only be chosen at most once\n",
    "for i in numOfPlayers:\n",
    "    problem += pulp.lpSum(playerInLineup[i]) <= 1"
   ]
  },
  {
   "cell_type": "code",
   "execution_count": 24,
   "metadata": {
    "collapsed": true
   },
   "outputs": [],
   "source": [
    "# constraints: sum of player costs must be less than or equal to the salary cap\n",
    "problem += pulp.lpSum(playerInLineup[i] * playerCosts[i] for i in numOfPlayers) <= salaryCap"
   ]
  },
  {
   "cell_type": "code",
   "execution_count": 25,
   "metadata": {
    "collapsed": true
   },
   "outputs": [],
   "source": [
    "# constraint: teams must have 8 players\n",
    "problem += pulp.lpSum(problem.variables()) == 8"
   ]
  },
  {
   "cell_type": "code",
   "execution_count": 26,
   "metadata": {
    "collapsed": true
   },
   "outputs": [],
   "source": [
    "# constraint: 1 <= number of PG <= Max 3\n",
    "pointguards = tuple(specificDate['Pos'] == 'PG')\n",
    "problem += pulp.lpSum(playerInLineup[i] * pointguards[i] for i in numOfPlayers) >= 1\n",
    "problem += pulp.lpSum(playerInLineup[i] * pointguards[i] for i in numOfPlayers) <= 3"
   ]
  },
  {
   "cell_type": "code",
   "execution_count": 27,
   "metadata": {
    "collapsed": true
   },
   "outputs": [],
   "source": [
    "# constraint: 1 <= number of SG <= Max 3\n",
    "shootguards = tuple(specificDate['Pos'] == 'SG')\n",
    "problem += pulp.lpSum(playerInLineup[i] * shootguards[i] for i in numOfPlayers) >= 1\n",
    "problem += pulp.lpSum(playerInLineup[i] * shootguards[i] for i in numOfPlayers) <= 3"
   ]
  },
  {
   "cell_type": "code",
   "execution_count": 28,
   "metadata": {
    "collapsed": true
   },
   "outputs": [],
   "source": [
    "# constraint: 1 <= number of SF <= Max 3\n",
    "smallforward = tuple(specificDate['Pos'] == 'SF')\n",
    "problem += pulp.lpSum(smallforward[i] * playerInLineup[i] for i in numOfPlayers) >= 1\n",
    "problem += pulp.lpSum(smallforward[i] * playerInLineup[i] for i in numOfPlayers) <= 3"
   ]
  },
  {
   "cell_type": "code",
   "execution_count": 29,
   "metadata": {
    "collapsed": true
   },
   "outputs": [],
   "source": [
    "# constraint: 1 <= number of PF <= Max 3\n",
    "powerfoward = tuple(specificDate['Pos'] == 'PF')\n",
    "problem += pulp.lpSum(powerfoward[i] * playerInLineup[i] for i in numOfPlayers) >= 1\n",
    "problem += pulp.lpSum(powerfoward[i] * playerInLineup[i] for i in numOfPlayers) <= 3"
   ]
  },
  {
   "cell_type": "code",
   "execution_count": 30,
   "metadata": {
    "collapsed": true
   },
   "outputs": [],
   "source": [
    "# constraint: 1 <= number of C <= Max 2\n",
    "centers = tuple(specificDate['Pos'] == 'C')\n",
    "problem += pulp.lpSum(playerInLineup[i] * centers[i] for i in numOfPlayers) <= 2\n",
    "problem += pulp.lpSum(playerInLineup[i] * centers[i] for i in numOfPlayers) >= 1"
   ]
  },
  {
   "cell_type": "code",
   "execution_count": 31,
   "metadata": {
    "collapsed": true
   },
   "outputs": [],
   "source": [
    "# create variables for teams\n",
    "teamsInLineup = pulp.LpVariable.dicts(\"Teams\", [i for i in specificDate['Team']], 0, 1, cat=\"Binary\")\n",
    "teams = tuple(specificDate['Team'])"
   ]
  },
  {
   "cell_type": "code",
   "execution_count": null,
   "metadata": {
    "collapsed": true
   },
   "outputs": [],
   "source": [
    "# constraint: at least two different games must be chosen\n",
    "for i in numOfPlayers:\n",
    "    \n",
    "problem += pulp.\n",
    "lpSum(playerInLineup[i] * teamsInLineup[i] for i in numOfPlayers) >= 2"
   ]
  },
  {
   "cell_type": "code",
   "execution_count": null,
   "metadata": {
    "collapsed": true
   },
   "outputs": [],
   "source": [
    "# solve problem with the COIN CBC solver\n",
    "solver = pulp.PULP_CBC_CMD(options=[],keepFiles = 0, msg=1, fracGap=0, maxSeconds = \"100\")\n",
    "KnapsackProb.solve(solver)"
   ]
  }
 ],
 "metadata": {
  "kernelspec": {
   "display_name": "Python 2",
   "language": "python",
   "name": "python2"
  },
  "language_info": {
   "codemirror_mode": {
    "name": "ipython",
    "version": 2
   },
   "file_extension": ".py",
   "mimetype": "text/x-python",
   "name": "python",
   "nbconvert_exporter": "python",
   "pygments_lexer": "ipython2",
   "version": "2.7.11"
  }
 },
 "nbformat": 4,
 "nbformat_minor": 0
}
