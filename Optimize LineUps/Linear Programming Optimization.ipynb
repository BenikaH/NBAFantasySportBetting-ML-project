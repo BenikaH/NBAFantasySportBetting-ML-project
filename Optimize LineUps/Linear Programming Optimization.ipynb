{
 "cells": [
  {
   "cell_type": "code",
   "execution_count": 64,
   "metadata": {
    "collapsed": true
   },
   "outputs": [],
   "source": [
    "import glob\n",
    "import pandas\n",
    "import pulp"
   ]
  },
  {
   "cell_type": "code",
   "execution_count": 65,
   "metadata": {
    "collapsed": false
   },
   "outputs": [
    {
     "data": {
      "text/html": [
       "<div>\n",
       "<table border=\"1\" class=\"dataframe\">\n",
       "  <thead>\n",
       "    <tr style=\"text-align: right;\">\n",
       "      <th></th>\n",
       "      <th>Date</th>\n",
       "      <th>GID</th>\n",
       "      <th>Pos</th>\n",
       "      <th>Name</th>\n",
       "      <th>Starter</th>\n",
       "      <th>DK Pts</th>\n",
       "      <th>DK Salary</th>\n",
       "      <th>Team</th>\n",
       "      <th>H/A</th>\n",
       "      <th>Oppt</th>\n",
       "      <th>Team Score</th>\n",
       "      <th>Oppt Score</th>\n",
       "      <th>Minutes</th>\n",
       "      <th>Stat line</th>\n",
       "    </tr>\n",
       "  </thead>\n",
       "  <tbody>\n",
       "    <tr>\n",
       "      <th>0</th>\n",
       "      <td>20160306</td>\n",
       "      <td>4224</td>\n",
       "      <td>SG</td>\n",
       "      <td>Harden, James</td>\n",
       "      <td>1</td>\n",
       "      <td>71.75</td>\n",
       "      <td>10500</td>\n",
       "      <td>hou</td>\n",
       "      <td>A</td>\n",
       "      <td>tor</td>\n",
       "      <td>113</td>\n",
       "      <td>107</td>\n",
       "      <td>42.68</td>\n",
       "      <td>40pt 5rb 14as 1st 1to 3trey 11-20fg 15-19ft</td>\n",
       "    </tr>\n",
       "    <tr>\n",
       "      <th>1</th>\n",
       "      <td>20160306</td>\n",
       "      <td>4079</td>\n",
       "      <td>PG</td>\n",
       "      <td>Westbrook, Russell</td>\n",
       "      <td>1</td>\n",
       "      <td>49.50</td>\n",
       "      <td>10800</td>\n",
       "      <td>okc</td>\n",
       "      <td>A</td>\n",
       "      <td>mil</td>\n",
       "      <td>104</td>\n",
       "      <td>96</td>\n",
       "      <td>38.83</td>\n",
       "      <td>15pt 10rb 11as 1st 1bl 7to 1trey 3-7fg 8-11ft</td>\n",
       "    </tr>\n",
       "    <tr>\n",
       "      <th>2</th>\n",
       "      <td>20160306</td>\n",
       "      <td>4369</td>\n",
       "      <td>PG</td>\n",
       "      <td>Jackson, Reggie</td>\n",
       "      <td>1</td>\n",
       "      <td>48.75</td>\n",
       "      <td>6600</td>\n",
       "      <td>det</td>\n",
       "      <td>H</td>\n",
       "      <td>por</td>\n",
       "      <td>123</td>\n",
       "      <td>103</td>\n",
       "      <td>34.08</td>\n",
       "      <td>30pt 1rb 9as 2st 1to 1trey 11-19fg 7-7ft</td>\n",
       "    </tr>\n",
       "    <tr>\n",
       "      <th>3</th>\n",
       "      <td>20160306</td>\n",
       "      <td>4885</td>\n",
       "      <td>SG</td>\n",
       "      <td>Booker, Devin</td>\n",
       "      <td>1</td>\n",
       "      <td>47.50</td>\n",
       "      <td>4800</td>\n",
       "      <td>pho</td>\n",
       "      <td>A</td>\n",
       "      <td>mem</td>\n",
       "      <td>109</td>\n",
       "      <td>100</td>\n",
       "      <td>42.82</td>\n",
       "      <td>27pt 2rb 9as 1st 1bl 3to 4trey 8-17fg 7-7ft</td>\n",
       "    </tr>\n",
       "    <tr>\n",
       "      <th>4</th>\n",
       "      <td>20160306</td>\n",
       "      <td>3891</td>\n",
       "      <td>PG</td>\n",
       "      <td>Lowry, Kyle</td>\n",
       "      <td>1</td>\n",
       "      <td>42.00</td>\n",
       "      <td>8800</td>\n",
       "      <td>tor</td>\n",
       "      <td>H</td>\n",
       "      <td>hou</td>\n",
       "      <td>107</td>\n",
       "      <td>113</td>\n",
       "      <td>38.28</td>\n",
       "      <td>17pt 4rb 9as 3st 3to 4trey 5-10fg 3-5ft</td>\n",
       "    </tr>\n",
       "  </tbody>\n",
       "</table>\n",
       "</div>"
      ],
      "text/plain": [
       "       Date   GID Pos                Name  Starter  DK Pts DK Salary Team H/A  \\\n",
       "0  20160306  4224  SG       Harden, James        1   71.75     10500  hou   A   \n",
       "1  20160306  4079  PG  Westbrook, Russell        1   49.50     10800  okc   A   \n",
       "2  20160306  4369  PG     Jackson, Reggie        1   48.75      6600  det   H   \n",
       "3  20160306  4885  SG       Booker, Devin        1   47.50      4800  pho   A   \n",
       "4  20160306  3891  PG         Lowry, Kyle        1   42.00      8800  tor   H   \n",
       "\n",
       "  Oppt  Team Score  Oppt Score Minutes  \\\n",
       "0  tor         113         107   42.68   \n",
       "1  mil         104          96   38.83   \n",
       "2  por         123         103   34.08   \n",
       "3  mem         109         100   42.82   \n",
       "4  hou         107         113   38.28   \n",
       "\n",
       "                                       Stat line  \n",
       "0    40pt 5rb 14as 1st 1to 3trey 11-20fg 15-19ft  \n",
       "1  15pt 10rb 11as 1st 1bl 7to 1trey 3-7fg 8-11ft  \n",
       "2       30pt 1rb 9as 2st 1to 1trey 11-19fg 7-7ft  \n",
       "3    27pt 2rb 9as 1st 1bl 3to 4trey 8-17fg 7-7ft  \n",
       "4        17pt 4rb 9as 3st 3to 4trey 5-10fg 3-5ft  "
      ]
     },
     "execution_count": 65,
     "metadata": {},
     "output_type": "execute_result"
    }
   ],
   "source": [
    "# create dataframe of past salaries and past performance\n",
    "list = []\n",
    "for file in glob.glob('../Data/SalaryHistory/*.csv'):\n",
    "    list.append(pandas.read_csv(file, sep=';'))\n",
    "pastsalaries = pandas.concat(list)\n",
    "pastsalaries['DK Salary'] = pastsalaries['DK Salary'].astype(str).map(\n",
    "    lambda ele: ele if ele == 'nan' else int(ele.replace('$', '').replace(',', '')))\n",
    "del list\n",
    "\n",
    "pastsalaries.head()"
   ]
  },
  {
   "cell_type": "code",
   "execution_count": 66,
   "metadata": {
    "collapsed": false
   },
   "outputs": [],
   "source": [
    "# choose an arbitrary date\n",
    "date = 20160301"
   ]
  },
  {
   "cell_type": "code",
   "execution_count": 67,
   "metadata": {
    "collapsed": false
   },
   "outputs": [],
   "source": [
    "# isolate data for specific date\n",
    "specificDate = pastsalaries[pastsalaries['Date'] == date]\n",
    "\n",
    "# exclude players with missing salaries\n",
    "specificDate = specificDate[specificDate['DK Salary'] != 'nan']"
   ]
  },
  {
   "cell_type": "code",
   "execution_count": 68,
   "metadata": {
    "collapsed": true
   },
   "outputs": [],
   "source": [
    "# initialize variables\n",
    "playerPositions = specificDate['Pos'].tolist()\n",
    "teams = specificDate['Team'].tolist()\n",
    "playerNames = specificDate['Name'].tolist()\n",
    "playerTeams = tuple(specificDate['Team'].unique())\n",
    "playerCosts = tuple(specificDate['DK Salary'])\n",
    "playerPoints = tuple(specificDate['DK Pts'])\n",
    "salaryCap = 50000\n",
    "numOfPlayers = range(len(playerCosts))"
   ]
  },
  {
   "cell_type": "code",
   "execution_count": 69,
   "metadata": {
    "collapsed": true
   },
   "outputs": [],
   "source": [
    "# formulate linear programming problem\n",
    "problem = pulp.LpProblem(\"Optimal Lineup\", pulp.LpMaximize)"
   ]
  },
  {
   "cell_type": "code",
   "execution_count": 70,
   "metadata": {
    "collapsed": true
   },
   "outputs": [],
   "source": [
    "# create variable to represent each player\n",
    "playerInLineup = pulp.LpVariable.dicts(\"Players\", [i for i in numOfPlayers], 0, 1, cat=\"Binary\")"
   ]
  },
  {
   "cell_type": "code",
   "execution_count": 71,
   "metadata": {
    "collapsed": true
   },
   "outputs": [],
   "source": [
    "# create objective: maximize sum of player points\n",
    "problem += pulp.lpSum(playerInLineup[i] * playerPoints[i] for i in numOfPlayers)"
   ]
  },
  {
   "cell_type": "code",
   "execution_count": 72,
   "metadata": {
    "collapsed": true
   },
   "outputs": [],
   "source": [
    "# constraint: each player can only be chosen at most once\n",
    "for i in numOfPlayers:\n",
    "    problem += pulp.lpSum(playerInLineup[i]) <= 1"
   ]
  },
  {
   "cell_type": "code",
   "execution_count": 73,
   "metadata": {
    "collapsed": true
   },
   "outputs": [],
   "source": [
    "# constraints: sum of player costs must be less than or equal to the salary cap\n",
    "problem += sum(playerInLineup[i] * playerCosts[i] for i in numOfPlayers) <= salaryCap"
   ]
  },
  {
   "cell_type": "code",
   "execution_count": 74,
   "metadata": {
    "collapsed": true
   },
   "outputs": [],
   "source": [
    "# constraint: teams must have 8 players\n",
    "problem += pulp.lpSum(problem.variables()) == 8"
   ]
  },
  {
   "cell_type": "code",
   "execution_count": 75,
   "metadata": {
    "collapsed": true
   },
   "outputs": [],
   "source": [
    "# positions\n",
    "# constraint: 1 <= number of PG <= Max 3\n",
    "pointguards = tuple(specificDate['Pos'] == 'PG')\n",
    "problem += pulp.lpSum(playerInLineup[i] * pointguards[i] for i in numOfPlayers) >= 1\n",
    "problem += pulp.lpSum(playerInLineup[i] * pointguards[i] for i in numOfPlayers) <= 3\n",
    "\n",
    "# constraint: 1 <= number of SG <= Max 3\n",
    "shootguards = tuple(specificDate['Pos'] == 'SG')\n",
    "problem += pulp.lpSum(playerInLineup[i] * shootguards[i] for i in numOfPlayers) >= 1\n",
    "problem += pulp.lpSum(playerInLineup[i] * shootguards[i] for i in numOfPlayers) <= 3\n",
    "\n",
    "# constraint: 1 <= number of SF <= Max 3\n",
    "smallforward = tuple(specificDate['Pos'] == 'SF')\n",
    "problem += pulp.lpSum(smallforward[i] * playerInLineup[i] for i in numOfPlayers) >= 1\n",
    "problem += pulp.lpSum(smallforward[i] * playerInLineup[i] for i in numOfPlayers) <= 3\n",
    "\n",
    "# constraint: 1 <= number of PF <= Max 3\n",
    "powerfoward = tuple(specificDate['Pos'] == 'PF')\n",
    "problem += pulp.lpSum(powerfoward[i] * playerInLineup[i] for i in numOfPlayers) >= 1\n",
    "problem += pulp.lpSum(powerfoward[i] * playerInLineup[i] for i in numOfPlayers) <= 3\n",
    "\n",
    "# constraint: 1 <= number of C <= Max 2\n",
    "centers = tuple(specificDate['Pos'] == 'C')\n",
    "problem += pulp.lpSum(playerInLineup[i] * centers[i] for i in numOfPlayers) <= 2\n",
    "problem += pulp.lpSum(playerInLineup[i] * centers[i] for i in numOfPlayers) >= 1"
   ]
  },
  {
   "cell_type": "code",
   "execution_count": 86,
   "metadata": {
    "collapsed": false
   },
   "outputs": [
    {
     "name": "stdout",
     "output_type": "stream",
     "text": [
      "        Russell, D'Angelo, Position = PG, Price =  5600, Points = 55.50, Team = lal\n",
      "            Walker, Kemba, Position = PG, Price =  7700, Points = 50.00, Team = cha\n",
      "            Matthews, Wes, Position = SG, Price =  4600, Points = 34.75, Team = dal\n",
      "          Green, Draymond, Position = PF, Price =  8600, Points = 54.75, Team = gsw\n",
      "          Ilyasova, Ersan, Position = PF, Price =  4400, Points = 41.00, Team = orl\n",
      "             Johnson, Joe, Position = SF, Price =  5500, Points = 38.25, Team = mia\n",
      "        Whiteside, Hassan, Position =  C, Price =  8300, Points = 54.00, Team = mia\n",
      "            Bogut, Andrew, Position =  C, Price =  4400, Points = 36.75, Team = gsw\n",
      "\n",
      "Total Team Cost: 49100\n",
      "Total Team Points: 365.00\n"
     ]
    }
   ],
   "source": [
    "# calculated predicted lineup\n",
    "\n",
    "cost = 0\n",
    "points = 0\n",
    "\n",
    "predicted = set()\n",
    "if problem.solve() == 1:\n",
    "    for pos in range(len(numOfPlayers)):\n",
    "        if playerInLineup[pos].value() == 1:\n",
    "            name = playerNames[pos]\n",
    "            predicted.add(name)\n",
    "            cost += playerCosts[pos]\n",
    "            points += playerPoints[pos]\n",
    "            print '%25s, Position = %2s, Price = %5.f, Points = %3.2f, Team = %3s' \\\n",
    "                  % (playerNames[pos], playerPositions[pos], playerCosts[pos],\n",
    "                     playerPoints[pos], teams[pos])\n",
    "    print '\\nTotal Team Cost: %5d\\nTotal Team Points: %5.2f' % (cost, points)\n",
    "else:\n",
    "    print 'Error finding solution'"
   ]
  },
  {
   "cell_type": "code",
   "execution_count": 77,
   "metadata": {
    "collapsed": false
   },
   "outputs": [
    {
     "data": {
      "text/html": [
       "<div>\n",
       "<table border=\"1\" class=\"dataframe\">\n",
       "  <thead>\n",
       "    <tr style=\"text-align: right;\">\n",
       "      <th></th>\n",
       "      <th>Date</th>\n",
       "      <th>PlayerName</th>\n",
       "      <th>Position</th>\n",
       "      <th>Salary</th>\n",
       "      <th>Pts</th>\n",
       "      <th>R</th>\n",
       "      <th>A</th>\n",
       "      <th>S</th>\n",
       "      <th>T</th>\n",
       "      <th>B</th>\n",
       "      <th>FP</th>\n",
       "    </tr>\n",
       "  </thead>\n",
       "  <tbody>\n",
       "    <tr>\n",
       "      <th>0</th>\n",
       "      <td>11-17-15</td>\n",
       "      <td>Hassan Whiteside (MIA)</td>\n",
       "      <td>C</td>\n",
       "      <td>8100</td>\n",
       "      <td>22</td>\n",
       "      <td>14</td>\n",
       "      <td>0</td>\n",
       "      <td>0</td>\n",
       "      <td>4</td>\n",
       "      <td>10</td>\n",
       "      <td>62.00</td>\n",
       "    </tr>\n",
       "    <tr>\n",
       "      <th>1</th>\n",
       "      <td>11-17-15</td>\n",
       "      <td>Reggie Jackson (DET)</td>\n",
       "      <td>PG</td>\n",
       "      <td>7700</td>\n",
       "      <td>23</td>\n",
       "      <td>6</td>\n",
       "      <td>12</td>\n",
       "      <td>1</td>\n",
       "      <td>5</td>\n",
       "      <td>0</td>\n",
       "      <td>50.00</td>\n",
       "    </tr>\n",
       "    <tr>\n",
       "      <th>2</th>\n",
       "      <td>11-17-15</td>\n",
       "      <td>Brook Lopez (BKN)</td>\n",
       "      <td>C</td>\n",
       "      <td>7100</td>\n",
       "      <td>24</td>\n",
       "      <td>10</td>\n",
       "      <td>1</td>\n",
       "      <td>1</td>\n",
       "      <td>1</td>\n",
       "      <td>3</td>\n",
       "      <td>47.00</td>\n",
       "    </tr>\n",
       "    <tr>\n",
       "      <th>3</th>\n",
       "      <td>11-17-15</td>\n",
       "      <td>Kemba Walker (CHA)</td>\n",
       "      <td>PG</td>\n",
       "      <td>6400</td>\n",
       "      <td>31</td>\n",
       "      <td>4</td>\n",
       "      <td>1</td>\n",
       "      <td>3</td>\n",
       "      <td>1</td>\n",
       "      <td>1</td>\n",
       "      <td>46.00</td>\n",
       "    </tr>\n",
       "    <tr>\n",
       "      <th>4</th>\n",
       "      <td>11-17-15</td>\n",
       "      <td>Danilo Gallinari (DEN)</td>\n",
       "      <td>SF</td>\n",
       "      <td>6200</td>\n",
       "      <td>32</td>\n",
       "      <td>8</td>\n",
       "      <td>8</td>\n",
       "      <td>0</td>\n",
       "      <td>3</td>\n",
       "      <td>0</td>\n",
       "      <td>55.00</td>\n",
       "    </tr>\n",
       "    <tr>\n",
       "      <th>5</th>\n",
       "      <td>11-17-15</td>\n",
       "      <td>Kristaps Porzingis (NY)</td>\n",
       "      <td>PF</td>\n",
       "      <td>5900</td>\n",
       "      <td>29</td>\n",
       "      <td>11</td>\n",
       "      <td>0</td>\n",
       "      <td>0</td>\n",
       "      <td>1</td>\n",
       "      <td>1</td>\n",
       "      <td>46.75</td>\n",
       "    </tr>\n",
       "    <tr>\n",
       "      <th>6</th>\n",
       "      <td>11-17-15</td>\n",
       "      <td>Will Barton (DEN)</td>\n",
       "      <td>SG</td>\n",
       "      <td>4700</td>\n",
       "      <td>17</td>\n",
       "      <td>7</td>\n",
       "      <td>2</td>\n",
       "      <td>1</td>\n",
       "      <td>1</td>\n",
       "      <td>2</td>\n",
       "      <td>35.75</td>\n",
       "    </tr>\n",
       "    <tr>\n",
       "      <th>7</th>\n",
       "      <td>11-17-15</td>\n",
       "      <td>Ersan Ilyasova (DET)</td>\n",
       "      <td>PF</td>\n",
       "      <td>3800</td>\n",
       "      <td>20</td>\n",
       "      <td>6</td>\n",
       "      <td>2</td>\n",
       "      <td>1</td>\n",
       "      <td>0</td>\n",
       "      <td>0</td>\n",
       "      <td>34.50</td>\n",
       "    </tr>\n",
       "    <tr>\n",
       "      <th>8</th>\n",
       "      <td>11-19-15</td>\n",
       "      <td>Rajon Rondo (SAC)</td>\n",
       "      <td>PG</td>\n",
       "      <td>8700</td>\n",
       "      <td>14</td>\n",
       "      <td>9</td>\n",
       "      <td>18</td>\n",
       "      <td>1</td>\n",
       "      <td>3</td>\n",
       "      <td>0</td>\n",
       "      <td>55.25</td>\n",
       "    </tr>\n",
       "  </tbody>\n",
       "</table>\n",
       "</div>"
      ],
      "text/plain": [
       "       Date               PlayerName Position  Salary  Pts   R   A  S  T   B  \\\n",
       "0  11-17-15   Hassan Whiteside (MIA)        C    8100   22  14   0  0  4  10   \n",
       "1  11-17-15     Reggie Jackson (DET)       PG    7700   23   6  12  1  5   0   \n",
       "2  11-17-15        Brook Lopez (BKN)        C    7100   24  10   1  1  1   3   \n",
       "3  11-17-15       Kemba Walker (CHA)       PG    6400   31   4   1  3  1   1   \n",
       "4  11-17-15   Danilo Gallinari (DEN)       SF    6200   32   8   8  0  3   0   \n",
       "5  11-17-15  Kristaps Porzingis (NY)       PF    5900   29  11   0  0  1   1   \n",
       "6  11-17-15        Will Barton (DEN)       SG    4700   17   7   2  1  1   2   \n",
       "7  11-17-15     Ersan Ilyasova (DET)       PF    3800   20   6   2  1  0   0   \n",
       "8  11-19-15        Rajon Rondo (SAC)       PG    8700   14   9  18  1  3   0   \n",
       "\n",
       "      FP  \n",
       "0  62.00  \n",
       "1  50.00  \n",
       "2  47.00  \n",
       "3  46.00  \n",
       "4  55.00  \n",
       "5  46.75  \n",
       "6  35.75  \n",
       "7  34.50  \n",
       "8  55.25  "
      ]
     },
     "execution_count": 77,
     "metadata": {},
     "output_type": "execute_result"
    }
   ],
   "source": [
    "# create dataframe of past perfect lineups\n",
    "pastwinners = pandas.read_csv('../Scraping/NumberFire/numberFireBestTeam.csv')\n",
    "# # strip '$' from Salary, convert to integer\n",
    "pastwinners['Salary'] = pastwinners['Salary'].map(lambda ele: int(ele.replace('$', '')))\n",
    "\n",
    "pastwinners.head(9)"
   ]
  },
  {
   "cell_type": "code",
   "execution_count": 78,
   "metadata": {
    "collapsed": true
   },
   "outputs": [],
   "source": [
    "# convert date to alternative format to look up past winners\n",
    "date = str(int(date))\n",
    "day = date[6:8][1] if int(date[6:8]) < 10 else date[6:8]\n",
    "month = date[4:6][1] if int(date[4:6]) < 10 else date[4:6]\n",
    "year = date[2:4]\n",
    "date = month + '-' + day + '-' + year"
   ]
  },
  {
   "cell_type": "code",
   "execution_count": 94,
   "metadata": {
    "collapsed": false
   },
   "outputs": [
    {
     "name": "stdout",
     "output_type": "stream",
     "text": [
      "\n",
      "Total Team Cost: 49700\n",
      "Total Team Points: 365.00\n"
     ]
    }
   ],
   "source": [
    "# calculate ideal lineup\n",
    "ideal = set()\n",
    "for name in pastwinners[pastwinners['Date'] == date]['PlayerName']:\n",
    "    name = name.split()\n",
    "    name = name[1] + ', ' + name[0]\n",
    "    ideal.add(name)\n",
    "\n",
    "cost = sum(pastwinners[pastwinners['Date'] == date]['Salary'])\n",
    "points = sum(pastwinners[pastwinners['Date'] == date]['FP'])\n",
    "    \n",
    "print '\\nTotal Team Cost: %5d\\nTotal Team Points: %3.2f' % (cost, points)"
   ]
  },
  {
   "cell_type": "code",
   "execution_count": null,
   "metadata": {
    "collapsed": false
   },
   "outputs": [],
   "source": []
  },
  {
   "cell_type": "code",
   "execution_count": null,
   "metadata": {
    "collapsed": true
   },
   "outputs": [],
   "source": []
  },
  {
   "cell_type": "code",
   "execution_count": null,
   "metadata": {
    "collapsed": true
   },
   "outputs": [],
   "source": []
  },
  {
   "cell_type": "code",
   "execution_count": null,
   "metadata": {
    "collapsed": true
   },
   "outputs": [],
   "source": []
  }
 ],
 "metadata": {
  "kernelspec": {
   "display_name": "Python 2",
   "language": "python",
   "name": "python2"
  },
  "language_info": {
   "codemirror_mode": {
    "name": "ipython",
    "version": 2
   },
   "file_extension": ".py",
   "mimetype": "text/x-python",
   "name": "python",
   "nbconvert_exporter": "python",
   "pygments_lexer": "ipython2",
   "version": "2.7.6"
  }
 },
 "nbformat": 4,
 "nbformat_minor": 0
}
