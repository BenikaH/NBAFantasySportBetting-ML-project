{
 "cells": [
  {
   "cell_type": "code",
   "execution_count": 2,
   "metadata": {
    "collapsed": true
   },
   "outputs": [],
   "source": [
    "import pickle"
   ]
  },
  {
   "cell_type": "code",
   "execution_count": 4,
   "metadata": {
    "collapsed": false
   },
   "outputs": [],
   "source": [
    "with open('../Data/allplayerFantasyGameLogs.pickle', 'rb') as handle:\n",
    "  allplayerFantasyGameLogs = pickle.load(handle)"
   ]
  },
  {
   "cell_type": "code",
   "execution_count": 5,
   "metadata": {
    "collapsed": true
   },
   "outputs": [],
   "source": [
    "allplayerFantasyGameLogs = allplayerFantasyGameLogs.set_index('GAME_DATE')"
   ]
  },
  {
   "cell_type": "markdown",
   "metadata": {},
   "source": [
    "##Helper functions to do EDA and feature extraction"
   ]
  },
  {
   "cell_type": "markdown",
   "metadata": {},
   "source": [
    "function to generate feature tables, namely training and testing data sets given a game date, where training data set contains all information before the predefined game date"
   ]
  },
  {
   "cell_type": "code",
   "execution_count": 6,
   "metadata": {
    "collapsed": true
   },
   "outputs": [],
   "source": [
    "def get_train_test(previous_date ,new_game_date): #format like'2/10/2016'\n",
    "    train = allplayerFantasyGameLogs.ix[:previous_date]\n",
    "    test = allplayerFantasyGameLogs.ix[new_game_date]\n",
    "    return(train, test)"
   ]
  },
  {
   "cell_type": "code",
   "execution_count": 7,
   "metadata": {
    "collapsed": true
   },
   "outputs": [],
   "source": [
    "train, test = get_train_test('12/10/2015','12/11/2015')"
   ]
  },
  {
   "cell_type": "code",
   "execution_count": 8,
   "metadata": {
    "collapsed": false
   },
   "outputs": [
    {
     "data": {
      "text/html": [
       "<div>\n",
       "<table border=\"1\" class=\"dataframe\">\n",
       "  <thead>\n",
       "    <tr style=\"text-align: right;\">\n",
       "      <th></th>\n",
       "      <th>SEASON_ID</th>\n",
       "      <th>Player_ID</th>\n",
       "      <th>Game_ID</th>\n",
       "      <th>MATCHUP</th>\n",
       "      <th>WL</th>\n",
       "      <th>MIN</th>\n",
       "      <th>FGM</th>\n",
       "      <th>FGA</th>\n",
       "      <th>FG_PCT</th>\n",
       "      <th>FG3M</th>\n",
       "      <th>...</th>\n",
       "      <th>BLK</th>\n",
       "      <th>TOV</th>\n",
       "      <th>PF</th>\n",
       "      <th>PTS</th>\n",
       "      <th>PLUS_MINUS</th>\n",
       "      <th>DouBL</th>\n",
       "      <th>TriBL</th>\n",
       "      <th>FanPTs</th>\n",
       "      <th>fullName</th>\n",
       "      <th>position1</th>\n",
       "    </tr>\n",
       "    <tr>\n",
       "      <th>GAME_DATE</th>\n",
       "      <th></th>\n",
       "      <th></th>\n",
       "      <th></th>\n",
       "      <th></th>\n",
       "      <th></th>\n",
       "      <th></th>\n",
       "      <th></th>\n",
       "      <th></th>\n",
       "      <th></th>\n",
       "      <th></th>\n",
       "      <th></th>\n",
       "      <th></th>\n",
       "      <th></th>\n",
       "      <th></th>\n",
       "      <th></th>\n",
       "      <th></th>\n",
       "      <th></th>\n",
       "      <th></th>\n",
       "      <th></th>\n",
       "      <th></th>\n",
       "      <th></th>\n",
       "    </tr>\n",
       "  </thead>\n",
       "  <tbody>\n",
       "    <tr>\n",
       "      <th>2015-10-27</th>\n",
       "      <td>22015</td>\n",
       "      <td>101126</td>\n",
       "      <td>0021500003</td>\n",
       "      <td>NOP @ GSW</td>\n",
       "      <td>L</td>\n",
       "      <td>19</td>\n",
       "      <td>0</td>\n",
       "      <td>1</td>\n",
       "      <td>0.000</td>\n",
       "      <td>0</td>\n",
       "      <td>...</td>\n",
       "      <td>0</td>\n",
       "      <td>0</td>\n",
       "      <td>5</td>\n",
       "      <td>0</td>\n",
       "      <td>-21</td>\n",
       "      <td>False</td>\n",
       "      <td>False</td>\n",
       "      <td>6.50</td>\n",
       "      <td>Nate Robinson</td>\n",
       "      <td>PG</td>\n",
       "    </tr>\n",
       "    <tr>\n",
       "      <th>2015-10-27</th>\n",
       "      <td>22015</td>\n",
       "      <td>202389</td>\n",
       "      <td>0021500002</td>\n",
       "      <td>CLE @ CHI</td>\n",
       "      <td>L</td>\n",
       "      <td>21</td>\n",
       "      <td>2</td>\n",
       "      <td>6</td>\n",
       "      <td>0.333</td>\n",
       "      <td>0</td>\n",
       "      <td>...</td>\n",
       "      <td>2</td>\n",
       "      <td>3</td>\n",
       "      <td>2</td>\n",
       "      <td>5</td>\n",
       "      <td>-1</td>\n",
       "      <td>False</td>\n",
       "      <td>False</td>\n",
       "      <td>16.75</td>\n",
       "      <td>Timofey Mozgov</td>\n",
       "      <td>C</td>\n",
       "    </tr>\n",
       "    <tr>\n",
       "      <th>2015-10-27</th>\n",
       "      <td>22015</td>\n",
       "      <td>202087</td>\n",
       "      <td>0021500003</td>\n",
       "      <td>NOP @ GSW</td>\n",
       "      <td>L</td>\n",
       "      <td>27</td>\n",
       "      <td>4</td>\n",
       "      <td>5</td>\n",
       "      <td>0.800</td>\n",
       "      <td>0</td>\n",
       "      <td>...</td>\n",
       "      <td>0</td>\n",
       "      <td>3</td>\n",
       "      <td>3</td>\n",
       "      <td>8</td>\n",
       "      <td>-8</td>\n",
       "      <td>False</td>\n",
       "      <td>False</td>\n",
       "      <td>20.25</td>\n",
       "      <td>Alonzo Gee</td>\n",
       "      <td>SF</td>\n",
       "    </tr>\n",
       "    <tr>\n",
       "      <th>2015-10-27</th>\n",
       "      <td>22015</td>\n",
       "      <td>2581</td>\n",
       "      <td>0021500001</td>\n",
       "      <td>DET @ ATL</td>\n",
       "      <td>W</td>\n",
       "      <td>16</td>\n",
       "      <td>1</td>\n",
       "      <td>6</td>\n",
       "      <td>0.167</td>\n",
       "      <td>1</td>\n",
       "      <td>...</td>\n",
       "      <td>0</td>\n",
       "      <td>3</td>\n",
       "      <td>1</td>\n",
       "      <td>3</td>\n",
       "      <td>-14</td>\n",
       "      <td>False</td>\n",
       "      <td>False</td>\n",
       "      <td>10.00</td>\n",
       "      <td>Steve Blake</td>\n",
       "      <td>PG</td>\n",
       "    </tr>\n",
       "    <tr>\n",
       "      <th>2015-10-27</th>\n",
       "      <td>22015</td>\n",
       "      <td>202710</td>\n",
       "      <td>0021500002</td>\n",
       "      <td>CHI vs. CLE</td>\n",
       "      <td>W</td>\n",
       "      <td>37</td>\n",
       "      <td>6</td>\n",
       "      <td>14</td>\n",
       "      <td>0.429</td>\n",
       "      <td>0</td>\n",
       "      <td>...</td>\n",
       "      <td>1</td>\n",
       "      <td>0</td>\n",
       "      <td>1</td>\n",
       "      <td>17</td>\n",
       "      <td>3</td>\n",
       "      <td>False</td>\n",
       "      <td>False</td>\n",
       "      <td>32.25</td>\n",
       "      <td>Jimmy Butler</td>\n",
       "      <td>SG</td>\n",
       "    </tr>\n",
       "  </tbody>\n",
       "</table>\n",
       "<p>5 rows × 30 columns</p>\n",
       "</div>"
      ],
      "text/plain": [
       "           SEASON_ID  Player_ID     Game_ID      MATCHUP WL  MIN  FGM  FGA  \\\n",
       "GAME_DATE                                                                    \n",
       "2015-10-27     22015     101126  0021500003    NOP @ GSW  L   19    0    1   \n",
       "2015-10-27     22015     202389  0021500002    CLE @ CHI  L   21    2    6   \n",
       "2015-10-27     22015     202087  0021500003    NOP @ GSW  L   27    4    5   \n",
       "2015-10-27     22015       2581  0021500001    DET @ ATL  W   16    1    6   \n",
       "2015-10-27     22015     202710  0021500002  CHI vs. CLE  W   37    6   14   \n",
       "\n",
       "            FG_PCT  FG3M    ...      BLK  TOV  PF  PTS  PLUS_MINUS  DouBL  \\\n",
       "GAME_DATE                   ...                                             \n",
       "2015-10-27   0.000     0    ...        0    0   5    0         -21  False   \n",
       "2015-10-27   0.333     0    ...        2    3   2    5          -1  False   \n",
       "2015-10-27   0.800     0    ...        0    3   3    8          -8  False   \n",
       "2015-10-27   0.167     1    ...        0    3   1    3         -14  False   \n",
       "2015-10-27   0.429     0    ...        1    0   1   17           3  False   \n",
       "\n",
       "            TriBL  FanPTs        fullName  position1  \n",
       "GAME_DATE                                             \n",
       "2015-10-27  False    6.50   Nate Robinson         PG  \n",
       "2015-10-27  False   16.75  Timofey Mozgov          C  \n",
       "2015-10-27  False   20.25      Alonzo Gee         SF  \n",
       "2015-10-27  False   10.00     Steve Blake         PG  \n",
       "2015-10-27  False   32.25    Jimmy Butler         SG  \n",
       "\n",
       "[5 rows x 30 columns]"
      ]
     },
     "execution_count": 8,
     "metadata": {},
     "output_type": "execute_result"
    }
   ],
   "source": [
    "train.head()"
   ]
  },
  {
   "cell_type": "markdown",
   "metadata": {},
   "source": [
    "function to aggregate statistics for each player up to a given game date"
   ]
  },
  {
   "cell_type": "code",
   "execution_count": 9,
   "metadata": {
    "collapsed": true
   },
   "outputs": [],
   "source": [
    "def aggr_stats(date):\n",
    "    interest_columns = ['fullName','Player_ID','MIN','PTS','FGM','FGA', 'FG3M','FG3A', \\\n",
    "                        'REB','AST','STL','TOV','PLUS_MINUS','DouBL','TriBL','FanPTs']\n",
    "    tmp = allplayerFantasyGameLogs.ix['10/27/2015':date]\n",
    "    tmp.grouped = tmp[interest_columns].reset_index().groupby('fullName')\n",
    "    \n",
    "    def aggr(group):\n",
    "        group['NumGames'] = group['fullName'].count()\n",
    "        group['AvgFanPTs'] = group['FanPTs'].mean()\n",
    "        group['AvgPTS'] = group['PTS'].mean()\n",
    "        group['AvgMIN'] = group['MIN'].mean() \n",
    "        group['AvgFGM'] = group['FGM'].mean()\n",
    "        group['AvgFGA'] = group['FGA'].mean()\n",
    "        group['AvgFG3M'] = group['FG3M'].mean()\n",
    "        group['AvgFG3A'] = group['FG3A'].mean()\n",
    "        group['AvgREB'] = group['REB'].mean()\n",
    "        group['AvgAST'] = group['AST'].mean()\n",
    "        group['AvgSTL'] = group['STL'].mean()\n",
    "        group['AvgTOV'] = group['TOV'].mean()\n",
    "        group['AvgPLUS_MINUS'] = group['PLUS_MINUS'].mean()\n",
    "        group['NumDouBL'] = group['DouBL'].sum()\n",
    "        group['NumTriBL'] = group['TriBL'].sum()\n",
    "\n",
    "        return group\n",
    "    \n",
    "    Newdf = tmp.grouped.apply(aggr)\n",
    "    Newdf = Newdf.drop(['GAME_DATE','MIN','PTS','FGM','FGA', 'FG3M','FG3A','REB','AST','STL','TOV','PLUS_MINUS','DouBL','TriBL','FanPTs'],axis=1)\n",
    "    \n",
    "    return(Newdf)"
   ]
  },
  {
   "cell_type": "code",
   "execution_count": 10,
   "metadata": {
    "collapsed": true
   },
   "outputs": [],
   "source": [
    "PlayerFeaturesTable_02_29_2016 = aggr_stats('2/29/2016')"
   ]
  },
  {
   "cell_type": "code",
   "execution_count": 11,
   "metadata": {
    "collapsed": false
   },
   "outputs": [
    {
     "data": {
      "text/html": [
       "<div>\n",
       "<table border=\"1\" class=\"dataframe\">\n",
       "  <thead>\n",
       "    <tr style=\"text-align: right;\">\n",
       "      <th></th>\n",
       "      <th>fullName</th>\n",
       "      <th>Player_ID</th>\n",
       "      <th>NumGames</th>\n",
       "      <th>AvgFanPTs</th>\n",
       "      <th>AvgPTS</th>\n",
       "      <th>AvgMIN</th>\n",
       "      <th>AvgFGM</th>\n",
       "      <th>AvgFGA</th>\n",
       "      <th>AvgFG3M</th>\n",
       "      <th>AvgFG3A</th>\n",
       "      <th>AvgREB</th>\n",
       "      <th>AvgAST</th>\n",
       "      <th>AvgSTL</th>\n",
       "      <th>AvgTOV</th>\n",
       "      <th>AvgPLUS_MINUS</th>\n",
       "      <th>NumDouBL</th>\n",
       "      <th>NumTriBL</th>\n",
       "    </tr>\n",
       "  </thead>\n",
       "  <tbody>\n",
       "    <tr>\n",
       "      <th>0</th>\n",
       "      <td>Nate Robinson</td>\n",
       "      <td>101126</td>\n",
       "      <td>2</td>\n",
       "      <td>4.000000</td>\n",
       "      <td>0.000000</td>\n",
       "      <td>11.500000</td>\n",
       "      <td>0.000000</td>\n",
       "      <td>0.500000</td>\n",
       "      <td>0.000000</td>\n",
       "      <td>0.500000</td>\n",
       "      <td>0.000000</td>\n",
       "      <td>2.000000</td>\n",
       "      <td>0.500000</td>\n",
       "      <td>0.000000</td>\n",
       "      <td>-10.000000</td>\n",
       "      <td>0</td>\n",
       "      <td>0</td>\n",
       "    </tr>\n",
       "    <tr>\n",
       "      <th>1</th>\n",
       "      <td>Timofey Mozgov</td>\n",
       "      <td>202389</td>\n",
       "      <td>56</td>\n",
       "      <td>14.223214</td>\n",
       "      <td>6.357143</td>\n",
       "      <td>17.821429</td>\n",
       "      <td>2.732143</td>\n",
       "      <td>4.982143</td>\n",
       "      <td>0.017857</td>\n",
       "      <td>0.125000</td>\n",
       "      <td>4.500000</td>\n",
       "      <td>0.410714</td>\n",
       "      <td>0.285714</td>\n",
       "      <td>0.964286</td>\n",
       "      <td>0.214286</td>\n",
       "      <td>1</td>\n",
       "      <td>0</td>\n",
       "    </tr>\n",
       "    <tr>\n",
       "      <th>2</th>\n",
       "      <td>Alonzo Gee</td>\n",
       "      <td>202087</td>\n",
       "      <td>58</td>\n",
       "      <td>11.012931</td>\n",
       "      <td>3.827586</td>\n",
       "      <td>21.448276</td>\n",
       "      <td>1.534483</td>\n",
       "      <td>3.172414</td>\n",
       "      <td>0.258621</td>\n",
       "      <td>0.913793</td>\n",
       "      <td>3.051724</td>\n",
       "      <td>0.948276</td>\n",
       "      <td>0.896552</td>\n",
       "      <td>0.637931</td>\n",
       "      <td>-2.517241</td>\n",
       "      <td>0</td>\n",
       "      <td>0</td>\n",
       "    </tr>\n",
       "    <tr>\n",
       "      <th>3</th>\n",
       "      <td>Steve Blake</td>\n",
       "      <td>2581</td>\n",
       "      <td>36</td>\n",
       "      <td>11.430556</td>\n",
       "      <td>4.277778</td>\n",
       "      <td>16.000000</td>\n",
       "      <td>1.527778</td>\n",
       "      <td>3.944444</td>\n",
       "      <td>0.944444</td>\n",
       "      <td>2.611111</td>\n",
       "      <td>1.444444</td>\n",
       "      <td>3.083333</td>\n",
       "      <td>0.416667</td>\n",
       "      <td>1.500000</td>\n",
       "      <td>-1.138889</td>\n",
       "      <td>0</td>\n",
       "      <td>0</td>\n",
       "    </tr>\n",
       "    <tr>\n",
       "      <th>4</th>\n",
       "      <td>Jimmy Butler</td>\n",
       "      <td>202710</td>\n",
       "      <td>48</td>\n",
       "      <td>39.682292</td>\n",
       "      <td>22.375000</td>\n",
       "      <td>37.812500</td>\n",
       "      <td>7.437500</td>\n",
       "      <td>16.250000</td>\n",
       "      <td>1.104167</td>\n",
       "      <td>3.333333</td>\n",
       "      <td>5.187500</td>\n",
       "      <td>4.270833</td>\n",
       "      <td>1.687500</td>\n",
       "      <td>1.979167</td>\n",
       "      <td>0.187500</td>\n",
       "      <td>6</td>\n",
       "      <td>0</td>\n",
       "    </tr>\n",
       "  </tbody>\n",
       "</table>\n",
       "</div>"
      ],
      "text/plain": [
       "         fullName  Player_ID  NumGames  AvgFanPTs     AvgPTS     AvgMIN  \\\n",
       "0   Nate Robinson     101126         2   4.000000   0.000000  11.500000   \n",
       "1  Timofey Mozgov     202389        56  14.223214   6.357143  17.821429   \n",
       "2      Alonzo Gee     202087        58  11.012931   3.827586  21.448276   \n",
       "3     Steve Blake       2581        36  11.430556   4.277778  16.000000   \n",
       "4    Jimmy Butler     202710        48  39.682292  22.375000  37.812500   \n",
       "\n",
       "     AvgFGM     AvgFGA   AvgFG3M   AvgFG3A    AvgREB    AvgAST    AvgSTL  \\\n",
       "0  0.000000   0.500000  0.000000  0.500000  0.000000  2.000000  0.500000   \n",
       "1  2.732143   4.982143  0.017857  0.125000  4.500000  0.410714  0.285714   \n",
       "2  1.534483   3.172414  0.258621  0.913793  3.051724  0.948276  0.896552   \n",
       "3  1.527778   3.944444  0.944444  2.611111  1.444444  3.083333  0.416667   \n",
       "4  7.437500  16.250000  1.104167  3.333333  5.187500  4.270833  1.687500   \n",
       "\n",
       "     AvgTOV  AvgPLUS_MINUS  NumDouBL  NumTriBL  \n",
       "0  0.000000     -10.000000         0         0  \n",
       "1  0.964286       0.214286         1         0  \n",
       "2  0.637931      -2.517241         0         0  \n",
       "3  1.500000      -1.138889         0         0  \n",
       "4  1.979167       0.187500         6         0  "
      ]
     },
     "execution_count": 11,
     "metadata": {},
     "output_type": "execute_result"
    }
   ],
   "source": [
    "PlayerFeaturesTable_02_29_2016.head()"
   ]
  },
  {
   "cell_type": "code",
   "execution_count": null,
   "metadata": {
    "collapsed": true
   },
   "outputs": [],
   "source": [
    "with open('../Data/PlayerFeaturesTable_02_29_2016.pickle', 'wb') as handle:\n",
    "  pickle.dump(PlayerFeaturesTable_02_29_2016,handle)"
   ]
  },
  {
   "cell_type": "markdown",
   "metadata": {},
   "source": [
    "function to generate a score(PTS) leader board given a game date, the same applies to other \n",
    "attributes, such as 'REB', 'AST', 'FG3', 'BLK', 'PLUS_MINUS'"
   ]
  },
  {
   "cell_type": "code",
   "execution_count": 12,
   "metadata": {
    "collapsed": true
   },
   "outputs": [],
   "source": [
    "def get_leader_board(attr, date):\n",
    "    tmp = allplayerFantasyGameLogs.ix['10/27/2015':date]\n",
    "    tmp = tmp[['fullName',attr]].reset_index().groupby('fullName').mean()\n",
    "    result_df = tmp.sort_values([attr], ascending=False)\n",
    "\n",
    "    return(result_df)"
   ]
  },
  {
   "cell_type": "code",
   "execution_count": 13,
   "metadata": {
    "collapsed": false
   },
   "outputs": [
    {
     "data": {
      "text/html": [
       "<div>\n",
       "<table border=\"1\" class=\"dataframe\">\n",
       "  <thead>\n",
       "    <tr style=\"text-align: right;\">\n",
       "      <th></th>\n",
       "      <th>PTS</th>\n",
       "    </tr>\n",
       "    <tr>\n",
       "      <th>fullName</th>\n",
       "      <th></th>\n",
       "    </tr>\n",
       "  </thead>\n",
       "  <tbody>\n",
       "    <tr>\n",
       "      <th>Stephen Curry</th>\n",
       "      <td>30.678571</td>\n",
       "    </tr>\n",
       "    <tr>\n",
       "      <th>James Harden</th>\n",
       "      <td>28.500000</td>\n",
       "    </tr>\n",
       "    <tr>\n",
       "      <th>Kevin Durant</th>\n",
       "      <td>27.905660</td>\n",
       "    </tr>\n",
       "    <tr>\n",
       "      <th>DeMarcus Cousins</th>\n",
       "      <td>27.306122</td>\n",
       "    </tr>\n",
       "    <tr>\n",
       "      <th>Damian Lillard</th>\n",
       "      <td>25.358491</td>\n",
       "    </tr>\n",
       "  </tbody>\n",
       "</table>\n",
       "</div>"
      ],
      "text/plain": [
       "                        PTS\n",
       "fullName                   \n",
       "Stephen Curry     30.678571\n",
       "James Harden      28.500000\n",
       "Kevin Durant      27.905660\n",
       "DeMarcus Cousins  27.306122\n",
       "Damian Lillard    25.358491"
      ]
     },
     "execution_count": 13,
     "metadata": {},
     "output_type": "execute_result"
    }
   ],
   "source": [
    "#Test 1. leader board for scoring\n",
    "test1 = get_leader_board('PTS','2/29/2016')\n",
    "test1.head()"
   ]
  },
  {
   "cell_type": "code",
   "execution_count": 14,
   "metadata": {
    "collapsed": false
   },
   "outputs": [
    {
     "data": {
      "text/html": [
       "<div>\n",
       "<table border=\"1\" class=\"dataframe\">\n",
       "  <thead>\n",
       "    <tr style=\"text-align: right;\">\n",
       "      <th></th>\n",
       "      <th>FanPTs</th>\n",
       "    </tr>\n",
       "    <tr>\n",
       "      <th>fullName</th>\n",
       "      <th></th>\n",
       "    </tr>\n",
       "  </thead>\n",
       "  <tbody>\n",
       "    <tr>\n",
       "      <th>Russell Westbrook</th>\n",
       "      <td>54.112500</td>\n",
       "    </tr>\n",
       "    <tr>\n",
       "      <th>Stephen Curry</th>\n",
       "      <td>53.151786</td>\n",
       "    </tr>\n",
       "    <tr>\n",
       "      <th>DeMarcus Cousins</th>\n",
       "      <td>51.505102</td>\n",
       "    </tr>\n",
       "    <tr>\n",
       "      <th>James Harden</th>\n",
       "      <td>50.995833</td>\n",
       "    </tr>\n",
       "    <tr>\n",
       "      <th>Kevin Durant</th>\n",
       "      <td>49.650943</td>\n",
       "    </tr>\n",
       "    <tr>\n",
       "      <th>LeBron James</th>\n",
       "      <td>47.350877</td>\n",
       "    </tr>\n",
       "    <tr>\n",
       "      <th>Anthony Davis</th>\n",
       "      <td>46.799020</td>\n",
       "    </tr>\n",
       "    <tr>\n",
       "      <th>John Wall</th>\n",
       "      <td>46.105932</td>\n",
       "    </tr>\n",
       "    <tr>\n",
       "      <th>Damian Lillard</th>\n",
       "      <td>44.198113</td>\n",
       "    </tr>\n",
       "    <tr>\n",
       "      <th>Chris Paul</th>\n",
       "      <td>44.152778</td>\n",
       "    </tr>\n",
       "  </tbody>\n",
       "</table>\n",
       "</div>"
      ],
      "text/plain": [
       "                      FanPTs\n",
       "fullName                    \n",
       "Russell Westbrook  54.112500\n",
       "Stephen Curry      53.151786\n",
       "DeMarcus Cousins   51.505102\n",
       "James Harden       50.995833\n",
       "Kevin Durant       49.650943\n",
       "LeBron James       47.350877\n",
       "Anthony Davis      46.799020\n",
       "John Wall          46.105932\n",
       "Damian Lillard     44.198113\n",
       "Chris Paul         44.152778"
      ]
     },
     "execution_count": 14,
     "metadata": {},
     "output_type": "execute_result"
    }
   ],
   "source": [
    "#Test 2. leader board for Fantasy Points\n",
    "get_leader_board('FanPTs','2/29/2016').head(10)"
   ]
  },
  {
   "cell_type": "code",
   "execution_count": 15,
   "metadata": {
    "collapsed": false
   },
   "outputs": [
    {
     "data": {
      "text/html": [
       "<div>\n",
       "<table border=\"1\" class=\"dataframe\">\n",
       "  <thead>\n",
       "    <tr style=\"text-align: right;\">\n",
       "      <th></th>\n",
       "      <th>PLUS_MINUS</th>\n",
       "    </tr>\n",
       "    <tr>\n",
       "      <th>fullName</th>\n",
       "      <th></th>\n",
       "    </tr>\n",
       "  </thead>\n",
       "  <tbody>\n",
       "    <tr>\n",
       "      <th>Stephen Curry</th>\n",
       "      <td>14.267857</td>\n",
       "    </tr>\n",
       "    <tr>\n",
       "      <th>Draymond Green</th>\n",
       "      <td>13.964912</td>\n",
       "    </tr>\n",
       "    <tr>\n",
       "      <th>Klay Thompson</th>\n",
       "      <td>12.107143</td>\n",
       "    </tr>\n",
       "    <tr>\n",
       "      <th>Kawhi Leonard</th>\n",
       "      <td>9.685185</td>\n",
       "    </tr>\n",
       "    <tr>\n",
       "      <th>Jorge Gutierrez</th>\n",
       "      <td>9.000000</td>\n",
       "    </tr>\n",
       "    <tr>\n",
       "      <th>Kevin Durant</th>\n",
       "      <td>8.735849</td>\n",
       "    </tr>\n",
       "    <tr>\n",
       "      <th>Michael Kidd-Gilchrist</th>\n",
       "      <td>8.285714</td>\n",
       "    </tr>\n",
       "    <tr>\n",
       "      <th>Tim Duncan</th>\n",
       "      <td>8.113636</td>\n",
       "    </tr>\n",
       "    <tr>\n",
       "      <th>Russell Westbrook</th>\n",
       "      <td>8.066667</td>\n",
       "    </tr>\n",
       "    <tr>\n",
       "      <th>LeBron James</th>\n",
       "      <td>7.789474</td>\n",
       "    </tr>\n",
       "  </tbody>\n",
       "</table>\n",
       "</div>"
      ],
      "text/plain": [
       "                        PLUS_MINUS\n",
       "fullName                          \n",
       "Stephen Curry            14.267857\n",
       "Draymond Green           13.964912\n",
       "Klay Thompson            12.107143\n",
       "Kawhi Leonard             9.685185\n",
       "Jorge Gutierrez           9.000000\n",
       "Kevin Durant              8.735849\n",
       "Michael Kidd-Gilchrist    8.285714\n",
       "Tim Duncan                8.113636\n",
       "Russell Westbrook         8.066667\n",
       "LeBron James              7.789474"
      ]
     },
     "execution_count": 15,
     "metadata": {},
     "output_type": "execute_result"
    }
   ],
   "source": [
    "#Test 3. leader board for Fantasy Points\n",
    "get_leader_board('PLUS_MINUS','2/29/2016').head(10)"
   ]
  },
  {
   "cell_type": "markdown",
   "metadata": {},
   "source": [
    "#Visualization"
   ]
  },
  {
   "cell_type": "code",
   "execution_count": null,
   "metadata": {
    "collapsed": true
   },
   "outputs": [],
   "source": []
  }
 ],
 "metadata": {
  "kernelspec": {
   "display_name": "Python 2",
   "language": "python",
   "name": "python2"
  },
  "language_info": {
   "codemirror_mode": {
    "name": "ipython",
    "version": 2
   },
   "file_extension": ".py",
   "mimetype": "text/x-python",
   "name": "python",
   "nbconvert_exporter": "python",
   "pygments_lexer": "ipython2",
   "version": "2.7.11"
  }
 },
 "nbformat": 4,
 "nbformat_minor": 0
}
