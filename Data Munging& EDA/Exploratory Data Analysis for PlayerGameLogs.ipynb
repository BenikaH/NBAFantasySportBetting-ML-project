{
 "cells": [
  {
   "cell_type": "code",
<<<<<<< HEAD
   "execution_count": 3,
   "metadata": {
    "collapsed": true
   },
=======
   "execution_count": 2,
   "metadata": {},
>>>>>>> ef6590c8587eb3af537a946d88ea2970af4eb8ed
   "outputs": [],
   "source": [
    "import pickle"
   ]
  },
  {
   "cell_type": "code",
   "execution_count": 4,
   "metadata": {},
   "outputs": [],
   "source": [
    "with open('../Data/allplayerFantasyGameLogs.pickle', 'rb') as handle:\n",
    "  allplayerFantasyGameLogs = pickle.load(handle)"
   ]
  },
  {
   "cell_type": "code",
   "execution_count": 5,
   "metadata": {},
   "outputs": [],
   "source": [
    "allplayerFantasyGameLogs = allplayerFantasyGameLogs.set_index('GAME_DATE')"
   ]
  },
  {
   "cell_type": "code",
   "execution_count": 4,
   "metadata": {
    "collapsed": true
   },
   "outputs": [],
   "source": [
    "import pandas as pd"
   ]
  },
  {
   "cell_type": "markdown",
   "metadata": {},
   "source": [
    "##Helper functions to do EDA and feature extraction"
   ]
  },
  {
   "cell_type": "markdown",
   "metadata": {},
   "source": [
    "function to generate feature tables, namely training and testing data sets given a game date, where training data set contains all information before the predefined game date"
   ]
  },
  {
   "cell_type": "code",
   "execution_count": 6,
   "metadata": {},
   "outputs": [],
   "source": [
    "def get_train_test(previous_date ,new_game_date): #format like'2/10/2016'\n",
    "    train = allplayerFantasyGameLogs.ix[:previous_date]\n",
    "    test = allplayerFantasyGameLogs.ix[new_game_date]\n",
    "    return(train, test)"
   ]
  },
  {
   "cell_type": "code",
   "execution_count": 7,
   "metadata": {},
   "outputs": [],
   "source": [
    "train, test = get_train_test('12/10/2015','12/11/2015')"
   ]
  },
  {
   "cell_type": "code",
   "execution_count": 8,
   "metadata": {},
   "outputs": [
    {
     "data": {
      "text/html": [
       "<div>\n",
       "<table border=\"1\" class=\"dataframe\">\n",
       "  <thead>\n",
       "    <tr style=\"text-align: right;\">\n",
       "      <th></th>\n",
       "      <th>SEASON_ID</th>\n",
       "      <th>Player_ID</th>\n",
       "      <th>Game_ID</th>\n",
       "      <th>MATCHUP</th>\n",
       "      <th>WL</th>\n",
       "      <th>MIN</th>\n",
       "      <th>FGM</th>\n",
       "      <th>FGA</th>\n",
       "      <th>FG_PCT</th>\n",
       "      <th>FG3M</th>\n",
       "      <th>...</th>\n",
       "      <th>PTS</th>\n",
       "      <th>PLUS_MINUS</th>\n",
       "      <th>DouBL</th>\n",
       "      <th>TriBL</th>\n",
       "      <th>FanPTs</th>\n",
       "      <th>fullName</th>\n",
       "      <th>position1</th>\n",
       "      <th>Team</th>\n",
       "      <th>OpponentTeam</th>\n",
       "      <th>HomeGame</th>\n",
       "    </tr>\n",
       "    <tr>\n",
       "      <th>GAME_DATE</th>\n",
       "      <th></th>\n",
       "      <th></th>\n",
       "      <th></th>\n",
       "      <th></th>\n",
       "      <th></th>\n",
       "      <th></th>\n",
       "      <th></th>\n",
       "      <th></th>\n",
       "      <th></th>\n",
       "      <th></th>\n",
       "      <th></th>\n",
       "      <th></th>\n",
       "      <th></th>\n",
       "      <th></th>\n",
       "      <th></th>\n",
       "      <th></th>\n",
       "      <th></th>\n",
       "      <th></th>\n",
       "      <th></th>\n",
       "      <th></th>\n",
       "      <th></th>\n",
       "    </tr>\n",
       "  </thead>\n",
       "  <tbody>\n",
       "    <tr>\n",
       "      <th>2015-10-27</th>\n",
       "      <td>22015</td>\n",
       "      <td>101126</td>\n",
       "      <td>0021500003</td>\n",
       "      <td>NOP @ GSW</td>\n",
       "      <td>L</td>\n",
       "      <td>19</td>\n",
       "      <td>0</td>\n",
       "      <td>1</td>\n",
       "      <td>0.000</td>\n",
       "      <td>0</td>\n",
       "      <td>...</td>\n",
       "      <td>0</td>\n",
       "      <td>-21</td>\n",
       "      <td>False</td>\n",
       "      <td>False</td>\n",
       "      <td>6.50</td>\n",
       "      <td>Nate Robinson</td>\n",
       "      <td>PG</td>\n",
       "      <td>NOP</td>\n",
       "      <td>GSW</td>\n",
       "      <td>0</td>\n",
       "    </tr>\n",
       "    <tr>\n",
       "      <th>2015-10-27</th>\n",
       "      <td>22015</td>\n",
       "      <td>202389</td>\n",
       "      <td>0021500002</td>\n",
       "      <td>CLE @ CHI</td>\n",
       "      <td>L</td>\n",
       "      <td>21</td>\n",
       "      <td>2</td>\n",
       "      <td>6</td>\n",
       "      <td>0.333</td>\n",
       "      <td>0</td>\n",
       "      <td>...</td>\n",
       "      <td>5</td>\n",
       "      <td>-1</td>\n",
       "      <td>False</td>\n",
       "      <td>False</td>\n",
       "      <td>16.75</td>\n",
       "      <td>Timofey Mozgov</td>\n",
       "      <td>C</td>\n",
       "      <td>CLE</td>\n",
       "      <td>CHI</td>\n",
       "      <td>0</td>\n",
       "    </tr>\n",
       "    <tr>\n",
       "      <th>2015-10-27</th>\n",
       "      <td>22015</td>\n",
       "      <td>202087</td>\n",
       "      <td>0021500003</td>\n",
       "      <td>NOP @ GSW</td>\n",
       "      <td>L</td>\n",
       "      <td>27</td>\n",
       "      <td>4</td>\n",
       "      <td>5</td>\n",
       "      <td>0.800</td>\n",
       "      <td>0</td>\n",
       "      <td>...</td>\n",
       "      <td>8</td>\n",
       "      <td>-8</td>\n",
       "      <td>False</td>\n",
       "      <td>False</td>\n",
       "      <td>20.25</td>\n",
       "      <td>Alonzo Gee</td>\n",
       "      <td>SF</td>\n",
       "      <td>NOP</td>\n",
       "      <td>GSW</td>\n",
       "      <td>0</td>\n",
       "    </tr>\n",
       "    <tr>\n",
       "      <th>2015-10-27</th>\n",
       "      <td>22015</td>\n",
       "      <td>2581</td>\n",
       "      <td>0021500001</td>\n",
       "      <td>DET @ ATL</td>\n",
       "      <td>W</td>\n",
       "      <td>16</td>\n",
       "      <td>1</td>\n",
       "      <td>6</td>\n",
       "      <td>0.167</td>\n",
       "      <td>1</td>\n",
       "      <td>...</td>\n",
       "      <td>3</td>\n",
       "      <td>-14</td>\n",
       "      <td>False</td>\n",
       "      <td>False</td>\n",
       "      <td>10.00</td>\n",
       "      <td>Steve Blake</td>\n",
       "      <td>PG</td>\n",
       "      <td>DET</td>\n",
       "      <td>ATL</td>\n",
       "      <td>0</td>\n",
       "    </tr>\n",
       "    <tr>\n",
       "      <th>2015-10-27</th>\n",
       "      <td>22015</td>\n",
       "      <td>202710</td>\n",
       "      <td>0021500002</td>\n",
       "      <td>CHI vs. CLE</td>\n",
       "      <td>W</td>\n",
       "      <td>37</td>\n",
       "      <td>6</td>\n",
       "      <td>14</td>\n",
       "      <td>0.429</td>\n",
       "      <td>0</td>\n",
       "      <td>...</td>\n",
       "      <td>17</td>\n",
       "      <td>3</td>\n",
       "      <td>False</td>\n",
       "      <td>False</td>\n",
       "      <td>32.25</td>\n",
       "      <td>Jimmy Butler</td>\n",
       "      <td>SG</td>\n",
       "      <td>CHI</td>\n",
       "      <td>CLE</td>\n",
       "      <td>1</td>\n",
       "    </tr>\n",
       "  </tbody>\n",
       "</table>\n",
       "<p>5 rows × 33 columns</p>\n",
       "</div>"
<<<<<<< HEAD
      ],
      "text/plain": [
       "           SEASON_ID  Player_ID     Game_ID      MATCHUP WL  MIN  FGM  FGA  \\\n",
       "GAME_DATE                                                                    \n",
       "2015-10-27     22015     101126  0021500003    NOP @ GSW  L   19    0    1   \n",
       "2015-10-27     22015     202389  0021500002    CLE @ CHI  L   21    2    6   \n",
       "2015-10-27     22015     202087  0021500003    NOP @ GSW  L   27    4    5   \n",
       "2015-10-27     22015       2581  0021500001    DET @ ATL  W   16    1    6   \n",
       "2015-10-27     22015     202710  0021500002  CHI vs. CLE  W   37    6   14   \n",
       "\n",
       "            FG_PCT  FG3M    ...     PTS  PLUS_MINUS  DouBL  TriBL  FanPTs  \\\n",
       "GAME_DATE                   ...                                             \n",
       "2015-10-27   0.000     0    ...       0         -21  False  False    6.50   \n",
       "2015-10-27   0.333     0    ...       5          -1  False  False   16.75   \n",
       "2015-10-27   0.800     0    ...       8          -8  False  False   20.25   \n",
       "2015-10-27   0.167     1    ...       3         -14  False  False   10.00   \n",
       "2015-10-27   0.429     0    ...      17           3  False  False   32.25   \n",
       "\n",
       "                  fullName  position1  Team  OpponentTeam  HomeGame  \n",
       "GAME_DATE                                                            \n",
       "2015-10-27   Nate Robinson         PG   NOP           GSW         0  \n",
       "2015-10-27  Timofey Mozgov          C   CLE           CHI         0  \n",
       "2015-10-27      Alonzo Gee         SF   NOP           GSW         0  \n",
       "2015-10-27     Steve Blake         PG   DET           ATL         0  \n",
       "2015-10-27    Jimmy Butler         SG   CHI           CLE         1  \n",
       "\n",
       "[5 rows x 33 columns]"
=======
>>>>>>> ef6590c8587eb3af537a946d88ea2970af4eb8ed
      ]
     },
     "output_type": "execute_result",
     "metadata": {}
    }
   ],
   "source": [
    "train.head()"
   ]
  },
  {
   "cell_type": "markdown",
   "metadata": {},
   "source": [
    "function to aggregate statistics for each player up to a given game date"
   ]
  },
  {
   "cell_type": "code",
<<<<<<< HEAD
   "execution_count": 33,
   "metadata": {
    "collapsed": true
   },
=======
   "execution_count": 9,
   "metadata": {},
>>>>>>> ef6590c8587eb3af537a946d88ea2970af4eb8ed
   "outputs": [],
   "source": [
    "def aggr_stats(date):\n",
    "    interest_columns = ['fullName','Player_ID','Team','position1','MIN','PTS','FGM','FGA', 'FG3M','FG3A', \\\n",
    "                        'REB','AST','STL','TOV','PLUS_MINUS','DouBL','TriBL','FanPTs']\n",
    "    tmp = allplayerFantasyGameLogs.ix['2015-10-27':date]\n",
    "    \n",
    "    playerID_tmp = tmp.reset_index().copy()\n",
    "    tmp.grouped = playerID_tmp[interest_columns].groupby('Player_ID')\n",
    "    \n",
    "    def aggr(group):\n",
    "        group['NumGames'] = group['fullName'].count()\n",
    "        group['AvgFanPTs'] = group['FanPTs'].mean()\n",
    "        group['AvgPTS'] = group['PTS'].mean()\n",
    "        group['AvgMIN'] = group['MIN'].mean() \n",
    "        group['AvgFGM'] = group['FGM'].mean()\n",
    "        group['AvgFGA'] = group['FGA'].mean()\n",
    "        group['AvgFG3M'] = group['FG3M'].mean()\n",
    "        group['AvgFG3A'] = group['FG3A'].mean()\n",
    "        group['AvgREB'] = group['REB'].mean()\n",
    "        group['AvgAST'] = group['AST'].mean()\n",
    "        group['AvgSTL'] = group['STL'].mean()\n",
    "        group['AvgTOV'] = group['TOV'].mean()\n",
    "        group['AvgPLUS_MINUS'] = group['PLUS_MINUS'].mean()\n",
    "        group['NumDouBL'] = group['DouBL'].sum()\n",
    "        group['NumTriBL'] = group['TriBL'].sum()\n",
    "\n",
    "        group['Last3GameAvgFanPTs'] = group['FanPTs'][:3].mean()\n",
    "        group['Last6GameAvgFanPTs'] = group['FanPTs'][:6].mean()\n",
    "        \n",
    "        group['Last3GameAvgMIN'] = group['MIN'][:3].mean()\n",
    "        group['Last3GameAvgPTS'] = group['PTS'][:3].mean()\n",
    "        return group\n",
    "    \n",
    "    Newdf = tmp.grouped.apply(aggr)\n",
    "    Newdf = Newdf.drop(['MIN','PTS','FGM','FGA', 'FG3M','FG3A','REB','AST','STL','TOV','PLUS_MINUS','DouBL','TriBL','FanPTs'],axis=1)\n",
    "    Newdf.drop_duplicates(inplace=True)\n",
    "    \n",
    "    return(Newdf)"
   ]
  },
  {
   "cell_type": "code",
<<<<<<< HEAD
   "execution_count": 26,
   "metadata": {
    "collapsed": true
   },
=======
   "execution_count": 10,
   "metadata": {},
>>>>>>> ef6590c8587eb3af537a946d88ea2970af4eb8ed
   "outputs": [],
   "source": [
    "interest_columns = ['fullName','GAME_DATE','Player_ID','Team','position1','MIN','PTS','FGM','FGA', 'FG3M','FG3A', \\\n",
    "                        'REB','AST','STL','TOV','PLUS_MINUS','DouBL','TriBL','FanPTs']\n",
    "tmp = allplayerFantasyGameLogs.ix['2015-10-27':'2015-12-29']\n",
    "    \n",
    "playerID_tmp = tmp.reset_index().copy()\n",
    "tmp.grouped = playerID_tmp[interest_columns].groupby('Player_ID')"
   ]
  },
  {
   "cell_type": "code",
   "execution_count": 29,
   "metadata": {
    "collapsed": false
   },
   "outputs": [],
   "source": [
    "PlayerFeaturesTable_02_29_2016 = aggr_stats('2016-2-29')"
   ]
  },
  {
   "cell_type": "code",
   "execution_count": 30,
   "metadata": {
    "collapsed": false
   },
   "outputs": [
    {
     "data": {
      "text/plain": [
       "(495, 21)"
      ]
     },
     "execution_count": 30,
     "metadata": {},
     "output_type": "execute_result"
    }
   ],
   "source": [
    "PlayerFeaturesTable_02_29_2016.shape"
   ]
  },
  {
   "cell_type": "code",
<<<<<<< HEAD
   "execution_count": 31,
   "metadata": {
    "collapsed": false
   },
=======
   "execution_count": 11,
   "metadata": {},
>>>>>>> ef6590c8587eb3af537a946d88ea2970af4eb8ed
   "outputs": [
    {
     "data": {
      "text/html": [
       "<div>\n",
       "<table border=\"1\" class=\"dataframe\">\n",
       "  <thead>\n",
       "    <tr style=\"text-align: right;\">\n",
       "      <th></th>\n",
       "      <th>fullName</th>\n",
       "      <th>Player_ID</th>\n",
       "      <th>Team</th>\n",
       "      <th>position1</th>\n",
       "      <th>NumGames</th>\n",
       "      <th>AvgFanPTs</th>\n",
       "      <th>AvgPTS</th>\n",
       "      <th>AvgMIN</th>\n",
       "      <th>AvgFGM</th>\n",
       "      <th>AvgFGA</th>\n",
       "      <th>...</th>\n",
       "      <th>AvgFG3A</th>\n",
       "      <th>AvgREB</th>\n",
       "      <th>AvgAST</th>\n",
       "      <th>AvgSTL</th>\n",
       "      <th>AvgTOV</th>\n",
       "      <th>AvgPLUS_MINUS</th>\n",
       "      <th>NumDouBL</th>\n",
       "      <th>NumTriBL</th>\n",
       "      <th>Last3GameAvgFanPTs</th>\n",
       "      <th>Last6GameAvgFanPTs</th>\n",
       "    </tr>\n",
       "  </thead>\n",
       "  <tbody>\n",
       "    <tr>\n",
       "      <th>4</th>\n",
       "      <td>Jimmy Butler</td>\n",
       "      <td>202710</td>\n",
       "      <td>CHI</td>\n",
       "      <td>SG</td>\n",
       "      <td>48</td>\n",
       "      <td>39.682292</td>\n",
       "      <td>22.375</td>\n",
       "      <td>37.8125</td>\n",
       "      <td>7.4375</td>\n",
       "      <td>16.25</td>\n",
       "      <td>...</td>\n",
       "      <td>3.333333</td>\n",
       "      <td>5.1875</td>\n",
       "      <td>4.270833</td>\n",
       "      <td>1.6875</td>\n",
       "      <td>1.979167</td>\n",
       "      <td>0.1875</td>\n",
       "      <td>6</td>\n",
       "      <td>0</td>\n",
       "      <td>39.833333</td>\n",
       "      <td>39.125</td>\n",
       "    </tr>\n",
       "  </tbody>\n",
       "</table>\n",
       "<p>1 rows × 21 columns</p>\n",
       "</div>"
<<<<<<< HEAD
      ],
      "text/plain": [
       "       fullName  Player_ID Team position1  NumGames  AvgFanPTs  AvgPTS  \\\n",
       "4  Jimmy Butler     202710  CHI        SG        48  39.682292  22.375   \n",
       "\n",
       "    AvgMIN  AvgFGM  AvgFGA         ...           AvgFG3A  AvgREB    AvgAST  \\\n",
       "4  37.8125  7.4375   16.25         ...          3.333333  5.1875  4.270833   \n",
       "\n",
       "   AvgSTL    AvgTOV  AvgPLUS_MINUS  NumDouBL  NumTriBL  Last3GameAvgFanPTs  \\\n",
       "4  1.6875  1.979167         0.1875         6         0           39.833333   \n",
       "\n",
       "   Last6GameAvgFanPTs  \n",
       "4              39.125  \n",
       "\n",
       "[1 rows x 21 columns]"
      ]
     },
     "execution_count": 31,
     "metadata": {},
     "output_type": "execute_result"
=======
      ]
     },
     "output_type": "execute_result",
     "metadata": {}
>>>>>>> ef6590c8587eb3af537a946d88ea2970af4eb8ed
    }
   ],
   "source": [
    "PlayerFeaturesTable_02_29_2016[PlayerFeaturesTable_02_29_2016['Player_ID']==202710]"
   ]
  },
  {
   "cell_type": "code",
<<<<<<< HEAD
   "execution_count": 81,
   "metadata": {
    "collapsed": true
   },
=======
   "execution_count": null,
   "metadata": {},
>>>>>>> ef6590c8587eb3af537a946d88ea2970af4eb8ed
   "outputs": [],
   "source": [
    "with open('../Data/PlayerFeaturesTable_02_29_2016.pickle', 'wb') as handle:\n",
    "  pickle.dump(PlayerFeaturesTable_02_29_2016,handle)"
   ]
  },
  {
   "cell_type": "markdown",
   "metadata": {},
   "source": [
    "function to aggregate statistics summary against each team "
   ]
  },
  {
   "cell_type": "code",
<<<<<<< HEAD
   "execution_count": null,
   "metadata": {
    "collapsed": true
   },
=======
   "execution_count": 12,
   "metadata": {},
>>>>>>> ef6590c8587eb3af537a946d88ea2970af4eb8ed
   "outputs": [],
   "source": [
    "PlayerFeaturesTable_02_29_2016[PlayerFeaturesTable_02_29_2016]"
   ]
  },
  {
   "cell_type": "code",
   "execution_count": 13,
<<<<<<< HEAD
   "metadata": {
    "collapsed": true
   },
   "outputs": [],
   "source": [
    "def playersummaryByTeam(team,PlayerFeaturesTable):\n",
    "    tmp = PlayerFeaturesTable[PlayerFeaturesTable['Team']==team]\n",
    "    return tmp"
   ]
  },
  {
   "cell_type": "code",
   "execution_count": 14,
   "metadata": {
    "collapsed": false,
    "scrolled": true
   },
=======
   "metadata": {},
>>>>>>> ef6590c8587eb3af537a946d88ea2970af4eb8ed
   "outputs": [
    {
     "data": {
      "text/html": [
       "<div>\n",
       "<table border=\"1\" class=\"dataframe\">\n",
       "  <thead>\n",
       "    <tr style=\"text-align: right;\">\n",
       "      <th></th>\n",
       "      <th>fullName</th>\n",
       "      <th>Player_ID</th>\n",
       "      <th>Team</th>\n",
       "      <th>position1</th>\n",
       "      <th>NumGames</th>\n",
       "      <th>AvgFanPTs</th>\n",
       "      <th>AvgPTS</th>\n",
       "      <th>AvgMIN</th>\n",
       "      <th>AvgFGM</th>\n",
       "      <th>AvgFGA</th>\n",
       "      <th>AvgFG3M</th>\n",
       "      <th>AvgFG3A</th>\n",
       "      <th>AvgREB</th>\n",
       "      <th>AvgAST</th>\n",
       "      <th>AvgSTL</th>\n",
       "      <th>AvgTOV</th>\n",
       "      <th>AvgPLUS_MINUS</th>\n",
       "      <th>NumDouBL</th>\n",
       "      <th>NumTriBL</th>\n",
       "    </tr>\n",
       "  </thead>\n",
       "  <tbody>\n",
       "    <tr>\n",
       "      <th>11</th>\n",
       "      <td>Klay Thompson</td>\n",
       "      <td>202691</td>\n",
       "      <td>GSW</td>\n",
       "      <td>SG</td>\n",
       "      <td>56</td>\n",
       "      <td>33.058036</td>\n",
       "      <td>21.785714</td>\n",
       "      <td>32.928571</td>\n",
       "      <td>7.928571</td>\n",
       "      <td>16.821429</td>\n",
       "      <td>3.196429</td>\n",
       "      <td>7.732143</td>\n",
       "      <td>3.696429</td>\n",
       "      <td>2.160714</td>\n",
       "      <td>0.714286</td>\n",
       "      <td>1.803571</td>\n",
       "      <td>12.107143</td>\n",
       "      <td>0</td>\n",
       "      <td>0</td>\n",
       "    </tr>\n",
       "    <tr>\n",
       "      <th>14</th>\n",
       "      <td>James Michael McAdoo</td>\n",
       "      <td>203949</td>\n",
       "      <td>GSW</td>\n",
       "      <td>PF</td>\n",
       "      <td>25</td>\n",
       "      <td>5.200000</td>\n",
       "      <td>2.280000</td>\n",
       "      <td>5.840000</td>\n",
       "      <td>0.880000</td>\n",
       "      <td>1.600000</td>\n",
       "      <td>0.000000</td>\n",
       "      <td>0.000000</td>\n",
       "      <td>1.280000</td>\n",
       "      <td>0.360000</td>\n",
       "      <td>0.280000</td>\n",
       "      <td>0.360000</td>\n",
       "      <td>-1.800000</td>\n",
       "      <td>0</td>\n",
       "      <td>0</td>\n",
       "    </tr>\n",
       "    <tr>\n",
       "      <th>17</th>\n",
       "      <td>Festus Ezeli</td>\n",
       "      <td>203105</td>\n",
       "      <td>GSW</td>\n",
       "      <td>C</td>\n",
       "      <td>40</td>\n",
       "      <td>19.050000</td>\n",
       "      <td>7.500000</td>\n",
       "      <td>17.725000</td>\n",
       "      <td>2.925000</td>\n",
       "      <td>5.250000</td>\n",
       "      <td>0.000000</td>\n",
       "      <td>0.000000</td>\n",
       "      <td>5.850000</td>\n",
       "      <td>0.775000</td>\n",
       "      <td>0.425000</td>\n",
       "      <td>0.900000</td>\n",
       "      <td>5.225000</td>\n",
       "      <td>6</td>\n",
       "      <td>0</td>\n",
       "    </tr>\n",
       "    <tr>\n",
       "      <th>19</th>\n",
       "      <td>Draymond Green</td>\n",
       "      <td>203110</td>\n",
       "      <td>GSW</td>\n",
       "      <td>SF</td>\n",
       "      <td>57</td>\n",
       "      <td>42.513158</td>\n",
       "      <td>13.754386</td>\n",
       "      <td>34.298246</td>\n",
       "      <td>4.859649</td>\n",
       "      <td>10.122807</td>\n",
       "      <td>1.228070</td>\n",
       "      <td>3.087719</td>\n",
       "      <td>9.666667</td>\n",
       "      <td>7.385965</td>\n",
       "      <td>1.421053</td>\n",
       "      <td>3.070175</td>\n",
       "      <td>13.964912</td>\n",
       "      <td>23</td>\n",
       "      <td>11</td>\n",
       "    </tr>\n",
       "    <tr>\n",
       "      <th>40</th>\n",
       "      <td>Stephen Curry</td>\n",
       "      <td>201939</td>\n",
       "      <td>GSW</td>\n",
       "      <td>PG</td>\n",
       "      <td>56</td>\n",
       "      <td>53.151786</td>\n",
       "      <td>30.678571</td>\n",
       "      <td>33.982143</td>\n",
       "      <td>10.303571</td>\n",
       "      <td>20.017857</td>\n",
       "      <td>5.142857</td>\n",
       "      <td>10.982143</td>\n",
       "      <td>5.285714</td>\n",
       "      <td>6.642857</td>\n",
       "      <td>2.107143</td>\n",
       "      <td>3.375000</td>\n",
       "      <td>14.267857</td>\n",
       "      <td>10</td>\n",
       "      <td>2</td>\n",
       "    </tr>\n",
       "    <tr>\n",
       "      <th>41</th>\n",
       "      <td>Andrew Bogut</td>\n",
       "      <td>101106</td>\n",
       "      <td>GSW</td>\n",
       "      <td>C</td>\n",
       "      <td>50</td>\n",
       "      <td>21.545000</td>\n",
       "      <td>5.360000</td>\n",
       "      <td>21.060000</td>\n",
       "      <td>2.520000</td>\n",
       "      <td>4.140000</td>\n",
       "      <td>0.000000</td>\n",
       "      <td>0.000000</td>\n",
       "      <td>7.300000</td>\n",
       "      <td>2.120000</td>\n",
       "      <td>0.400000</td>\n",
       "      <td>1.120000</td>\n",
       "      <td>5.420000</td>\n",
       "      <td>4</td>\n",
       "      <td>0</td>\n",
       "    </tr>\n",
       "    <tr>\n",
       "      <th>47</th>\n",
       "      <td>Brandon Rush</td>\n",
       "      <td>201575</td>\n",
       "      <td>GSW</td>\n",
       "      <td>SG</td>\n",
       "      <td>49</td>\n",
       "      <td>10.591837</td>\n",
       "      <td>4.530612</td>\n",
       "      <td>14.816327</td>\n",
       "      <td>1.632653</td>\n",
       "      <td>3.755102</td>\n",
       "      <td>0.938776</td>\n",
       "      <td>2.224490</td>\n",
       "      <td>2.612245</td>\n",
       "      <td>0.877551</td>\n",
       "      <td>0.326531</td>\n",
       "      <td>0.428571</td>\n",
       "      <td>-0.346939</td>\n",
       "      <td>0</td>\n",
       "      <td>0</td>\n",
       "    </tr>\n",
       "    <tr>\n",
       "      <th>48</th>\n",
       "      <td>Shaun Livingston</td>\n",
       "      <td>2733</td>\n",
       "      <td>GSW</td>\n",
       "      <td>PG</td>\n",
       "      <td>55</td>\n",
       "      <td>13.900000</td>\n",
       "      <td>6.163636</td>\n",
       "      <td>18.945455</td>\n",
       "      <td>2.600000</td>\n",
       "      <td>4.909091</td>\n",
       "      <td>0.036364</td>\n",
       "      <td>0.218182</td>\n",
       "      <td>1.890909</td>\n",
       "      <td>2.727273</td>\n",
       "      <td>0.618182</td>\n",
       "      <td>0.963636</td>\n",
       "      <td>1.527273</td>\n",
       "      <td>0</td>\n",
       "      <td>0</td>\n",
       "    </tr>\n",
       "    <tr>\n",
       "      <th>52</th>\n",
       "      <td>Marreese Speights</td>\n",
       "      <td>201578</td>\n",
       "      <td>GSW</td>\n",
       "      <td>C</td>\n",
       "      <td>48</td>\n",
       "      <td>12.333333</td>\n",
       "      <td>6.437500</td>\n",
       "      <td>11.145833</td>\n",
       "      <td>2.500000</td>\n",
       "      <td>6.208333</td>\n",
       "      <td>0.166667</td>\n",
       "      <td>0.500000</td>\n",
       "      <td>3.291667</td>\n",
       "      <td>0.729167</td>\n",
       "      <td>0.208333</td>\n",
       "      <td>0.937500</td>\n",
       "      <td>-1.208333</td>\n",
       "      <td>1</td>\n",
       "      <td>0</td>\n",
       "    </tr>\n",
<<<<<<< HEAD
       "    <tr>\n",
       "      <th>53</th>\n",
       "      <td>Leandro Barbosa</td>\n",
       "      <td>2571</td>\n",
       "      <td>GSW</td>\n",
       "      <td>SG</td>\n",
       "      <td>45</td>\n",
       "      <td>11.688889</td>\n",
       "      <td>6.288889</td>\n",
       "      <td>14.911111</td>\n",
       "      <td>2.511111</td>\n",
       "      <td>5.644444</td>\n",
       "      <td>0.533333</td>\n",
       "      <td>1.600000</td>\n",
       "      <td>1.466667</td>\n",
       "      <td>1.288889</td>\n",
       "      <td>0.755556</td>\n",
       "      <td>0.822222</td>\n",
       "      <td>0.044444</td>\n",
       "      <td>0</td>\n",
       "      <td>0</td>\n",
       "    </tr>\n",
       "    <tr>\n",
       "      <th>58</th>\n",
       "      <td>Harrison Barnes</td>\n",
       "      <td>203084</td>\n",
       "      <td>GSW</td>\n",
       "      <td>SF</td>\n",
       "      <td>42</td>\n",
       "      <td>22.053571</td>\n",
       "      <td>12.000000</td>\n",
       "      <td>29.666667</td>\n",
       "      <td>4.571429</td>\n",
       "      <td>9.619048</td>\n",
       "      <td>1.285714</td>\n",
       "      <td>3.119048</td>\n",
       "      <td>4.452381</td>\n",
       "      <td>1.690476</td>\n",
       "      <td>0.714286</td>\n",
       "      <td>0.904762</td>\n",
       "      <td>7.642857</td>\n",
       "      <td>0</td>\n",
       "      <td>0</td>\n",
       "    </tr>\n",
       "    <tr>\n",
       "      <th>59</th>\n",
       "      <td>Andre Iguodala</td>\n",
       "      <td>2738</td>\n",
       "      <td>GSW</td>\n",
       "      <td>SF</td>\n",
       "      <td>57</td>\n",
       "      <td>20.723684</td>\n",
       "      <td>7.438596</td>\n",
       "      <td>27.368421</td>\n",
       "      <td>2.859649</td>\n",
       "      <td>5.929825</td>\n",
       "      <td>0.877193</td>\n",
       "      <td>2.491228</td>\n",
       "      <td>4.157895</td>\n",
       "      <td>3.508772</td>\n",
       "      <td>1.175439</td>\n",
       "      <td>1.245614</td>\n",
       "      <td>7.245614</td>\n",
       "      <td>1</td>\n",
       "      <td>0</td>\n",
       "    </tr>\n",
       "    <tr>\n",
       "      <th>505</th>\n",
       "      <td>Jason Thompson</td>\n",
       "      <td>201574</td>\n",
       "      <td>GSW</td>\n",
       "      <td>PF</td>\n",
       "      <td>28</td>\n",
       "      <td>6.303571</td>\n",
       "      <td>2.142857</td>\n",
       "      <td>6.357143</td>\n",
       "      <td>0.714286</td>\n",
       "      <td>1.500000</td>\n",
       "      <td>0.000000</td>\n",
       "      <td>0.000000</td>\n",
       "      <td>1.928571</td>\n",
       "      <td>0.678571</td>\n",
       "      <td>0.142857</td>\n",
       "      <td>0.250000</td>\n",
       "      <td>-2.071429</td>\n",
       "      <td>0</td>\n",
       "      <td>0</td>\n",
       "    </tr>\n",
       "    <tr>\n",
       "      <th>614</th>\n",
       "      <td>Ian Clark</td>\n",
       "      <td>203546</td>\n",
       "      <td>GSW</td>\n",
       "      <td>SG</td>\n",
       "      <td>46</td>\n",
       "      <td>7.788043</td>\n",
       "      <td>4.173913</td>\n",
       "      <td>9.239130</td>\n",
       "      <td>1.586957</td>\n",
       "      <td>3.478261</td>\n",
       "      <td>0.565217</td>\n",
       "      <td>1.369565</td>\n",
       "      <td>1.021739</td>\n",
       "      <td>1.000000</td>\n",
       "      <td>0.239130</td>\n",
       "      <td>0.717391</td>\n",
       "      <td>-1.304348</td>\n",
       "      <td>0</td>\n",
       "      <td>0</td>\n",
       "    </tr>\n",
       "    <tr>\n",
       "      <th>14687</th>\n",
       "      <td>Kevon Looney</td>\n",
       "      <td>1626172</td>\n",
       "      <td>GSW</td>\n",
       "      <td>PF</td>\n",
       "      <td>5</td>\n",
       "      <td>4.300000</td>\n",
       "      <td>1.800000</td>\n",
       "      <td>4.200000</td>\n",
       "      <td>0.800000</td>\n",
       "      <td>1.400000</td>\n",
       "      <td>0.200000</td>\n",
       "      <td>0.400000</td>\n",
       "      <td>2.000000</td>\n",
       "      <td>0.000000</td>\n",
       "      <td>0.000000</td>\n",
       "      <td>0.200000</td>\n",
       "      <td>-4.400000</td>\n",
       "      <td>0</td>\n",
       "      <td>0</td>\n",
       "    </tr>\n",
       "    <tr>\n",
       "      <th>18205</th>\n",
       "      <td>Anderson Varejao</td>\n",
       "      <td>2760</td>\n",
       "      <td>GSW</td>\n",
       "      <td>C</td>\n",
       "      <td>34</td>\n",
       "      <td>8.073529</td>\n",
       "      <td>2.529412</td>\n",
       "      <td>10.147059</td>\n",
       "      <td>1.000000</td>\n",
       "      <td>2.500000</td>\n",
       "      <td>0.000000</td>\n",
       "      <td>0.029412</td>\n",
       "      <td>2.941176</td>\n",
       "      <td>0.705882</td>\n",
       "      <td>0.382353</td>\n",
       "      <td>0.500000</td>\n",
       "      <td>1.882353</td>\n",
       "      <td>0</td>\n",
       "      <td>0</td>\n",
       "    </tr>\n",
       "  </tbody>\n",
       "</table>\n",
       "</div>"
      ],
      "text/plain": [
       "                   fullName  Player_ID Team position1  NumGames  AvgFanPTs  \\\n",
       "11            Klay Thompson     202691  GSW        SG        56  33.058036   \n",
       "14     James Michael McAdoo     203949  GSW        PF        25   5.200000   \n",
       "17             Festus Ezeli     203105  GSW         C        40  19.050000   \n",
       "19           Draymond Green     203110  GSW        SF        57  42.513158   \n",
       "40            Stephen Curry     201939  GSW        PG        56  53.151786   \n",
       "41             Andrew Bogut     101106  GSW         C        50  21.545000   \n",
       "47             Brandon Rush     201575  GSW        SG        49  10.591837   \n",
       "48         Shaun Livingston       2733  GSW        PG        55  13.900000   \n",
       "52        Marreese Speights     201578  GSW         C        48  12.333333   \n",
       "53          Leandro Barbosa       2571  GSW        SG        45  11.688889   \n",
       "58          Harrison Barnes     203084  GSW        SF        42  22.053571   \n",
       "59           Andre Iguodala       2738  GSW        SF        57  20.723684   \n",
       "505          Jason Thompson     201574  GSW        PF        28   6.303571   \n",
       "614               Ian Clark     203546  GSW        SG        46   7.788043   \n",
       "14687          Kevon Looney    1626172  GSW        PF         5   4.300000   \n",
       "18205      Anderson Varejao       2760  GSW         C        34   8.073529   \n",
       "\n",
       "          AvgPTS     AvgMIN     AvgFGM     AvgFGA   AvgFG3M    AvgFG3A  \\\n",
       "11     21.785714  32.928571   7.928571  16.821429  3.196429   7.732143   \n",
       "14      2.280000   5.840000   0.880000   1.600000  0.000000   0.000000   \n",
       "17      7.500000  17.725000   2.925000   5.250000  0.000000   0.000000   \n",
       "19     13.754386  34.298246   4.859649  10.122807  1.228070   3.087719   \n",
       "40     30.678571  33.982143  10.303571  20.017857  5.142857  10.982143   \n",
       "41      5.360000  21.060000   2.520000   4.140000  0.000000   0.000000   \n",
       "47      4.530612  14.816327   1.632653   3.755102  0.938776   2.224490   \n",
       "48      6.163636  18.945455   2.600000   4.909091  0.036364   0.218182   \n",
       "52      6.437500  11.145833   2.500000   6.208333  0.166667   0.500000   \n",
       "53      6.288889  14.911111   2.511111   5.644444  0.533333   1.600000   \n",
       "58     12.000000  29.666667   4.571429   9.619048  1.285714   3.119048   \n",
       "59      7.438596  27.368421   2.859649   5.929825  0.877193   2.491228   \n",
       "505     2.142857   6.357143   0.714286   1.500000  0.000000   0.000000   \n",
       "614     4.173913   9.239130   1.586957   3.478261  0.565217   1.369565   \n",
       "14687   1.800000   4.200000   0.800000   1.400000  0.200000   0.400000   \n",
       "18205   2.529412  10.147059   1.000000   2.500000  0.000000   0.029412   \n",
       "\n",
       "         AvgREB    AvgAST    AvgSTL    AvgTOV  AvgPLUS_MINUS  NumDouBL  \\\n",
       "11     3.696429  2.160714  0.714286  1.803571      12.107143         0   \n",
       "14     1.280000  0.360000  0.280000  0.360000      -1.800000         0   \n",
       "17     5.850000  0.775000  0.425000  0.900000       5.225000         6   \n",
       "19     9.666667  7.385965  1.421053  3.070175      13.964912        23   \n",
       "40     5.285714  6.642857  2.107143  3.375000      14.267857        10   \n",
       "41     7.300000  2.120000  0.400000  1.120000       5.420000         4   \n",
       "47     2.612245  0.877551  0.326531  0.428571      -0.346939         0   \n",
       "48     1.890909  2.727273  0.618182  0.963636       1.527273         0   \n",
       "52     3.291667  0.729167  0.208333  0.937500      -1.208333         1   \n",
       "53     1.466667  1.288889  0.755556  0.822222       0.044444         0   \n",
       "58     4.452381  1.690476  0.714286  0.904762       7.642857         0   \n",
       "59     4.157895  3.508772  1.175439  1.245614       7.245614         1   \n",
       "505    1.928571  0.678571  0.142857  0.250000      -2.071429         0   \n",
       "614    1.021739  1.000000  0.239130  0.717391      -1.304348         0   \n",
       "14687  2.000000  0.000000  0.000000  0.200000      -4.400000         0   \n",
       "18205  2.941176  0.705882  0.382353  0.500000       1.882353         0   \n",
       "\n",
       "       NumTriBL  \n",
       "11            0  \n",
       "14            0  \n",
       "17            0  \n",
       "19           11  \n",
       "40            2  \n",
       "41            0  \n",
       "47            0  \n",
       "48            0  \n",
       "52            0  \n",
       "53            0  \n",
       "58            0  \n",
       "59            0  \n",
       "505           0  \n",
       "614           0  \n",
       "14687         0  \n",
       "18205         0  "
      ]
     },
     "execution_count": 14,
     "metadata": {},
     "output_type": "execute_result"
    }
   ],
   "source": [
    "playersummaryByTeam('GSW',PlayerFeaturesTable_02_29_2016)"
   ]
  },
  {
   "cell_type": "code",
   "execution_count": null,
   "metadata": {
    "collapsed": true
   },
   "outputs": [],
   "source": [
    "#function to get match-up player statistics by position and teams\n",
    "def identify_matchup(position,team1,team2,PlayerFeaturesTable):\n",
    "    tmp = PlayerFeaturesTable[(PlayerFeaturesTable['Team']==team1) & (PlayerFeaturesTable['position1']=='PG')]\n",
    "    "
   ]
  },
  {
   "cell_type": "code",
   "execution_count": 22,
   "metadata": {
    "collapsed": false
   },
   "outputs": [
    {
     "data": {
      "text/html": [
       "<div>\n",
       "<table border=\"1\" class=\"dataframe\">\n",
       "  <thead>\n",
       "    <tr style=\"text-align: right;\">\n",
       "      <th></th>\n",
       "      <th>fullName</th>\n",
       "      <th>Player_ID</th>\n",
       "      <th>Team</th>\n",
       "      <th>position1</th>\n",
       "      <th>NumGames</th>\n",
       "      <th>AvgFanPTs</th>\n",
       "      <th>AvgPTS</th>\n",
       "      <th>AvgMIN</th>\n",
       "      <th>AvgFGM</th>\n",
       "      <th>AvgFGA</th>\n",
       "      <th>AvgFG3M</th>\n",
       "      <th>AvgFG3A</th>\n",
       "      <th>AvgREB</th>\n",
       "      <th>AvgAST</th>\n",
       "      <th>AvgSTL</th>\n",
       "      <th>AvgTOV</th>\n",
       "      <th>AvgPLUS_MINUS</th>\n",
       "      <th>NumDouBL</th>\n",
       "      <th>NumTriBL</th>\n",
       "    </tr>\n",
       "  </thead>\n",
       "  <tbody>\n",
       "    <tr>\n",
       "      <th>40</th>\n",
       "      <td>Stephen Curry</td>\n",
       "      <td>201939</td>\n",
       "      <td>GSW</td>\n",
       "      <td>PG</td>\n",
       "      <td>56</td>\n",
       "      <td>53.151786</td>\n",
       "      <td>30.678571</td>\n",
       "      <td>33.982143</td>\n",
       "      <td>10.303571</td>\n",
       "      <td>20.017857</td>\n",
       "      <td>5.142857</td>\n",
       "      <td>10.982143</td>\n",
       "      <td>5.285714</td>\n",
       "      <td>6.642857</td>\n",
       "      <td>2.107143</td>\n",
       "      <td>3.375000</td>\n",
       "      <td>14.267857</td>\n",
       "      <td>10</td>\n",
       "      <td>2</td>\n",
       "    </tr>\n",
       "    <tr>\n",
       "      <th>48</th>\n",
       "      <td>Shaun Livingston</td>\n",
       "      <td>2733</td>\n",
       "      <td>GSW</td>\n",
       "      <td>PG</td>\n",
       "      <td>55</td>\n",
       "      <td>13.900000</td>\n",
       "      <td>6.163636</td>\n",
       "      <td>18.945455</td>\n",
       "      <td>2.600000</td>\n",
       "      <td>4.909091</td>\n",
       "      <td>0.036364</td>\n",
       "      <td>0.218182</td>\n",
       "      <td>1.890909</td>\n",
       "      <td>2.727273</td>\n",
       "      <td>0.618182</td>\n",
       "      <td>0.963636</td>\n",
       "      <td>1.527273</td>\n",
       "      <td>0</td>\n",
       "      <td>0</td>\n",
       "    </tr>\n",
       "  </tbody>\n",
       "</table>\n",
       "</div>"
      ],
      "text/plain": [
       "            fullName  Player_ID Team position1  NumGames  AvgFanPTs  \\\n",
       "40     Stephen Curry     201939  GSW        PG        56  53.151786   \n",
       "48  Shaun Livingston       2733  GSW        PG        55  13.900000   \n",
       "\n",
       "       AvgPTS     AvgMIN     AvgFGM     AvgFGA   AvgFG3M    AvgFG3A    AvgREB  \\\n",
       "40  30.678571  33.982143  10.303571  20.017857  5.142857  10.982143  5.285714   \n",
       "48   6.163636  18.945455   2.600000   4.909091  0.036364   0.218182  1.890909   \n",
       "\n",
       "      AvgAST    AvgSTL    AvgTOV  AvgPLUS_MINUS  NumDouBL  NumTriBL  \n",
       "40  6.642857  2.107143  3.375000      14.267857        10         2  \n",
       "48  2.727273  0.618182  0.963636       1.527273         0         0  "
      ]
     },
     "execution_count": 22,
     "metadata": {},
     "output_type": "execute_result"
    }
   ],
   "source": [
    "PlayerFeaturesTable_02_29_2016[(PlayerFeaturesTable_02_29_2016['Team']=='GSW') & (PlayerFeaturesTable_02_29_2016['position1']=='PG') ]"
   ]
  },
  {
   "cell_type": "markdown",
   "metadata": {},
   "source": [
    "function to generate a score(PTS) leader board given a game date, the same applies to other \n",
    "attributes, such as 'REB', 'AST', 'FG3', 'BLK', 'PLUS_MINUS'"
   ]
  },
  {
   "cell_type": "code",
   "execution_count": 15,
   "metadata": {
    "collapsed": true
   },
   "outputs": [],
   "source": [
    "def get_leader_board(attr, date):\n",
    "    tmp = allplayerFantasyGameLogs.ix['10/27/2015':date]\n",
    "    tmp = tmp[['fullName',attr]].reset_index().groupby('fullName').mean()\n",
    "    result_df = tmp.sort_values([attr], ascending=False)\n",
    "\n",
    "    return(result_df)"
   ]
  },
  {
   "cell_type": "code",
   "execution_count": 16,
   "metadata": {
    "collapsed": false
   },
   "outputs": [
    {
     "data": {
      "text/html": [
       "<div>\n",
       "<table border=\"1\" class=\"dataframe\">\n",
       "  <thead>\n",
       "    <tr style=\"text-align: right;\">\n",
       "      <th></th>\n",
       "      <th>PTS</th>\n",
       "    </tr>\n",
       "    <tr>\n",
       "      <th>fullName</th>\n",
       "      <th></th>\n",
       "    </tr>\n",
       "  </thead>\n",
       "  <tbody>\n",
       "    <tr>\n",
       "      <th>Stephen Curry</th>\n",
       "      <td>30.678571</td>\n",
       "    </tr>\n",
       "    <tr>\n",
       "      <th>James Harden</th>\n",
       "      <td>28.500000</td>\n",
       "    </tr>\n",
       "    <tr>\n",
       "      <th>Kevin Durant</th>\n",
       "      <td>27.905660</td>\n",
       "    </tr>\n",
       "    <tr>\n",
       "      <th>DeMarcus Cousins</th>\n",
       "      <td>27.306122</td>\n",
       "    </tr>\n",
       "    <tr>\n",
       "      <th>Damian Lillard</th>\n",
       "      <td>25.358491</td>\n",
       "    </tr>\n",
       "  </tbody>\n",
       "</table>\n",
       "</div>"
      ],
      "text/plain": [
       "                        PTS\n",
       "fullName                   \n",
       "Stephen Curry     30.678571\n",
       "James Harden      28.500000\n",
       "Kevin Durant      27.905660\n",
       "DeMarcus Cousins  27.306122\n",
       "Damian Lillard    25.358491"
      ]
     },
     "execution_count": 16,
     "metadata": {},
     "output_type": "execute_result"
=======
       "  </tbody>\n",
       "</table>\n",
       "</div>"
      ]
     },
     "output_type": "execute_result",
     "metadata": {}
>>>>>>> ef6590c8587eb3af537a946d88ea2970af4eb8ed
    }
   ],
   "source": [
    "#Test 1. leader board for scoring\n",
    "test1 = get_leader_board('PTS','2/29/2016')\n",
    "test1.head()"
   ]
  },
  {
   "cell_type": "code",
   "execution_count": 14,
   "metadata": {},
   "outputs": [
    {
     "data": {
      "text/html": [
       "<div>\n",
       "<table border=\"1\" class=\"dataframe\">\n",
       "  <thead>\n",
       "    <tr style=\"text-align: right;\">\n",
       "      <th></th>\n",
       "      <th>FanPTs</th>\n",
       "    </tr>\n",
       "    <tr>\n",
       "      <th>fullName</th>\n",
       "      <th></th>\n",
       "    </tr>\n",
       "  </thead>\n",
       "  <tbody>\n",
       "    <tr>\n",
       "      <th>Russell Westbrook</th>\n",
       "      <td>54.112500</td>\n",
       "    </tr>\n",
       "    <tr>\n",
       "      <th>Stephen Curry</th>\n",
       "      <td>53.151786</td>\n",
       "    </tr>\n",
       "    <tr>\n",
       "      <th>DeMarcus Cousins</th>\n",
       "      <td>51.505102</td>\n",
       "    </tr>\n",
       "    <tr>\n",
       "      <th>James Harden</th>\n",
       "      <td>50.995833</td>\n",
       "    </tr>\n",
       "    <tr>\n",
       "      <th>Kevin Durant</th>\n",
       "      <td>49.650943</td>\n",
       "    </tr>\n",
       "    <tr>\n",
       "      <th>LeBron James</th>\n",
       "      <td>47.350877</td>\n",
       "    </tr>\n",
       "    <tr>\n",
       "      <th>Anthony Davis</th>\n",
       "      <td>46.799020</td>\n",
       "    </tr>\n",
       "    <tr>\n",
       "      <th>John Wall</th>\n",
       "      <td>46.105932</td>\n",
       "    </tr>\n",
       "    <tr>\n",
       "      <th>Damian Lillard</th>\n",
       "      <td>44.198113</td>\n",
       "    </tr>\n",
       "    <tr>\n",
       "      <th>Chris Paul</th>\n",
       "      <td>44.152778</td>\n",
       "    </tr>\n",
       "  </tbody>\n",
       "</table>\n",
       "</div>"
      ]
     },
     "output_type": "execute_result",
     "metadata": {}
    }
   ],
   "source": [
    "#Test 2. leader board for Fantasy Points\n",
    "get_leader_board('FanPTs','2/29/2016').head(10)"
   ]
  },
  {
   "cell_type": "code",
   "execution_count": 15,
   "metadata": {},
   "outputs": [
    {
     "data": {
      "text/html": [
       "<div>\n",
       "<table border=\"1\" class=\"dataframe\">\n",
       "  <thead>\n",
       "    <tr style=\"text-align: right;\">\n",
       "      <th></th>\n",
       "      <th>PLUS_MINUS</th>\n",
       "    </tr>\n",
       "    <tr>\n",
       "      <th>fullName</th>\n",
       "      <th></th>\n",
       "    </tr>\n",
       "  </thead>\n",
       "  <tbody>\n",
       "    <tr>\n",
       "      <th>Stephen Curry</th>\n",
       "      <td>14.267857</td>\n",
       "    </tr>\n",
       "    <tr>\n",
       "      <th>Draymond Green</th>\n",
       "      <td>13.964912</td>\n",
       "    </tr>\n",
       "    <tr>\n",
       "      <th>Klay Thompson</th>\n",
       "      <td>12.107143</td>\n",
       "    </tr>\n",
       "    <tr>\n",
       "      <th>Kawhi Leonard</th>\n",
       "      <td>9.685185</td>\n",
       "    </tr>\n",
       "    <tr>\n",
       "      <th>Jorge Gutierrez</th>\n",
       "      <td>9.000000</td>\n",
       "    </tr>\n",
       "    <tr>\n",
       "      <th>Kevin Durant</th>\n",
       "      <td>8.735849</td>\n",
       "    </tr>\n",
       "    <tr>\n",
       "      <th>Michael Kidd-Gilchrist</th>\n",
       "      <td>8.285714</td>\n",
       "    </tr>\n",
       "    <tr>\n",
       "      <th>Tim Duncan</th>\n",
       "      <td>8.113636</td>\n",
       "    </tr>\n",
       "    <tr>\n",
       "      <th>Russell Westbrook</th>\n",
       "      <td>8.066667</td>\n",
       "    </tr>\n",
       "    <tr>\n",
       "      <th>LeBron James</th>\n",
       "      <td>7.789474</td>\n",
       "    </tr>\n",
       "  </tbody>\n",
       "</table>\n",
       "</div>"
      ]
     },
     "output_type": "execute_result",
     "metadata": {}
    }
   ],
   "source": [
    "#Test 3. leader board for Fantasy Points\n",
    "get_leader_board('PLUS_MINUS','2/29/2016').head(10)"
   ]
  },
  {
   "cell_type": "code",
   "execution_count": null,
   "metadata": {
    "collapsed": true
   },
   "outputs": [],
   "source": [
    "#function to identify each match up position - opponent player with the same position "
   ]
  },
  {
   "cell_type": "code",
   "execution_count": 65,
   "metadata": {
    "collapsed": false
   },
   "outputs": [
    {
     "data": {
      "text/plain": [
       "Index([ u'SEASON_ID',  u'Player_ID',    u'Game_ID',    u'MATCHUP',\n",
       "               u'WL',        u'MIN',        u'FGM',        u'FGA',\n",
       "           u'FG_PCT',       u'FG3M',       u'FG3A',    u'FG3_PCT',\n",
       "              u'FTM',        u'FTA',     u'FT_PCT',       u'OREB',\n",
       "             u'DREB',        u'REB',        u'AST',        u'STL',\n",
       "              u'BLK',        u'TOV',         u'PF',        u'PTS',\n",
       "       u'PLUS_MINUS',      u'DouBL',      u'TriBL',     u'FanPTs',\n",
       "         u'fullName',  u'position1'],\n",
       "      dtype='object')"
      ]
     },
     "execution_count": 65,
     "metadata": {},
     "output_type": "execute_result"
    }
   ],
   "source": [
    "allplayerFantasyGameLogs.columns"
   ]
  },
  {
   "cell_type": "code",
   "execution_count": null,
   "metadata": {
    "collapsed": true
   },
   "outputs": [],
   "source": []
  },
  {
   "cell_type": "markdown",
   "metadata": {},
   "source": [
    "#Visualization"
   ]
  },
  {
   "cell_type": "code",
   "execution_count": 17,
   "metadata": {
    "collapsed": false
   },
   "outputs": [],
   "source": [
    "import seaborn as sns\n",
    "%matplotlib inline"
   ]
  },
  {
   "cell_type": "markdown",
   "metadata": {},
   "source": [
    "function to plot the trend of certain statistics for a player"
   ]
  },
  {
   "cell_type": "code",
   "execution_count": 18,
   "metadata": {
    "collapsed": true
   },
   "outputs": [],
   "source": [
    "from ggplot import *"
   ]
  },
  {
   "cell_type": "code",
   "execution_count": 146,
   "metadata": {
    "collapsed": true
   },
   "outputs": [],
   "source": [
    "def plot_trend(players, stat): #players should be a list   \n",
    "    tmp = allplayerFantasyGameLogs[allplayerFantasyGameLogs[\"fullName\"].isin(players)][['fullName',stat]].reset_index()\n",
    "    plot_obj = ggplot(aes(x='GAME_DATE', y=stat, colour='fullName'), data=tmp) + geom_line() \\\n",
    "+ ggtitle(\"Stats For Players\")+theme(axis_text_x  = element_text(angle = 60, hjust = 1))\n",
    "    return(plot_obj)"
   ]
  },
  {
   "cell_type": "code",
   "execution_count": 141,
   "metadata": {
    "collapsed": false
   },
   "outputs": [],
   "source": [
    "#ggsave('test_plot.png',test, device='png',width=10, height=10)"
   ]
  },
  {
   "cell_type": "code",
   "execution_count": 134,
   "metadata": {
    "collapsed": false
   },
   "outputs": [
    {
     "data": {
      "image/png": "iVBORw0KGgoAAAANSUhEUgAAAqoAAAInCAYAAABQq3tsAAAABHNCSVQICAgIfAhkiAAAAAlwSFlz\nAAALEgAACxIB0t1+/AAAIABJREFUeJzs3Xd8VFX6+PHPvVMyk17pSDFK+Yog6Er7/ujSBMu6Niyg\nay+g6yr2tSAWdBWja1ux4XdZcaWJCOISXRsuYAepAhKVFNJm7rR77++PSYaEdDKTzCTP+/XipXPn\nzp1zZpLJM885zzmKaZomQgghhBBCRBm1tRsghBBCCCFEbSRQFUIIIYQQUUkCVSGEEEIIEZUkUBVC\nCCGEEFFJAlUhhBBCCBGVJFAVQgghhBBRSQJVIaKUruu88MILTJo0iQEDBjB8+HD+9Kc/sW/fvtA5\ngUCAN998s9HXbOr5VW3cuJG+ffvSr18/+vbtG/rXr18/br/99qO6Zm3Gjh1b7fr/8z//w+jRo3nk\nkUfQNA2AnJwcfv/734ftOYUQQkQna2s3QAhRu8cff5z169dz991307t3bwoLC3nmmWeYMWMG7733\nHomJiaxatYqnn36aCy+8sFHXbOr5R1IUhQ8++ACHw1HteFxc3FFdry5/+tOfOPvss4FgwL5r1y7+\n/Oc/U15ezgMPPBBqixBCiLZNMqpCRKm3336b66+/npEjR9KlSxcGDBjAk08+icvl4oMPPgDAMIwm\nXbOp59cmPT2djIyMav8SExObfd2q4uPjQ9fu0KEDw4YN45JLLuH9998P6/MIIYSIbhKoChGlVFXl\ns88+Q9f10DGHw8Hy5csZP348Gzdu5I477uDQoUP069ePL7/8El3X+etf/8rYsWM54YQTGDFiBA89\n9BCmadZ6/sGDB7n66qs5+eSTOeWUU5g9ezZFRUVH3Wa/309OTg7jxo3jxBNP5MILL+Sbb74J3T92\n7Fgee+wxxowZw9ixYykrK2v0tS0WC3a7vdb7VqxYwfTp0xkwYABDhgzh2muvDfVj6tSpLFy4sNr5\nt912G3PnzgWgoKCA2bNnM3jwYEaOHMldd91FeXk5AAcOHKBv37787W9/49RTT+Wqq65C13UeeOAB\nRo4cycCBA2v0UQghRPhIoCpElJo1axb/+te/GDVqFLfffjvLli2jsLCQ7t27k5iYyODBg7njjjtI\nTU3lk08+YdCgQbz00kusXLmSRx99lLVr13LrrbeyePFi1q9fX+v5f/nLX9B1naVLl7J48WLy8vJ4\n5JFH6m1XfbsuP/DAA7z99tv85S9/YdmyZWRnZzNr1iwKCgpC5yxdupRnnnmGp59+mqSkpAZfB9M0\n+eabb1i8eDHjx4+vcf+WLVu44447uOKKK1i7di3PPvssW7du5bnnngNg+vTprF69OnS+z+dj/fr1\nnHHGGQBcf/31WCwW3nrrLZ5//nn279/PTTfdVO05PvroI5YuXcqtt97KG2+8wb///W+effZZ3n33\nXXr27MmcOXMa7IcQQoimkzmqQkSpK6+8kl69evF///d/rFq1imXLlqGqKhdccAF33nknVquVpKQk\nFEUhPT0dgOzsbObPn8/JJ58MwBlnnMFLL73Ejh07GD9+fI3zDxw4QO/evenSpQt2u50nnngCl8tV\nZ5tM02TkyJHVgtVu3bqxcuVKysrKePvtt3nyySf53//9XwDuu+8+Nm/ezBtvvBEK5qZMmUL//v3r\n7fsjjzzCggULgGCWVlEUxo0bxy233FLj3Li4OB588EGmTZsGQOfOnRk3bhw7duwAYNq0aTz11FNs\n3bqVfv368eGHH+J0Ohk6dCiff/4527dv54033sBqDX4cPvroo4waNYpdu3aF5uJeeumldO/eHYB/\n/OMf2O12OnfuTFZWFrfffjtbt27FNE2ZNyuEEGEmgaoQUWzChAlMmDABTdPYuHEjy5YtY/HixXTs\n2JErrriixvnjxo3jyy+/ZMGCBezZs4ft27fz888/V5s+UNU111zDbbfdxqmnnsrQoUMZP34806dP\nr7M9iqKwZMmSasVUlQHenj17MAyDgQMHVjv/pJNOYufOnaFjlQFffa688spQxtNms5GRkYHNZqv1\n3P79+5OQkMCzzz7Lrl272LVrFzt27GDIkCEAdOnShSFDhrB69Wr69evH6tWrmTp1KoqisGvXLjRN\n45RTTql2TVVV2b17dyig7tatW+i+Cy64gPfff5/Ro0czcOBAxowZw+9//3sJUoUQIgJk6F+IKPTj\njz/y4IMPhm47nU5GjRrFX//6VyZPnszHH39c6+NycnK47rrr0HWd0047jRdeeIG+ffvW+TyTJk0i\nNzeXe+65B6fTybx587jyyivrbVu3bt3o3r176F/nzp2Buiv/DcOoFig3ZoWAtLS00PU7depUZ5AK\n8OmnnzJt2jT279/PKaecwv33388FF1xQ7Zzp06fz3nvv4XK5yM3NDQXBgUCArl27smLFimr/3n//\nfUaMGBF6fNXAvHfv3qxfv56cnBz69OnD66+/zllnnUV+fn6D/RJCCNE0EqgKEYUMw+CNN97gv//9\nb437EhMTQ0P3R2bxXn75ZebOncttt93GGWecQZcuXcjLywvdf+T5Tz31FPv27eOss87iiSeeICcn\nh88///yoCqp69OiBxWJhy5Yt1Y5/9dVXZGdnN/l6jfXaa68xZcoU5s+fz/nnn8+JJ57Ivn37qk1P\nmDRpEgcPHmTRokV069aNfv36AXDsscdy8OBBEhISQoGxqqrMmzePwsLCWp9v+fLlrF69mjFjxnDv\nvfeyZs0aioqKan2vhBBCNI8M/QsRhfr168dpp53G7NmzmTNnDkOHDsXlcvHJJ5+wcuVKXn31VSC4\njJPb7WbXrl10796djh07smHDBk4++WTKysrIycmhtLQUn89X6/m7d+/mP//5D/feey9JSUmsXLmS\nrl27hgLhpnA4HFx88cU8/PDDOJ1OunXrxmuvvUZeXh7nnntuWF+fqjp27MiXX37JDz/8QHx8PO+8\n8w4fffQRgwYNCp2TlJTE6NGjefHFF7n22mtDx0eMGEF2djZz5szhtttuQ1VV7r//ftxuN926dasW\n5FcqLy9n4cKFpKamkp2dzYYNGzBNs8F5t0IIIZpOMqpCRKnHH3+ciy++mNdee43p06czY8YMPvnk\nE/7+979z4oknAjBs2DD69evHWWedRW5uLo888gg///wz06dP54YbbqBbt26cc845fP/997Wef//9\n99OjRw+uuOIKzjzzTH799Veef/75o27zzTffzOTJk7njjjv4/e9/z65du3jttddC81IbM4+zqXM9\nb7zxRo455hguuugiLrzwQnbu3MncuXPZuXNnKECHYFGVz+dj6tSp1Z7rb3/7G6mpqVx66aVceuml\ndOjQgRdeeCHUjiPbM2PGDC666CLuu+8+Jk+ezJIlS1i4cCE9evRoUruFEEI0TDHrW2tGCCHaiMWL\nF7N69WoWL17c2k0RQgjRSBEd+g8EAixfvpxDhw4RFxcXymQsW7YMRVHo0KFDteyGEEKE244dO9i2\nbRvPP/88t956a2s3RwghRBNENFDdvHkzdrudP/7xjxQWFvLuu+9itVoZN24cPXr0YNWqVWzbtq3e\nqmQhhGiObdu2cc899zBx4kROP/301m6OEEKIJohooJqfn89xxx0HQEZGBgUFBZimGZrLlZ2dze7d\nu+nbty+lpaWhbQsrJSYmkpycHMkmCiHauGnTpoU2AxBCCBFbIhqodurUie3bt9O3b1/2799PaWkp\niYmJofvj4uLweDwAbNq0idzc3GqPHzVqFGPGjIlkE4UQQgghRJSKaKB60kknkZ+fz8svv8wxxxxD\nly5dKCsrC93v9XpDC2kPGTKEPn36VHu8x+OpcxFtq9VKWloahw4dIhAIRK4TVcTFxeH1eiP+PNK3\n8JK+NZ/0Lbykb80nfQuv5vQtKysrzK0R4rCIBqqV+4hPmjSJvLw8iouLSUxM5KeffqJnz57s3LmT\nXr16AZCcnFxjmD8vLw+/31/vcwQCgQbPCRer1dpizwXSt3CRvoWP9C08pG/hI30Lj5bumxCNFdFA\nNSMjg6VLl/LRRx/hdDqZPn06Pp+PFStWYBgGmZmZski2EEIIIYSoVUQD1fj4eC655JIax2fNmhXJ\npxVCCCGEEG2A7EwlhBBCCCGikgSqQgghhIio0aNHo6pqtX8Wi4WDBw/W+7i9e/eiqio333xz6Drp\n6ekt0WQRJSI69C+EEEIIoSgKiYmJLF++nKo7tzc16FQUJdxNE1FOMqpCCCGEiDir1crw4cMZMWIE\nI0aMYNSoUVitVv7yl7+gqirffPMNQI3bdXnllVdQVZX58+eTnZ1NWloaV111Vej+efPm0bVrV+Li\n4ujZsyeLFi2qdv0FCxbQo0cPevbsycsvv8yFF15ISkoKAwYMYNu2bUBw9aEzzzyTlJQUjj32WJ58\n8skIvTqiLhKoCiGEECLiiouLcTqdOJ1O4uPjufvuu4FglrRqpvTI23WpPGfx4sU89NBDDBgwgJde\neonPP/+cn376iTfffJOzzz6bd955h7S0NG699dZqj1uzZg2PPfYYJSUl/PGPfyQjI4P777+f77//\nnscffxyAiy66iO3bt/PMM88wc+ZMbr75ZlavXh3W10XUT4b+hRBCCBFxSUlJfPDBB6Gh/65du9Z6\nXtWpAY1x++23c+6551JSUsInn3xCfn4+Q4cO5b333mPVqlW8/fbb/PLLLxQVFYUeoygKDzzwAMOG\nDSMnJ4eNGzfy9NNPYxgGN910E0VFRbjd7tCOmZdeemnocatXr2bKlClH8xKIoyCBqhBCCCEizmKx\ncMopp9Q4XpnhrNyFq7y8vNHXVBSFpKQkAOx2OxAMdL/44gvGjRvHeeedx0UXXYTH4+Ef//hHtccm\nJCSE2hUfHw+AqqqhawQCAUzT5PTTT+euu+5C13VcLldooyLRMmToXwghhBCtpkOHDpimyeLFi1m3\nbh3//Oc/G/3YI7Ovlbc//fRTNE0jJSWFvXv3sm7dulrPr09ycjJDhw7l448/ZuvWrbz11lucdtpp\nbNmypdHXEM0ngaoQQgghIq6ueacXXngh48eP59lnn+Xuu+/moosuqvG4I+ew1nXNytsXX3wxo0aN\n4vnnn+fBBx9k+PDhAHz77bcNtq3q8y1dupTRo0fzpz/9icWLF3PXXXdxzjnnNLbLIgwUs6mTQVpQ\nXl5enffZbDaysrLIz89vsf2JnU4nmqZF/Hmkb+ElfWs+6Vt4Sd+aT/oWXs3pW5cuXcLcGiEOk4yq\nEEIIIYSIShKoCiGEEEKIqCSBqhBCCCGEiEoSqAohhBBCiKgkgaoQQgghhIhKEqgKIYQQQoioJIGq\nEEIIIYSIShKoCiGEEEKIqCSBqhBCCCGEiEoSqAohhBBCiKgkgaoQQgghhIhKEqgKIYQQQoioJIGq\nEEIIIYSISoppmmZrN6IuBQUFWCyWWu9TFAW73Y7P56OluqCqKoZhRPx5pG/hJX1rPulbeEnfmk/6\nFl7N6VtaWlqYWyPEYdbWbkB9fD5fnffZbDZSU1NxuVz4/f4WaY/T6UTTtIg/j/QtvKRvzSd9Cy/p\nW/NJ38KrOX2L9kB17969nHDCCZSVlTXpcb169eLtt99m8ODBEWpZ7V599VWWLl3KypUrW/R5o1VU\nB6pCCCGEaBuKdu/EX1AQtuvZMjNJ753dqHMVRQnb87aEWGtvJEmgKoQQQoiI8xcUUPbsk2G7XtK1\nc6CRgWpd/H4/t912Gx999BG6rnPSSSexcOFCEhMTAcjJyeHrr7/G5/Nx8803M2vWLHJzc5k9ezYJ\nCQm43W42btzIokWLePrpp7FarXTs2JGcnByys7OZNWsWycnJfPvtt+zfv5++ffuyZMkS4uPjG9W+\n7du3c/311+NyucjLy2PQoEEsWbIEu92O0+nkpptuYtWqVZSVlfHoo4/y1ltv8e2339K1a1dWrlyJ\n0+lk27ZtzJ49m6KiInRd58Ybb2TmzJm4XC5mzZrFzp07UVWVIUOG8Pzzzzfr9YwEKaYSQgghRLv0\n8MMPY7PZ+O9//8uWLVvo3Lkzc+fODd0fHx/Ppk2bWLt2LXPnzmXr1q0AfP/99yxZsoQtW7bwn//8\nhwULFpCbm8uWLVu44IILOOOMM0LX2Lx5M2vXrmXr1q3k5eXx1ltvNbp9L730EjNnzuSTTz5hx44d\n7N69m3fffRcAr9dL165d+eabb7jmmmu44oorWLhwIT/88APFxcUsX74cXdc555xzeOSRR/jyyy/Z\nsGEDjz32GBs3buSdd96hvLyczZs3s3HjRgB2794djpc1rCSjKoQQQoh2adWqVZSUlLB27VogmGHt\n2LFj6P6rrroKgM6dOzNx4kTWr1/PgAED6N69O926dQNgzZo1nHfeeaSnpwNw6aWXMmfOHPbu3QvA\npEmTsFqD4daAAQMoKipqdPseeeQR1q1bx2OPPcb27dv55ZdfKC8vD91/9tlnA3DssccyYMAAOnXq\nBATn1xYVFbF9+3Z27drFZZddFirM83g8bNmyhYkTJ3LnnXcyZswYJkyYwJw5c+jdu3fTX8QIk0BV\nCCGEEO2Srus89dRTTJw4EQC3243H4wndX3XlIdM0sdlsAKGpAUCtqyUYhhEqhHM6naHjiqLUupLD\n0qVLOf3003E4HNWe5/zzz8cwDM4991xOP/109u3bV+3xcXFxof+vfMyR/UtLS2Pz5s2hYwcPHiQ1\nNRW73c7OnTvZsGEDH374IePGjSMnJycU/EYLGfoXQgghRJtW1zJfEydOJCcnB7/fj2EYXH755dx+\n++2h+1955RUA9u3bxwcffMC4ceNqvcaSJUsoqCgUW7RoEZmZmWRnN37+7Ny5c/nss8+A4FSBY489\nFoC1a9dyzz338Ic//AHTNPniiy/Qdb3R1+3Tpw8Oh4PFixcDsH//fk444QQ2bdrEc889x8yZM5kw\nYQLz589n4sSJfPfdd42+dkuRjKoQQgghIs6WmRksgArj9RrL7XaTnJwMBINWRVH47LPPuPvuu7nl\nlls46aSTMAyDQYMG8fjjjwPB7KfH42HIkCH4/f5QgdSBAweqXXv8+PHcdNNNjB07FtM0ycrKCs0j\nPbJ6v65q/r/97W/Mnj0bv99P9+7defPNNwGYP38+Z555JhkZGcTHxzN69Gh27txZ77Wq3mez2Vi+\nfDk33ngjjz76KIFAgHnz5jFs2DAGDhxIbm4u/fv3JyEhgR49ejB79uxGv6YtJaoX/M/Ly6vzPpvN\nRlZWFvn5+TGxzlxTSN/CS/rWfNK38JK+NZ/0Lbya07cuXbqEuTVCHCZD/0IIIYQQIipJoCqEEEII\nIaKSBKpCCCGEECIqtdlANRAwcbuidvqtEEIIIYRoQJsNVLd9r7P8bV9rN0MIIYQQQhylNhuo+v3g\n9UhGVQghhBAiVrXZQFXXg8GqEEIIIYSITW04UDXxy8i/EEIIIUTMarOBqqGDzy9D/0IIIYQQsarN\nBqq6gWRUhRBCCCFiWJsNVA0d/JJRFUIIIYSIWW02UNV18ElGVQghhBAiZrXhQDVYTGWaklUVQggh\nhIhFbTZQNQwwzWBmVQghhBBCxB5rJC+u6zrLli2juLgYVVWZNm0aqqqybNkyFEWhQ4cOTJ06NULP\nHfyv3wfWiPZSCCGEEEJEQkRDuB07dmAYBpdffjm7du1i/fr1GIbBuHHj6NGjB6tWrWLbtm307ds3\n7M9tVASqPp+JM14J+/WFEEIIIURkRXToPyMjA8MwME0Tr9eLxWLhl19+oUePHgBkZ2eze/fuiDx3\nKKMqu1MJIYQQ7ZqqqgwcOJCTTjqJwYMH07dvX0499VQ2bdrU4u0oKiri1VdfZdq0aTXu79+/PytW\nrAjdXrt2Laqq8uKLL4aO/fe//6Vz585H3YaJEydSVFQEQK9evdi8efNRX6shlf1tjohmVO12O8XF\nxeTk5OB2u7nwwgvZu3dv6P64uDg8Hg8ApaWllJeXV3u8x+MhKSmp1mtbK8bzrXWM65sEgv81rNhs\nlmb3BcBisWCz2cJyrfo01LdIkL41n/QtvKRvzSd9Cy/pW/PsLNpNgb8gbNfLtGWSnd67UecqisKG\nDRtIS0sLHXv88ce54YYb+PTTT8PWpsa0o7b/rzR58mQ2bNjA9OnTAVi1ahXTp09nxYoVXHHFFQCs\nX7+eKVOmHHUb1q1bd9SPbara+thUEf0t+Pzzz8nOzmbcuHGUlpbyyiuvoFepbvJ6vTgcDgA2bdpE\nbm5utcePGjWKMWPG1PscVX/oqrLbfgN8JCSkkJXlbF5HWkldfWsLpG+xSfoWm6Rvsamt9a3AX8CT\nZc+G7Xpzkq4lm8YFqqZpVlsFSNd19u3bR2ZmJgD33XcfhYWFLFy4sMbtf/3rX8ybNw+LxYLFYuGx\nxx5j5MiRdR4vLS1l9uzZfPfdd/j9fsaNG8djjz2GqjY8iD158mT+/Oc/h26vWrWKtWvX8rvf/Q5N\n03A6naxfv56rr74agG3btjF79myKiorQdZ0bb7yRmTNn4nK5mDVrFjt37kRVVYYMGcJzzz3H5Zdf\nDsCYMWN49913AcjJyeHrr7/G5/Nx8803M2vWLHJzc5k9ezYJCQm43W42btzIokWLePrpp7FarXTs\n2JGnn36a4447jtLSUq677jq++uorVFVl0qRJzJ8/H1VVQ6/5r7/+yoQJE7jmmmu49tprG/WeVYpo\noOp0OkNvjMPhwDAMOnfuzE8//UTPnj3ZuXMnvXr1AmDIkCH06dOn2uM9Hg/5+fm1N9xqJS0tjUOH\nDhEIBGrc73IFM7UHDxaTklZe4/6jERcXh9frDcu16tNQ3yJB+tZ80rfwkr41n/QtvKRvtcvKygpz\nayJjzJgxKIpCfn4+DoeDadOm8fLLLzf4uFtvvZU333yT3/3ud3zwwQds2LCBkSNH1nn8pptu4uST\nT2bRokUYhsHMmTN54oknuOWWWxpcMvP//b//x+7duykuLubnn38mPT2d7OxsTj31VNauXcvkyZPZ\nuHEj77zzDrquc8455/DGG28waNAgSktLGTZsGP3792f79u2Ul5ezefNmDMPgmmuuYc+ePbz88su8\n8sor1bLL8fHxbNq0iV9++YVBgwYxdOhQAL7//nv27NlDt27d+Pe//82CBQv4/PPPSU9P59VXX+XM\nM8/k+++/54YbbiAzM5Nvv/0Wv9/PtGnTWLBgAbfeeisA+/fvZ8aMGdx1112cf/75TX7fIhqoDh06\nlOXLl/Pyyy9jGAbjx4+nc+fOrFixAsMwyMzMpH///gAkJyeTnJxc7fF5eXn4G5hkGggEaj3H7zcA\n0DR/2HaoslqtDbYnnOrqWyRI38JH+hYe0rfwkb6Fh/QttlUGZ1999RVTpkxh+PDhoYxqfS644ALO\nPPNMpk6dyoQJE0IBWF3HV61axZdffslLL70EBJNujcmmQnDK5OjRo8nNzeWHH37g9NNPB+D0009n\n7dq1pKamcvLJJ5OQkMDWrVvZtWsXl112WSgA9ng8bNmyhYkTJ3LnnXcyZswYJkyYwOzZs+nd+3D2\nuWrAfNVVVwHQuXNnJk6cyPr16xkwYADdu3enW7duAKxZs4bzzjuP9PR0AC699FLmzJnDTz/9xJo1\na0LTJ2w2G1dffTVPPfVU6PWYOnUq3bp1O6ogFVpgjuof/vCHGsdnzZoVyacFglX/ihJcnkoIIYQQ\n7VtlcDZo0CCeeOIJLr/8coYOHcoxxxyDoijVgjdfla0tH3jgAS6//HLWrl3LK6+8wsMPP8zmzZtr\nPb5p0yZ0Xeett94KjRKXlJSEAtXGzNmcPHkyH330EZ9//jlPPfUUEAz2nn/+eTIzM0PLeuq6Tlpa\nWrViqIMHD5Kamordbmfnzp1s2LCBDz/8kPHjx5OTk8PZZ59dox0Wy+E6HtM0Q3OVExMTQ8cNw6j1\n9QwEAjWyxIZhVPvS8/zzzzNv3jyeeOIJbr755gb7f6Q2u+C/boDDIVX/QgghhKju/PPPZ/jw4cye\nPRsITl+oXAHA5XKxdu1aIBgM9urVi/Lycq688kqeffZZtm3bht/vr/V4IBBg4sSJPPHEE0CwFmf6\n9Onk5OQAjdstc9KkSaxdu5b9+/dz8sknA9CzZ08Ali9fHgpU+/Tpg8PhYPHixUBwiP2EE05g06ZN\nPPfcc8ycOZMJEyYwf/58Jk6cyHfffQcEA9Oqgfgrr7wCwL59+/jggw8YN25cjTZNnDiRJUuWUFAQ\nLIZbtGgRGRkZZGdnc9ppp/HMM8+E+vvCCy9w2mmnhR47bNgwXnnlFR588EF++OGHBvt/pDa7FL6h\nmzicCj6vbKEqhBAARYUGO37UOXV45CvXhThSpi2TOUlNK6Rp6HqNVVsm8+mnn2bgwIGsW7eOGTNm\n8N5773H88cfTtWtXhg8fjmmaWCwWnnrqKS688EJsNhsWi4VFixZhs9nqPL5w4ULmzJnDgAEDCAQC\n1aYFNCaj2rNnT3RdZ+LEidWOT548mX/9618cf/zxQHCYffny5dx44408+uijBAIB5s2bx7Bhwxg4\ncCC5ubn079+fhIQEevToEQrKzz77bEaOHBnafMnj8TBkyBD8fj85OTlkZ2dz4MCBas89fvx4brrp\nJsaOHYtpmmRlZbFq1SoAFi5cyA033MCAAQPw+/1MmjSJO+64o1p/jz/+eO6++24uuugiNm7c2KQV\nLRSzMeF9K8nLy6vzPpvNRlZWFvn5+bXOq/n73zy4XSYDB1v5f2PD86HsdDrRNC0s16pPQ32LBOlb\n80nfwkv61nxH9u2brwJ8khvgmtmOiD2nvG/NF2t969KlS5hbI8RhbXfoX4c4h4LPF7VxuBBCtCjN\nbVJeJp+JQojY0WYDVcMAh1OROapCCFFBc0NZqdmoeXJCCBEN2mygqusVxVRS9S+EEEAwoxoIgNfT\n2i0RQojGabOBqqGbOBxK2NZQFUKIWKdpwc/DMhn+F0LEiDYbqOoGOJzgk4yqEEIAwaF/CA7/CyFE\nLGizgaqhU5FRbe2WCCFEdHC7TeITkIIqIUTMaLOBarDqH/xS9S+EEAB4NJOsDqoM/QshYkabDVQN\nA5xS9S83n0glAAAgAElEQVSEECGaBh06KpTL0L8QIka02UBVryymkoyqEEIAwaH/Dh0loyqEiB1t\nOFCtKKaSjKoQQqDrJgE/ZGSpUkwlhIgZbSZQNU0Tn3m4xN+o2JlK1lEVQohgxb/DCUnJihRTCSFi\nRpsJVHcZe3jV+3+h25UL/ssWqkIIEVxD1RmvkJQk66gKIWJHmwlUy8wyXLhDt0NbqEpGVQgh0Nwm\nTqdCQqKC2wWGIcGqECL6tZlA1W1qoaF/0zQxTbDbgwGrrssHshCifdPcEB8PFouCMx5c5a3doqYx\nTIMDRl5rN6NN+u1XQ3ZxFFGrzQSqGh78BCundB1UFRRFwWaDgBRUCSHaOU0zcTgVAJKSlJgb/j9o\n5vOS97XWbkabtOJtH999I8OPIjq1nUC1SkbVqAhUAWx2qfwXQgjNHZyjChUFVTFW+e82NcrMcgzT\naO2mtDkej8nBX/XWboYQtWpDgaoHX2VG1QDVEjxus8laqkII4a4Y+gdIjMGMqoYHA4NyYmzOQgzw\naLT5QPXzzz9n7NixDBo0iAEDBjB16lR++OGH0P0TJ06kqKjoqK9/3333ceONN4ajqXV69dVXGT58\nOIMHD+aEE07g6quvpqSkJKLPGQ2srd2AcNHQ8OHDNE10HSyVgaod2Z1KCNHueTSTlNTDQ/+xtkSV\nZmoAlJhlJCvJrdyatkXTTH77TSfSIcHunUUUFITvD3Jmpo3e2ekNnufz+Zg2bRoffPABAwcOBGDx\n4sVMmTKFPXv2oCgK69atC1u7IuGhhx7i/fffZ8WKFWRmZqLrOrNnz2b69Onk5ua2dvMiqs0Eqm5T\nw8QkQABDt2CpyBXbJaMqhBC43SadugQ/GBOTFYqLYutzUTM9AJQYpXRXu7Zya9oOwzDxeiD/Nx3D\nMFFVJWLPVVDg59kny8J2vWvnJNE7u+Hz3G43JSUllJUdfu4ZM2aQkpJCIBDgqquuAmDMmDGsXr0a\nRVG4/vrr2b9/P36/n/PPP5+5c+eyd+9eRo0axejRo/n6668ByMnJYcSIEQBs3bqVsWPH8ssvv9Cp\nUyf+8Y9/0LFjR/Ly8uq83rhx45gyZQpffPEFhw4dYt68efzhD3+o0f758+fz9ddfk5mZCYDFYmHB\nggW88847+P1+HnroIQoLC1m4cCEQzPBW3h4zZgzp6en8+OOPXHPNNSxdujR0+9xzz2XBggUcOHCA\npKQkAPr06cPSpUsZMGBA896gMGk7Q/8EP8R8+IPFVJbgL5vNDj6ZIy6EaOc0DZwVQ/+xWEzlIZhR\nLTVLW7klbYvPF/w76XQqlJbE1s9EY6WmpvLoo48yceJEsrOzueSSS1i0aBHjxo3DZrPx8ssvA7Bh\nwwa6du3KxRdfzOWXX86XX37JF198wbp161i6dCkA+/btY/LkyWzZsoX58+dz7rnnouvBaRN79uxh\n6dKlbN26ldTUVF566SWAeq+3e/duJk+ezBdffMHDDz/Mn//85xrt37ZtGwkJCfTu3bvacYfDwQUX\nXIDNZmvwNUhPT+e7777juuuuq3b7nnvuYfz48SxevBiADz/8kMzMzKgJUqEtBaoVw0I+04dRZejf\nLkP/QggRWkcVgnNUY2/o34MdOyUSqIaVRzNxOBQ6dLKQfzC2fiaaYs6cORw8eJCFCxfSpUsXHn30\nUQYPHlwty2qaJm63m9zcXO6++25OOukkhg4dyv79+/nqq6+AYIB33nnnATBp0iSsVivffPMNABMm\nTCA9PTgVYeDAgRw8eLDB69ntdiZPngzA4MGDOXToUI22q6qKYTSviPB///d/67x97bXX8uKLLwLw\nwgsvcM011zTrucItqof+7XY7lsqI8wiKouB2u7HZbFitVjyahwQlHtVhwWKLw2r14XQ6cTgCKNhw\nOuOa3R5VVXE6nc2+TkOO7FtLkL41n/QtvKRvzVe1bx6PQlqaA6fTSlZWAFe5PyJtiFTffLqfzmYn\nXBY3Tqez3bxvke7boaIA8fF+OnayUlzUMv1raZ9++imffvopt9xyC1OmTGHKlCk89NBDnHDCCaxb\nt46zzz4bCL7uldnRzz77jLi4YNxQWFiI0+kkPz+/xvuh63ooTqma2VQUpaJmpv7r2e32Go85Uv/+\n/fH7/ezevbtaVtXr9XL22Wfz97//vcZjfUcMJScmJtZ5e/z48bjdbj788EM+/vhjXnstupaBi+pA\n9cgXuiqbzUZqaioulwuvz4tmeuigZFHmKcXiTkBRTDRNQ7XouFw+NK35S5o4nU40TWv2dRpStW/+\nFkoHS9+aT/oWXtK35qvaN7fLQFG9aJofm92ktMSISBsi1bfyQDkdyKTIfwhN09rN+xbpvhUX68Q5\nTLI6quT97ONoupeWlhb+hoVRVlYW8+bNY/jw4QwfPhyAAwcO4Ha7OfHEEwGwWq34fD7S0tIYOnQo\nCxYs4M4776S4uJgRI0Zw7733Mnz4cA4ePMjatWs57bTTWLlyJXa7nQEDBvDOO+/U+txJSUn1Xu/I\nwLS2QNVut3Pbbbdx2WWX8c9//pMOHTrg9XqZM2cOmqbRqVMnsrKyWLNmDQAul4u1a9cybNiwRr9G\n11xzDX/84x+ZMWNGteA5GkR1oNpYPnzYsOJUHPhMH3FVq/5tCj4pphJCtHNV11F1OINTovw+E5s9\ncsUz4aSZHo6xdOfngOxOFU7BoX/o2MnC15sju0ZtZqaNa+ckhfV6jXHcccexbNkybr/9dg4cOIDD\n4SAlJYUXX3yR7OxgNdZZZ53FyJEjWb58OW+++SbXXXcdJ554In6/nxkzZnDBBRewd+9eHA4Hr7/+\nOrfeeivx8fEsX74cRan/d2jx4sVcf/31tV7vyMfWda25c+eSkJDAxIkTURQFj8fD6NGjWbZsGRAs\nDluzZg3HH388Xbt2rRYEN+Y5LrnkEm655ZZQYVk0aROBqtvUcCpObNjw4ceqm6FiKrsd/FJMJYRo\nxypXPqkcmVQUJbjof7lJWnqMBKp46KR2kGKqMPNo4HAqdGyBOaq9s9MbVaUfCaNGjap3GaclS5ZU\nu71y5cpaz7NYLLz++us1jt9777113u7Ro0et1+vRowelpaV13j7SDTfcwA033FDrfcnJySxfvrzW\n+z788MN6bwO89957TJgwgWOPPbbO528tbSJQ1dBw4sSu2IMZVaP6OqqyM5UQoj1zayZOZ/VMSmKS\nQlmpSVrDy1BGBc3UyFQy8OAlYAaw0bhsmqifp2Jr3ZRUFa/XDN0WtWsoexqLxowZw8GDB3n77bdb\nuym1ahuBqunBqTiwY8eHv/oWqjL0L4Ro5zS3iSO++h/YWFv032N6iFecJCtJlJilOGl7RT+tQfOA\nwxEMwLKyVPIPGnTvUXsRc3vXUMYzVv373/9u7SbUq00sT1U59G/Hhs/01dyZSob+hRDtmNtlEn9E\noBpL26iapomGBwcOkpUkSs3wLRrf3nm1w8uWZXVQ2vQSVSI2tYlA1YOH+Mqh/4qM6uFiKvD75RdP\nCNF+aRVD/1UlJUNZaWx8NvrwYcWCVbGSoiTLWqphpFUZ6s/sGMyoChFN2kSg6jY1HIoDOzb8+NCr\nFVMpklEVQrRrbtfhiv9KwUX/W6lBTaSZHhxKMNJOlkA1rDwVQ/9QkVH9LTa+vIj2o00EqpqpEa8E\nM6pe049uVM+oSjGVEKI9q7orVaVY2kY1WDAbjKZSlGSp/A+jqsVTWR0koyqiT9sIVCur/isyqtWK\nqexKaGkWIYRojzStZkY1KVmhPEaG/isLZoGKof8YSQXHAI9GaFpIRqbCoSITXY+NnwvRPrSJQNVd\n8SFmU+z4TH+1Yiq7PbiwtRBCtFfBof/qx2KpmErDE6ryD1b9l7Ryi9oOzWMS5wh+ibHZFJJTFIoK\nY+PnQrQPbSJQ9ZhasJgKG76KjKpU/QshRJCm1Rz6T6xYnqq2LRujjWZq1TKqUvUfPp4jfjayOioy\n/C+iSpsIVN0EP8TiKtZR1Y3DxVQ2m4JPqv6FEO1Y1e1TK9ntChZrsJgm2tUc+i+NiQA72pmmWbEz\n1eFjWR1UKagSUaVNBKrBDzEnNqXKOqoVPZMtVIUQ7Z3bbRIfX/N4UsXuVNHOU1GHABBHXMUxb2s2\nqU0IVEyLs9mqZFSloEpEmbYRqIaKqez4a6yjKjtTCSHaN81d+7aYiTGyO1VweapgRlVRlGBW1ZDK\n/+byeKpnU0EW/RfRp20EqhUZVbtiw1uRUVWrzlFtZ8VUe/S9bNd3tnYzhBBRwl3L0D8EK/9joaCq\n8jO+khRUhUdtc5crM6oytUJEi5gPVP1mAAMDOzbs2PFxxBaqtuDwRnv6pdumb2e1f21rN0MIEQVM\n06xYR7XmfYlJsbFEVdV1VAFSlBTJqIaBRzNxOKoHqgmJCqoK5eWt1CghjhDzgapmunHiQFGUw0P/\nhomqBn/5VFXBYjk8F6c9CKCzz/iZX43fWrspQohW5vGYWK1gtdaSUY2RJaqqFlMBpChJsjtVGNQ2\n9A+VBVUyT1VEh5gPVN1VhoTsVYupLIfPsdna1/B/AD9OHHwZ2NLaTRFCtDJXuU58Qs0gFSoW/Y+F\nQBUP8VQd+k+mxJCh/+aquitVVcF5qhKoiugQ84GqZrpD37TtFctTGUcGqvb2VVDlJ8DJ1pPYpG9B\nN/XWbo4QohW5XEaNeYiVEmOk6l8zNRxV5qhKMVV4BOeo1jye1UGlQAqqRJSI+UDVbR7escSiBKNT\nv26Eiqmg/RVU6aZOV7ULqUoqPxpSVCVEe+Z26bUWUkEMLU9VY+g/mWIppmo2r4cac1RBlqgS0SXm\nA9WqO5ZAMKsaMIxqGVW7rX2tperHjxUrv7MM5svAptZujhCiFZWXG8TXEagmxkDVv2maFVuoHv6c\nT1aSJKMaBlq9Q//R/XMh2o+YD1TdpkZ8lSEhu2LHrxtY1MO/fDa7gr8d7U4VIIAVKydZT+RHfScu\n093aTRJCtJL6MqoJCaC5Qdej9/PRhw8rVgI+lY83BIfGUpRkyswyDFOyfs1x5K5UldIygpn29jRl\nTkQvayQv/tVXX/HVV18BEAgE+PXXX7nssstYs2YNiqLQoUMHpk6d2qzn0EwNR5VJ9nZsNYb+7Xbw\ntaOMasDUsSpWnIqTfpbj+SrwDSNsQ1u7WUKIVuAqN+oMVC0WBWc8uFyQnNzCDWukyor/ogKTD9f6\nGTnKilWxEqfEUabLGkrN4fGYOBw181WqqpCRqVCYb9K5a+0/O0K0lIhmVAcNGsTMmTOZOXMmnTt3\nZvLkyeTm5jJu3DhmzZqFaZps27atWc/hNt3VM6rYCejGEVX/7Suj6sePreI7yCnWwWzUN7dyi4QQ\nrcXl0usc+ofgPNVoXku1cg1Vr9fE6wG3K3g8RUnmkH6odRsX4zy1LPhfKaujykGZpyqiQIsM/R84\ncID8/HyGDBlCXl4ePXr0ACA7O5vdu3c369pH7lhiV2wEaiumak8Z1Yqhf4Dj1WxKzFJZU1WIdsrl\nqjujCtG/O1XlZ7zXG7xdVBgMnlLUFA4FiluxZbFPq2PoHyrmqcpaqiIKRHTov9J//vMfRo8eXeN4\nXFwcHo8HgNLSUsqP2ArD4/GQlJRU6zWt1mDTNcVDkjUBm80WvKYvDt0Au916+FicH123hG4fLYul\n+ddojMq+Vf63qXSPgcPmwGYJtvVUYwibjK84M+70Oh8TK307GtK35pO+hVdL9s1V7uWYHlZsNkut\n5ySn+NHcatjaE+6++fETr8cT8AfzKqUlwbam6akUBQ7R03pM2J6rIW3tZ9Lr9ZCYZMNms9ToW6fO\nJj98F2iR/gpRn4h/Mns8HgoLC+nZsycAinL4m73X68XhCFZybtq0idzc3GqPHTVqFGPGjKn3+n6L\nn86pncmKzwIgKZBImWohPS2FrKwEAJJT8omz28jKSg1Xt1pEWlraUT3OdJt0SOtAVlzwNZnkm8AD\nBx7hssxLQkt4tbaj7VsskL7FprbaN7frAB06pJGVFV/r/R07FWDoKllZ6S3cssaxltlIc6VitycC\nGprmJCsrnU6FHTmkF5OW3jbfN4j8z6TPW07XrhlkZNYMRvv09fCf3INkZWVFtA1CNCTigerevXvp\n1atX6Hbnzp356aef6NmzJzt37gzdN2TIEPr06VPtsR6Ph/z8/Fqva7VaSUtLo9RXiq/ES74reJ7p\nM/F4/JSVl5CfH6x213WNoiIP+fnNW0w1Li4Ob+X4UwRV9u3QoUMEAoEmP94T8FB2qJR8ix0IFpil\nksLHv3zC/9j61fqYWOnb0ZC+NZ/0Lbxasm8ul4FuuMjPd9VxjpdffzHIzw/P5iDh7ttv3t9QDIWC\n/DLi4mD/3jLy83XiAnZ+s+S32fetJX4mXeU6bu0QRr5So29Wu8mveT5+++1gaEvyukgwKyIp4oFq\nQUFBtW+Fp512GitWrMAwDDIzM+nfvz8AycnJJB9RdpqXl4e/gZX63YaGTbfhN4PnWQ0rAd3ANPXQ\nIv8Wi4nHYzR4rYZYrdZmX6MpAoHAUT2fnwAEwG8cfuzJ6kl85t3I8WTX+phY6dvRkL6FT3vs22+/\nGvyaZzBwcPg+Lluyb65yHXucjt9f+3xDZ4JByW49bO0Jd9/KdRdxph23W6djZ5WC/GBbk0hkW2AH\nAaX9/UyGg66bBAKgqn78fqVG31QV4hMUCvJ9pKXH/EqWIoZFPFAdMWJEtdsZGRnMmjUrbNd3m1qN\nYir9yC1UbVAe5lVMigoNUtOUBr9ptoaA6ceqVH9rT7KeyCptDS7TTYJS+xCgEKKmn/cZ/PCdHtZA\ntSW5XHUv+A/RvzuVZnpIVpLQvCadu6ps+z6Y+U1RUzjkLwaZQnlUvB6Ii6s+He9IwYIqk7TonBUi\n2omY/ppkmAaeI3YssWPHODJQjUDV/5LXfezfG50VkQECoeWpKgXXVO3DlsDXrdQqIWKT32/i0aI3\nkKuPYZhobqPW3YcqJSYplEd11X9w90GvBzp0DLY1EDCDy1MFZHmqo1XXrlRVZcpWqiIKxHSgqhka\nccShKoe7YVfs6AZHLPgf/nVUXS6TFhwBapIAemh5qqpOsQ7mS1lTVYgmCQTA64neQK4+Hs3EGa/W\nO/IT9ctTVSQjvN7gmp8pqQrFRSZJSiLlugvdDM/c2vbG46l7aapKspWqiAYxHai6DDdOxVHtmB1b\nMKNadQtVW/h3ptLcJnoUfj7qpo6JiVrLW3u8mk2pWcYvxq+t0DIhYlPAH1xvMha53SYJCfV/zDsc\noAeI2u0yPRXTu7xekzgHwR2TCk1URSXFkkypWdbaTYxJHs3E4WigSEoyqiIKxHygWnVXKghmVA09\nshlVwzDxeKJzf+zKYf/a5h2pisrJlpP4MrClFVomRGwKBEw8MZpR1dwmCYn1L0mnKEpUD/9rZkVG\n1QNxcQppGWpo0f80ayrFRkkrtzA2afXsSlUpmFGVQFW0rtgOVHVXtUIqABs2DF2J6BxVrwdMk6jM\nqAbQsdRTI3eKdTCbAl/JcJkQjRTwV/7OR2cgV5/GZFShYhvVaA1U8eBQnPi8JnFxCunpCocKg21N\nt6ZRYpa2cgtjk7cRQ//JKQo+X/ALjxCtJaYDVXdtGVXsmEbNqv9wBqpaRWGF3jJL9zWJ3/RjU+oO\nVDuoWWSoafxo7GzBVrVPhfkGn30cpROZo9wn/s/J1wtauxkA+ANgGOGfPtQSNLdJfELDm3wkJkdv\n5X+omMoLcQ5Irxj6h2BGtcSQQPVoaI0Y+lcURYb/RauL6UC13KiZUY1T7Ji6ilqlZ7YwD/27K75d\ntlZG1fR5MQ4V1XpfgECthVRV/Y+lHz/q2yPRNFHFd9/ofPeNZK6PxkZ9Mz8H8lq7GcDhL6SxWPnv\ndpskJDYuoxqNBVWmaeLBixMHHk9FRjVD5VDl0L8llRJThv6PhkczG8yoghRUidYX04GqS6+ZUT08\n9H/4m6I9zMVUWnDDq1YLVPWt3+N/d3mt9zUmUM1We7ND3x2Jpokqdu/UaaENc9qcErMUH5HfAagx\nAoHgH2mPp5UbchS0Rg79JyYRlUP/XnxYsWJRLPi8wXU/0zMUigpNTNMkzZomGdWj5NFocHkqkIIq\n0fpiOlCtdehfsYNR2xzV8H0Ia6GMait9sPt8mK7adzCobQ3VI3VTu1BsllBmhnkXBBGi6yZ79xih\nIEc0nmEalJlleM3oGGuvXIYuZjOqjRj6T0pWKIvCeK9y2L9yFyWbHRwOBastGFinWdOkmOooeTwN\nF1OBZFRF64vpQNVVy9C/HVtw6L9aoKrgC+NUwVYf+vf76wxU/Wagxq5UR7IoFnqrPdklWdWIyfs5\nmIEIyBTVJiszyzEx8UVJoFqZFY/ZjGojh/6jMaNauYaqz1d9F6X0DJXCQoN0SyqlUkx1VDQtuDRZ\nQ7I6quT/JhlV0XpiO1CtZejfjh0MNaLFVJ6KNRVbqpjKNI/4ox2oO1BtzNA/wHGW3uw0JFCNlN07\nDXpnqzL0fxQqq7ijJaMa8AfX74zFJaoaXUwVpXNUQ2uoekziqhT+pGcoFBUYMvTfDJ5G7EwFwXVr\niw+ZMjokWk1sB6qGu9blqdAt1YqpKoPWcA3Vu90mFkvLZVS3Gtt5xfvm4QP+4ArkZi0NaGygmm2R\neaqRtGeXznF9LQTCvCNae1AZqEZTRjUpSYnhof9GZFSTozSjWrmGqhfscYePp2coFBYYJKjxBNCj\n5ktNLPF4GheoWq0K/QdY5Eu3aDUxH6gemVG1GjZMxai2ZaCiKGHNqmpuk8QkpcXmqO7S91RbK9Cs\n7IjbXeNcvxmod3mqSp2VTrhMl8zvigBdN9n7k8HxfSxRu81uNCs1S1FQoib4CPiDGUdPDO5O1ZgF\n/wESE4PLU0XbWrGVa6h6PSaOuKoZVZXCAgNFUUhRk2X4/yh4NHA2ouof4PyL4xpcykqISIntQLWW\nBf8VwwIWo8aC9jY7YZunqrmDGZaWyqjuNfbhpkpQWhH91Db8rzcyo6oqKtkVw/8FB42o3T4xFh3Y\nr5OaqpCcqkgW4iiUmKWkKan4iJJANWBWBKqx9zuiaY3LqNrswS/z0RaMH7mGaqVg5X9w3mSKkiyL\n/h+FxmyhKkQ0iOlAtbaqf8NQQDXwUT0qtdmUsFX+u90miUktM/Svmzo/Gwdwme5QtsOsJ1D1NzJQ\nheAyVTv13bzzlo8ft0rqL1x279TplW3Bag3+jERbliralZilZCmZeM3oWJ7KHwhmHGOxmMrtalxG\nFSoW/Y+y4f/KYiqvx8QeV32OamFBRaCqSqDaVJXbgMc1opiqIZoZg78YIqbEdKAarPqPr3bM0EGx\nGDXmt9nDuI2qR6sY+m+BbFme8QvpSjrA4eA7UBmoumqcH2hE1X+l4yzHstPYTVGhGdblu9q7XTsC\n9DpWRVGCy6RJVrVpSsxSstSM6JmjWjn0H2PFVJVLOjU2a5aUFH27U2mmJ1hMVbGGaqXkFAW3y8Tn\nM0hRUig1y1qvkTHI5wuOMlZdb/xoFZqFYWiREHWL2UDVZ/oxTWqsGarr1J5RDePuVG43LTZH9Sdj\nHz3VY0hQ4nGbFcP/fj8kJGK6awlUG7GOaqUOShY+v0FJiRHWnbvaM103+WlPgF69g1ksq1UC1aY6\nnFGNkkA1Rof+NTc445XQkk4NSYzCJaoOD/1Xr/pXVYW0dJWC/IBkVI+CR2vcGqqNUWjUvkuiEOES\ns4GqZmokWOJrfAjruoliMWvMb7OFcXcqrTKj2gJD/z8Z++hpOYZ44nFVzFM1/X7U1FRo5tC/oij0\nKOsPptJqRT+maeL1Rtcfx+bY95OXlFSVxKTgz6XNhhRUEQz2Gru8TTCjmhlVGdWkpNhbR9XtNomP\nb3wwEo3bqB4e+q+eUQXIyFQ5+KufFEWKqZrKo4Vn2B+g0DwUngsJUYeYDVTdpkaCGl/juGEEh/79\nZvXowG4PT8AQCJgYOjidLROo7jX200PtTqISj8usyKD6/SgpabXOUW3s8lSVMkuODT6ulTKqO7cb\nLHk9OuYihsO2HzR6Zx9+/a02RZaoAj76d4CPPmw4tew1fQQIkKqk4I2aYipiMqPq0UycTQlUkxXK\no2zoP7SOqtckLq56X9IzVPIP+klVUySj2kRaI3elaowCGfoXERazgapmaiSoCTWO6zqoai0ZVXt4\niqk0NzicYLFGvpiq1ChFMz1kKZnEVx36D/hRUlPrnKNqU2yNfo7Eoi4ArVb1X5BvxFymqj7btmoc\ne1yVQFWG/gEoOWQ2av5jqVlKipKMHXtUZFRN00TXISEGi6ncbpoUjETjov9V11E9MqOanqly8KBf\nqv6PglcL/h0LhyJDMqoismI2UHWbGvGWmhlVXSc49G9GZui/cjjNaon8zlR79L30ULujKioJSjwu\n8/DQf/0Z1cZV+QL4DsWDzU+xv2bQ2xKCO560ylOHnWGYbN/m4djsw6+/1SbbqAK4ys3Q1sP1KakM\nVBVbVMxRDX7xhfj42MuoBnelatrQf9TNUa1YR9V3xBxVqBj6/81fsY5qmayu0QRaGJemKjRljqqI\nrJgNVOvKqBo6qBYiVkyluYPDaRZL5Iupfgrso4elO0C1Oar4KzKqtRRTNWWOKsChIhNHlpt8T+t8\nKy4+ZKK3ka358n42SEuzkJh0+NfKalVk60HA5TLRmhKoRklGNeAPftmwxwW/6BpG7LyXWhMLZhKT\no7HqP1hM5aljjmr+wQB2xY4NK26ibBHYKNbY7VMbops6xaZsGiMiK2YDVbepkVhrRtWsdejfHqad\nqTTNxBnfMkP/e/S99FSPASBBSQhlVIOBah0ZVTOAtQlD/4cKTbI6QaGvdYbOiovaTkZ1184Affsf\nsaWvFFMBUF5uotXcSK2GErOUZCUZGzYCBDBMI/KNq4c/EJy+oaoK9jjweuA//s9Y789t1XY1huam\nyRnVaBr6N00TD96Kof+aGdX0DJWCg35M0yRZhv+bxONp/K5U9Sk2S0hWkpp/ISHqEbOBqma6ia+j\nmEEnBfcAACAASURBVEq1BJevqspmD8/Qv+YODgOqamQD1YAZYL9+gB5qMKNadXkq0+9HTUkDt7vG\ncFdTh/6LCg16dUqg2OtqlaCg+JDRZgLV3TsC9Ol3xJa+Vhn6B3CVNW3oX1EU7NhqjIy0tIDfxGYL\nBkhOp0Kx5uE9/wfsM/a3arsaQ3M3LaOakBj8fGupraEb4sWHFSsWxYKvloxqXJyCw6lSWmpK5X8T\nhWtXqkKziIyKdb6FiJTGjxG3ArvdjsVSe9DldflI0BOw2W1YrVWLV/xYrQqmzcRZ5StjfDxomlHt\nWFOpqkrAbyUxSSUhwY5p6M26Xn2+zttBpiWDtPg0ANJ8qXg8XpxOJ+6AH2dqKh6bHQcmqvNwwG4E\nTBLs8TjjGm6X5jYwDDfdO6RiORBHsb2ErtYuDT7OY3pxKHENnlcbRVFwu93YbDZM00JZmZuUFCL2\nOkLwfYvk9SE4JLxnt8bFl4PNdvhnMs4RQFVtOJ1H93o1pCX6BtXft6q/b40R8Jt4PG5QGn6fXQEX\nx9uzccY5sWt2VIeKU41s/+rrW5lFx2bz4XQ6ccZ7+cLzNamJKZRS3uzPkki/bz6fTmKStUnvW0Ki\nBz3gIDHx6HMY4eqbpnuI9zpxOp34/F5SUhw4nYf7oCgKGZkqpcUq6R3T0KwenOGqEKpDLPy+NYbf\nr5OUbMXpPLxG1dH0rdRTRkc6hLt5QlQT1YGqr54UaLnuondcL/w+P/4qY6tut46igsvnQqs6Z0nx\no7lNNO3o5zE5nU5KSnzY7QqBgA9/QG/W9epy8DeVN/7PoNd1x4Sub9WtlOlluN1uCATQAgFISEAr\nLEBVDv9R8QW8GIqJZjTcrrwDBmnpCqbpI1FP4Tv3D6Tb0up9zAHjF572PMfdzttIUGpmtBtis9lI\nTU3F5XLx6y9e7HHgDzTvfWmI0+mM6PUhOD81KUmhc+ck8vPzQz+TiqLjcvnQtMhkq1uib1D9ffM3\ncS5DSbFBUlJwnqrL5UZV687kFAUO4VTi0AwNu2KnVCvFrjZ+KsvRqK9v5eUGFkvw59Nq1/lv8Q/M\n7HQ6b/j+2ezPkki/b+VlfuIcFuLj4xv9viUmQn6+hj3u6APVcPXtkFGMw4xD0zQ8bgMTL5p2uA82\nm41OneP47VcfCZnxFBgFaGZkX9NY+H1riNtl8uNWHycMpFpfjqZvv/h+I0VJDmv7hDhSzA79uysW\n/D+SoYNFBf8RQ4Z2W7iKqYJzeywRrPovLzMoK4Je1h6hY/GVVf+BAKgqiqqixCfUWKLK34Sh/6JC\ng7QMFZtNwRlIYqexu97zfaafxd4l+AmEZR/24kMmmVlKmxj6371Lr7Z+aiWbTZanKi8PLn0U5wgu\nNF6f4NB/CgBxSlyNueYtLRAwsVqDgXV5XCHH+I6ll9oDl+lCN1tgIeVm0LSmLU8FFbtThbGgaqVv\nzVEvX1S5hipQ6zqqAB062igsMCqWqJJtVBui6yb/eN3LCSda6J3d+ClidSmSoX/RAmI2UNVMjfja\n1lE1TKwWpcZi4WGbo1qxiLZqidwcVY8HAi47x3A4UE0MBar+YPQDKAmJNQLVpmyheqjIJD1DwWqD\nOD2eXfqeeuepvut/n45qBzKVdAI0P/oKBqpqxJf5agl7dhkce1zND35rmL4gxTJXuUlCokJ8/P9n\n7z2DZEnP68znS1O+uqvaXO9nMIMZGIGCIwwHBAGQAEGjhUgQJCEFIXJDu6tQxO4qdkOxoR+KkEKK\nWK42guKuuOBGQFq6IUEHDkGABEQzxADDgSPAGYy9c/1t31XdZdJnfvsjK6szq7Kqsvp2972XrPNn\n5na5zKo073fOec8rxvpUAxnQku1+c0ZO5Ia85kcNt9f135Edmvl1HvHeiCpUyqKceb78xnqQKfHg\noDHtZCoIQ/8PqqEqkAFf8f5q4gJ4FKIM1SCQOE6YvDCI5WM6je1g1kyVEX/yR+H59P0fPhiVYito\nsDQrVGc4ZNzXhWolpZnK90FVxaFNpjKjHNVD7Ppvdg2QgrK5dwEoUMDFxbPNfqFKuTw0RjVspsp2\nEWpsS+oLAl0H6arMiTluy9XU577kv8Kz/nf4sdw/QEPHPZBCNWBxKZzwdT9nIAaB5NooRnUW+E+3\nI6lUBMWSGFuwGRgUyPcHVuTJ3QOMatgQ92fuX7JcrKJa4TWnNkVh9MXPubzwnaNnXy1DUpyi6x8O\nNkt1U25h43ArWNnX66MMVdcJL3lplpHlY3uM6qyZajy+9Q2P55/1+dg/yqOqd95IJaVkW26zoMwK\n1RkOF/dtoToq8D8IQFPFoU6mKpYOV/pf6YZSWbe9dzERQlCiiOm1EVqcUU0Wqq700EQ2SafZCFhY\nVNC0kPV7UL3EK/6rQ8/rSoPfdH6Xj+X+IWVRQhcansy2823Z5v+2/t/Ux3aakvqCEn6X97aKOhbr\nqyFjODc/fDrNAv/DaKpyVVAqhdOSRiGKpooQMqp3u1CVoHk8432DB8qn+tOp5sU8uxnzI7tdeeSs\nupQS04TStNL/AWap3gxuMyeq3N5vodrLUA1l//TnzKT/bLh9K+Czn3H4+CfyU0WWjUOYWxvel2aY\n4TBxXxeqowL/VVUMx1MdUJ6lYcYC/w8p/HvTCC+47XZShi+JEpbTCX0MjJb+p2VUNR1cV/Ia5RKX\n/aRMJ6Xk087v8yb1jTykPgiAhjbkAR6FHdliI9hKfazZkNTqAvU+Zx2vvOpz8YH0xcFhBv57z34b\nf+feH1/YbWdjVKNoqgh5kRuy8Bw1PBe21U3eqv19asUCtikJVle4dNVjJyODZ3TlkS9Womudnpue\nUT0o6f9mcJu3qW9mJVjdV/Sdyd741NyIKKX5moplSfJO+b7wDd8NdNqSX//PNj/6YzlOnDq4W/52\nT/YX4mAK3xlmGIV7ulDtdtIvmIEMsLEppcTW+D7oqnKIjGqYTXiYjGrDCDtOBpmNsihhum1E36Na\nHppOldWjGgSyx2iKfhH/gHqJq8H1xMX+a/432Qq2+UH9A/2/RWHsWWBKc2RRu9OU1OuhjeJ+LlSv\nXg64+ED6qXSYOareM1/Ge/WVw3nzA0Sn51EtTvCoDhaqOZG76zmqu65BU93iffpjFIoC05T4L36H\nS1/byMyoGsbRD7WIJuhNi8oBSv+3gtu8Rn2AiqiwKdMXq+NgSouiKGLbkkJKIxWEdoCFRYXdpkKJ\nEh15d0ZB36vwfcnjv2LzpjervOHvHWzIz7ZssDiT/Wc4AtzThep/+Hdm6shCE4sC+UQsUwTfl6iK\nksqoOnd4zwsCiWXGpP9DWLz70qdrelTmlKEbRlmUsJ1OrJmqPCT9exml/3ZLUixCLifQdIHnSsqi\nxJJY4EZwC4CtYJs/dD7PT+c/2vcNAmhTSP+jCtUgkLR2JXM1gaaK+3aMapif6o8uVA9xMpW0TILW\nvT++sO9RLTJ2OtVu0EpMucnfA9L/c/ZLHMstUBVVCoWw0VEaXSpbRiaPqpQSo8uRS/9hx//0rzuo\nZqpABqwEq5xRTnFGObUvn6rZ6/q3rfRGqgiLSwqN7YB5UZ35VAfwuT9wyeXg/R88+Ii3bdlgYdZI\nNcMR4J4uVFUtjLYZhNVbaach8EFXBe7gCNXcnY9QtW2JrofWgsMaoboSrJKzq5w6mRuW/inheEas\nmaqy72aqRkNSXwx/fl3fu5E+qD7A5eAKvvT5Dee3eb/+Xk4pJxKv1dEyN1OZWPj4Q9Jfa1dSKoGu\n39/S//qapFQWzNfSTyVdPzzpH8u6LwrVTic8VCd1/Q8zqnc3nmo7aHDLWedcLjz+CwWBbUlkt0tu\nu82utzPxPSwr9M3fL4xq9YDiqTbkJlVRpSiKnFFOcyu4PfV77En/w+NT41hcVGhsz8aoDuIbX/V4\n5SWfj348Pza7eL/YDhoszRjVGY4A93ShWq8r7DSGvU0GJqURhaofgK6qQ5KhrgucO5T+4xd/RQlv\nQGmM753gWnCDnFXlxKlcKqPqusZAM9VwjmoW6b+5LVlYCPdF0/ZYvwfVS1z2X+VPvSfJkeN7tHcM\nvVZDyyz9G70A7sHnN5sBtbrS//z7tVC9+qrPxUujT6PDlP6lZRHs3vuFajcm/U/0qCrz/X/nubuM\n6hfdP+d8cIlib2FYKIZMpTS6iCBANCb7g41uuL+HxaqPQhSjNy3yhXAB7th3dl27GdzmjBJOudsv\no2pFzVQp41PjWFgKC9V5ZVaoRrh10+ePP+vw8X+Sz5Sle8O/hSWtqT5jNj51hqPCPV2o1hYEzWaK\n9B8Lgh5EyKiq2HI4R/VOGdVuVxJNKxUi9KkGBzxw6FpwA9UqceKUnuJRLeM4e/FUYeD/HqMayAAf\nHzVD4H8Y9h9ewFQVpAxtEw8oF7ge3OQp92k+lvuHqfYKTWhD8V+jEE2KGWRgdxoBtVihfL9mqV69\nHIwNztZ0cA9h36SUcB9I/1LKvvRfmlCotmSb+Zj0H3pU706huhls8R3/Bc4FF4gmWBaKAsuSoYpR\nqVLcbE1sEooK1aNupooGk0wLIQTVOUFnRH9AVtwKbnNWOQPAaeUUt4OVqRuq4h7VsYzqkkJjK2BO\nVGeFag9/89c+73i3zrHj2W7xT7if46/tv5nqM2aF6gxHhXu6UK3XBTuN6QrVqJlq0BcZ5Z7eCQMa\nNVJFOIyGquvBTaSV42Sa9C9KeG4sRzWXAymRvUkGPj4aWqYuzDDsP/z5hRDoufBmWhAFHlJfw4/l\n/gG1GLsVhz4Fo2oSrtIHC9tmI6BW7xXKh9gZf5iY5E8F0A9r31wHguCeL1QdBxCQywuKE+Opdoe6\n/u9W4P+fuH/G9+jvRHgauh4ep4UC2GYo/asXLnFyS6HLmB0CIsHjqI9vM2PYv/f8czhP/F7ib5Xq\nnUdUxRnViihTFEW25XQJFQZmKP1PYFQXFxUaDdnLUp1FVEGoYszXsjPqXdnlmncj8/M96dGSbWoi\n/R4xwwwHiXu6UK3V0xlVA2u09O9LNEUZ8kUqirhjGdboBgk57aAbqlqyjSktHFNw4pQ+LP1Twnet\nva5/IRJZqqE/NVtnZxRNFUHXRJ/5+yf5j/NG7XUjXztN4P8oRrXZlP1C9X6V/jfWJYXCaH8qHF6O\nqrQs0HPI1r3NIEVsKjBW+vekh4VNmb3IubvFqG4GW7zsv8Jj2jvxvNArD/S6/kPpX+kVqpM6/42u\nRFXvjvRfyCD5yq0Ngq2NxN/uNKLKlz4rwRpnlNP9v4Xy/3Q+1QSjOqLrH2BhUWGnIZmTM+k/Qqe9\nd95lQVcaXPduZn5+U+5QE/OoGTO7Z5jhTnBPF6r1hXSPqilHe1SDIGTocugpEVV31vlvGDIhpx10\nQ9U1/wbnOIfjhBNXjK5MMMBlUSRw7T1GFSDmU3Xx0DLI/tDzqC7GCtVc2PmfBVMxqj3fkzfAcO80\nAuoxj+r9GPh/9bLPpQfHn0IHld87BNNE1GrIwEc69iF8wMGg0w79qTC+mSoanRq3muTvUqG6Eqxy\nUT1PQRTwXPrSv66DErjg+yhnz7G0HbATjC+MjG7IbB31QszoDSaZBNluDfncK3N3FlG15m8wL6oU\nRaH/t2l9qoEMsHrpLrYdemdHQc+FthKlPT8rVHvodiXl6uTnQS+ZApMVfzVzmstM9p/hKHFPF6q1\numBnSo+q74OqQI7hDEZdv7Ms1cHZ2aoq8P2Dk/SuBzc4416gUAiD4oslkWjqL4kSgeuENF0PIjZG\n1ZNeIkZqFFxHYhiSufm9fZmGbQ49qhmbqegxqgPPT0r/Ry+NHgSuvBqMDPqPcFiB/9K2EIUiSnUO\n2b53b85hI1X4/8USWGb6uNxwKlXyzpq7S81UBiYlwirP8yS6Fh6nQghqhS6yVEFZPsbcls2uP77z\nv9sNz7Osi8CDQlbpX7ZaQ8kh1TuU/m94NxNsKsBp5fRUE6ocHHLoqELFmcCoAtQXBX5jFk8VoduB\ncsYJVBYWOXSOqcusBGuZXrMdzDJUZzg63NuFaq+ZavDGZo6R/sPJVKALfegml8vdGbuVKv0fIFNy\nLbjBCedcX7IbnLtdFmWk5/Slf0hmqWaV/pvNkOWJR5boOZH5u5mGUbWkSZlSglGVUoaFatRMpR49\n43SnkFJybYI/FQ5xhKppQqGAMjePbN27vrxuh74EqarhcAk7hQAe9KcC5EUe+y4E/huxhbDrJtaF\n1HImslBGFIr4xRzW7saId+m9V1SoHvHxbZkyU7d3yKh2EtfYSpU7YlRv+Dc5O1ConlVOcTO4nbpI\nSYMZiyC0JnhUARYWBeZ2OMksa6Pn31ZEDYzljNJ/RxqURInz2llu9jK0J2HGqM5wlLinC9VCQaCp\nMDB8aSKjqqgjGNVY53/Q2CbY2pxqewazCVUVvAOSrD3pcTtYZcE60S9UK9Vk922JIrgeUtsrRkW5\n0p9O5WYtVAdkf5gu7zOMp8p2MzCkSVVUEx7VbidAUcPfF3oWivusUN1YD1meKGJrFA7LfyutHqM6\nN49s33sNVc1gh5VgrT+VKsIon+qubA8Vqrm7FPgftxZ53p70DzCX6+LnQrbVXaohN9bHvle3C/O1\n7IvAg0J26b8dXjRjq4cw9H//n33DuzXEqFZFFV3oNOXk7FkAE5MCod6fhVFd6GepVv/ON1TZdhif\nmMs4PteQBmVR5oJ2rj/sZRLCQrV+J5s5wwyZcU8XqhCyqoPyvynHNVOFBWQuhVHVdYHTk+C8rz6N\n98xXptoWIxZPBeHnBAdUqK4EayyIOtLO9ZmQ6sB0KlWo5D0FN8bwJJqppIcmJheqjUZAfSH500/j\npdSFnkn6l1JiYjEnqonnb225fX8q3J8e1auvTmZT4fByVKVlIiJG9R6U/v/S+zJfcP800UwFUBrR\n+R9K/4OM6t3xqBrSDBeFgOdKNH1v+6uagZsLvQzy2DL65vhO9r5H9cgnU2XLUZXtFhSLiZi7Own9\n96XPLW+l3/EfxxmRvaEqZFTDQnWSRxVCRrWxHXb+/133qU7DpgJ06VKmNFWhuhU0WFQW97uJM8ww\nFe79QrWu0BxoqDIYk6MaSFRF9BjV0dOpZLvVZyKzwjCCfhFp/ZdfZpnVA/OoXgtucEE5l5Ds0mJi\nip6Ko+39LZT+w/3wpgn7T2FUsxaqWQP/XVwEgqIoJOLCtje9RKGsqvdfPNWVy5P9qRB9r4ewb5YJ\nhSJi7t70qF72r3AzuD0Fozos/d81RjV2ffH8JKNaUQ1cNVyt6ssnKW6ljM6LwehK5u+C9D8YpZcG\nadsgA5SFpcS1sHIHXf/rcpO6UqMghivLaRqqTGlRJJL+szCqguasUAX2UahKg7IocUo9SVM2seT4\n5kwpJY2Z9D/DEeKeL1TrKQ1V47r+49L/oFcp3kwlW7vIcaGOKYg3U8ntbapy98CYwOvBDS6o50Lr\nYZxRHQjeznsKlhb70NgY1awe1UYjGU0FkZcyu/SfJZ7K6P1OOnqiUN3aShaq08jjV/xrXPavZHvy\nIUFKmZ1R1Q9T+i+gzNdC+fYeQlcabMkGpjTZbXtUqslCNa3zf3B8KkSM6t3xqPalfzcZslGii62G\nEVrFY+eZ27TG+i67PUb1KKV/KSWWOVn6l50WojoHsYZM6FmO2sO9AVlwK7jNOe1M6mPhKNWMhSpm\nn1F1sjCqSwrb20FP+p8VqpXKFM/veVRVoXJKOTmR9e7SRUVNpDrMMMNh4p4vVNOmU00qVPvSf1o8\nVcSotnaHza8TEJf+pdGliHFgRcj14CbnlbMJRnWwmQog7yqY+h7DHE6n6jGqMqtHNeiH/UeYhlHV\nhZYpxsTqzerWBp7f2HKpDRSqWT2qz/sv8Tf+c9mefMCQvk+wvcnmhiSXE0P2iTRERfh+bvpjYVnQ\n96jeWzfmV/0rXFTOc0Y5zW7HTbA7o6ZThVOpkuHhOXK4uAf/3U1AQvr3JJoWK7QxsJSwUC0cP8Py\nVtDPCh6ElBLToNdMdXT7YNvhAklVJzCqrTaiOjc0ilnXwwEg5nTreCAM+j+vnU19LMpSzfJ7JqT/\nDIxqpRJal8p2nd2/4x7VToepGFVDGlREeGM7q5yeKP/PZP8Zjhr3fKE6OJ0q8j2OG6E6spkq5sOU\nrdbUjKpphF3/MgjAMilgHgijGgX9L4ulXv0Ra6YaKFRznsDS9qo6MZCjqk/wqEopUxnVsJkq2/aG\njOrkqjbqnp7EqKpTMKo2Fm05Xm49aEjLwn3qSaz/899j/cLPc+UVNxObCuGgCUU5eA/unkd17p4L\n/X8luMKD6iXOKKd7MTl7jxVLwwWQlLLHqCbjqRShoKJmOtYOEiYmpd6N2xvo+i/IMLwKCNUMIWh1\nVlPfpzeTgXxBHOkI1SyyP4T2J1GpJnzuEfYb+n8zuM25EYVqxJhnkeZNTIoUkVJi25Cb0PUvhGBh\nQaA0FyYOYfjbjmml/w7dfhzbOWVy5/+skWqGo8Y9X6jWFhR2mnsMYuR7HJUX6gej46n0XCj9S9sG\n25rKo+r7EtftxaSEYZDkMQ6kmeqaf4PzylkUoWDFJspUq8pQoaq7YGh7d73BeCp1AqNqGiAYlgXD\nIj5r4L+eyaNqEvrM9AGrwPaWR70ez3DNzjjZ0jmyrt6g2cD53B9g/vy/Jbh5ndzH/hGiXGH9xUYm\nf2qEw+j8l/cwo3rZv8JrlEuc4TROV0t6VIvD0r+JhYpCXgxXI/kUr/lhw5DGnkd1oOs/73cxgvDk\nEULQXipgbqSPnjQ6knJZTP37//Zv2OzuDA86yQrTCJvWJkG2Wz1GtTxUqKYtkifBlz5rwRpntdOp\njwshMsv/Vo9R9dywgz3Oao/CwpKCbMz/rez6f8V/lc87X8z03GkL1ajrH+CscmYiozrzp85w1Mg2\nb/MO8KUvfYmXXnqJIAh461vfyvnz5/nMZz6DEIJjx47x4Q9/eOzr63VBM8aoGtLsm+zTEPjxZqok\njZHrMaqyvYuoLyB3d5BBgFAm1+umEfrrhBAEPQazEJh4B9BMFflTIezWPdX3qA6zGronMdTYfhWK\n4NhI38/UTNVoBNQXw/1IvK+enfUZlPJHIYoRC1MC4s1ULvWFHBBW+ZoGtpXts60jYFT9G9fwnnoS\n/9VX0N7yNgr//F+g1EIGQSwt07m2waWPHM/8flrvuCscpKXLMhGFIqJUDn9/103k694ttGSblmxx\nWjkFZhFyDpq2Z5grlQSbG8HAa4b9qRHChio3XF0dAQIZYONQICya45OpAHSvSyfYo4jNpSrqxho8\nOPxe3W7oaY8keN+XE+V4gBef9zl1RuFdj+2PR8g8PrXdQsyF0n+wOTBGdW760P81uUFNhI1UJul2\niEj+fz2PjH0vU1ocV45jW5PZ1AgLiwKvUfpb51H1pc/vOk8A8CE+MPH53Y7k1Jnsx07UTAWwJBaw\nZHiNrYp0o+tW0OCiej7z+88ww53iUBnVa9eucevWLX7u536On/mZn2F3d5c/+ZM/4X3vex+f+MQn\nkFLy4osvjn2PYgkCGQZYQ1iolMaYuPvNVCMYVceRyFYLMV8Lr4BW+gV1EIlGqh4Tm5MHI/1HHf8Q\nyoWRbFeuCEyDxBhV1ZO09b2uTKEoUCpDt4ubIZ6qsS1ZSPFWarrAzcj6DDKkoxA2pRQSKQGOLbEs\nmWiwmUb6t6RN+xAYE+n7eM9+C+uXfgHnt34N5cJFiv/rvyL3oR/pF6kAdmmJRWU7kz81QrgIOFiP\nYiT9C0VBVKrIzr3BIr3qX+GSehFFKOQ7NagYdGILi2JKPFVaNFWEtFHIhwkTiwKF/ihX15PosXgq\nze3SdvfoSm+5jthMz2M2uuGpCdkHP/h+2Aj1/LP7v7AMTtAbhYhRZYT0Py2jeiu4PRT0P4jTyilu\ny8mMaij9F7AzZKhGWFgQmI0Cu7J15L7mw8TT3lepiDIN2cSXk4+LTo/Jz4p4oaoIhbPKmbHy/yzs\nf4ajxqEWqpcvX+bYsWM8/vjjPP744zz00EOsrq5y/ny4GnvwwQe5cmV8B7cQglp9r6HKGBP2D7Fm\nqlGB/27YSCXm5hGlUmb53zQkpXL4dUnDAFUlHxh3HFQfBf2fU8JO2bj0r6qCQjEMDY+gugFdLXnj\nDhuqOpkY1ea2pL44fBHTp+z6zyb9mz3pf8+j2mwGLCxqCUZ3GmnUwsbGwZ4QoZIV0jJxn/oLrP/w\n7/C+8iW0x95L4V/8b+jvfAyR0mq86S9yrro91WccSui/ZfUpWlGt3jPy/ys92R/C4zZX9rgZk3rT\n4qnSOv4j5EQO+wgjqgxpJBo1PS9cSEHopVVtg5Ybu/4cO0ZuMz3E3jD2JFhNI9NC0DTDGL2V2wFG\nd3/FlpU57L+FqFYTY5gj7Cei6mZweyjofxBnM0r/UTOVbWdXIhaWFHa3BQIFi4O5PtxtGNLkC+6f\n8ZHcD1MVlUwDE7pdSbk6XaEaeVSh11Dljy5UG7I5K1RnOFIcqvRvGAa7u7v81E/9FM1mk8cffzyx\n0s3n81hWqPm2Wi06neTF0rIsqtUqCwsO7ZbCufM6Di4lv4TW0+M0LbkLUtrk8hpFtUAzaKLH5NBC\nIaC5HaB0O1CrQ7OBajtoGSRT14FyWaLrOtK2UBaXybVNhFATnzEtVrw1lpQFqrmwkcS2LCqVvX2r\nzilYhsrCQuiJVL2AjuYkPtOuVlEdC6lIcuTGbs/OjsepU8PbnMv7dDt+pn0pBkU825v4XNtzqKvz\n5EUe3wvQdZ3WbsDSspb43fJ5SRBMfj8A27IRCEzVoqJmy2BR1eH9DRpb2E89ifH0M+QeeZTSP/5Z\ntLOT5axb7WVep72cuq2jjkldt0Bq6Hp2X+skGLZFrjqHqqoo8zVUo3tHx+EkjNq3QVy2rvDe/Peg\nqzqWGfqsV1jljfrrAJibVzBNN7GtHb9LXasPbb+qquRFnkAL0LWj2TfHcykppfA8lxLPhWJRR1VF\nuEDVc5iO1t/W4snzlDefTv3uLTOgUgVd10NWVmroutLft7TXOLbP3LzC8ZMKL78Ib/3u6ffbFOj5\nIgAAIABJREFUtgPKlfBzx/1uVqeNXl+AXB6nmzx+anXJ5sbwOflt91mqosol7cLQ+922V3hb/s0j\n9w3gmFzGtV1M1WJOqaY+B8CybKp6Fc9TKRSUTOfbseMKzYbLvDKHoRrMqaPff78Yt28HiWifvuj8\nOW/QX8f5/DmOecs0lB1O6ifGvrbbManV9P6xNg5SSgwMarn5/r5d5AJfcZ5J3U9XunRkl+XcUl91\nmGGGw8ahFqqlUonl5WVUVWVpaQlN02jFOpRt26bQWy5/4xvf4Mknn0y8/j3veQ/vfe97OXUGXEdn\nebmG1tJYMOrU66EcG/03giIslhbrmHOLrJrrLC8v9x9bWmqxvmqSdx20U6cxdxrM6Srl2HNG4WW1\nxXzNYHl5maYQKKdPYzx/jWKhwvLy/MTXj8LXd77FI+pr+9vpOF1OnKj1921x0UBV5lheDle8u56P\nkXcT++UvLFJWFPSSTlEUWV4YvT+d1m0uvrvG8nI58fdqdYf2rpJ431Eo+iX8rj/xuXJdcqx4DBWV\nW8YKy8vLPPftXRaX7MTvVq+30bRups92Oy6L2gLqvMZycfLzB2Ffv0bjD38P88UXKLz9Pfyn7j/j\nf/nxN3Dy3GQjnJSSlzYWeHupMXZbB4/JYtGiUqmxvHwwJlUZBOzaNstnziAUBevYcXJBQC3D93en\nGNy3OLbcbey2wxuOv753E9vl2EKFDW2z/31pqodt3Ux8f/aGw+ncKZZrw9tf7VQozBVZLh/NvuW6\nOWrBPMvLy3ieRIgWJ04cA8BZW6VdncOx986TTuVRLNtjoVxGHehgknKL5WMKy8sLFAoGc9U6y8u5\nsdvQ3DaZr3m8411zfP2rXX7wh/ez31ssL4efG9+3QbS7HZYuXkJoOl0jef6dOdvluW/vDB3nT9/+\nGnW1xtuX35r4uyc91lrrvOn4Gyko44/zS+5FWpUOD5QvjXyO03U4vXiatZUy1TmZ6Xyr1SQ7O1c4\npy/BnGC5NN1312n75PKCXO7eKMDW3A2ecb7Gz5/7t9S0Guc5i6GbqedJBCkl3c4u5y8sZ9oPIzDR\n2hqnju1NEvv73pv4rRu/x9LS0lAvw21nhSVzkePHsnv0Z5jhTnGoheq5c+d45plneMc73kGr1cJ1\nXS5dusS1a9e4cOECly9f5uLFiwC8+c1v5uGHH0683rIsNjc3KRRtbt4w2dx0Wbc3EIGg2WxSr9dp\nNpt4MV3Vsl1arR3skk3LabEZ849Zlku77WDYa2jLx/FUjZ3VVYzT6R6zODbWbXRdsLm5ibWxjpyr\noXpddnbbbG7uX5p81vgOj2gP9bez2/Gx3RawSLPZJF/wuHWryfFTXaSUSNdjm3ZivxxNx1tdoXWy\nTUWpsOmP3p+1VRtVb7O5mTQK+n5Au20l3ncUHOniBM7E5zbMJr7v4eLSdsJtvn3TYXGpmPjdDNOl\n25n8fgCGb3BJu8CN5g0WOrWJz4eQubd7s8zbv/QL6G96M5V/+VH++m8ELWmysd6gUJx8KnTaAZvO\nPNLfYWN1BTHA8mmalnpMIjw2N5vM1Q7mdJOmAfk8W9vb4b7pOezVFdwM399+MXLfYnjG+ToPqhfZ\n3gqtEWurFvVijm8ar/Z/W9eRdNo+Gxsb/ZvgmrHGee8Mm25y+/P5PLiwubPJpnE0+7ZirKJ5Wnie\nWxJNo7/t3s2byEKR7o6/d6wGgq0FhdoL30E7dyHxvpsbBmfOqWxu+gjFZ32jgdpj1ePHZBy3b7nk\n8h5nzpn8yqe63L69kXlme4TtbZNCUWFz0x/5u0nPIzAMGqYFwkZ6PhsrtxF6WEgHgc/2tp04J33p\nc9m8gi401sV6glG75d+mLuq0t9s4eSd13yIc95f5TuN5zhgnRz6n43ewGgabGy5C8VKvDWn7VqmA\nvrXAdeUGJ7rHsn9pwC/9QofXPKzx/g+OLrRH/W4HDU3TeNz6NO/NP4bbdNlkk6pd4ap5beg8icM0\nJJoOu7vZ7ElbQYMyJTY3NxP7pkjBixsvs6QkJf5X3MvU5fzQ75GFZJhhhv3iUAvVhx56iOvXr/PL\nv/zLAHz4wx+mVqvxxBNPEAQBS0tLPProowDMzc0xN5f0qa2srOC6LnNzAdev+riuS8fvUJD5/oXJ\n8zzcWFK970kC6aH6CnbgJB5TFB/bCvDNHZRSBVko4rVbiAxJ9+22R6Go47ouXqeNcvI0mu/gmA6u\nu/8V+FXvGh9QvxfXDYPNLUui635/30plye6Oh+uKsLNbUegIA8dx+jf6oFgkaLWwA5eqFIl9jiMI\nJDvNgErVx3WTndeqqmDbwcjXxiFlgIef2IY0GIFBzs9h4+AELq7rsr3tcfEBDc+z+58lCLdn0mf7\n0sfFY4E6TXcnc76mpmnh9+t5BFubKO/4HjxF4TvPhhdl0/QyRXO1WgGliorIL+CsraEcT5fgBo9J\nVZVYGT8jC4J2G1Eo4roumqYhy2X8G9cz/XZ3isF9i+Ml5xUuKRf6j7daPsvH8tjSoeE0qIpqv3vf\nMNx+AdYMdin75aHfU9M0tEDD9M0j27eO16Eo87iui2nKXmJD+NleawdRLmGZsn/s56TO5pLg9Mp1\nCieT/sxOJ6BQCM9HTQXLdPvnXXRMDqLV8igWJXrO5/RZhRees3j0DdNdprsdPxwXHXv/wd8t2Gki\nymW8XjeoKJdwdnb6jYOFkqS1mzwnbwUr1MQcEsk150aiceqqd50z4lT/mBz3e53iJN/y/mb0dUoG\nmNJC9VS6XR9dH39tiO9bfUGgbi/SWGjiiuzHzO2bAVcu++TzjP2sSft2UHjVu8qr9lU+WvpI//MW\nZJ1nvefHfv7OTkC5PPoeMIhdf5cSxaHf7axymqv2Vea1pH1i3d2gTv1IvoMZZohw6PFUH/jAcJzG\nJz7xianeo76wN0bVlBa1EY0XEMtRTekW7jdTGbthLEuplDn03zTh+PHoLtsNL/JaAcWxgP1Jui3Z\nwpI2y2IJCKdmaVpyokwieLs3z1FBwcEh34vQEeUycmMdT6royuifdHcnbO6IdzFHiL6bLFCEgoKC\njz92ElbY+FYgkEG/CNlpBCwu6RBrdsja9W/39rkqqvvKSpTbW4haHaHrBIHklZd8jp3IHstlGpJi\nSaDUlwm2N0cWqoPQ9AOeTGSZiQ4TUZ27681UUkpeCV7lffp7+n/rdiQXH1A4q5zmZrDCo2qomETT\nqaJCdXI81RE2U7EXf+e5yalUdLsolQqqGnrWc/mw2bO1XMTauDV0FTC6klKv+zqKKJv4+d29ju1H\nX6/y/HP+1IVqdJyOQ7/jP0K5Ena/9QrVcjk8zOKRWtf861xQzpMTOV70X04UqrcyNFJFOKOc4rPu\nH4983MEhh44qVGzbJV/IzigvLAqsZo2WfDnzawC+/KTL29+p8cJ3Dngyxz4QyIDfs5/gY0s/Rs7a\na0RdFktsyq2xr502Q7XLXoZqHFGe6pt4Y+Lv27LJ0qyRaoYjxr1hxpmAWn0v9N+c0PUf9Lr+86Mm\nU9mynx9IqTyclTMCg13/olTG00tgTTeGNY5r/s1+0D/0Ov4HLsrx4G3phoVqWZToyr3tjqZTeYwf\nodrYliykdPwD6Np0EUpZIqpGdf0vLiW3UVUzFqrSpiDyzInqvrJUg/U1lGNhcXnzekCtJlhcUjIz\nnUYvSF0sLSO3skvRWTu+s0JaViKR4F4oVLdlg4Cgv+gC6LQllYroZ2dGiE+n8qVPVxojMxvT0jsO\nAnJErlw8VcQfCPuXvQVqoQCWtXfM2Mtz+BtrQ+/VjRWqup7tGI8Xt4++XuXF5338KbOaTVNO7PqX\n7TbECtXB6VSKIiiXSURUXQtucl49xyPqQ7zoJwvBmxmiqSIsigVMaSauYYntl3uTB8PxqZneFoCF\nRYWgUZ1qjOruTsBLL/h8/w/quI6cOj/2oPFN/9sIBO+svD3x97qo0ZadMFd4BLqd8JzLisGUiwjn\nRgT/b8sGC7NCdYYjxn1RqJYrYSC8Y8t+vt4o+H44yWTUZCrhGKDrCD0XxjpNFU/Vy1HtdhGlMr5e\nRHGy5bCmIR70DyFrWxi4ZlQqsTxD10VoOmVKGAwWqp2JhWozZXRqBD0nMjOqEEVUjX9BdMPRewMC\nfF/SbkvqC8lt1LRsI0YtrJBRpbqvLNVgYw3RY0FfesHn4UfVxFjdSegzqkvLBFMUqnrGDM2skGHY\n7t4fqnd/jOorwRUeVB5IWEEididkVOOF6t50qrbsUBYlVJGeiJCWh3ynCHaaWL/4f6Q+Zsq98amu\nlxyfGp33+aLAjJ32/vIi6uawJzDOjmadvhYvbmt1hVpdcP3qdFOqTIOJI1QHGdUo4i6OypwgHs97\nLbjOReUcl5SLrASrmDL8EjzpsRZscEoZ7TmNQxFKmKc6IqbKxKTQu8Y7NlMzqnajmGlMa4Snn/J4\n01s0iiXB6bMKt2/tfyrYncKRDp9zv8BHCj881FWvCpUFUWdbjvafdjrh/TIrurI7klG9HawQyOR3\nsR1ss6jMCtUZjhb3RaGqKGGW6s6OzJCjGkpVuZTRi7kc5J0Wohp26U8r/UdymjS7UCrh6yUUO9vr\n0xAP+oeQPRicKJMYZdhjVEtDjGoZ2e3iTshRbWwHLCym/+RZGZ/+84WOO2Y6VegndcmT6zOqrV1J\ntSqGxiFqmsDPcBO3eoxqVVRoMT2jKtdX+4zqS8/7PPyIOlURafQK1ekZVXFg/lSgN5UqxqiWK2Aa\nI1nCo8Bl/1UeVJNd3J1OxKieTjCqpViW6rgMVTicEaqy3UJubyGD4YLEwKDUK5I8T6LHjlXZ7SDK\nFYoFgR1jVLWFY2itbqh49BAEMhxlGgv8zy797/370TdoU4f/mxkC/4cK1Z4qE0fcdtSSbUxpsSyW\nyAmdi8oFXvZfBWBNrrMo6uTF+ESDOM4opxKLl8T29zJUIWSuswb+Q1iodrdzmadT2bbk6894vOux\n8Lp5+ozC7ZsBMghw/+yL+NevZv7sg8CT3lOcV85ySbuY+viyssRmMFr+n1r6j4X9x1ESReZElXW5\nN7FMSjnLUJ3hruC+KFSBsFBtSExppUoVESLpPydyibGdEE4Iyjm7iPmoUC2HRWcGGIakXBJhDmxP\n+vdzJdR9MqqDQf/QY1QHyOJKbIyq9MIxmUPSf6nHqE6YTDWOUdWmnJ40KfTfwiZPHkUoaD2bQLMh\nqdWHD7msHlULmwKFnvS/D0Z1fR3l+Al2dwJ2diRnzythEZnRPxoVAGI/jOqBSv8mIr93DghVhXL5\nrk2nklJyORb0D+GC0bZCmX9B1HGl2/cVx6X/cVOpIJT+7YOeTGUYIYXfHT734wthzx1gVI0ulMsU\nismBdnNaDaNWSCxebCtcGEf+zqwLIsOgz6jCnk8166SlIJA4DqTMqkii3UJU9hplBqV/6C2SezL4\nNf9Gwqb0WvU1ffn/ZrDC2dh1LAvGMqrS6vuEbZuppf/WtkJbdobYwDR882seFy+p/QX8qbMKqzds\nnN/6NbznvoXzm78apmwcAVqyxZPul/kh/YMjnxP6VMcxqvvwqJLuEwknVO0tJtp0yJGjIKb4QWaY\n4QBwXxWqzWbQ9z2Ogh/0RqiiD93g9BwU/fYek1BKmec4AqHsq4RalKKGDTn5Iqq7v4vYSrDGolig\nEBsHa6XM6C6X2Ruj6rqg54YY1ehJnnT371HVp5f+x3lUw/Gp4e8Usq8uO02ZOno06+QmW9rkRY6q\nqNCR3Uw3ogjS85A7DcTSMi+/EPCah1UURUzJqIZFlqjOgWMjM47f1bSDlf4ZlP6JfKp3p1DdkJto\nQktIgkY3/K4URSBEklUtxaT/SYxq2Ex1sB7VqPCQreEpP+FCOLxxewMeVSLpvyAwY4xqTczRXM4R\nbK7HnioTBed+pH+A4ycEigKrK9kKVcsMCztFmcSotkOffoTysPQfZ1SvBTe4GLMpvVZ9iJeCV5BS\ncjO4xRnlFNNg3IQqE7PPqDpTjFCFkMEOAsibc3QZT0IEgeQrf+nx7u/d+5HPLFu87dqnQEoK//3/\niProG3A+8ztHMpL1885/5e3aW8ZK61kY1Wk9qmmMKkQNVTf7/94OGizMZP8Z7gLum0K1vqD0GdWJ\nzVRK2PXv4yeKGV2Hkr8neWX1qErZk/FKotdIFZ7YQa6E6uyvUL0W3OC8ejbxNytF+k+MUXWdsJlq\n0KOqqpDLo1jOBI9qMNqjOrX0H/pOR8GKMVN6j33daUrqKYyqppFpFG3EqGpCI0cOg+xsttzcQNQX\nEZrGiy/4vPbR0BOZVZKFGKMqIlZ1fAduhIPu+pcD0j/c3YaqV/xXeY3yQOJvnYEbZtynGh+jOq7j\nH8IF54FL/71CNdjdHXoslP5HMKqR9F8MF5UR5sU8G0uCYGOvUDWGCtWMjOrAnHYhBI++QeX5Z7Od\nnGurQabxmWnS/yDDXJ2LF6phx3+EZbGEgsK63ODWPhjVZbFEu2cnGERc+rftDOxwDEIIFhYFlebp\niQ1VLz7vUywKzl0Ir0nBTpPCp/8T6/IU9g/+NELX0T/4YYL1NfxvfSP7RuwDt4MVnvdf5P36e8c+\nb1ksju38n1767/YXZoMIG6r2GNVt2Zh1/M9wV3DfFKq1uqDRDPq+x1Hw/ZBRFUL0OtPjeZaCqmgj\nex5VcjkIAqQ7/kbo2OGNRtNF6OPqmchkoYTm7a9QvT7gT4WQDSmmXJQjn6qMmqlEia5M3lREuYLe\nsdFHSP+OLcORlnPjGNXppP9xOaZGrOkt9Kh67DQDaimFsqoJvAydzba0yPdkpzlRmUr+D9ZXUY6f\nwPMkVy77vObhsFCdZr/jsT/K4jJya2PCK0IcNKMqLWvo7i2qc8jWcOF1FHgluDLkT+12kvPG44xq\nMSZkZGNUD0H6h9Tvy4wpAa4n0WJRcXtd/wI7Vl/VxDy3Fz1kolAl4TXNsiDyfRnOth9Yhz/6ejWT\nT9W2Jb//aYcPfGjyiM/hQnV40R42U0k86bEyYFMSQvBa9TU857/AerDBKSVbVFsERSicVE6kyv9x\n1cye0qMKofyfbx6b2FD11F94vOt7NYQQBKsr2J/8RbS3vI3L53+I2736TOg58j/x0zife4Kg2Zhq\nO7JCSskTzuf4fv37+gX6KBw7cI+qmdpMBXBaOcl6sNG30G3LxsyfOsNdwf1TqC4IGo2g73tMQxBI\npAy7/oHUhqo5tYVf7DGqQvRY1fHFZhj3EstQLd15oTrYSBV9ziCjCqEE12nLkc1UEN5odGO09N9s\nSmoLYqQkGHpUs2+/jj7Woxq/4auoBAQ9j+z+pf+QUQ0L1eqUEVXBRuhPvfpqwPETSv9iPq30H03J\nnManOg1rmwmWhUiV/o+eUQ1kwKv+FR5UBhqp2hMYVTOj9H8YzVSWCcUScjcp/bvSwycg11sIxxlV\n6ftE5s+w639vcVMVFW4vuWOlfz0Dqx6lfgyeo+cuKLTbksb2eKvL5/7A4fxFhTf8vfG5qzIIQnZ4\ngke1WhW0W5JbwQrLYqm/SIzwWuUhvuQ+zZJYJDdFI1WEMLZsuFC1BhnVKS2RC4sCrbk4tqHq9s3w\nevT6N6r4r76C9an/B/2DP4z+7u/lVK+hKoJy8jT6Y+/F+fSvpzbg3Sme91+kJdt8t/bWic+tUsXF\nxZDpalIo/Wf/7C7dkR7VnMhxTCyxEoTRa9tBY9bxP8NdwX1TqNbrYej/uBVn0Av7jyJy0vxtVdHC\nK8RujKVSSH+MgWHsWQKl0UX0QgploYjuTddMJaXkL9wvIRAsicXEY1ZKPBXEOv+9vRzVwQuVKJfJ\njylUG9sBCyNkf6Af05TVi6VNkP5NrH7EjBACDY2dnWBkoZpJ+pd2/2ZZFZWpQv/l+hri2AlefsHn\noUf2opCmlf77jOoUnf9ZipRpMEr65y4UqqtyjbIoUVPmE38fZHbqooYvfXaD1t33qBoGyomTQ4yq\nKQ2KFPrXj4RHtRuaboWiUCyENuEIilCwl+YItrf6yQvxaCrIxqoP2gX6768IHnld2FQ1Cs8/53H5\n5YAf+m8yFIxGF/IFRMyAK0Z4VDttGS6q1XOD78KD6gMYGFP7UyOcGeFTNaVFIcpRteVU8VQA9UWB\nbMyzG4w+H778pMs7v0dDPvct7N/8VfI/+Y/R/t53AaRGVGnveg+oKtaffWGqbZkEX/o84X6eH8n9\n4MiItjiEEGFDVQqrGgSSbpfUYygNUsqRXf8RzsbyVGeM6gx3C/dNoTo3LzC7UPTSZQrYk/0jpE2n\nqtDGLezdVDMxqrECJQr7B6BYQvezM6qBDPiM+0d81fsG/yz/3w4xw2keVRiW/kuU6DLwueUKua47\nUvpvbkvqI6KpILRFCBEW+1kwKfA/3kwFoEmN3REeVVUNf7sgGF/M2XKPUZ029D/YCEeevviCz2tj\nheo00r8Ri/0RS8vI7YyMakbGODNSVjRi7u40U132r/Cg+sDQ3we7j+MNVdN5VA+BUTUNlOMnkQMe\n1cFj1nMlmh6d96E/FaBQFNhm8pgp5+YJKiVkTx4eaqbKsCDqDhS3cTz6+tExVe2W5DO/7fChn3T5\nK/Up/sj5k7GfE8r+ydGYFEtg24mIsyhx5Hpwg/PKcKFaEHkuKuczB/0PYnAQRIR4VrZtTc+oLi4p\neI3KSOk/Cvh/89x3cP/4Dyn87H+HeunB/uOnzyis3AwSi3ahKOR+7Ccxn/xTgts30952X/iK9wwL\nos5rlYcyv2ZZSZ9QZZnhtLTB+L9RiAZpjGPDz6pnuDkrVGe4y7hvClVFEZTmfPTW6BMl8Pdkfxhm\nY6TvU5AGjranjYRZquMZ1WShumc+E8UyOT8bo+pKl191fpOVYJV/Xvin1JXa0HMsU1JMYQ/6of89\n6b8iyike1TJ5w0MdyaiO7viPMA27OCmearDpTTPm0POQS/GbCSH6xeo4WFj9lITqFBFV0nGQuzs0\nggUcG06ejkuyyX1eCdZSWeUgCOOWovpQWVwi2NrMxEAftPQvLQsxWKjeJen/lYFYqghp3ceR/F/q\nxVPZ0sYn6DPvaTiMZipMs8eoJqV/QxqJY9bzQO+dTrIb+lMhjJCLd/0DzIs5zOW5vvw/yI5mYdWN\nTjqjCvDAQwqrKwGdTvI9giDgU49vorz5OR4/+QvcDG7zV97Xxn6ObLeT41MJC7HQPLx3XcnnQQZw\nxVzlYqyRKo6fyv04b9PePPbzRuG4OMaO3MGWduLvUTOV70uCINnQlgULCwKrURipuDz9lMd3vUVD\nu3kZ7bH3opxIMsK1usAPoLWb/K6VWp3yR34C+7d+Henc+TFpSJMvun/Oj+Q+lBiUMQmjGNVudzp/\nqiENKiP8qRGiCVWOdDCkyZyojn3+DDMcBu6bQhWgWHfQdkYXqn5P+o8weJOTnTa2UsL1Y7udyaMa\nSwMyuv2uf4olchkYVUOafNL+zwgE/zT/iZGpBaOk/373bcyjagx5VCsUDX9k4P+4DNUI00xp0oQ2\nlFMbx+AEMbVZp1ofTddmkf+jwH8IGdVWRkbVX19DLC3z0svw8CNK4qYQelR7ObVS8h+tX2JbDjdN\n2FbIVkT+QVEqhwGwGbJL9QNmVKU1HLh7NwpVX/pcCa7xgJpWqDLklYszqoYh+7L/uJt0/hCaqaRh\nIE6EjGp8oWHIZPRdfDKVjHnTC0XBYDLZvJinvVzsN1QZ3b2wf8jGqhtGsgErDl0XvOZhlZeeT67m\nfuWpF9nqmPzAD5T418V/yU/nPoqJNTa6bbCRKsKg/C+EoFSVyHaBBVFPfa+aMr8vfyqEk5ZOKMf7\nHsgI0SI3OuemKeIA5usCY1dl1xs+N6OA/3c+phG0dhDzw/slhODMWYWVlAlV+e96C8qZs7iff2Kq\nbUrDF90/4w3a6zg5ZSPakrLIVkqW6mDSxiR06VIa4U+NcEIcY0fucjtYZUHUR/aHzDDDYeK+Oury\ndRt25kc+HvgSNc6oDswJl+0WpjpHfDEsMnhU45Ne4tK/WiqgS3uswb4Z7PCL1ic5q5zh47mfGBvI\nb46S/nuMahT4XyCPi5f0iJbKFI1gvEd1jPQPvazHjDK4PpFRTcqoys48lTGFapbQfzvRTJW9699f\nCydSRdOo4tBi+bEGJg5uqqxmpEz7yTpKddphChNhWcMe1UoV2e0cSrPHKNwKVqiJeapiuHsjLXg8\nZFRXyOUkngsNd7zsD3vn8EHmWErLQKkthPJLrOI0YuNTAXxP9mXUkFHtSf8Dk6kg7PxvLGn9iKpB\nGT8Lq250x0+UGuz+f3rlMi9/4Tif+HiN78q/Hl3oKEKhSCERXze0/2nSP+nTqbSqxXHj4tTFYlak\nTaiKFrm2LSlM6U+F8DpWnYfd5vBj3/zqXsC/3N1FmU+/n5w6o3DrZvq5lPuRj+C/9AL+i89PvW0R\nNoMtvu79NR/U3zf1a0cyqu3R1pE0TPKnQriYOK2c5Nv+czPZf4a7hvuqUNVrBrI5+sYWelT3TtSc\n0HFjbIxs7WLr1YQnMYtH1RiQ/iNGVdVVXJEjkVUTw+1glV+0P8l3a2/hR3M/OHE1mhb4D7FmKidk\nVIUQlCgmbkayVKJsyNTPkFLSaMixzVQwJaPai5wahXhDBIDYrVGujX5+lkD0ZDNVdunfW1shWDzO\njesBDz40WKju7XNThlJw2k0gbv+IkHWU6kFK/9LzwgNdT7JYQtPCyKqUaUuHhcspsVQR0qT/mphH\nEtCiTbEEW0Z3opSoChWBwOdgxsNGk+UoFhFz8wmfqiENSrFmTc+NN1N1+nRnoRiqLMl9m2NjSSJH\nSf8aExcrg77WQTz8iMqVyz6OLVl1NvnD31B59wc9Lh1PFltlUaYjRx8HoxnV4c5/v9JmoTtdRuo0\nOK2cHoqoGmRU94PFBRW7WUws5oNA8pUv7QX8y90dxPywBQsYyagCiEKR3I//FM7vf3rf0+A+6/4x\n36t/D9V9SOmRR3Vw8Tat9J+lUIWwoepb/rMsKums+gwzHDbuq0JVqXfxd0Z7aqLxqRFgDBiWAAAg\nAElEQVSGGNVWCzs3P8CoTg79N3sTiSBkVCmFzIqiCmxRTC10X/Yv80nrU/yI/iHeo787w971pP/U\nHNWQoZKxvJyyKCciqvxygfKIervbCW+4aUVwHNOE/k9iVA3MfnA6AM0qpfroai2L9G/3Av8hylHN\nKP2vrbDuHePsOWWogzjc5/CCvxOERUvaiMJ4NFWErIzqgUr/VmiUTWO4RLV6pPJ/ODZ1uJEKeozq\nQPD8XkPVCsWSoNE1mRejFZIIaVPm9g3XAUVB6Dpifj7hUzWkmZBCx0r/KR7Vm4suweYGUsqQgU8w\nqmKy9D+h0CiWBGfPKzz/ksUnP/cyx+dLfOhdx4aeV5lYqA57VCG989+qbFPtHB+/4XeAwYiqQAah\nF5182PE/ZYZqhIVFQaF5POFTffF5n2IpDPiXrhMSDKX0+0nEqI5i8tWLD6D+/bfg/N6np2b7L/tX\nuBWs8Jj2zqleF6EkiujotEkWyZ02lKeJpspcqJ6mJVssDqTUzDDDUeG+KlRFrYWzM7rxIhqfGiEn\n9IS/TbZ2cXNVEvn+pdI+clR7jKoKNsWhWdC+9Pn/7N/gH+d/kjdpb8y0b64bZsDqKY0D5YrA6IJ0\nQukf6IX+xwvVPKURuxFGU03+qaeR/kOP6qTJVHu/VbBTpVgbXWyoKniTmqligf8lSljYYyOyIvhr\nq7y0tTwk+0NydOyO3KEuagfPqE7xvU6CtIejqfrbMzd/ZIWqJz2uBdd5QL049JjjSAI/vVs7lP9v\nUSoJdkx7ovQPBxv6L02zn0Er5msDjKqZbKZyJXpC+g+Lmnw+HAIST6mYF/NsFrqQyxHs7PQm2e19\nbmbpf3xvC699ncJnvtBA/vUj/OzHjqUuWCYXqumMKgPSvy0djPI2WmfyYmK/OCmOsyW3+02vDg45\ndFSh7itDNcLikkKusZwoVJ/6C493vycM+JetXcTcfNhEloL5Wvi9DjZUxaG/74MErV28rz6debsC\nGfCE8zl+SP8BdDFll1gMy8oSGwPXqW53So+qnOxRBTinhBMUZ9L/DHcL91WhGtSaWM3RVy6/Nz41\ngj7EqO7iFudxnaT0n8WjWizGpf/wbqKpYIrYmJ0eVuUac2JupCyahh5Rlnrjicao+pbbr2QHQ/+9\nUoGSkc4ANBuS+oSOf5hOop7IqA7c9P2dMvkxheokRlVKmQj8V4QyUeIEkLZN0G7xrVdrPPxoWqG6\nl2+5I3d5jfJAuke1O1yoKkvLBBkiqrQpx9OOgzSt9I47pmuoklLyO84fjG26GYebwW2WxFLChxwh\nylBNO5b3GFVodV3mM0ifBxpRZezJI2JuPpGlGkr/ya7/BKPao6sURZDLhWH0EebFHC3ZRlk+hn1r\nnVw+PG8j6BlyVLtdxnpUATZf+1c4qzU++tEKlRGjUtNSQeIY10wVt47cDG4xV9Gwuod3m9CExjGx\nzGqvoSqeFrKfDNUI9UWB0lzoR1Tduumz05S87o3hNUDu7o6U/WGvoeryy6PPD6Fp5D/607hf/DzB\nZrYpdd/wv4UqVN6kZiMwRmFZLCWUH//lF5hf+fZ0Xf8YI6dSxbEkFihTYmkW9j/DXcJ9Vah6cztY\nLQ1/xLjNYel/gFFth1Op4sWYKGZgVHuNNNJzw2q4t8xXNbBkaYhRveJf56KaHucyCpY5vnGgUhV4\nlrPHqFJKeFTdnAAhICU2pbE92Z8K001pCuOp0p8spcTESnT9ezsl8vXRUV7qBI+qi4dAJJrR5pjc\nUBVsrBHUjqPqCkvLw9+BFstR3ZG7XFIv0JadoZD5NOlfLC4hG9sTG5gONEc1Jey/vz1TSP8OLl/x\nnmFbpnScZMDtYGVkfmbolUt/XcSoFouCjuFllP6TC847gTSN/sAOMTdPsDso/Q8UqvF4qhjdGXb+\n7x2vmtAoUsBbXsBZWR8qODVd4E6KpxqTowrwrPc83648zf/wrwJe97rRnfZlyiNtMVLKnvSf0kxV\nSnpUrwU3OFGt0O0cYCNgCuJ5qiZm396znwzVCAuLAr9R7ReqX37S4x3v1vqLh3H+1Ajv/YDOH3/W\nYWtz9PmtHDuO/v4PhlOrJuTr2dLhc+4X+FH9w3fcnLY8MErV/fP/yvzulUPxqAoh+J8K/4zjYthm\nMsMMR4H7qlA1tS7FSkC7lX7h9H050Ew1wKju7hKU5nCcwWaqDJOpSuHNimKpf5FRVIHJsEf1anCN\nS8qFqfZtVCNVhEpVENh7HtUhRhUXs6QMecwAbt0IOHEqg/Q/Rfi9LvSR0r+Dg4baLyotS0KgIErj\nGdVxxVy84z9CVVRpMd6nKjfW2dGO8/AjaurNQR9oploQdRZFne0Bn2qq9K/nwm77nfHF3jRDBSZB\npnT897dnCkbVkmED4FqwPuGZ6ViT65xQ0r2L3TYjJchI6ldLDoYhM0r/+gFK/3uFqjJfG2JUB6X/\ntGYqCL3k1kAP5byYx1yq4G+sDxWc2RjV0c1Ua8E6n3Z+j5/J/TRn6uNZ6Ioo02XENc22QYDIDx9D\ngx7V68ENzlTqdLtHUaiGPlUzMT51/x7VxUUFZ7vEbtBidyfg5Rd83vLde4vcsFAdv0g6d0Hl/R/U\n+bVP2dj26O9Ae/s7oVLBnTC16i+8L3FJuZA65WtaLIvFvvITbG0QXL9K4HqHUqgCLCj1Q0t+mGGG\nSbivClVLmszVQyk7DRNzVNu7BJX5pLxdLIJtjWXFIo9q0O0kWBVNBSMoht1W0WdIydXg+siA7JH7\nZsWyWlNQrQoCZ0/6H/SoevhYJXWo6HZsyZXLw7FMaZimmWpc4P9g2P9OQ5KrWSMZWOhJ/2MIiTBD\nNXlzzRJRFayvcb27nCr7w7D0XxPzLCnD8S+mmR4dlMWnqk3BVE/EqLBdpixU6RWqcp+FarDByRGF\nalo0VX8bheCscga7sIttKJkCxA9U+o+ZR8X8PHKQUR2S/kXIQhrjGVWAmjLH7lIBsb0e9Vv2Mcn+\n4fsSx07/aU1p8in71/jh3Ic4p07uwK+IykhLzEh/Ksl4Kikl1/wbXKoeGxoycNCIj1I1Y1m2th0G\nWewHxZJAUQS3uo1+wH8xRgTI3V3E3HhGFeBt79A4e17hd3/TGdk0JYQg/5GP4X39r/CvX019zk6w\ny5fcr/Bh/Qf2t0MDiDOq3je+GtpYXHcqj6ohDcoZPKozzHC3cV8VqoY0qdcFO83R0v/gZKoolF66\nDrguaqmUaKYSqhpmoAwmePfg+xLX6U1p6cbC/gmLYjNINlM1ZBMQIwOyR8E0x/uxKlXRa6YKJb/y\nQOi/Jz3skhYyPzG8/JLP2fPKEBuYBk2bbjLVqHgqYyDsf6cpydftsXFWYY7q6Bui3esEjmMuQ0SV\nt7LG1dYSFx9IP9RVNRwb6/k+LdmmJuaH/F8QRZQNv15ZnNz5f5DS/zhG9dW1Mv5OtkLVvANGVUrJ\narDOCSVdCkyLporjjHKKZmEdzayMzRWOcGjNVBM8qm4UT+U4IBREbk9uLxRJ6fyfZ3NZRdvZGGJU\nNW08q24a4XtGAyXi+A3nd3hEfSjzBKhxzVSTC9Xw+rEpt9GFzom5uUOX/k8qJ9iQm3jSw8Tq/waO\ntX9GFWBpUWV1NeCrf+XwzseSx5ls7SBqkwtVIQQ/8g9z7DQkX/rz0SexqFbJ/YMfDy0Ag1Q78Hn3\ni3y39jYWDijiaVEs0pBNPM/B/+bXUd/6DoTvT2zGi6Ob0aM6wwx3G/dNoRr5HhcXNJojClU/zaPa\nY2JkK7xA63ll6IYxOEZVSslu0MKXPpYZruoVRRAM+NRULWRU49L/leAal5TzU8sktjmeUa1UREjL\nxTyqcUbVxcUp60OB3S885/PI6yezqdAb85hZ+tdGdtybA41UzWZAsebgjmNU1fHxPfEM1QhVUZk4\nncpdXaV84RS6Pprh03RoOl1KFNGENuT/goiI2x+jGvniBr3VnvSmLsDkGEb1qa8VcRrZGdUyJVb3\nUai2ZBsFQYV0I+o4RhXCXMa1/HV0M1uGZP4gParGnvRPqQyui3TsMFJqYDJV5FGV3U6/4z9CoZA2\nnWqO7bIDgc+8nrQDTVIrBgcERLCkxSv+ZX5Y/1DmfSyPaaYaV6hSLoNpIIOA68ENLijnKJVCr+io\nvoCDQE7oLIlF1uQ6pjT7yol1B4wqwOKiSvVPvx/14srQsJNgdycTowrhdfGnfibHl590eemFMfal\nR16P+uBDOJ/9/cTfbwW3edF/hffr75l+J0YgJ/Tw+vfyNxH1BdyFU+iKl2jgm4SuNBIDLmaY4V7F\nfVOoOjioqCzUVXYa6TL9UDOVyGHLWKE6N4+eS/YbWdLCKWn8Tetr/K7zBP+X9cv8K/Pf8G+s/51v\n+N8amErVTXTUKAp0g2Qz1lV/etkfQkZ1kkdVeMmu/3gzlYePXdITHjPfl7z4vM8jr8tWqE7T9R8y\nqulPNqWVuOHvNCXFujM2Skqd0PVvy3SP6jhGVVomwjI5/6bxOZC6DlvOLjUl9KzF/V8RjBSPKkzR\n+Z/Cqn7Ze4bPun888bUJWCZiRKG6aVRQrXamXEdLWpxXzrIlt/HldGH6kT911GKsO6FQPaOcwiw1\nUc1sbM5BelTDecg96V+IXkPVLrZ0UFASkUGeK0Pp3+gOF6pp0r+YZ5cWRuEYdZLHhNrzqI76bQYH\nBES4HaxyUjmRiXmOMJlRTV8gxNWlq8F1LijnURRBcTjY5MAR+VTjTZh3yqguLAqa1yq473qa6/7N\nxGPjplKloVZX+OjH8/z6f+nQHHH/AdA//KME16/hPfut8HOk5A+cz/HB3PuGrEt3imWxRPCNr6K9\n+W2YrkZezS7buNLFxyfP/sbfzjDDUeI+KlRdKqJMfUEZKf0PNVOR6xdTsrWLqM6R6xVjz3rP82/N\nn+dfm/+e1UKbZneFJbHA9+vfx78s/s98n/YYu3I39Kf2CshggFlRlF7gv5lkVC+qF6beP8sa3/Vf\nrQqUwEVoIzyq0sUr5ZJdu1fCsam1erafeZrJVDr6aI8qSa/fTlNSrvnjGdUJ8rjFMKM6KfTfX1tj\nSy7z6BvGtw5rmvj/2XvzIFvO8szz9+V29lP7cnddXQmtCJCEhIFGYEZgTDdgCzAGjEW7xxHumbEd\nPT3tjpjocTiiIxwddjvGhCfGbncjsMGNsWFANtgsxsYbjVgk0C5d6W51b+1VZ809v2/+yHNOnSXz\nLHVLIDnqiVDAPZXLl9uXb77v+zwPO36D6RYDfTExo7r/HlVI/gi4Ilc7rORxkVb6jyJFzbYIldHT\nM50GB4+iKDIjphLluIZhTa6n9qfC6NL/lCjHz5Qz3ovbwjowwf9uMhW0yv/VXZqyOSC1FYYxCSrW\njerPqCaRqcpUVJWaucB02Beo6gIh0vuw0xj/K/IKx7Wj4x8gbUUQJ1F6bGhGlVb5v9HgfBRnVAEK\nBUGz/sKW/49pR1mzL3DNgw+TU20y1dVlVOfnNY6f1HjLmZv4i+Arnd9VEMStXpOo4wNnrtf50Xtz\nfPIBr0fisBvCymC99/34D34WWa3wWPQkTWVzlz5e28YkOGaXsc5dRn/5K3F8HWuCQLVNpDokSB3i\npYDxP9N/CLAsC72VIs2R41eyv4zr56hWAkzTxLZtTNPEaFFzdcPDsnxyrRp6KSgShiG5XA7HtdFm\n5ygUM0Shy2XtCndmXsU782+nOfVxbuJGsuUf6ex7xplhU24ShRbFkiSXy2HbTayp6c72AXwt9lPM\n5XLUZYOaU+dM/vRIu9R+hEHEzKxOLhe7DvUf29xCiCYDcuUSIpNlTs5he3ZnLMLTiEo59DWv89sz\nTzZ5xasyPeNNg6Zp5HImvsdYyxfDAlEoE5cNnZCiVuz8rVbxOb4Aga4SrxtAJhuhCYNcLvnNFLmS\noij07G8hWqARNFPHe/nsJjVriZfPm0iZnlW2LJeGcpk358jlcmRVlsAJkRlFQcvHbSe2zexcbqC0\npo4cxa3XyBoGWsqxtfdh6Blyub1xbHhbGEIf63y3EQYBVrlMprVOfN1yVKuSYtGlGZbIbrrM3jg/\ndDuRE1HSihyTR9kxdjmduWbo8t335Ka2zSnjBLmUzK7d9Jidz5LLpU8vx8ozbDrZocfePra8yqNQ\nE52nNASeR2Z6Gqu1rXB2DtFosNXcoqDle/YRRS7FUhZzI0CVp3r+VipBs9l7/y9FS9SDBk1xhCOa\nPTBe03IwjSzZnNY5ts64ApdSWQyssxatc71xJvVcpyHnZlFZhan33pOhbWMeP0k25Vz6pRIqaLKr\ndrmucC260CmVfcLAIpcbT6C+/9jGwRnjNLk//wonvlPFv9cgN50jCHzKpWzqfpPmyW685vWKV71a\nkSu8nr+u/C0rxhWuN88QNRt4U9PkC5P3Z77pXsHFCyF/9v9J3v+zheRA72U3or3hTfif/RR//r4m\n7yu+m6I1WVA86tgAbnrcZv2meZZmZgjlJpYWjX3et8MdSkGxZ/n9XLdDHOIHgRd1oOr3aYJaWIic\nx+6OxPN8pqenaTabBK1UleuEKBXhtIy4lVS40sNxHPztbUSxiFI+nhfRCJssi0U810NmMvjVCqrL\nwDsbZtiNKlQqHlZG4jgOstFAzS10tg/g63F/q+M4PBU+zSlxAs/1mBSNesiRYwrHcTBNc+DYTCNC\nJ8QJI4R0ECousTftJprQcEIHP2sSVqs4joNSiu8/4nH/z2d6xpuGeIIKcRw11vKRjPCln7hs1a9h\nYXb+trMd8rJSwHroEgTBwLG1tojjSBwnOVNRD+oYyujZn6lMqrKWOt6dpy5hHFlCSjn0mAxDsW1X\nORIVO8stiDku2Suc0k/gugrTBN8fJEkAiOlZ7MsrZI6fSDk20HVFo+GSzcUfMFJJVqM1pkRprPPd\nRthsIDQd2Vonl8vhOA7bm5JiCSKvxMXHN8idGm53WPfrcT+umueiu8LN8sahy3ffkyvBFW7nFanj\nrtclpunhOOkZ9NcUXs7nbWvosbePTQs1Gqox0XlKQ9Ss4+s6UWtbslgk2Nkmsq4hR65nH0EgCUMP\nr7KDymZ7/qYbAY16732VVRa7skItzHHCrw6M1zAU9bqLQnSOrY3KbkAmO/jsXfAv8Tpx98THXiDP\nlrNNNpPtuSfDyi4im0vdnsrlubz9LMfmjuK78fybyyt2dlwcZ7yMXf+xjYO5iw2MJ2vsLmbJrjdw\nyg6OLUF4qftNmif7oevgu3Cv8SY+3/gC/zrzr5Dra1Aq7+t+yuVyvPM+nd/9iMtff1XyI69PCd5f\n+wYqj/0jr/umxek3npp4X6OOTSnF/Lcv8LUfn+Z6x6HaVBwhHHs/O9EuWdV7T+/nurUxM3MwJLFD\nHCIJL5nSfxumJchkoZFQihokU1ldZKpqq0dVEPgKV7mdnqFYS7W3XFpqlZW79TNlX48qgK9lUY6N\nUorn5QWunVDovw3HVaSQuQHI5yRSaSjisehCJ4OF05IZClRAVMh0Sv9XLisMExaXxi/tGGbsbz4O\nRpX+22SqMFTYNpTK4qpK/14CmSrur1J4KvnDQG2uMXPj6LKpYQqqgc1Ml/j8gjbfKYknaah2Q5tf\nQG4Nd6Yx+nQ0K6qKAOojnLX6odxkZ6o2gcmYKrN7oZKwZi8cXLJkWdaWWJ1AokoqybpM11BVStGo\nDxeuB7iteIbA03psSNPQLzN3NeghUwGiPI2qVGhGCaX/lmxxv9g/tHpU+75bMiKDjk7Vz2FGg9fV\nGGJqkVT695XPttphWQzvsU5CmmvbsB7VeMUCO43LnbJ//JN4QZn/KopQn/sc/3DvDJeWJfmd+MR6\nnsK6ih7Vbtyhv5KaqvOsfC5+F4wQ+x8GKyP4wIczfO3LAeefT+7lsDWPT7wj4va/ryDXrux7X2mQ\nKxcxpODxE/F7q+HoGGKS0n+T4iHj/xAvEbzkAlWAmRmNnYSG9n4yldlFwmgHqpYZk6lc5XYcUEiw\nUW0Hqt2OREkvLM0wQTfB9zgnz3N6QqH/NmIyd/qkrMuQUBjdDoc9ov8hITKf7wSqTzwacvOtySL3\naZiE9W8II1Xwv1u0u7qrKE8JTG245eo4Par9ZCohRCz6n9CnWqtKpoINlm49MvJYTBNqvsu02Ht5\nLYi9PtUkV6qecYylpdobpKyrDU5qxwkIOhJqYyHFmapRVxRLgvzSFM310X2vbusaHdGWJpKo2lUV\nMiKbaJ0KMUPcMOIPymHQNDFMFa4HsTzVQTlT7clTQcudqlahIZsDDOgO699O6lEdJFMBTIsyFT+H\n4Q/2CQ8jK9r2IJlqVa6zKBYmIlK1EROqBp+L0T2qBZrNTa7pIoQWirygov/hP/4tolTGfvl1rM9K\nsjvxuD2PoR/vk0AXOm8xf5S/DL4aM/4nIFIlYW5e490/neFTf+BTqw6+i74cfI1rFl5B9m3vxPv0\nJ+O+2ANE+O1vYt3xGuo08VVA0zXQh5BV+3HI+D/ESwkvyUB1elYkMv8jOYRMVa8hymVMCwK/Ffi0\nMnSxPFV/RrVEXTVw+8lUfS8s3QCyOfxmlVW5xklttCB3EkY5UxEERMLsySR3y9CERMhCtiNP9eRj\nETePKUvVxiSsf3MY6589K8rdXcX0jBjqZAWxheowCRwvQfAf0kX/z36vQUbz0WdHl6RMExq+1yFT\nwX4yqqO1VLvP7ZrcYFlbGsrQTkJMpkrOqBaLgsKRKTJB7MYzDG5Ll3ZezLGrKmMHy6vROkeGZPhG\nSVN1I58XOPY4GdWDIVMpKelX1W+L/vdnVKVUyLaBSLOB6CPe5HLJQXZZTVHz8mje4DUd5k4Vu1L1\n/nZ5H0SqNpIyqioI4q/0YWKb+QJ+c5dr9BN72yoKGsNV4PYNubtD8PWvYb3jPo7rx9meEVg78fPs\nXSXrvx+v0m/DUS47lfNXlVFt44abdO56ncEffdzv+QjdkFt8N3yEt5pvRr/91WjziwRf+eJV768N\n5XtEj30P4/ZXd1z0Go6ONkmgyqHY/yFeOnhJBqozMyLRnSqKQO86IrMlSh/JqMX6n8I0BX6gerJ+\nSaX/HFkCAhp21AlSYnea3odb10Fm86w2z7OsLWOJ/cl9uO7w7IEKA6TWF6iyJ/ofqCDeQOCzve7T\naChOnJrs8o5j89jGKGeqdlBZ2VXMzIqhgS3ELl/DM6ouGQbZ+2kSVeuPXSGcSpdQ6oZuKrww6nFJ\nWhDzbMlY9D9NmqqNcTKq/Tqa63KDJbFIkSKNNLvLPiilWqn39IyqVi6zWGhw7rnhgWr7GhnCYF7M\nsqFGKxcArMq11LI/jJam6kYuL7DHCVQPSvDfdcDKILpcQcTUNLJSoSntQVcqI87aq+agPFUmKwYE\n/wGK3hy+mRuo0MBgVr0bdoOB0v+KvMIxbXRFIAmlhPtKNeqIYmnoM1HNS6ZsnaLYC8wLxRem9K+U\nwn/wM5ivvwdtbp7j2lF2ZgXadgUpFUEA5gGqJ2lC48fMN7NdOYcoX11GtY03vtmgUBR84XN7c9uf\nBX/Bm8w3UBRFhBBY73o30fcfITr7zIHsM3rs+2gnT6OVpzqaz3VbR5OTs/4PcYiXAl6Sger0jBir\n9K8JLQ6o3AZoOiKT6cqo7pX+RT6Pcnon9bisXKTeDMnn42yMcl367Yl0HVQmz4Z9gWvH1E9VQYD3\nqT/ssW3tztwmwveRen9GNU+TvdK/qVlQKPDsw3VuukVPdLkZBmMCT3oDg4goURey24qysivjjCrm\nUGeqkaV/tZcB70Y5QfQ/DBXeyhrZk8tjHYsyQnJhsUepYUGLtVRjxn+yNFUbYpyMal9bRVuLNK1E\nm4ggAE1DJLCA2wGiKJWZNkcHqq7yOnqVy9rS2ML/q9HaVUlTdSOfj2VNR+GgelSVYw98aIpiCeXY\nNL16Tyk0DFrVEhiwT4VkeSqAvD2LlzcGrIxhuPNbM0FHdUVd4bh2bIwjG0SS6P/I/lRgPd9gxu6N\nDl+oHtXose+hdncxXv9GIJaoqs1YiJ0dPE9hWslOXVeDl+u3UKiFnCvuHsj2NE3wnp+2eO7ZiO88\nFPJs9Byrco1/ZuwpyIh8Aeu+9+F/5lOJ98WkCL/9TYw77gLouOjVmjpizEBVKcWaXO/5GDnEIV7M\neEkGqjOzWnLpPwKtr9ptYRLUthHluC/LMGLLTCfsKiXnC4mK1iVRxHYk2bwAx0Zksz3ZGGhlVK08\nO80rY/enqsou0fcfRj77VGvcCt+PtbZT12mJ/XcHqvkuG9WQCAMDUShy8YkaN986eV/bKPecbggh\n0NETs6oue4L/lV3F9LTW6mlNz6iOFPzHGzujev55yYncBtax8bJR0vTIh70v8JzIYWJSp45jD3yf\n9ECUyhD4+HadZ5yzicsYxh5RTSkVZ1S1RUpDfNn7odx0+7J2RlWUyuRknXMpJI82XPay3pP0qa5G\nayyJZOtUgEZjfHnK3Jil/wwH06PaT6QCEJqGKJYIq7u9gWqoYg1VWr3pA6X/5B7VjDNNlJcQRQN9\niaaZXrGw7V4yVaQiNuQGR7TxPrb6kdRS0nbnG4adnE+h75oUiuLAe1SV6xB84XNYP/GezodXTmT5\ndzP/DgwTf7tG9gDL/m1oQmO2rvPl/HcTdWb3g2xO8MF/meEv/szns88/xD83f6zHOAJAv/4G9Ftv\nw//cn45lyJEGubWJ3NxAv/FmgE5GtdbQEFE41ra/Gv4NLi4v12/e9zgOcYgfJF6Sger0jEh0B+ln\n/UNcNgxru4hSXOoRQsTuVKHqkHP6LVTbKFGMSQ55kfiygljIO7JyNJqbnNZPDvw9CapaASEIv/0Q\nEBNQMpkR2YMgFvsfyKh2AtUAAx2ZKWBv1bn2+skv7bCMT+LyKeV/u8tCdXdHMd0q/Q8nUw3vUU3L\nqMZkqt5A9eknI45mNtGWxnvJh4ZHNhi8tgvaPBtyq3MPpEEIgZhf4Oz6Q/zuxn9LXKY7SKmoKhYZ\nCiJPURSGmhb0wHURmZRAtaEoFuOgWXdqNOuKem3Y+dxrfVkSS6zJ4aoF0Gb8b2Ng754AACAASURB\nVLKsDQtU44B5HExU+j8I1r+THOhrU9Oo3UqP7W8YxllwJWXcMjCgiRrPN/33rGGXUEWn1U7UO6ek\nlf6jSOH3iduvqQ1mxDSZfbYSJQaqjfroQDXvk7F7J4HiC1D6D770BfQbb0E/dbp3X6KINjdPsLGN\ndbBGTgCoMMRwfIJihu9Hjx/YdheXNG79yRUa//3NXOfckriM+Za3IzfXiR7+9r73E373WxivuqMT\n3M+LOTaibVxXi19+aY4SLTwSPso3wof4uczP7LtN7RCH+EFj4mim2Wxy+fLlF2IsY2N6Ni799389\nSqkGgj0Lk6i228PyNE0wggy6aEW1pgVKoYLel2FRFPEcQS4Xlw21BBKCbkDDFEy75tilFFXZRb/p\nFqLnnkE1GrH71ZBACIgDVcuk0ejtUW12elRDTGFSC/KcPuKketsPwySsf9jrAe5GpCJCwo41X6VN\npsIc2qOqj+xR9fZUGrpQZtCd6uknI0ruGmLsQNUlEw5e23ZZbRSZCkCbW2Bn/Vl2w+SSYvwREJ/b\nNbXBsrYAxPfYJBnVJMY/QKMe2+ySyYCC664JOfdc8ktLKdWRp4JWRnUMiaq1YIOyKA3IhHWjWZ+E\nTDWWiVaPzNzVoN+Vqg0xPY1eafT07AVBfM1wbMhkY3vR7nVELJPXT6jS7QJhrgGFQSWR7qx6N+xW\nxr577rosr3Bsn2V/SCFTjWD8A2zmHIym1zO35gvxcY4jJTYOoovniZ54DPOtb0/8u5ibR25tHiiR\nqo22Q+FbM/fypeCrB5ZV9ZTHIzd+lpffrvGpT/iJH93CNMm894P4X3wQubM98T6UlETf/RbGHXd3\nflvU5tlsNGJ+YL8GXh8uRJf4jP95fi7zM5TF8PvgEId4MWGsQPXBBx/kl3/5l2k0Gtx6663cdNNN\n/M7v/M4LPbZUZLMCwxA06r2TTFJG1RQWsjU5tWGYCsvfCyqFEInM/yJFfFsnl0v2+4Z4f7tGyKI7\nvPerG6paQSwdQb/pVsJHvkO1Eks4DV0nDNAzg6X/7h5VA4PNRp5Ti8nC9KMwCesfYomqsI9p6uCQ\nI4sQAikVtapialpgJizbs62ROqpuaka1u/S/vSURdgMNOfKl3IZvOFjhYADTLquNkqeCuE/V27yM\no1xcNXj+42xa/P/bZf94/MXxe1RTSv9Kqb0eVSEQpRLXHU3vUw0I0NA6skdzYpa6aqTq0bax4q9w\nRB+u6dmYoEd13NL/QZGpYmmqwQuplacxqglkqraGaoqDUWL5384T5GtxRrXZGyimlf7tpP5UeXnf\njH+AImk9qsOfiW2jHk9q3t69oGmCbDI/bGKoKML/3J9g/vg7E68FgDY3j9rZvir71NT9V2OZwhu1\n68mJHA9F3zmQ7f518Hdcp13Lu398Dl2DL30heSLVjhzFfOOb8f/kj1Ajsp/9kM8+hZia6qkUlSgR\nNi3yReIbNmUS3ZUVHvA/yU9Z93HsKu6rQxzih4GxAtX/+B//I/fffz+f+cxnuPvuu1lZWeHjH//4\nCz22oZiZFWxv9U4G/WQqiDOq1Gs9LE/dkmT6A5MELdV8OAVCxZqQdkpGVYdNw2fOG39WlZVdtKlp\njDvuIvz2N6nuSqamR2dU9azVU84t9PSohijPYL2aZ7E8RpoqAcN66BKXT2Dy28rtlFDrNUU+H2dq\nR2VUDUMQpTCipZL4BFgMlqpKokiNvUDv6ScjXnlyC21peWwNWc9oYoaDAeCCiAlV42RUw/lpsltN\n5o05qnJQx7RbUWFNrndE3CeRp1Kui0h4e7tO/I5qZ9FFeYqTc43UjGrcQ7y3HU1oLIqFkeX/S/5l\njujDs9QTsf5z45X+M1j4Q+6dsZHyxaFNTWNVnD4ylcIw0lt+IJlQFTQNonwTlc8NfPimkRWTxP4v\ny9WrClTbRMvujKGq12BEoFpVNUSh2NFj7myvcDB9quE/fD1uT7ntlanLiLl5tMrWC5NRre4ipqYR\nQvBu65180f8yT0ZXx8avyCp/H36Dt5tvQdMEP/XBDI9/P+J7DycHjcZr3wC6Qfi3X5toP+G3H+rJ\npkKcZJmylzELAcIwUAmBqqs8/qv3B7zReB23GjdNtM9DHOLFgLFL/6985Sv56le/ytve9jbK5TJS\nHkzJZL+YmdHY3OwrOyeSqSyo1TtkKgDdlAMZNJEbzKhmnBJ6vmUYYDcRxcEXlqbDuu5ScsbXLFXV\nCmJ6Gu30GQgDwkuXxgpUjVxf6V/0lv43nymRnStiJGg4jgPDEAQpwWLi8gnuVI5yOr2Pcdlfay07\n2CbQDX1IRtXHx8LsYeW30c5Itl/Izz0rOT21ibY4vpuPazQwwsFs7V5GdXSgennGZ3lXZ8GYp6IG\nA9XuZMe62suoFifKqCZrmPVnMUWpzGymTq2qEh3cuuXD2hin/H/JvzyS3DNJoBqX/kffbzo6CkWk\nJstA9SOt9M/UFPla0LlvoVvsf1A7uY0kiSq7pYfqJzD/zZR7vNns7YGWSnJFru5bmgriakcGC6cr\nuz8qo+oqD4VE5IsDYz8oiarwf/wD1o/9i6EfkWJuHq22RWYIuXS/6HalOqod4cOZD/JH3qd5Pjq/\n721+MfgyrzXuZkaLt5svxM5Vf/ZZn7Urg+9JoWlY7/lpgn/8O6KVi+ONu9Egeu6ZxAC/ZC+iFZ3E\n0r9Ukk94f8xJ7Tj3GK/fx9Ed4hA/fIwdqH72s5/lS1/6Em95y1v48pe//EKOaSzMzGkDGdVIJpGp\nTLRaoyejqlkS0+8LVBPID6ZTglw80Se5UgFIPcDWDawxfbChFahOzSCEwLjjLsrnv8XUqNJ/K1C1\nm3u9YvmuHtWIkMuP55k/NZgNGReTZlST3Kni0n8X43+2Zfk6ItgYVvp3lUcmQey/PYYsGWxiG9uV\nCxFzch2xNP5L3jEa6AmB6pyYY0fttuSphm/j2ZkK0zshs/o0NVkdHKcR9/+2Gf9tLdIihfF1VN1e\nV6U22oz/NkSpBM06p67VEtn/boJ5wvIYzP8XovSfILYxACHEgUhUxYHq4PkLp/JM19nrWSe+F02T\nuMoypPTv9JX+bTvOPjo5Dfqew7QWwn7jq021RVEUe8hd+0E/UW+UPFVVVZkS5bjVoT+jegCBqlIq\nHsP8/NDltLl5rMY2mReA66P6XKlO66f4YOan+Jj3SVbk5NyLS9EKz8izvNm8p+f3o8c03v5Oi088\n4CV+jGlT01jv+En8T38S5Q9vuQEIH/kO+k23Jpp9ZJuzyHwzcRL9s+Av8fG5z3rHRC6FhzjEiwlj\nBaq/8Ru/wUc+8hF+7dd+jSNHjvAf/sN/4Ld/+7df6LENxcyMxnZfRlVGCn2ATGVh1O2eQFWY4UCp\nN6lHVXfzqFzMllB2Ey2hBOhoTXLmEmocVgitybpS6XzV67e/mqWd7zNdHBEhBj6aZfX0ihVEvhOg\n+VHEypNZjr2svO9AtZ31G1c+JYnJ322k0CZSQUttYUj53xgiT9V2UUpD20a1VlVEEszq+tiMf0/5\nRKYHwaCclyVMii3lh6Eat8DTmRU0w2TRyQ3NqFZVDQOjQ9xpBxPjnHOVwvpPyqiqeo3T1+qJfar9\npX+AZW1xaOk/VCHrwWYnE5wEKRWOPdz4qBvj9qhC3KfqXW2fqpNc+nfKGcp9nhG9pf/kA8rmYsWO\nbthNRblg0syLRNb/OKX/qy37t1Ho0uhVUkKziSgOC1RrlEW5VfofzKg2rjaj6sb+umKEir/IF1AI\nCsb+WpiGIe5R7XWlukG/nndb7+T33T9gfQz1i862lOLzwRf5MfPeRILhq+40uOFmnU9/0kskohkv\nfyXaiVMEX3xw5H66tVP7YTanCArVgdL/N8KHeCJ6ivszH9iXDe8hDvFiwdBA9U/+5E8AuOeee/ib\nv/kbfuEXfgGAb37zm7z+9T/cMsLMrMbWOKV/ZaA33Z4JWpgRut/3ws/nB3pUhZMnyrV+s+3EjGpT\nq1PQj4xHX4Z4OV3rsLe1qWnW9ePM7z42fL0g1lEtlgT1VjnXFCY6Gh4+zrl5puYlxaXSvkWlNU2g\naSMVTjpIKuc73dJUXYEqtHpaUwhVupHu2pMmTdVGuWWjunJRcvy4QK6voS2OF6hWVIWCaaaSyObD\npb0+5RS4ymNdbmIsLLO4K6gmZFTNFlGtu+wP8TU0MXAZnVUZ5kpVKCUEqmc0zif0qToJxLRlscTq\nkNL/htxiwZgb0Ifshm3HwZuuj1v6H69HFdrM/6vrU1WOk5iRcko6hUbUY8DRQ6bKJ/eoZrKDGdVm\nU1Esath5Bj5803SK7aYi3/WhETtSXX2g2t3/rBoNyOUH1Au6UVU1psRUSo8qV59RbdZT+3374WTn\nmIomZ8aPHEOr7aoftxm38s+tt/J73gPsyPHMAB6NHsdRLnfpt6cu8+PvMPE8+KsvJd+71r/4SaJn\nnyZ8Ml0qS16+BGEQt4olQGsWcPI7Pf1Fz0Rn+Qv/K/yrzId6SIKHOMRLEUMD1V//9V//QY1jYszM\naWz1l/4TyFTFJkRZo9fNxwwwgt4XdZKNamSbyKxDoIJWRnUwUG1oNYrG0YF109CdTW3jkegOCmeH\na+upMEC0AtUk0X/3iROcuTVKzIZMAmOC8n8Sk9/GId8u/e/I3kBVDM+ohikBcprYfxsx87/ByiXJ\n6SM2CAEJ/cRJqKgqRSuTKss14y1j5Ia3dZyTFziuHUWfX2R6O6SSVvoPY0eYfgvScftU00r/zZaG\nahuiVEbV6hw9rrG7q7D7SDDdrmxtzIhpPOVhq2SrqNVojePW8aHjm6Q/FWJJJsceL4N/EBJVyh50\npgJo6j5B1kA19tKqez2qw1j/DLD+7aYim5f4ucEe1bTSf3+P6mV5+WACVYo0ZCujWq+OdKWKA9W4\n9D8QqBYFVzGttMbQGJrR7UbTmqMYHHygKmuVVPvUVxu380bjn/G73kcHtJn7EaqQPwv+kndaP57Y\nO9+Grgt++mczfPdbEU8+NjiPiGwW693vx//cp1H15H1GrWxqWuleNrM0Chud0v+63OAT3h/zocxP\ns6ANb7M4xCFeCnhJCv5Dm/XfV/qXgxnVYl3ilXpfysoM0BID1d6Z2HXAzEdxadYeZP82lY2nOxRE\nPBkof/SLVFYriOmZzr99X/GUfyNicxW5vZW+YhCAYVIs9gaqBQo0ZJPgyWu4/lbVEadU+yS7TSL6\nHwv+9y7sdLH+u8lUneVTMqpDS/8jMqpt0f+Vi5KThY2JGP+7qkrJzKUec9lZQMsPz3Y+F53jjHYa\nbWGRwqZDNaX0HwSwJjdY7nN2Gpf5r/rIVN8JH2En2t3TUG0hzqhW0XXByVPaAPu/W+y/s44QrfJ/\nclZ1Va5xwhqu69moj9+fCnHwbhgwRoseljCvXqLKTbYYc5SDO5VBViud34JAxYL/zUZ66T8rekr/\nUqo46Z1TuHk9QZ5qdOlfKcWKXOX4VRCp2ui255VjuFJVVZXpIaX/A8mojvkBWTfmyPsHG6iqMIwr\nY0POwxvM13Kn8Sp+z32g0/+fhL8Pv8GSWORl+nUj91sqCd7/sxaf/bTP5sbgvKyfvhbjjrvxPvvH\nAx9tyvcJH30E/fZXp27fbWoYBZ9QBzdo8F+9P+Dt1lu5Tr925NgOcYiXAoY2rqysrPCLv/iLqX//\nyEc+cuADGhf5fCxn5DiKdrI0ikDvC73zjRC31NsTpUwfvS9QJaFH1bYVmbykrhpkbXsgo3peXqRs\n5FGypcPq2AhreP+VaklTtVGrKApTJsYrbif87rew7n1b8oqt0n+pJAaY/xdXAjAFS4uZuLSXycSp\nqnG9LLuw9zIdHXDEPaeDpf85MYNSisquYqan9G+mlm+HCf57KWL/bZREkVrU4PIlycING2OX/QEq\nskLZKrKTEqjm3Tlkbrgh/fPyHD9m/k/o8x7Wo+fT5alC2FUb3KH1MneLrdaFkeiTp/pW+F2yYZZG\n4zTF4t6NL8px6R/g2uviPtVbbtvbTBLrH+Ly/5pc51r9moG/rUZr/GjmHhhyKprNyTKqsOdOlckO\nX+/AMqoJgaqtHEpT+dgxbjnOZIYhGDrQbKY23WazgjVnL/BwnfjRMwwdL6cPCv6nlP67d7GrKljC\npCTG12VOQ0EUqKg4+B5HQ7WqalyvnYGCGMioHoQ7lWqMn1GtijmWnWevan8D+6/XEMXSgA12P+41\n3oSjXH7f+zi/kPmXA/2nDdXkr4Kv879mf37sfZ84pXPv22Jy1b/+pezA/W6++a14v/sRwoe+gXn3\nazu/B49+D+3EqZ53Rj8aDcVMKYNr1PmG+zVu02/lbuPOscd2iEO82DH0idV1nbm5udT/fpgQQjC/\nYPZYqcpIDfTH5WoBdqm3r06aPiLsDShFgo5q7LgoaMg6OPZAZuVcdJ5poxT3dObyjENhVn0Z1UpL\n7N+4826i734rNROqwnCv9F/rLv3neP4xA246i6nFEfvVlP/T+uiSkCr4L3I4Nmha7IPdvXyQ4tlu\nDO1RdYe6IZVFie0tSTYnMKvrYztSQVz6L5uF1NJ/zpkiyKUHkb7yuSJXOaWdRFtYRGxsU1P1Aceb\nNut/TW4MWJCOn1HtLf0HBDRVc6BHlVwewhAV+Jw+M8j8Tyr9Q8z8T+tTXZXrnBhV+p/AlaqNsd2p\nrlL0v+M6Zw722DaljZwu9mRUw6DVo5pQSWkjm+vVUW22ek0NjDijmlT6T+lRbWdUV+RljomDEWSP\niXrxGPpNT5Kw16OawPovHESgWh/743mXWTL2AWdUq4NtV0kQQvAO820cEUt81PvEwJz15eCveJXx\niqHEwiTc9SMGp67R+NNP+QOZU6HrWO/9AMFX/gK5sfcM+t/6xoB2aj+adcViscAFsUo+tHi7+ZaJ\nxnWIQ7zYMTSjeuTIEX71V3/1BzWWiTG3YFDZkSy05oskMlW27rNb6v1RWh7C731hJemoOraikNdo\nehXQdYRh9nggnpMXWDBeRRi21h/jjauqFbSlGzv/rlYU09MCbfkoolhCnn2anvRXG11kqo31vSCo\nIPI8/Xge+c6nMXhNfCxXEahO4k6VTKZyyYtcD+O/jSSVgM62hpT+44zq8EB191KW4yc11Poa2ivS\nyQ39qKgq11iF1GPW7DxhroGvAqwEItF5eZGj2hEywkKbnyfc2CSvSjRpUmIve2SY4AYROtqA1W6J\nInXGUGpw3Tg6aiFQAU1p02woSt2sfyEQxRKqXufYiVl2tlSPaYGrPHLaYKB6RFviseCJgd99FVCR\nFZbMRXZJJ5pMIk3VRm5MQtXVkqlU/NWZ2BLiKAdmpuKMagthGFdqhrP+e3VU2wGnjo5nKYgiVOB3\nWO7xs5Vc+s93AtUrB8L4h9YHUNTqUa3VECOSCxXZ7lENkkv/Vyv432iM/RG5E81h1A86UK2m9qf2\nQwjBe6x38Yf+p/hD/1P8rPV+dKGzFq3zcPh9/n3u3+xrDO+4z+K//I7H334t5J43984n2sIi5r1v\nw/v0J7H+t/+dYGMNubaKddMtqduLIoXnwfHCHBgGr+WOoT2zhzjESxFD7+hxZYp+WJifN9jpyqhG\nUZzF60am7tHsC1Qj04WgL1BN6FF1bEUxr+PaOwOM/0AFXJZXmDXLRJFKlLdKgqrs9nzVV1sWowD6\nHXcRfvuh5PWCZDKVtjWHb+sExy9i0s6oDpIhxoVpitTs4sCySfJUOGTJUtmVTM9qfcub+CkZ1WGC\n/7GO6rAe1SKNlVLM+N9YG1uaCmLW/6xVTA1UXUeQzSu2VfJL8/noPNdqpwEQpoU+NcWxWn6gT9U0\nwQmCASIVTJBRdZyOWgRAQJicUWWP+a/rghOnNM53ZVWdFLmvdo9q/3O/oTZY0OZHStw0G5N3m4xv\no3qVPaopZX+IS//azDSyukeCCwOwtDD+erKS771stpdM1Q44DXQiIePnsGtOiJ+t3m1EkcL36diF\nHpQ0FfTeV7I+PKMaqSj+uBLFxA/dfCHOfCfJLI2LSXpUq34eIaN9K5gk7r82Xka1DU1ofMB6L6GK\n+JT/GaSSfLb5IG8239iRl5sUhiH4wP0W//h3Ic8+PcgeNe76EUS5jPeVv6D2d1/HvP3OXiJwH5rN\nuIDyz6zXcEvmVoyr88Q4xCFelBgaqP7mb/7mD2oc+8JA6T9J8L/uUi/2HmZouqh+3cxcLIrYXXp3\nbJjKW/jNykCf2iV5mSVtkYxuINul/zEzqt2l/+quYqqVeTRecTvR2aeRSUFm4Mdkqr5AtfbEEuWb\nN1CaQmtfzgR5mXExKZmqvyxmK4e8yA1IU0FLJWBIj6qUyS9Cd0RGtSRK+CtznJyvg2GOLYGjlKKi\nqsxapcRMF8R9yqW8zqZMJro9J89xpqun01w+wrEda6BP1TAEXhgllgvHYf0rKWPWUaY7UA2o+y5h\nOKhaFTP/4zGcPtOrp+qm9KiWKKFQNPqyu6tyfaR1Kuwvo5rPxy02o5C5yh5V5ThDAlUba3a+l0wV\nQlbF2dQ0Yl42J3C7xt5sxsejC4NQRfGc0RXwJZX+7VagoWl7GdWD8mIv0KWjWq8PDVRrqk5RFGPT\ng0wGohDVNRHouui0vu8Xk/Soer5Azcwjdw4uq5qkuDIKhjC4P/N+dlWF/+J9jLVog9cbr7mqcUxN\na/zUBy3+5I88drZ7W4SEEGR+8qfwv/0/qH7ty1iv/pGh22q2njld6GimNZljyyEO8RLB0ED1tttu\n4z3veQ+33XYbv/RLv4Q9pgTTDwpz83Hpv40keSqzZlPtmxtD0xkQeBe6HmdOut48tq2YzmcJ7fqA\nrM05eYHT2jXoRrzfNplqGJSUcUN/V/mpWpGdjKrI5dBvvJng4QSpqg6Zio6OKsDWE7OYN53HwOi8\nUEXfC3ISTNKjaoo0C9XcAJEKWuSrFNa/EAJdT9ZwTQus2shEWdTaPAv66kREKhsHDZ2ilU09ZsdW\nTOUzbCZkVAMVcEle5rR2qvObtXSExR0xkFE1TPADOcD4hzEzqr4HltVDBAkJqdUiiiUxEEy1M6pA\n3KfaF6j2C/5Dm/m/xGof839Nro+0ToWWPFVp8tL/WBlVLLyrClSHZ1Qzswu9pf8AMnK4e0E2m1z6\nN9AJiQasSJOk32x7rz+1pmpIIqbFeOXpUWjfV0qpkT2qbWkqaLWOJGmplq5O9F81GmN/RHquQpub\nRw1TQpl0/7VeV6pxYQmLn8t8iIiI9xTedSDi+ddep3PPj5p88mMevt/Xr1oskXv3+8m97Cb0I8M/\nWnok4YbZ+x3iEC9hDA1Uf/7nf55Tp07xn/7Tf2JjY4Nf+ZVfmXgHv/d7v8fHPvYxPvaxj/H5z3+e\nnZ0dPvrRj/LAAw/whS98Yd8DB5hbMNnZ2XvIZaQGelT1uk2t1DsR+IaDDAYPPS7f771YHEcxW8gi\nE/y+z0XnOa2dQtdi/c+kHtd+qHoN8vmeUk61opia7pJwuuNu/Ie+MShT0tJRLRRFx0a1XlfU1jIE\n1z6H0dVunPSSGRdp7jmJy/b1qCqlcPHIkaWyM5hRjZdP/+JP61P1lD80o7qxJtBm6kQ7l9CWhlt8\ndqOiqkyLqaHWsbYNs4VcYkb1klxhSVvoCaLN5WVmd6LBQNWI+x6TMqqlcTKqCWL1gQpo1knMYsbM\n/7iUffykxuam7JSpHdID/9hKtdedZ01ujLROhTij2u2wNA7GFf2PyVTjZYuUUvyl/9XeZ8ix46pJ\nAmzlkJtZRlYqnXXCUJGJ0olU0CJTOXstUs3u0j/hwHySJE/VbHT3p65yTDt6YFaXhjCwsGhEzZEZ\n1e5AFWgp/Pf1qV4loUo16iO1XCE+n74P+sIBB6rV6sQZ1TZyIsv/kv2febmV3i86KV77BoPFJY3P\n/+kgucq86RaO/NK/HbmNnkBV73WmOsQh/qlgaKB69uxZfvM3f5O3ve1tfPSjH+XrX//6RBsPWw/N\n/fffz/3338873/lOvvSlL/HmN7+ZD3/4wyileOqpp/Y9+PkFo6f0H8tT7U3yKgwRnkc135umC0yb\nyB90aOkW/ZdS4XswmysMuFJJJTknL3JaP4VuxDJZjEGmUtXKgMxItaKYmtobs3b6DMrz8C6c6125\npaOq66Jjo/rU4xGnbgio6RVM0R2oDvbbjgszRZQ8cdm+HlUPDxMDXejJZCphprL+Ib1P1WU463/l\nYoR1fIdw4wra0vj6kxVZYVpMdZQiomjwJezYioVCgU01+MJ8Tp7r9Ke2YS4fobTtJQaqUaDtv0e1\nT0MVWj2qKUTqOKNab+1bcPyExoVz8bMyLEN9pCVR1Y01NX5GdT9kqvEyqubYpX8Xly+HX6Oi9npO\nlZMs9g9x6b9UmI0vUusZDkMwo2aiG10bhhE7ubUr5HtkKiPOqBYKPb2eyaX/vUD1srx8YP2pbRS1\nArX6Bhj6UOm8qqr2BKqJGdWrIFSpIIgnlgRnsH4EQVwZ0+fnh2tLTzqGIWL/PwwIIfiJ91qsXZF8\n4+/3F2A2ugJVMUk57BCHeAlhaKBqdU1suVwOfYj9XhLW1tbwfZ8//MM/5OMf/zgrKyusrq5y6lRc\nKr3uuut4/vnn9zHsGOWyjuepTumkX/Bf1WuoYhFf7D28oQqRpk8UJLxQu2xUXSfuBCjrRfSm2+MR\nvq42KIg8ZVHq9FaK/Gh5qrhHaq8/1XMVUdRbXRSahnXna6j/7d/0rtwq/QMd0f8nHgu54VZBXTUO\nMKM6fqDaL0/VLfa/uyt7xP6hrbs6LKOaLFHljRD8v3xJUjxeh/WNiaWpprX4xZWmduDYiuXCVGJG\n9bnoPGf6AlVr+QjZrcaAs41rNiDUKTIY+OTJ4+ASqXQmhHLdnoyqUoqQEK+u94j9t9Fd+oe4T/X5\n56KerHcSlrUl1rokqlzl0lRN5rTZ1LFBnIH0vbHikB7kcmOpuk0kT9U+9+tqLzOcpqEKcUa1oOXR\npqZRLUJVGIIVDkrS9aNbospu6aEaQo+vZZ/kXZIzVbOpaO/iIBn/bZREtaHJWwAAIABJREFUkcbu\nKtoY0lTdLQcin+BOdRUZ1dg4oThWttjz4rlXHGDpX0VRrOAw4jz8oGFZgg98OMNffyUYkJEbBz0f\nh/oEWYZDHOIlhKHNNgNabxOWpEzT5HWvex23334729vbfOITn+jZZiaTwW3N8rVajUajd2J0XZdS\nSqnIMAw0TTAzo9Go6ywt60jpkskYmGYcrYZ2E21qigAHsxXkudIjY2mEgej81kZQLKF5HqZpEgQR\n+YLGlFkk40SIuQK6rmOaJhe9Fc4YpzFNk0xGIaXCLJWJXGdgm92QjRrMznaW2dmOmJrWej4IAKzX\nvJbaf/51pt/69k5w6oQhZj6PZpqUpzwquxrnn5fc97NFPhOo2DO+taw2NUVg20PH0o/2sWUyIVJq\nY62bVVkiFXWW9aOAvJ9DSQPfh+kZs0MSAchEFpGIs3pGApPVMF2E2Lt+bXiuR9EoYurJY1q55DJ3\np4f5N7tkjh2PMwsJx9aPWlRnnjlM08Q0BSgD0+wNrh3HYbk8RUBIYATkW2zfSEVckJf4uezPYLZk\nqwzDwCjPojdsmkEFs0u/txLtQDg3cK3bKLh5fMOnrKW8SEOfKJfbO9cqQHM0/IZJqTx4fNrMLEG9\n3vn9+hsEX/i8C6ZAOIKclRxRntCPseZtYBhxz/NKeIUlfQmrLbGUwkC2m5JiUZDJDDe86EepLHCd\nKPH6dF+3nMoRqnCs+9IJ4zllS+x0lg89D216emD9SEX4+OS0HPrMDFqzgWmaRJGPFdros+Wh+8zl\nNMJAxzR1bNujPGXiGxmiMMIol5FbW3vHkJcEYTy/tI/NcyNKpfh5u+ys8q7cP0+9z/eDUlCiubXO\nbHlq6HHUgwbHjWN756tcRuubz8pTUezWN+IaJD1voesgSqWxrl8URmSzGtbSEfyd7dR12vdi2j3Z\nDdmoI4olrH7W4YRIm0uuBkvL8L6f0fjjP3D4xf+jyNS0NvaxOXbAsRPxmGQmE7+L9jm+F+LYDnGI\ng8DQp2BjY4Pf+q3fSv33v/k3w7Xk5ubmmJ2d7fz/fD7P6upq5++e55FtTRzf+c53BloL7rnnHt70\npjcN3cfiUgYZlVhYKABNFhbmWFiIH7bGueeIFhbxOcvCwgIAkS/JZQ2iSOv81sbm3DyGEMwsLFCv\nuZTLAYuLi5RdA3NhinI5DiIur63yivLLWSgvMD3TwNDrzB47xrrvD2yzZ/uei3HsBDOtZdav2Cws\nRoPrLCzgnb4W8/lnmf2R1wNQCwMWjhxFy2aZn4949BHF9Tfkuf7kEfTndHJGtrOdQBM4jj10LGko\nT22RyegsLMyMXHauMYtW3zuPm8425bCMENPMzTksLfX2Y07vTHeyYjMz8fajZgPvwjnyN7+cbMam\nXJphYaE3e+rVA47NH2PKGAziPFeys1XjzjmQWZPFk6cGlkmDs+Zyff46FsoLZLNNSqXZzr3TWcau\nceqaRY5uLhOUIxay8bE+655lyV3k1OLg/oyFBfTdKgs37J1/e/cRkAvMzc33BO9tzDjTGNMWC5nk\na1Y3TZrTM51z3YiaZBsZpF1m7prMwLUOLZOLzXrn96kpyQO/dw49l6XQzKfeGwsskLUzaDM68+Yc\nj1af4LR2qnO92v/bD7vhMTXjTXzPObaH76+PXG+huQBVxtr+s/XnoAlVq9ZZfk1GFJaWKfWtX4vq\n5Bs5NKGRXVgkKyOmFhYQeORFSGnpONND9lkquWSz0ywsZPFcm+Mn5qhN19G2NaaWjtBcX+2MoVyW\nRGGj5xiU3GRhySA3a+LUXW5auvFAdTDnNmbxdrfIzi8MPXfNFZtTMydZyMfL7CwuoXyPua51lpcr\nrK0G+5pXmpcvoWbnxlq32XApFH0Wz5yg4fvMFQtoKdlwSL8nu+FUdvDn5vc19h8EFu6Bys4O//0P\nmvz7/+t4/OHM6GMLglWOHiuxsFCkNjuLszn6WTrEIV5qGBqo3nvvvTz66KOp/x6Fhx9+mI2NDd7+\n9rdTq9XwPI8zZ85w/vx5rrnmGs6ePcvp03Hp9I477uCGG27oWd91XTY3N5MHbhjMzMxQKkvOn9vl\nyDGbwI+oVnegNdF7K5eIMnl85bOxsYEQgivRFSxD4DjhwLZdocHGOuHmJlcuB5hWxObmJkVHsB41\nKLaO4fHmk7yR17PpbdJsBti2T8XzCeq11PECNFevYC0fJWwtc+GCT74wOA7DMCi/4U3sfOUvca+7\nAaUUyvfZqlYR9Tqm5fPNb/j8xHuzbG1tkRc5iOhsRwU+Ua3WOeZxkMlk8DyPIHDZ3YXNzdG9TnZg\n0/Sbnf1eCVYxQ4PnL25RnlIDx+V7HnXiUuju7i5hGOI/9A28v/0apX/7f4KI2Njcxcr2ZlQd6dDY\naeCLQVP458+GLC1rlFfrVBeyiee/fWz9WHPWeZW6jU1vE02TrK9vg9jbdxgowlBRq20xI2d4ZvsZ\npqw4w/8t77uc5mTP/tr3pDa7SGnraS5vXOmYBJx1nkMzTrG6uollDV6TbJTl4s5F8kZyxsfb2EAK\n0dlfVVYxlEFUL+GLCpubvcGNkhJp22ysrnbIe8dOaHzr22tYp6yh9+mSWOSxzSe4xbyRZ5xnmdWm\n2d3dZWZmpnPd+nHpUkA2J4duN/G4PEm9Foy8bm7oUPcaY21/xbvCEW2Z880LneXd3R1kGOL2rb8R\nbZIjzi6HuTy1lUv4m5s4TkCk7dBUpwiG7FM3I9ZWd5iaNqnVQnx/l3qljhM41KXE397pjEFKRRAo\nNjY2yGazeJ7H5qbN9KzBIxsXOCaOsL11sCL3lm8SVjYIs3NDz92Wvw01xWYzXsZDEG1sILvWUfhs\nbQ7OV/1Iet78yyuEVmas67e2GmIYEVtbW4jZOTaefgr92ImB5drPW9o92bP/8+eIisWJ789+pM0l\nB4G7Xqt46smI//a7l/ipD5bGOrbtLZcogs1NB99xCBv1fR/j1RzbYXB8iBcSQwPVBx544Ko2fvvt\nt/O5z32Oj370owgheNe73kUul+PBBx9ESsn8/Dw333wzAOVyuZOxbOPKlSsEI0Q9p6ZhezMkCDTC\nSCFlSNDqPw0rO4hSGR0dO3CwhEk9apAxNWq+Gti2zGZRazsEQUC9FpLNxsvkbUUtExJFERveJr7y\nmYmmCWQARASBJDRNlN0cOl65u0NULHWaIbe3AspTJK4z/ao72fjYf8VbX4sJAJpGGEUQReQLCqXg\nZTfG6xbIoyu9azsCdI2g2ejxhh8GwzAIggBNk7ju4LlJgogEvgw6yzbCBlmVZWszZGp6cBtapOG1\ngs0wDAmCgODCOeTGOn6jga6B5wYEwR5BLlQhEgmBIhCDY7pwLuDYCUF5zWZ7weRkwrjbx9aPHblL\nMSoSqADDUDhO2LPvek213EhD5tUsq8F6ZwzP+Ge527gzcbtifoGjO8+z4+90ejtXw7UWVydI/Hgo\nkKcSVFPJZlGzgbKszv4c6WJgoJpFVK5JEAy2yIhCAX93B62l23vNtYLnnonInsoMvb5LLHI5uMLL\nOMOVcI3rzTOdl2X7uvWjWgkp5Me7b7phmgq7mbxe93XTIg1PeWNtvxJWOKOd5uHwe53lpd0ksjID\njci1qN7pq6ZcJjz3fHxf+hKhNZDZ3NB9ZjKKRj3E8xSuozDMECJFIENkJkPUrPesr2ngukGrvSig\nUY/IZDXO+xc5IpYnPn+jkCeHrNWgdCp120opdmWFQpRvzWkgszlkvXfs2ZykXo9GjjHpeQtrVVS+\nMNbx2c0I04rvCTE3h7++hjFEdi7tnuxZZmcHSuWrPr9pc8lB4b73mfy//7fLP/6dzdvfMTPy2BoN\nSTYXEQSKCIH0g32P74U+tkMcYr8YSxDuiSee4Dd+4zfY2dnp6TF98MEHh66n6zr33XffwO8f/vCH\nJxxmOmbmNJ54NH6Jyj4dVVWroi0uY7VIPBZmbB9p6WwnPI8in0e2mB2Os2c5mbUl67m40f2cvMBp\n/ZpOsKHrEEni7v8wjJUGUvqKZKWC1kWmqlYUJ04lE9SEaWK+6k7C734L83X3xGyfFkplwYmTGuWp\nOIuWF/keMhXs2aiOG6i2YZrQ6LO2D77+Vxivfs0AA7pfnspRDlnRcqWaGSxfGgms/2jlEpgmcvUy\nunF0gLTaFvtPywyvXJK87EadwrkGT5wYv4daKtkikMQfR0aCI5fdZTu6oM3zePRkZ93z8gI/rb87\ncdv6wgKLZzWqqsocsyilWJPr5DvyRIPjjEX/05n/ynV7WOsBASYGQTOPVkxWzBelqZhQ1QpUT5/R\nefSLGtkUIlUby9oi56ILQCz2vyxGS1P1yORMANOKyYiBrzATMs1tZCYgU9VVg2v1a/g2D9NQDYqi\nmEqmsokNKgBEeRpVi8lUQQiaN5z1Dy13KjcWC8hkY+F+QxpEhC0yVS9TrJ+saNuxEtRleYUb9ZeN\ndXyToCSKiGoDcTSd7W7jYGD0KGuIQnFAOeSqyFSN+tiMe9dVZDItJvsBEapixv/+pKl+kMhmY3LV\n7/8/Ljfd4jKK+9Ws70nCCcNAHZKpDvFPEGM1Q33oQx+iVCrxEz/xE9x3332d/14MmJnRqOzGk2fU\nz/qvxeL63YxhF5ecaRIGCWSxLhtV294j+meciGoujqDOyfNc2yXwruux9qcQYqg7lQqCWEqgy0Kw\nVu2VpuqHdddriL7zEMr3OqQqgFtu03nfh/ZIKwWRHxChTmLtjoN+9rtcXyP40heInnx8YFmzj/Xf\ndqVK0lCFWM6qR3c1CFCb6+i3vgJ5+VKifE/M+E8PrFYuSo6f1LA2KlxeGJ8126BBjmyHCGUmsP4d\nW5FvB6pink0Zl2Uvq1WmRJmSSNbY1OYXmd2RHYmqBg0UYJlaqnrMSC1V1+mh1AcqwMRE1nPIYvJ6\n/cz/E6c0dldNrGB48LUsllhV6zSVTYA/lgB9Y5+BqhCi5U41PACysPCHKEZ0o6bqlEWJZW2Rddlq\nh3EcRIKOqqP2AtUe1n8AmtuEkax/geuoHuF+vSP4XxiwIjWMOAhuw27G99jlF4DxD/EHkF6z0coT\naKiSbMNcKLJ/eapJXKm8vUBVmzsYiapYQ/XFI001DItLGve9L8fv/NYajbpMXS4MY73ZzrRgGLGo\n9yEO8U8MY2VUPc/jIx/5yAs9ln1hZlaj0hL9H8yotgLVLg1GV7nk9Cy6Hr+MzC6ScrdAt2srSmWB\nCgKElFTMOAB9PrrAndbtnXW63ZTi9e1ECZS2hl+3s1ClojquVEnQjx6HQpHoqSd6mOyZjOhM5BDL\nG3n09RYVCrH5+oQwTUEYdpXev/UNxPwC0VOPY9xxV8+yBr2WqA4u88xyPkFDFdrOVHvLy9XLiIVF\n9GuuJXr+LIZxd6xJ2wUXj0yK2L/dVDSbirk5hbe5zYW5DEqpsfpyd2WVaW0vwxIHqr37dnoyqnNs\nqS2UUjwXneOM3itL1Q1tfpHytse5lkzSmtxgWVskGmIcUxQFtmR6f6JyXbRst31qiK5MpGMS5tIC\n1VLHRhViKZzyURd5cRmG6JYva4tsyE1W5RrL2tJY57PZUMzP748ElMsLbBuGJdwsYU6UUS2JEoti\ngXW5wbXiFHhuonaWreyOkoOYnkbVYneqMJAg7TEyqrE7VbceqtHSUcWyQEmU73c0TM2+zH2zqdAL\nPhVVZVEcfJ9fUSsg615sAJGyTGKgWhyUuMsX9sxGkgiBw6BarPtx0O0ULGbnUQ9/Z6J9Je6/urtv\nsf8fBl7+CpOdrQyfeKDG/T9vdbSeu9FsxNJmnWsxzLnkEId4CWOsN8v111/fw9Z/MaE8FYtQh2Gs\nSdoVB6JqVUS53JONcYntI00rQTczXwDHQSnF+pqkWBIou4nMZ6nTxJYOO2qnJ/OhG6IjFC+GiP73\n+0wrpWKx/4SArhvGHXcRfvMfekr//SiIQmrpf1IYxt55UYFP+Mh3sd77AaKzzw64nsS6qL2l/459\n6mxCoCp6A1u5chH9+Em0Y8eRly+hGyIho+qmaqiuXJQcPaYhqruIQhE/o41ts1lRlZ5MYVz6712m\nO6ueEzlMTOrUeV6eG9BP7YYolzECSdOOA881ucGStjhUo7bIqNJ/rzNVQIDeLGLkIlw9RYi0L6MK\nMHW6ivf8oDtWN7IiS0HkeTx6aqyyP7QyquPFIQMYR/R/EgvVeiujuqQtsq42Y2FO04ptkvvgdJf+\nc3mIIpTnoocuwjRT23jaaLtTNbsCVV3oRCqMrUjzveYb3c9XGCoCH7at+INAF5PpVI+DoiiSq4eT\nuVK1D8zzUF2exoYh+l2mx0ZbR3UcDJT+dw4qo/rSCVQBfvK9s+iG4Et/njxpNJv0VjEOnakO8U8U\nYwWqUkpuueUW7r33Xt7xjnd0/nuhET76vZHL6LqgPCXY3VEIsfd1qTwXUJCJy7vtbIyjPDIig2WJ\nQY/lVkb14W9HVKuKW1+hg91E5XLUVYPnw/Oc0I73vFB6/OnzQwLVagUxvTdRtkXCR8n6Ga+8HbW1\nibCGBappPar7yajuZf2iR7+HdvxEHEwuLSPPPdc7tgTB/0yUo1FXlBNaGuKM6t7ycuUS2vETiMVl\nVKVCRniJPappGdWVS5ITJzXkxhpicYmSKFLvE9pPQ9s+tfu4k0r/7YwqxH2q63KT56PzA45U3RBC\nEMxNIbdjwfl1tcGyWMIw0u1pi6JAg2Gl/15nqlCFaM082VKErZLvuf7SP0Dh2m0a54aL90Nc/n8k\n+n6ik1YS0qxc0yCvrCBXrwCxjeqoQNXEJCJCqvRSKMT9wzYORQosaXFGdbgrlbOXURUCUZ5CVauY\nod3rxJGCTka1sdclYGAQ0ZoUCr19qt3Pl9PaxRX1wpT9AQqBiR6qoU4M/a5UEBuPkMv3GBZAHBg1\n9tGnquoTZlRbj7woT6FsO25/2idisf/Gi07sfxQ0TfCBn/3/2XvvIEny+7rz80tXvr2dHruzHlg7\n6xcLS0IUARAERJE6OgCkCPJISUedLu5Op2BcHCOk410oGArdhYIgQwAYR5ACaCABIAUsSEDAEtjF\nYi2WCyzWjO+ZNjPdXTYrK83v/siq6szKzKqsNmOAehETM9Ndla6yMr/5vu+9b47v/p3Li89FC9Be\nXbiI006NMMIPAFK1/j/wgQ/wgQ98YL+3JYLWZ/4I7Y67Br5uYlJw+ZIMt/3LZURpHCFEhFGdYSq2\nMEE3kJ7k8f9S50O/XkLXBW57fGpN1njDOckxJZybGWr955KnU/VOpSpv+m3/QW1Vkcuj3n4HsryV\n+Jo71TfRUMLr7R3fmBZBU5Hz9JNob/VzbNVbb8d95buoN21HiPVqTk1M3M0CY+MitlXlm6+CjOo5\n9MfegVBVlIUFpuwLuO6Nofc0+0ylOn/O4577VOTqCsr8ImNCUpVVZpkZuJ9bssyk6N/6b/QWqmKG\nl9yXyYs840nB/G3I6WnUy1twA6x4q9ypv4nX+kw4LA00U0UZVepFciVJXSaYqcbGkK+EC3fjyDr1\nC7cNNC8tKPN8z/k+iykL1WE1qs63vonznefJfPij5PIHBk6nEkKgo9PCJpvw4AJQo04ePxd1Xsyx\nJtf9scgx+lTwC9UlsV0kirFxvMoWGZeBU6mgw6j6GtV8j0YVQOR6GdXt71e9rU89713gqJo+/3cY\nqNUGtaIgL6zIw2wHZa8SWyh3dKrBAq9QGH6MqvQ8vypPcTyhrVHN+hyKUBTE1DRy4zJiYWfFvKxV\nEflCLKN+rSNfUPi5D2f4j7/XZG5BYfHANrcUMTDGjT4bYYQfAKRiVD/0oQ+F/vziL/4ijzzyyH5v\nG0gZaj0lYXJKcHndi4xPFW0DQchM1Z5zrhtg93QSPQ9Mmecdb2l1LwiyUUctlKjIGm/Yp7hBPRp6\nT8dMBW1GNpFRDWukyluSiT761CC0h9+CcuBg4u+nlSkOqeHfx5khUq2rXcB7KxeRWxuot/jxYeot\nt+O+8nLIgOZr8cJmqvpanvmF+P3SA65/aTZ83e6cXwgpS4eYsJYjI1SbshnrUpdScv6s6zOqqyso\n8wuURJFKP0NSAL2Malzr32yEJucyq8zwrPNC37Z/B+rMHNlL7VGe3hrzYkDrXxQGmKnCjKqNg6zl\nKJQYilG1dZOxBYuzZ/ozkwvKXOjvQRjW9S8tC/X2O7D+6BMsOqcGmqmAkNY8CVVZpSR85m5STNCQ\nDVpmOXF8arD1DyDGJ3A3yxTVeqpWtc+odkahdjSqKi7+uNreB0Yt8LDS0bWuyDUWU0oshoWs12gW\ndKpe8rkV2/onXj5UKO7A+d+oQzaXulC0AowqtA1Vl3be/pflreuu7R/E4pLC33+fwX/5s/C5XwuO\nTwW/UE1xvxxhhOsNqQrVj33sY4yNjaGqKqqqomkajz322H5vm+90ag3WpXUZ1Yg+1S9EwmYqn6HT\n9Wgb9utfcbDUPCfu2F6nbDTQ8mPY2JxxznFECQdP9zKqMoEa8spb3TxLgHI5vj0eB/XIMYz3Dclo\n71Cj2tHjO08/iXriwe7NRSwsguch17fnp3danJ3i1aRJdSXD3Hz8aRVkYN3z51AWl7rLV5YOMWEu\nd4v+DixaodicDspbfpbs+IRot/4XKIlS6tb/ZorWfxyjatKMPKzEITt7kMLlJlVZw8NjTJT81r8T\nf5M3MJCAlWAYks1mmFGVNrKWZ6yk0qBfoVoO/cykyfwNLU690f+GtqgsUKRAkcHFWsvy9ylhOmws\npGWhvvlOMj/z87z59U9hXHht4HuMFBFVFVnrpjEoQmFWzFCuryYWqsHWP7QZ1c0yRa2eklFtu/7r\n2wkRilAQCDy8tkZ1u0gMnmed4tbs2YY9hd1CZrS+bH1ZVmI7BHHyoWKRoQtVWUuvTwWwAhpV2L1O\n1S9Urw/HfxLuPqFyad1j4/L2A2a09a/76TIjjPADhlSF6u/8zu/w5S9/mfe85z08//zz/PZv//YV\nkQIIw0ilTZqcUrh8qYdRbRupwL/BdZi8Jj5DZ/TUwOfPunzzCZvxhQKiGbjx1/0sxZIoMq/ORqKS\ngmaqvvFUPWaq8pbX1/G/W4hCcUeuf00TeC0L58Xn0O5/aHt5QrTb/y+Hf4baZVVNabK1qjG3kFSo\nbjOqzrkzKIcOd3+nLB1krLEc1agmmKk6sVR4HvLSOsrcHGOiSDU1o9pjptLiXf/5QKE6p/iSgjSM\nqj6zwMyG5JR7mnllzm9d9+nMCSESWVXpuj5tH6gEbRy8epbxMY1GUuu/WIJ63W+9ttGUTQ4edzn1\nRn9GdUks8k+yv5rK8d9p+6edggaA1URksqg33szZEz/PLa/8Ce5r3+/7Fl/CM5hRHRPbWsg5ZZaa\nuR4bTQXbkWodiPFx3HKZgjLY8Q/bOar1OuQDtVi3/d+jUQ22/juMalM2ySXIW3YLadsIXe/L1sdp\nVCEpokoMfVnxHf9DFKoWGIHLrJhKF1ElHQdvcyP683L5ushQ7QdVFdxxl8Z3nt9+wKzHMapXQaPa\nG/M4wgh7jVSF6tTUFA8++CB33303q6ur/Kt/9a94+umn93vb/BD9YRjVgC5SViqIUhyj2m796wK7\nbaZqWZLPfKrF+z5ooI+FNWXS9AvVoihyXL8hsm4tJp4qDrK8iZgIh/1PTOzdTO9eiEIhEtidBroO\nx5ovoRw+GmKAodP+/27oZ532vyMdXFzWV2EusfW/rVF1z51BWdouVMXsPJnWFrLjMmujE/jfi/Pn\nPA4eUn3tWmkMYWQoiRKVFIyqIx3qshEqaPSE1n+QiJsR0/yI9namlMGzxZWZWaY3PF51X+s65/u1\n/qFP6H/ThEw2VAg6OLjVLJMlg3pS619V/R2obVcWTdnk8FHB8jkv0dgFfuHcKcwHIXLDTAHZshDt\n/q48dJxvHfh5rM98KnJ+BeEzqv0Zo2qAUQWYV+Yw6xthDUcAfus/wKiO+xFVRaWRilHNBRjVTusf\n/Pa/g+NfExJb/+2gEeLlLXsC20YxMomMqi1tmlgUiNnXuNb/DkL/ZT19hir4jGo2wKgqKUP/7a88\nTuuP/zC6/h4j6/WKu0+ovPCs0y0M6zU/27YLTSPSkroCcL7y+BVf5wg/XEhVKem6zubmJjfddFO3\nQK3VhmfrhkYv7ZmAiUnB1maPmapaCbT+g2YqqxtP1Vn0X33O5tARhTvv1iLFpmz4juFpMcmt+k2R\ndStBjWpCPJVsmiAJaQy3UkRT7Qa7cf3fZn8b7YGHI79Tjt+Id3E5tI+ddr6JSc7Lc3ldMjcXf1pp\nAde/e+4sysFtGYVQVRrFRbKV5dB7LGmRiQn8P3/OZ1S91RWU9njFtIVqRVYpiWIovSGp9R9kVDWh\n8ePGuwcuH/xzwdUUzpdfZb6t8+zX+gcoER/677f9w8fAljZu3WB6LIOFleiGF2NhnapJk7Fclrl5\nhfNn+7OqabGjaKpmsxuWmcsLljlC5hd+CevP/xPOd/8u9i2ZFBrVSkCjCjAv5miZlSFa/xNQKZMn\nXes/k/UZwHpt20wFPqPqdkL/E+KpGnVJtuB/Bp3BE3sN2S5UkzSqneEIioh+Z0Wh4FPFARSKOzBT\n7YBRDQ7USzOdStZrON/6Jt7aKrJnXr0sXx9TqQbh0BGFVgtWLvrHP2JgVFW/w+Ttzfc6DexvfB3n\nheeu2PpG+OFEqkL1ox/9KO9973t5z3vew8c+9jHuu+8+brvttv3etnbrf3ChOj4hkLJ3KlW5j5kq\n0y1Mvveyw2vfd3nfB9tt1XwhFMki27THLxj/iDv1N0fW3RtPFdf6l1u+kSrIiJUHhP3vGplsd6Tr\nMNAuX6Qgy6g33xr5ndANlGPHcV/dbtF2IqpM2SS7NUuxJDAyCYxq2/Vvb26A3UJMTYd+3xg7SL63\nUI1hVD1PsnzO4+ABifvaK4h5n7EcI13rv7ftD8RqlnvjqYZFYzqPcnmza0galMddFAWqJDCqPfFC\nNg52LcPYmEqGDCbN6PuIGqo6beZjx5WB7f+0GDaaCnyNaodR9cNM2uXPAAAgAElEQVQyJOrho2Q/\n/Cu0/vOf4rz0QuQ9aTSqfus/yKjO4pm12ELVkQ4eHgbbRaIyNo6obZETjXAvPwGKItAN2NqMPtS4\n0o2MIvUHamy7/vWCQ26/2FQA20YzsomMalLbH+IfdncST+VrVIdgVC0ZuoaI8QlkvYbsdb8GYH/9\nq2h33o1yYAnv3Jnw+ivXz1SqflAUwV33qN2oqohGVYiwu3ef4Tz7NM43vkbml3/tiqxvhB9epCpU\nf+mXfonHH3+cqakpnnzySX7rt36LP/mTP9nvbWszqoM1qpomKI2JRDOV3mZiPOn55hwy6IZgc8Pj\nP3+mxU/9rEE22w6YzhfC7fuGz6woQonV4HUGDHieTDRT9baepJR+PFVKM9VO0A0bH5JVVV54khfd\n+xIduuott+N+f1un2ik+G9JEW1tgbr7PpC2hIhCYp15DPXgkcjybkwcpVs+Hf9bOvQ3i0gWLh/Qn\nUX7v3yA3LqPd9yDgM6pVBjOqvUYqiI6OdV1/PGFmF9LB1vQYM5c95sVcdx39nhuKCWNUYxlVbOya\nTmlMIS9yqZz/Usq2lCLLsRtVTg4wVKXFjsanBsIy/RxV/8fK0iGyH/korS98FuvZsLwoTeh/ZypV\nBzNiGsW08HLRD7KBSZ5c+DwsFhFWk4KspGJUwW//e15YJqJ2W/89jGrgYaVRl6j5Vt8RwbuFtG00\nI5eoUU1y/ENyodoYulCtIkrDmKnC3zuhqoiJSeRGVH8K4FUqOM98C+3tP4Jy9Bju6ZPh9V/nrv8g\n7rrX16l6noyX3Fwhnarz0ou0Hv9LMh/51YhEbIQR9hp9C9WPfvSj3X+bpm/YWFpa4v3vfz+5BHPC\nXkIYmVSMKvjt/05tJT3Pb/2XgoyqjUULAwNFKBgGPPFVhxMPahy7YbsoC45RBZD1emJYOLQNRW1W\nNSmeyusxUpkN/3qSye4jowpDj1GVloX38vM875xIFMirt96O+/1XurFhGjpOu/Uv1mYTjVQd6Og0\nTr6GejiaG2lNLlGqhxlV3/zW1jKaJvZXv0z2P/4bbsycwvjZD5H95f8eZdofPembkeoDQ+F7M1Qh\nynaabRJz2FGRQciZKeY3lG4hoGkiEr8VRKm9/ZHl9GSoArQ8m1ZNo1hSKIh8sk41UKh2Ehd0oXP0\nmN/677c9aVGvDxlN5br+zbQ9v9gfobq9HcriEtmP/Br1z/0FznPf7v48KOFJQrUt6+hAExqlpspW\nNnodacgGORE+rkJR8HIlJp211IVqJusXqcFzpRv639M+D9YRjTooeWufC9UWeibfh1GtMC7i2ca4\nLGb/kjK8RjWtNqRzPvYOBBPTM3gJzn/rq19Gu+cEyvgE6pEb8M6c2l6357UL5esr7D8JCwcUMhk4\n+bqH44QlEsDgp+E9gPvqK7Q+9+dkP/RRlNl08XUjjLAb9K0qnnnmme6/3/3udNq8PUVKRhX8LFWl\nY6ZqNMDIIHS/pdcxUwUd5NmsYGFR4Z3v7tGG9TCqsjHY/at02v+ZLLRakexX2RNNtbXfbf82hh2j\n6n7nedSjN9BQxxOvdcr4BGJistte04SG3W79e2uTidFUHehCwzp1EjXg+O+uf2KOjF3xNb1tNKVF\nrmbT+uLnMf/tv8a7tM63b/wVLjzyIdRD4WJXExo5stQT4po6SGr9B4u23bb9AdSZeQ6ua13GLp2Z\nKubBoidDFfyvhaJIDEOQJ0+DBOd/aQxZ8QvVzvhg8GOVZmZ9U9VuUa8OaaZqs6md45LJ+JnG3fQM\nQFlYZPzXfxP78b/C+fZTABiBCXNJqMhayCQHUDQVLmWjx8eUzZDjvwMnP47aZkPTIJsVIX0q9Jip\nelr/diDwX+Sb5PoMMNg1bJuMUaDmxV8HtmSFiSRGNR/PqNbrQzq9h9CotizfQ9vbbVGm4nWqzsZl\n7GefRn/bu/zXHTmKd+5s9xosqxXI5weOwr2ecNe9Gt/4uh2btCG0/R2j6p4+ifWZT5H5+Y+gHFja\nt/WMMEIQfauK4MXoakRQpNWoQg+jWg1rkgwMbOxuNBXAw2/R+OVfz6BpPV/0/PbYQOm6/pWzz/hB\n2JYFCUXxi9WeYdi9raf9jqbqYFhDlfP0k2gPPDJwwElnShX4rX8HB1Oa2GvjiWH/HehSwzl1GvVg\nlFHVDJVyZhHvgs+qehuXeeyv1in9+49Dyyb7T/5HMv/wZ3l1fZaDh+JP3TRjVP2w/zCj2tv6NxuS\nfG53n9Ghm97KwQseXnuqWNBIE4fiEIxqs6aQKfpFZl7kU7X+O4kXHRw7ru6JTnXY1r+vT93eDkUR\nZHM+ix2EOr9A5h//OvZXHsd+6hsD46la0sbBiTjoc6ZkLRP9HjRkgzzR77apjeGhDPzed5efI6RP\nBV/m4kjXZ42l7F7Hgt+tRkMi8419b/1nMwkPQPTXqFIogNkImXM0zdfkNuOfi+K3oZbe9d/syVDt\nIMlQtfH5z6I/8HCXMRW5PGJysjueV1bKKD8ARqog7rpX5dXvecRG0w66yOwC3oXzWJ/6JJmf+XnU\nI4Mj+kYYYa+QOh9pqIzEvYKRSc2oTkyKrl5UVsqhVk+HiWlKi1z7ppDJiq4uNYiQRrXd/xVK/8Pk\nR1TJ9vuj7X+5FY2mGt/HaKoOfI1qOkbVOXcWWa+h3HSLbzTr81AeLFS1tuu/4TWx1gvMJjj+O5jZ\nEpAxUMaiN0dVg01jCfc7L2B95o9o/od/Ry3rIX7zn2P8xAdRJqdwHMnKiseBg0mFammgoWrLKzOh\n9DKq4et7oyeaaifQckX0u+/Deeob7XX0b/0Xk3Jg4xjVmkau5LNGfTWqAde/2VOo3nBc4eTru9ep\nDh1P1WxGxL+5vMBsRI+NMjNL5ld+A+frX+HIU+f7Mqq1djRV77VKbzosZ6MjiBuYkdY/QNkbxzXy\nA7/3HWSyIhRNBduxbUKIkKFKa3+3HEfi2OBmzf2LpgJwbHKZEjVZiyUb+mpUVdW/BvdUpYVCekOV\nlHIo179lRU51oD2dqqdQ9TYuU3v6KTLv+JHQz/32v69T9fOrr38jVRCTUwqHjyrx37l9iqjy1lZp\n/uEfYLz/H4TGaI8wwpVA3yux53lsbm6ysbGB67rdf3f+7DeGYVTnF5Ru+01WtqOpoGPCsFPlFQZb\ndbLRX5/agR/6335/jKEqwqhu7m80VQfDjFFtPvkE2v0PIRSlPU40+UakLB1C1mt4G5fR267/zQ2J\nUXAG6m4XL7hwNH4crKYJ1owjOC9/B2V+key/+Jd86R0KmeJU9zWrFyVTUyKWdYF0EVWbSa1/O9z6\n72XJdgLt4cdwnvkW0m6RyUK1MkijGmemMiOB9VZVI1/0l5Unl0qj6rf+twvEozeonDvjhVruO0Gt\nN89xAIIZqh3kc/GFKoAyNU3mV36DA986zYFvvJ643N5oKvBD4IUruaBejrzelPGF6mVrDHLp2v7g\nm6l6VQKdeCoglCSitwP/63VJLg8Wzf03U2VyKKhYRB/6+2lUod2V6YkiLJaGyFK1LBAKwkgnb2j1\nOP672zETZVSbf/1Fxt/5oyg9J59y9BjeaV+nKis/OEaqIO69X2NiMiZSLGXrv/VfP4/1x3+IF5g0\nmARvcwPrEx/DePd70N581462d4QRdoO+hepLL73EzMwMMzMzvPTSS0xPT3f/Pzs7u/9blzLwH/yb\n7s992DdnBB3/4DOqtrSxEqYchZDLg9X0RfiNeiqdmqIkR1RJz4vEo/hh/1eAoU45nUpaTVovPod2\nwnfP97bBeyEUBfWW23C//902c2SztaoxNj/4s1pctnGPHIj9nabB6ewd5P63/wP9be/CzqroaKG8\n03NnXX8iVQIGTadqyRYtbIo9AedRRnX3GlXwGUHl4GHcF57j5lv8wrC8Fd9uL1CgTiNiBot1/deN\nbnpSQfTRqBZLyFrVd/z3MKq5vGBqenc61Y77eCjXf29QJp2IquS3KJNTnPylH2Hp2WXs//bXsa+p\nyloomgoAs4HI5VnncuS4NqQZ2/pfqZZQS+kL1WyWGI2q5k+mglDof0enXK955AsCUzb3PZ5KMYxY\nWYknvW6OahLiDVXpC1VZHy5DNYZs97djYgpZrXSLMO/yOs7LLzHxY++JvFY5egPumVM+m1su/0AW\nqvc9qPKT/zAmezelmco7dwY0lebH/h+sz36mK0/qhaxWsD7+e2hveTvaiQd2u9kjjLAjDGRUXdfF\n87zIH9fdm2ibvhjCTAXb8oRI67+tbTNlCkZVUfwrZdP0mdFUjCrJjGq95k8V0rfHX5bLkrF9jKbq\noDfDMQnOC8+h33hzN3d2UN4nbE+p0tGxcaitZpmYH3xOzF2wcI7Mxy+z3bXqfI5NaZHp+bzOnfE4\ndCQ+Ogs6rf9kRnWrHU3V2x6O06jutvXfgf7IY9hPPoGRgTvv1fj2U/E3ElWoZMlEi86mCZmeHNWq\n0TVS99Wo6rr/PWrUMdvRVEEc3aVOtWn6i+/VeveDbDajjGpC6z8IMT7O1z58K87zz9D66y9GWtnV\nOEa1PbCjJIpclpuh3zUwI2Yq05S86txE9sd/PPX+3Pegxv0Phc06qlBx28MtghFVndZ/Z5JVk/13\n/QvdoKhEp57VqZMl03fYgH8N6TVUReYAJK9/CH0q+BmqcV0ZoaqIsXHklt/Js//mcYy3vB01hspX\nJiYRqoq8fKkd9v+D1fqHdvxgnBwvZTyVrFbQ3/lucv/iXyJyeZr//t9S//xne6YyNmh+4mNod59A\nf/Ste7n5I4wwFPZfKLkLCMPoG/KcBK9aiTCqrfaowDQ3he6NJSWjqvVOpwoUql5Mht+VYlTj2JA4\nuM98i8zDj3X/n8sJatX+RYN60y14Z06TaQkc6dBYyzO70P890nWZWrGwDsWP5tR6sqotLLLCCL3m\n9EmPozckn7YlUezb+t+KyVAF0HoC//1nlL35jJQbbwbXwzv5Og89qvHtp9xErWqc81+azUjr36ln\nuho1v1BNdreI0jiyWokwquDrVE/tIk+1XpcUSjvJUO1lVMMRVXHIYFApQfYf/wbuM08hVy+Gfl+R\nVUqECxfZZlTnxRxrXrjNafZMpQJYX/WYmMujHY2OS07C9KzCzGz4nNQCrf/gOGO9HVFWazOqcZ/J\nnsK2EYZBKWY876C2PxCJ1/J/NASjOuRUqlYCowrbhipvbRX3te+TeextictRjhzDO3OqLbv6Icr5\n1DTkAJZBStkeMT6GyOUxfuy9ZP/Z/4Q0G5i/+zvYX/sbZK2K9ck/QD1+M9o7r0LizwgjBHBNF6oY\nBljDF6qR1n+bUW2maf1Dd4xq2ta/qoptnV+PmUpubaIEwv49T1IpS8auEde/t3LRf7oOTKI6fFTh\n9Mn+xYvIZlEOHWbuVAUbB2u1xPyAaCq5toI5btDKxr9O7ckZbfaMTy1veViWZHYu+diNDTBTxelT\nISZHdY9a/+CzH9ojj+F88wnmFxRmZgXffSn++MY6/y0z4jDxahlKJf845snR6BPJJcb8iKpmTJv5\n6A0qZ07vXKdaG9ZIhS816dUs5vIMZFQ7k6lEqYRyw414y+HhEBWibWxpmpDLM6/MsirXQ79rxGhU\n11Yks32GVqRFsPVPwNTYYe7rNV8DbbK/8VSyXagWRYFaz9SzspdspOrA16iGH/yGmU4lazUYllFN\n0J93DFX233wJ/S1viyRhhF579Abc0yd/YKZSpYVI0/q3mqCIcPLG+ATFn/45sr/2T/GWz2P+X7+N\nmF9A//GfuDpG6hFGCOCaLlSFkdkRo+qbqbYvwJ3JVGnMVEDX/JDWTKWo4dZ/UGzXa6Sq133prWFc\nG4yq8/y3Ue+5L+RwPnZc5dTJwe1g9dbbWXh1A9tzcNfHWZw3+r7eO3+OraUitox/4tc0cAL1WzDs\nH+DMaY8jR9W+F86xFK3/3rB/aBeqznYM216ZqTrQ7jmBe+YU3sZlHnqLxlPfiL+ZlGIZVTOiUfVq\nWcbahWq/wH/YNlSZMcadQlEwMSG4uLyz9n+9uoOpVM2otTs4nSoJHVMkgHLgYKRQDU6lOn+2fSKZ\nDUQux5wyx2ovo0pUo7q26g3MAk4DfzJVR6MaMFMFNKqFYjQybM9h2yi6X6jWYxnV/oWqMjOLdylc\n4BeKQ5ipalXEEE67ZjMmxL4NMT2D+/JLuKffQHv4LX2Xox45hnfqDX/wyw9g6z8RmjqwUJXlMqIU\nf0yUmTkyP/shsv/8f8X4yX84KlJHuCZwTReqPqOaXqMK7exTsxHSRalCRUGhLuvdeKp+6ERUpQn7\nB7qTqfz39jKqVydDFfAL7qYZykEMQrouzgvPot17f+jnh48qrFzwaLUGtP9vvZ3pVy9R3RCQN5kY\nMK3MPX+WytI4LS+5UA22/pvSCjHgZ056HDnW/5T1Xf/JjGpcNBX4WZ6KEpgatAfxVEEII4N24gGc\nJ/+W29+ssnFJsnIh+rkURYFqT0Hhm6nCx1bW84wVfV3k4NZ/KbH1D7vLU90Ro9qKalST4qmCCAb+\nKwcO4l0MTzHrTKVyXcl/+HcWti0Drf9ZVmW4UG3IRkSj6heqe8CoChWno1ENPDB2ppPV69Jv/ad9\neN4huoxqjEa1LCuMKwMY1fkFvLWV0M8KRUGjnp5RHUaj2hrEqJ56A/2xdw5MERDzC77cIpv7gQr7\nH4gUjGqa4l2Zmk4dzzbCCPuNa/pM3IlGVVb9Gd29XzIDg4qspropdCOqGvVUZqpggSVyPYVqeSuc\nobp5ZTJUoW0My+YS7dTea6+gTE5HxuAZhmDhgMLZ0/2LF2V6Fi+ro75Sx5tbD7Gfses7f47a0nhi\nFqbaQwZYPeaf06fcvvpUgBxZWrS6RUIvkjSqEJ4cZTZkxMm9W2gPPYrz3LdRHIv7H9Z46pvRbezV\nqEop/VZdb6FayzNe8m/AWTK0aOHKeDlBh1Htjafq4NhxhZM71KnWh4ymAvyHTyNqphqkUQ0G/iuL\nS3gXL4QewqrtqVQd/2WzuW2mmlfmWPXWQwas2Nb/qtwjRlXb1qjmC91rwnbr3/PNVLKZ6uF5x3Bs\nhKHHMqpbsjxQo6rMziPX10LHeRhGVdZrQ2lUYwIhuhDzi4iFRbQHHx64HKEoKIePhmRXPwwQaTSq\nlXKo4zjCCNc6rulHTb1QpNVqkYth6oQQNBoNdF1HCzwx22sr2OOTkfdkmgZVaoxlx8jp/Zk/OTYO\nrRZ2s0l2cgq9vSxFUWK3RTdsVM0glzOwJydxm83u61rVMtm5+e4yGg2T6WkRu5xB+7YTNItFDNdB\ni1lf9YXnyD30KNlcLrJvN93icf6s4I67+h+r6q1LTL2+hjKXp5hPviHJVovG5XVaS2+i3mqgG9F9\nc10P17W62+GZHnmRJ5fLYZoely81OH5TYaDDfMwqYWccSqrP5AT3rWxVmM/Ok9Oi+2UYJqqWJZdT\nME2TqakcuVz6omXg55ZbwrvpFsRLL/LYO97K//3bW/zkT2VC65gUkyw7y93tla0WphDkS9usVKvl\ngq0zN1VCURQK+QK5Zg6ZhZwS3S9leobW+XO0hM14ZpycEX7NbW/y+OyfbpHJZEPz6tPsW9N0mV9U\n+57PvXAcB6M0RibwnolJG6vphpbTe06OeWPYlu3/LJfDKpXI1Kqo8wtIKak2qszmZ6hbKmCCzKDZ\nNsrsLGP5aYymTivTYkKdQEqJ2WgylZtCV3QajQaep1GvSQ4czCceh7TIehmE4n/PnalpHLNBLpej\nWHRxnRaNumRiMksTi4ncROznthdo2jaW4zFhTNBwzNDxrNk15jIzkfMhhFwOqzRGpl5DnfPTOqan\nXRp1K/EzD35urUad7NR09/o3CI7jUCoZ5HIxD725JfL/829129GDvm/yxptxzp4e6twchKR7wF5j\np/cAL5tFEf230TRNlKnpyGuu1L6NMMKwuKYLVUcIPMvC7J2tCOi6zsTEBPV6HTuQK+Ssr0GxFHmP\nLnXKsozSEphO//l/jm4gL1/CrVZpqRpOe1l+wRR9r8DDbFiYpounqrj1Wvd17sYGrVy+u4xL6y0K\nRRG7nEH7tiPk8jQvX0LtSR6QjTqtV7+H+pM/hWmakX07dFjyta+0ePuP9L9hV248wIFnXkK/darv\nPrlnTqHMziFUHTSwbTuyb44tcWzZXU7VrqFJDdM0efUVl6WDCrbdHDghsEiBNXOdnOpTM519k1Ky\n4W6Sb2Ux7ei2ahrUqiaaJmiaEkQT00xfsKT53MSDj2L+xafJ3ns/x29W+OYTNR55bDseKOsYbLnl\n7jGQlQpkw5/N+oYF+QaWZaEoflGdJ8dl8zKaEo3ucjM5nK1N6p6C0lIw3fC+azqUxuDkGw2WEiZ+\nJe1buexw6Ijs+9lHtqdRp6UIvMB7FNWjVndDy+k9Jz3pYclW92dicYnGydfRxsZpSBMNHbfpUqn4\n27e1aWJUK6iLBzBNkzkxyxnzHBk1gyUtVBScpo3QYWJigu9/r8L0jMCymqn3JQnSkTRFExMTT1Xx\nav41wXU9bNt3/WuaH5lHE0wxxEzSYbbDbpEfHyNXy1JxKqHjueFskbWzkfOhF2JugcbZ02jtyD9V\nk9RqkkajEathDH5uztoqrWKpe/0bhEbdQQgwzcFSlIHft7tPoN5w01Dn5iAk3QP2Gju9BzgIhNmI\nziMOoHX5EmJ6JrIfu9m3yckfomSFEa44runWP0YGhm39J7Q1DHRa2EO0/tO7/nvNVJ14Kuk4/jIC\nma7++NQrJ1D3nf9RQ5Xz4nOot9ye6Jw9ckxh+ZwXimyKQ/PIAtmWxb3l031f550/h7J02De2JZip\n1J4IwGBKw5lT7kB9agcl4p3/Jk0URKJ5pdOWtZr+qbdbVi0OytFjkDHwXnuFhx7V+NY3nFA7utgT\nIySbUSNVueYiimE5hz9GNSH0f6y/RhU6OtXh2/9Dh/0D0rJiXP8pNKro2Njd46UcWOrqVKuy2g37\nb1n+75vN7XgqgHlllpW2oSqu7b+66jK3sDeXRE1oXSmGP8rYPx+1zmSqmiRT8JBI9H3kC2Sro1GN\ncf2nMFMBiPl55Oq2TlXXBZrmH9++665UwPOGCtz3W/97lLZRLKEcWNqTZV0vEKo6cDKVrI5a/yNc\nX7i2C9X2uKAkM1Ac/Hy4qO7KaOdxpounat9YzHSB/1og8J9sbnuyVXvwQFAve+UL1fgxqu5z346Y\nqILIZAWz8wrnz/Y/9pow+GPnF3j0xXM4f/di4uu882dRDh1GFxotL1mjKqUf4QX4ubdtTeXpkx5H\njyUH/QdREkWqRJ3/WwnRVB34p5uksceO/yCEEOiPvBX7m09w9AYFRYE3Xts+xhGNalyhWnUQxZ75\n6/QJ/S+NIStlmp5JLuH8P3Zc2ZGhqlaTFIfNUbWaEdd/LucPD+h89nFQhIKKit11/i/hLfuFanB8\nasd/2TRl6Ds8J+ZYaxuqfMd/+Lu9dtFjdm5vLom+679tpjIMEALZanUnoNXrEqXgn9/75ayWUvoa\nVd3oPgB1inxLWjg4sZO5eqHML+KtRg1Vg3Sq3sVllMUDQ+1fv3iqEVJAT2GmqvyQJSGMcN3jmi5U\nhaKEHS4pkJSbZ+AXqmnGFYp8Hrm5AbqeyjGqBgP/VbWdVtCMRFNBO+x/8gpeiAvFbjROB97KBWSt\nhnL8pr5vPXZcGRhTZW3luJwt8vWfu5HWf/lz3FdfiX2dz6geQkNPjKcSQoSOpSUtMiKD40iWz3kc\nPprudB0TpdjQf99IlczuaJrAtvc2QzUO6p33+Eag9bVIVFWp1/XfjBqpqjUPtRims/L9xqgaGVBV\npJXsMD92XOX0G27fQjEOe8WoqqpATxHykQkZqg7iXTzv61NljVIvo2qCbJjdrsG8Msuq50ct+Yxq\n+FisrrjMLezN5x7KUWV7iEina+DYEs/Y52gqxwZVQygKGWEgEN1jV5aV2AltcVDmF6KFaorQf79Q\nHY7RtKzkwP8RUkDVBt4vf+giu0a47nFNF6rA0KH/sloJtdo70IWOhoYmUrTZ8gW/yEzR9od24H/g\nBt9p//cWqp4nqVauzPjU7rbEMKrOc89EslPjcOy4wukB7eD6WhZvbh1rcYrMz38E6zOfwj1zKvQa\naTaQtQpibj4UMRQHNZCl2my7/i8ue0zPCLK5dMetJIqxrf9NbzCj6tidqVSpVrUjCE1De+BhnCef\n4O57NU697lLe8h8IsmSxsbupBXHRVLWqh1IIV3T5AVmqlEoUazJxXObYmKBQFKxeTF+ouq6kae7g\nWCVUI2nGqPqh//6NWJRKCN1Abm2Gxqd2il3TbMdTtTdwXmxnqTZkdHzqXmWogj+ZqsOoAn5UXL2O\novgPY/mCwCI6gGFPYdv+Sd1GcJhE2rY/gJiZQ25cCrWU/TGqgwrVCyiLB4baZKspMfao9f9DiQEj\nVKXnJd4jRxjhWsU1X6gOG1HVO5WqAwNjYHxSd535PEiZKuwf2hrVwLWhk6UqtzYRgXiUWtWfHz/M\nXPTdolejup2det/A9x49pnL2TP+pRdVVAzl3ibzIoR45Ruanfw7rjz6Bd2E7jN07fw5lcQmhKGho\niRpVCF9nOxrV06c8jqRs+4OfpRoX+r8ly0zGZKh20Gn97zejCqA/8AjOi89jSJO7Tmg8/WS7TSxE\neDpVMzqVqlaTaKXwd8LXqCYXqrJUZKaaPNMdOu3/dDpV++tfwfzTT5PLD6/llVYzImcAP7d2cESV\n3mUFAcSBJbzl81Ta0VQArfavm6brH7+2RnVcjOHgUJeNSOvftiWbG/4D0V5AFWooLiw4RlXToVhU\nYgcw7CWkbSP2olDVdcTEFDIQ/F8oCurJczWAnTOq2RGjumMIXe+vUW3UIZP94cqWHeG6xzVfqA4b\n+t/PTJX6pqAbfsWUklHVAmYqoHPHjTCq5S3J+PiVPeS9Y1TdV19BmZpGmZnr8y4fubxgelqwfC65\n/V9eNZBz691jq958K8b7/wHNP/wDvHWfvfKWz6EcOgz4zNDMavYAACAASURBVHZS6x/8It51tnV0\nWTJ+0P+A/NQgksaoDmz9637rv3EFClUxNoZ66204z3yLhx7VeOYppzs+tkiRKv72+xrVMPNXr4Je\nCBeqBfJ9x6g6xTwT9f7Fftrgf/tb38T+my/hXbo0fNi/57WZvugUs1TTqYSBFWDklQMH8S6c74b9\ng9/6V1Ww6y3QdF+Og/8QMKfMsuqtRcxUqystpqaVPXuI9Fv/2wVDp/UP/gNRoSj2fyqVE2ZUC2wb\nqoYpVCHa/i8URV9GVVqWf/2bHXyd6cDzJK4Te2qMkBa9jtQe9E5tHGGE6wHXfKE6DKMqW5b/JY0Z\nKWQII/VNQQiByOe7buFBCLarYTv039sKh/1vXWEjFURb/+5zT6OdSDZR9eLogOJla1XDm7sUMmVo\nb74L493vwfrEx/A2N/DOnUVZ8gtVAz3RTAXh0H8LC4OsH/Sf0vEPfus/WaM6uPWf0kO3a2iPvBXn\nyb9ldkYyu6Dw8nf8k8hnvjqFapR9bNQERjFc7Pdz/QM4pRwTtcFSj1Mn++tUW88/g/PVL2N88Gfw\nWvbw41NbFhhGrOwkN2ToPwQL1Vqo9T82LvBqjUhXZF7MsSrXMaVJPnA9uHC+tWdtf/DNVG6vRjUw\nnSpfUGhi7Xvrv5dRrXcZ1cFh/0H0TqgaZKbyVi+izM13HxLSwLL8InU0tnMX0AcUqtX4juMII1zL\nuOYLVYxMaka142aMu9AZ6LFTeRKRLyAK6TWqXqA93o23Km+i9DKqV7hQDZqpZL2G+8ZrqHfcnfrt\nx25IbgdLKdlcU5Gz65GoH+3EA2iPvg3r47+He/Y0ysFD/s+FNoBRDbb+LRqXDAxDDDXNq6NRDcY+\nQZpCVVyx1j+AevAwYmwc93sv89Cj26aqUjCiKqb1b9YUMqXwzWiQRtUqGYwNML+MTyhks4K11fjX\n1Z9/lubn/oLMR34VZW4BaQ9fqErLioxP7SBdRJVBi+3zpxNRVemJpxobF0iz7scJBDCnzLLmrdGg\nEWr9L59vMb+YvqgaBA0NJzgprDPtDr/1XygKzED82n4grvXf6TRs7YBRlasXu/8fZKbyLiwjhm37\nN0eO/91CqP0nU/mpOCNGdYTrC9d8oToUo9qOg4qDIQwyQ7TZRC4/hJkqrFEllwezgexhVK9Godph\ncqSUOC8+3zc7NQ5Hj6ucPe3FsmzlLel7YnJWpFAF0B99K9rdJ0ARiMkp/2d9clQhHPXVxGLllDEU\nmwqQERkUBBbbDzie9AaOjOxEB+1nPFUvtEcew/nm17ntTSqbG5KLy16ooIgzUzVrCplitFDtx6g2\niwbFFGMvk3Sqzuuvsvbxj5H/pV9FmV8AXUPa9tCtf398avz3MJ9PnPbbRa8ZT4xPgOvhVcrbjGqL\ndqFqRroiC8Ifpdrb+r+4bO8toyp6GNWCb6YC/zwrFhSaJKcw7AkiZqpigFEdtlBdjLT+a33OJ9mO\nphoG/canjpASg8xUCR6OEUa4lnHNF6oYmW13xAD0i93wGdUhCtV8IXX/V+3RqIp8Hm9r069eAzfK\n8pZk/EpGU+GL61E1sJo4A7JT41AsCsbGBReXozel1RXJjD9VMTGPUXvnu8n95v/SZbl1ofV3/au+\nRtWVLg4Oy6fEUPrUDkqiRCWgU61RJ0cWI8H1DttJaD6jOvQqdwT1TXciNzcQqxd44GGfVQ2F/vfE\nU3mexKqrZAthOcYgjWqjpFKoDjZKxelU3XNnaPzRJ5j/9f8B7dAR/4eajnAcCkNmqPpGqt0yqoFC\nVQjEgQNMrjQo4j9Ytiz/gVA0G4gIozrHqlzDlM2Q6//Ccov5hb1kVNUejWpxm1HVRJdR7Y3I2lM4\nNkLbFnzu1EwFIKZnkJVylzQY5Pr3Hf9RRvV0H2lJa5ShunsMyFHtR+aMMMK1iuugUDWQqVv/yU+L\nt6g3cZ92T+rVavc/hHrTLaleq6oxGtWVC4jxiZAMobwlmbjSrX98Nsd94zWoD85OjUPS1KK1Va+b\nO5l0wxVChFgtvU+OKmx7ASxavpFqSMd/B377f1unuuX1b/vDduvfj6e6Mp+TUFW0Bx/BfvIJ7n9I\n46UXHYxmKaBRDQf+mw3Qsi66Fj4mg1z/9aJCrtY/CBy2GdWObMJbuYj1/32c3E//HPnb3rS93bqO\ncPeaUU0bTxV+0HEPzHF4RUUR/uWsZcH4uEBpmRG9+rSYpCprbMktcu2HK9eVrK7YzO4ho6qhRRjV\n7UIV8kVl381UsodRLbQLVVe61GW9m5KQBkJV/WJ1zTdIFouCmDki/npdF291BWUhzKieOuny+/+v\nxfpa/GfcbI4yVHcLv/Wf/D33qpXYnPERRriWcc0XqmKIMar9HI3zyhw3qcdTr1e9+dZUznjwiysv\nWMfl83grF0Ntf/AL1SuZodqBKBRxnvhvqbJT43A0YWrR2orH/LxfMOVSTLgB3/Xfz0zV6Vw1ZROj\nNkmjLpmbH/6YjfVEVG3JLSb6RFNB0Ex1ZTSqHWgPPIz78ksUlTo336qy9uxcl/nqdf3XahKjaKMT\nZoYzZLBxuvmrvagUBJnq4O/R5JSCYQjW1yTe5UtYn/x9jPe8H/32N/dstI7i2RSLw+2rtJp9NKoM\ndv33aFQBGouTHAzk0VuWZGxCoNpRM5UiFGbFDKtyvcuoblz2mJhUMYy9+8x9RjVoptrWqE7PCGZn\n2/FUV9JMRYE6daqyRkHkUcVwD4DK3AJeW6fa0aj26sAB3EtrfsZt4AHLtiWf/XTLH+rQjC9UR1Op\n9gADW//xkxtHGOFaxrUfpjZEPJWslLumnSsJVRG47nYhJ3J5cJxQNJXr+vO9r0ahSqGI9/3vYvzU\nf7ejtx87rvK5P2vheTKUmbm2Irn3fg2BSN3CHMSoahq4jqSJhXrmMIeOKUPndELH+b9N+WwOiKbq\nrPtKxVMFIfIF1DffifP0kzz06Dv59KfH0O5vb3szPG60VpXoRTsyH14IQZ4cDUzGiDJl9ayLkBLr\nT/8YBriq32+42H8usGon0d7xo2h33Rt9ka6jSIeUfsNtWFbEHNZBLpfC9R8zMKK8WGTui9vnVMvy\nBxgYngmZ6IPrvDLLRXeFvPCL2NWLHgeW9jYTSRVq+KEhv61R/eDPZMjldJqb+9/6jwv8H7bt34Gy\nsNh1/uuGP7gg7uN0l89H2v5f+ZLNwgGFiUmZeDlvjTSqu4fWfzKV7/oftf5HuL5wHTCqe2Om2k+o\nWk/gf7vdGCxUqxVJoSBQ1avT+leOHEOZmd3R+8fGBPmiYHVlu4iQUrK26jG/oPLPMr+GIdLd6HXR\n30ylasJv/UsLzixxdAdtf4iG/g9y/EPQ9R8xi+879Ecew3n6Gxw+5KFrgspJ33zW2/qv1SRasRU7\nYaog8ont/yYWZ/7RY6g33Ih67HjfP8qxGzntHsP4wE+jP/hI7PKEoiBRKOQH564GIa1mZHxqB2k0\nqpkejSrA5oRCxvS6jKXV8pm5gmri6FGx8bzid0o6mvW1VZfFvS5U4+KpGvUQA7nfZqqkwH8/mmr4\n66SYi8lSrUY/L6enUF0+7/HM0w7v+6BBJitoJjGqI9f/7qH13IwCkK4L9TqiMGQbZIQRrjKuD0Z1\nayvVS6/WDOOIRrXdblQmrnI0VRvqjTfDm+7c1TI6MVWLB/xnm/KWxDD8UZBHSM9i6/jxVHEtQwi0\n/mninFngyL07e5YqiRKnvTPd/2/JLQ4r/eNyNN2fXa/pV3Z6GICycAAxM4/38nd46NE38bmnbsO7\n3Y1YoetViVqwIq1/6Dj/4wtVkybuTTejaXcM3Japox5/+u+bPHJj/2rdkRqFjAMMUeT1Geaez5PK\nTGX1FKoVUaO+UKJ4YRn1xpv9qNYMFJQmLSVHb6k6L2bJkulqWldXPO45YQDpB4sMQiTw3zBAKL6M\nqV2oN/c5nqrX9W9gIJGsy8s7Y1TnF5DBQrXgh/5P9zz/usvnUB581P+3K/mLT1v8/fcZlEqCbBas\nZvzy+5waI6SE0HWknVCo1qqIQnGobNsRRrgWcB0wqplUjKqUMnEq1X5DVXs0ql1GtSfs/wo7/jvQ\n7j6BFjDC7ATHjqucPrnNnq2tSuYWhj99FKGgoIT0e0F0CIGa2cJeG2Pp0M5O0bGe0P9BU6nAv6dX\nylcumqoX2qOP4XzzCU6cyKCcPszaWgV0I3RjqdUkarGJFvOM6WepxkdUDWPcmZwSKKrg8npy0Wi3\nJA4aGTWZHY9D0vhU6LT+SXyIgY6ZKrzOqqxiHZjpju1ttRnVnGLSUqKM6qKy0I2yAl9rveet/x5G\nFdo61cA44313/ds2IjDmqTOe94J3caiw/+77J6d8VrjpV5qFEpEsVSklzvI5RDua6omvOpRKgnvu\n88/hTGYAo5odMaq7Qm97L4BRNNUI1yuu+UI1tUbVbICmJbYV9xOqJnCDgf+a5k/fCbT+K1eRUd0L\n9LrB11a8HedOGkLHJr7AUTWB40pWzqnkDlTQ9Z0ds1LPGNW0rf9y+cpFU/VCveV2ZKOOtnoG/e7X\neOHJaqSoq1UlStGMbf37GtWk1n/6NrMQov15J7f163WJK/Se2cEpYFldRrEXuiFQlP7eSQM90vqv\nyhregQW8C8v+Kpr+KrKYNGPyfeeVOX4z++uAH/e1uuqyuJQcW7YTaELDlT3HplDoDt8AX46xr63/\nHo0q+IaqZe/Czlr/ioIyO9fVqfqGqp4XVasgQYyNs7bq8bdfs3n/Txnd9JPMiFHdX/QxU/kdx5E+\ndYTrD9d8oZpWo3o13Yy9OaoAxvs+iJie6f5/a0syfjWMVHuEicltNziEo6mGhaEYOAk6Va09QnX1\nVIbxo9ExqGlRYptRdaVLLUUcj6b7dcSVNFIFIRQF7aG34HzzCcYfOsmp5+1QhipArQai2IiYqcDX\nqCZNp2oOyd4dO67yxusuliW7f5pNr/vvzU2Jp7bdZ0Og32QqGDxGNS6eqiKrqAcO4V1YxnEkUvr3\n6ywNml4Ce9s+FuUtn0HP5/e2HdqbowrhMaq2dPDwYiUcewbbRmjh5RdEYcetfwAxv9ht/xeKIpKl\n6l1cRls6iJTwF59u8a6/pzM5tX2byWZFf9f/iFHdFYSqgpS+HrUHI8f/CNcrrgONarrAf1nevGr5\ncMH59B1oJx4I/b+8JYeesHSt4Whbpzo3r7C2Krnn/p3tjy50WjixgVad1v/G6RxLb0mnTY5DSRSp\nU/cnUnllSqI4MI6nQz5drdY/gHbfA5hffZzFdx1HTFdpuJnQcapXJbJgojMdeW+/6VTmkJmdN96s\n8MXPt/g///fO8kyEqIba8r+a14cuVLGafa3d+XZEVU+yWxe9gf/gM6r52cPI8hatahOjPS/e8Ewa\nsj89vrYqmZvfe82er1Htbf1vZ6ma0iRHdn/n2ttRRrUkikjkjgtVZX4hxKhWq9FCVV06yFPfcBAC\nHnwkfIvJZAXra/FMfYcJH2GX0HT/ItqjRb1a0rgRRtgtrvlCVRgGsjW49e+traHMzl+BLYoijlHt\nxdU0U+0Vjh1Xef1Vlwcelu0M1Z23/pMYVVXzNYaVs0XuObJzc4sqVHJkqVOn4tUGtv2Brswgl7t6\nn5PI5tDuOsHtz5yhfNMKl7+dCZWktZokX6yhJbT+N+Rm7HKHbTNPTin81r8ODGrQdWZnZ1lfX8du\nF6fN38v0nSseh71hVMPrrMgqJW0cMb+Adf4CmewBpOuieA51u7/21E+u2PsHSAUFF18q0ylGg4Xq\nfof9A0jHCbn+wWdUgR1pVMHPUrVf+76/rKJg5WK46PQuLGMfv5uvfMHmV/9pNhItl80mK7ksS5Id\nMaq7R6f931P1y0oZ5egNV2mjRhhh57j2Kb6UjKq3toKYu0qFam/gfwzKW94PQKGqcPoNj0rZd8bn\nCzts/QsjUaOqaYJzZzyMSZNiYXfPUZ0xqpveVspC1f875eTcfYP2yFs48twqY1MXqTtZLixvFwO1\nmkQW6rGt/7yIH6PqSAeJjH3P7jZ0+Nb/ICHioIiqXkbVki1cXN/Ff+Ag7vJ5DAMwG7hajmaz/zm6\nvurtyBQ4CIpQohFVhe3WvynN7oODt7mB9IaL+UqFGEa1KApkyOw4bUDMb4f++9OpoozqF5+Z4rG3\n68zORY9rpm/rf6RR3QsILX461UijOsL1iuugUDX8JOgBkGsrKPMLV2CDovAD/5NvrhfbhUZp7Pou\nVKem/e3/3svujo1U4Lf+7YQJSpoGZ055ZI9eIsvu7lqd6VQb3uZAxz/4HTO4ehrVDpSZOcwDU8w9\ne5qJhTxP/a1fDFqWf465GTNW21hIaP37E5Aye99m7ozyGgL+ZKrBrf8k9JqparLGmCghhEA5sAQr\nyxgZgWw0cI1cosO8g7VVyfzC/sT1qD3Tqchvm6nMQDSV9ck/wHvtlT1fv+xx/YPPqE7ssO0P7Wzo\nlo1s1CkUCWlUpdXE3Sqzak3zlrfHPxRls/4MizhYTYkxylHdPRIMVX7O+EijOsL1h30vVGu1Gr/7\nu7/LpUuX2NjY4OMf/zif+MQn+Mu//MtU7xdGBjmAUZVS4q2tolxFRtXpw6j+9Rdt3vZOfUcTlq4l\nCCE4elzh6W86u2KhDCWZUe34c7Qjq2R22RotiSJVWWPTTcuo+p/P1dSodlB5+A4mLlSZPZzj777j\nYjYktaqkWBTY0kEXcYxqLtZMtV9tZqElZzYmIgWj2q/1n+kxU1VklZLwA8zFgYOo68sYBkizgZfJ\n0zSTlyVlW8KyD4wqxIT+FwrIhv/5mJ5vbpN2C3lpDffkG3u/ATGM6qQYZ1pM7XiRQghfp7q64pup\nAq7/6hsXWHPn+JlfHE8cbNI3nmrEqO4NEjodI43qCNcr9rVQdV2XL3zhC+jti+WXvvQl3vWud/GR\nj3wEKSWvvJKCRTAMaLX6ZivK8pYfB5Ufdp7j3kBVE6PrOH/WZfm8xwOPXPNy4FQ4dlxh5aJkbn7n\nxZwhkseodoL2xZHlXTOqfuu/mrr1v82o7mq1ewLlxpvYmjHIjOe55TaVZ7/tUK/5haqDHR/4Tx6T\nKKPalM3uFKY9xY4YVWsAo5qm9b89MKIqq91MVGV+AbVyiZxug2lCNocZ7y3z31sFRYVCcX8ugxoa\nbjD0Px9t/cu1NVAUvFOv7/0GOHZEo3qTcpxfzOxslHIHolOoFvzWf+ez+LsvnYX5AywdSr7W9Y+n\nGmlU9wQdM1UA0m75ErqrdI8cYYTdYF+rp8cff5z777+fJ554AoCLFy9y5MgRAG688UZOnjzJrbfe\nCkClUqFWC4fyNZtNSqUSphDoighFrWia1v3b3riMOr/YLYj3C6qqxq4jm/XwPCv2d3/zpRbveneG\nfD59oHhw364UkvatFzffogA2B5YMdH347dM0Dd3R8YSHrkbXl8n4pjNnYpOiXoh9TVpMeONseWU2\nvS1mjWl0rf+yVFUCJqUxfcf7Fvx7N5hUJvmr907y4Zm7efSGLJ/5I5OZWZ3SmMslHLJ6Dl3RQ5/b\nuByn3mxEPseWsMk5uV19P+L2zTYMVM9LvVwpJbQs9GIRocQXh8WSZHPDQdf12HNSR0eYAqEr6EKj\n7plMMOa/TtfZKs4wq6yjtCyUfIGWReL2bVxyWFhU9+37pgkVNIGu+OtXxsaxzTq6rmO5FgU1j7i0\nhnbbm3Be+z6a6yCyeze7t+k4aO0c3uC+ZXb5AOgdWMJbWyVfNBDCxPN0Xv2eQ2brIod+7Ejfa0mx\nJLGsZuT3UkpaFhSK6TtP1/J1crfYzb5Zuo4qQQtsp9cO+zeM5PvQldq3EUYYFvv2DX/++ecpFAoc\nP368W6gGWdFMJkMzIFZ69tln+drXvhZaxtve9jbe8Y53UM1mmS6VUIvRHMzJyUlEvYp+5Bizszub\nZb9b6LqDlI3I+l/7vsml9To//hNLOwqun5xMyOi5ipiZkdx8q8Mdd85RKO5M22esGOh5g9mx6Od1\n9FiDhx6p8w3V5sD0AWb1nX+mB6sHWKuvs9Uoc+PsjYxrg9teml5l6eAUs7M7v5nvxeeWcTO80XBZ\nuOEO5qXk839xju9+RzAzl+cNxWNxep4JLay79aezScanxzGU7RvSydppJhjfk+9HcN/Wx8bRMwYT\nKZfrNZtUdYO5+WSJzsJCjTMnq323NVvNMDZdoqgWcS+7LIgFZqf811+YPsoC6xTULM2pSezzWuKy\nXnx2i8NH1e4+7fX3LdPIMDY5zqzhr99RFc6ZJrOzs3gbkil9ikx5k9wtt2G6LoXNyxTuvGfP1t/w\nPMbbWc57uW+NW25j45XvMjs7y9h4Hac1xuc/e5HfmLnE3J3vJdenvey6EqtZYWZmJqSZbjY9dKPK\n/Pzc0NtzLV4n9wo72Tcrl2O8WCAfOO/NzcvY0zNX7R45wgi7wb4Vqi+88AJCCE6ePMnKygqf/exn\nqQfGB1qWRTYwdefEiRPccsstoWU0m03W19eRms6lCxdQJre1VZqmMTk5yebmJpU3Xkc9eJj19fX9\n2h3AL66tmGyVRt3DbrmR9X/6UzXe8aMGW1uXhlpPcN+chCkje42kfYvDr/xGhoa5QaNPWzUJmqah\nKzrlepl1K/p5zczBj/x9+HKlQWOjzvpuurKOYLl5AdMzsTaarIvB+2foYLW2WN/Bivfyc/OkR91r\nsLK2gipUHnxY5c/+U513/b0MlmtR2ahgCzvyueVFnjPrZ5lQtqUOq601hCN29f2I2zfTcbC2trBT\nLterlMEw+m6H4zhsbvrf+6RzUpc6Fy5dZFKZYKWxyiF1iXXXX+ZmZp7Cxmmqa1M4mkq1aieu743X\nTebmFTY3N/fl+yZcWN9YQ2/nWUq7hVursra2xpa9RVEWqJ18A+PRt+IdPMzl556lsXhwz9bvNE0q\npskM7Om+edkc1rkzrK2tkctLfv8/XOCOOwTi+WWq2Tx2pdL3WqLpsLy8TiZgnKqUPTIZhjpHr/Xr\n5G6wm31zJGxdukQ9cCxbZ8/g5PN9j+9u9m1UAI+wn9i3QvUjH/lI99+f/OQnee9738uXv/xlTp8+\nzdGjR3n99dc5duxY9zVjY2OM9TyJX7hwwc9sNAzsRgMlhlF1HAd35SLKXfd28x33C5qmxa7DkxLH\nJfS7k6+7bFz2uOtedrxdjuPs+z51kLRv+wFD6DRdK1GnKqWkKS0UR8EWO9+mvJdl2fULmrQX+3/8\nGxnyeRfbHnI0aAB79bnlybFllxkTJd58F3zhP0Mu52HjgA22sCOfW54sZbtCITDjvu7UyUhjT7Yp\nuG+eouA1mygpl+vVapDJ9t0O3fD8Bz87um/d16BTt+sUlQJlr8yt4qbu67YyixypP4Nb01EK0zRN\nL3F9Kxcdbnuz3j039vr7pkqVpmNhe51lChAKdr1OQzOZlJO4Fy/gzcyBquF86Qt7un5p27jCf+Da\ny32TmSwSgb2xQT5vsL4mecd9m8g3xnBUFdd1+64rmxXUqi2UgPyjXvMwMju7Vv6gXidhZ/smVQXH\naoYMVc7GBhRKfZd1pfdthBHS4oo6fN797nfzuc99Ds/zmJmZ4fbbb0/1vn6h/1JKvNWrF00Fvpkq\nmKMqpeTL/9XmXX9PT3S//jBDF3qi6x/AxkFBQYtxtg+Dkijh4DCpDI6m6mBh8dpJbCuKYjd+ycgI\nfux9BgcOgoeHSrzswp9OFXb+m7K5LzPlha4j+2VJ9UCmsHXn8tAYsMiOoQqgImtdMxXApr7AbY1V\nZG0GffEQTZNQ6H4Qa6ses3P79/1UhYrTE8PmO//rmCWTQkMiWxZiYhJRLOGtrg6M7xoKdtRMtRfo\nOv/XVrjr3huYmhZoly7gLi6len+mHVE1FvA3jhz/ewhNj8RTyerI8T/C9YsrUqh++MMf7v47yLSm\nRp/Qf1kpg6ZdNcc/bE+m6twQX3/Vo1GX3HXv/uQzXu8whIGZMOoTwGrnfu4WeXKoqEyq6QvVawkl\nUaAmt+UyDzysYUkLzdQSM1HjCtUm1q6yMxOh6TBMPJXV7DuVCga7/sFn5DsRVdVAPBWA6WawcxNo\nZ0+j332iPeksWgQ16hLHgbHxfSxUe+KpAGg7/81ik9JaHWV+0f8sdR1l6SDemVOoN9+2NxvgROOp\n9gpKO/j/nkdvBqD1Xy+gLB5I9d5sJhr632zKkBRghF0gJkdVViooC+k+nxFGuNZw7dBH/dAn9N9d\nXblq+akdCCFQlO1itcOmXu+5qfsFfzJVcoHTlBaZHU7OCUIIQUkUmVSuT7NFsZ0DG4SN03fCVIE8\n9Z6Iqn0b16lpQ41QHRRNBf4zqeOA4wyeTiWlpCproUK11ZS0JpeQ5S1EPk8uK2KzVNdWPebmlL0f\nghCAhoZDlFGlUcf0muRXqygLi93fKceO457amzxV6V+MIvPe9wpifhFvdaX7f+/iMsqQjGoQLUuS\nGUVT7Q1iC1Xf9T/CCNcjrotCtV/ov7d68aq2/TtQtf+fvTt7buu+En3//WHvjYngTEKkJIqk5smS\nNdmxY8fxIJ/j4cQ53Yk79+HUieucW/fcug9d1Q/3uf+K26eqH05XdXVXTjuD46ST2LEty4MsS5YU\nzSIlSjJFcRYJgiAx730fQEAcQBIkAAJ7e33yoFiiiN8SSHBh/X5r/TKJas8Nk1TS4uBhqaYux3AZ\npJY5nwprv5d+JbWqlqY1bP1Xk8zW/8yC30taSXS1fJXMr3xLt/4p39b/mq5QjcdW3d9VSuFb7Xaq\nuaH/s0RxY2DM+/eIJyDVnKkcKa8Pry//TUijIxbBtvImRjoaaWthRVX5/JmtfyuKZ2QStelxoqp1\n78As1eD/uWH/5UrEXZvasOYSVcuyMIcGUQVWVPNdoypb/6Wj8ryBtMJhVK1s/Qt7skWiulpFVQWr\nIFGdG/r/5z8lpJq6CvcqZ1Rj866XLNZ2VxcdWmGVnmpTO3dGdb7UKhXVvFv/VuYWpJIzlp6FW0kh\nFVXIbP+veDvV3BnV+cP+sxJxC3NTpnNe+f14fctUy5gRXwAAIABJREFUVIfNoq4BLoSm9IVXqDJ3\nRnVmhpgVQx95tLCiuq0Tc2Qoc5a3WMnk4xssyiB7RtWyLKzpMFhWwRU7rzeTmM4nW/8ltKiimnmO\npKIq7MsWiaoy3MtXVIeHKr71D5lE9cpfUigF+5+QaupKDGWQtJZPcOJWomSJ6lvu1+kyOkvyuTZa\nYNEZVYDkMrdSZWUS1UVb/2WqqKIbWCWuqELmGtUVb6eaO6O6eNsfMu9nVdsWUAp8/szd8nmOQ4+N\nmrSWOVHV0ZZu/fvnmqnMKK7RsQWJqjLcuDZvxey/X/RjW6kkaoXh7sVSPj/K48EKTWINPcS1eUvB\n1dt816gmpKJaOoubqeJxQKG8ZXgNEGID2CJRxePO20xlWRbp0WFcVVFRVXzyYZJX/qO7rOfenCBz\nRnWlrf9Y0bfnOEGAABEWnVG1UhgrTEOowccMSyuqpUr851vr1n+morr6Ovx+Vr1GNU6CsDVN3aKK\najxuYdTX4P3b/xel63h9imjeM6rFXQNciMwVqouaqWoCmDMRakMp8HhRi+7rdXXvIH23BNeplrmi\nCplzqtboMObQYMHnUwG8vqXXqMbljGrJKE3Hml9RDUvHv7A3WySqysh/RjU9FUK5NFQgkOdvbSxN\ng8ZGF3v22eKftKLcLveyM1QB4la8LImV3QRUTZ5mqkIqqkvHU5Vv638tFdV4ppNmFT6/WnFElRv3\nvIrqoq3/uQ7/7C6L17e0eheLWczOWjQ0ljcx0sgznsrvJz0bpmNMX1BNzf2d7TsxS9FQlSxfx3+W\nK9iGOTKMOfiw4I5/yFRUl5xRLazYLgphLNr6n5bzqcLe7JFVefKfUU08HKiKRirInKs7+Xr5mhec\nJDNHdYWuf+J4yrFVbTO1+ZqpSKGv9YxqCZvT5svXtLESq4DxVLD6iCq3mn9GdeGb1Hjcwu1+/D3o\ny7P1PzZi0tqqyn6OXFdLx1Mpfw3mTITNYwrXpqWJqqujE3N4cNm50YWyUuWZoTpfZkTV2iuq+br+\n43E5o1oyur7gDaR0/Au7s0Wimhn4v7SimhgcQKuSRPV//K2HnbvlbGoh3MqQimoBMmdUFzVTWakF\nXe6L+fExO288VcpKYWKuWIVdN32tXf+FHUT0rdJM5cYgQaaiunjrPxHPjLjKytdMNTZqlb2RCkBj\nmWaq2Rk2jVp5K6rK7cbVvgXz2/vFPfiGbP23YfZ/m0mEWgq/QtPrXVrlLrDYLgqQeQMpW//COWyR\nqC438D9TUV36Yl8JcgNV4dyrVlTljCpktrgtMs1lWZmt/5UrqjPWLJaVSQSixPDhLU+lf81nVAu7\ndanQ8VThRRXVVMrCsjIFpSyvD6KLKqqjw+VvpILlB/6r2Sgto8llX7tc23cWPU/V2qCtf+vRGK5N\nm1BrmNeadzyVdP2XzqJmKiscloqqsDWbJKr5r1CtpoqqKJxbrXxGNSYVVSAzU3RxVTUznmr5BMSt\nDFy4cleMlm3YP6B0Y0HlZlUFVlRXG0+VHfi/+Ixqtpo6PynPd0Z1dMQseyMVzHX9LzmjWoNrNkpg\nMoFaZlqJ1r2j+HOqZbo+dT7l8aAam1Br2PaHTOV08XgqqaiWkJbvjKokqsK+bJGoKmNp179lWVV1\nRlUUzlhl6z9zplISVVg69D9pJVfs+geomXdONWaVaTQVrKOiWljX/+rjqdwkrMwZ1br5t1Illlbl\n8t1MNTpibUhFVc83R9UwMDUX0UYvSs//PLq2dWIOPVx2JF9Bynh96nyuTe1rOp8K+a9Qjccs3FJR\nLY3FzVSy9S9szhaJKh7PkmYqa3oalAsVqF3mL4lq5XatfIVq5oyqlFcAallYUU2SRF/lvKkPH7Nz\nI6qilGc0FbCOrv9YQWUzv3/pdv18bgxixJglSg01jz99PHM3yHxe38JmqmTCIjxl0dyyMRXVJVv/\nQMrvZmbT8omDcntwtW0uap6qlUwumwiXkvHjn6AfO7Gmv5O/mSpzEYAoXmanQ5qphHPYIlHNN/Df\nHB3CvYYh06J6rNZMlen6l4oqZCqq08yrqK5yMxVkKqoz8yqqZRlNBZmZbKaJZZoFfXjBFVXfyhVV\nD24emZPUUINLPX4JS+TpHF+89T8+ZtHUojbkTLmWZ+A/QMJvEG9b+Vrfos+pbsAZVQBXXX1mx2sN\nvHmvUJUzqiWjabmKavbmMFUrBR1hX7ZIVDMV1YWJanp4GPeWrRVakCiGoQxSKwz8j5dpQL0dLT6j\nmrSS6Kts/fuVL3c7VblGU8HcWdBFo3CWY1nW3PVDhc5RXXnrf5qF2/6QeYlwL/qyWdz1nzmfujEv\ne7rSSVtLK6qz9W7iHcEV/27R51Q3aOt/PbJnVLMNf5ZlLZnWIIow/2rj2Rlwe9b8ZkKIamKLRDVv\nRXVkGPdmSVTtKDtHNfuDajGpqD62+Izqas1UsHCWarSMzVRA4SOqkklwuQrqDvf6Mjmtaeb/+nCT\n+aG7eNh/PL70nKPXu/AYwUY1UsHyFdVzP91NatfK1/q6OrswBwfWfU41s/VfnYmqpik0DZJzoWVz\nKl2XimopZG6mynxPZjr+5XyqsDdbJKr5Bv6nR4dxb1nbIX5RHVzKlfce9KyYnFHNyQz9X3hGddVE\nFX9ulmpsbjxVuSijwM7/NbR1u1wKj2f5a1TdKpuoLqqo5jmjahhgWZnRVbBxjVSwzBWqQEzF8bn8\nef7GY7lzqg++Xd+Db9DW/3p5vBCbe0mXjv8S03VIZb7u5HyqcAJ7JKq6Ael07iycZVmYw0O4N3dU\neGFivQzyz1I1LZMkSdzlGFBvQ5mt//ld/6k1d/2X7YwqZH4oFlBRtRKF3UqVtdL2f/ZrI19FdfFD\nKKUWNFRt5Nb/chXVqBXDr3yr/n1X9/b1n1Ot+kT18TnVfGeLRRHmHcexpqfk+lRhe7ZIVJVSmVJJ\ndhtsJgKWhVYv7xTtSld63oaqOAncuBc0yXyXBVSA6bVWVJUv10xV9q3/QkdUxdZWNvP7FbMz+Zu0\ndHQUKu8Z1XwJj3duRFU6bTH5yKKldWOSIh0t7xnVGIU9J1r3Tsy7d9b12BtxhWox5o+oisUKGq8r\nCqR0Ays910wlw/6FA9gnG5g39N8cGcbV1iYd/zZmYOStNsWkkWqB2sUVVVLoq3X9L9r6L9scVbJb\n/wVUVONrrajC7Ez+iqpSCjfupRXVmJW3ISfb+f9o3KK+QWEYG5So5pmjCtkqdwEV1c7uzDnVtVxT\nm7UBV6gWY/6IqnjcwuOV1/KSMXRISqIqnMM2ier8of/m6AhasDquThXrk7lGNV9FVYb9z1dDDTPM\nYFqZ6mLKSmGo1Suqj7f+42Xe+i+wolpgx3/Wqp3/uJeeUU2A27004fHNXaM6Orxx2/6w0tZ/HJ9r\n9X8L5fHg2tS2vnOqVb71P39EVUIqqqWl6ZCrqMqwf2F/tklU5w/9t0ZH5EYqm9OXOaMas+J4pJEq\nR1MaXjy5Cmlm63+18VTzuv7LXFEtdOi/FVtbRdXvV8wss/UP0ORqoFk1Lfi95UYceea2/kdHLVo3\nqOMfVmimovBzw67unaTXsf1f7Vv/869RlYpqiemZm6kyM1TljKqwP9skqvNHVJmjw2iSqNqasewZ\nVamoLhaY1/mfLHA81fyB/+U8SqF0o6CtaSseX1PZbKWtf4C/9f7fNLoWDs1frinH58tsM294RVVp\npBadUU1badKkcyO2Vv0c652nWvVb/4/n28alolpSyuUCpTINyLL1LxzANonq/KH/5ugIrk2y9W9n\nma7/pQlOzIrhkTOqC8zv/E9ayVW7/v34mCWKZVkb0/VfyHiqRBy11maqFbb+84kn8ic82aH/Y6Mb\nN0MVsleoLvy3yVS4PQWfr3d1dmM+fLD2c6pVv/U/fzyVVFRLTjcgmcCanZFrxoXtlf8y6CK43W60\nuQHhKa8PAwsjnSJqpnE3NzM7O4thGOgbcKc1gMvlwudbvQmiWEopx8fmcblxuV343Asf04xZBFRN\nSddi9+etIVVPwkjg8/hIx9IEvAF8Wiae5WIzogbK6yIWjdPoa8zNHl2v5WJL+3zoSuFd5d/XSiag\ntrbg56G+wcXIcHJNz1sqmSBQ68HnWxhrba1FMgHjo0k6OmvwLkqKyvW81aRrSCfMBTFE0jP44r7C\nvyZ9PpJtmzHGRjB27Cr4sePpFN5ALYZhVOVrSSAAMzOZf5t02qKmhjV/j34XXifXG1vUMHBHo8T8\nNfgDgdX/AhsXmxBrVdWJamLerSxpXScRiZD89j6qdROpVIrGxkZmZmZIrqcrdh18Ph/R+dfclIlh\nGDQ0NDg6Ns3SmYnPEE0vfMxwchrd0kq6Frs/bz7Ty6P4JFEzSsJKkI6liboy8SwXm1/5GI2OkSZN\nKpoirZaelVyL5WJLK4U5M4O1yr9vYnwcbefugp8HXU8zM2Ou6XmLRk0gQTS6MFZNT9F3O01NQGFZ\nMRZ/ynI9bykzRcpKLYghZIbwWh5Mcw2xdXYTvXmd1Bpu4jMTCeJmGpLJqnwtcWlJZiIW0WiUmZkk\ntbVqzd+j34XXyXXHpmlEhx5CbV3B6y0mtsbGxnX9PSEKYZut/+wZVXN0BCXnU23PUHreZqp4Ge+m\nt6sFZ1QL2PqHzO1UE9YEPrzlHeOmGwVt/VuhSVR9w6ofl7XaGdV8EnmuUAXw+RQPvjVpDW7s9rKe\n54zqeubaatt3rH3wf5WfUfV6MyPDYPmxYqIIuo41MSEd/8IRbJOoZq9RtUaHcQU3VXo1okgGRt5m\nqkzXv/zUmi9ADREyZ1RTBTRTQeZ2qkfmRPmvoi1w4L81FUI1FF518fkV0dnlu/7zSSx3RtWbGU8V\nbNvYlzsNfcl4qvVcD+zq3I458KCwq2rnWEk7dP3PJapxlhzHEEXSdayJR7ikkUo4gH0S1XkVVVdQ\nKqp2Z6ilP8QhO6BeEtX5Fnf9rzbwHzJb/xPWZNmr00pffeC/ZZqZeY5rqqiqNVdU48t0/Xt9md8L\nBjf25S7TTLWwohojhm+Nz4nyenG1BjEf9Bf+l1LV3kyliM8f+C9XqJaWbmBOPpLRVMIRbJOoqrkr\nVM2RYZRUVG3PWGaOalwqqktkb6dKW2ksLDS0Vf+OX/l5ZE2U/5YvQ191jqo1HUb5a1BraArx+WB2\n1sKyCk9Wl5ujmktU2zY2Gco38D+6znFhru07MO8VNk/VMk1Ip6t663/xeCrZ+i8tldv6l4qqsD/b\nJKq4PVihSUin5JvPAfTl5qiuY2vU6bIV1ewM1ULOnPrxMWFOlnc0FRR0M1Vm27/waiqArisM4/FQ\n+NWkUhaWBVqeHN4790/QusEVVQ0NEzN3qxis/0pbrXsN51RTKdC0qr5i2isD/8tL17EmH8kZVeEI\ntklUlduNOdCPK9hW1S/AojDLVVRjxPEUOAz9u6JWBZi2Zgq6lSorV1Et99a/sfrA/0wj1dq7gv01\nLqIFzlLNVlPzvTYEahVHT2j4azb2dUMphbZo+z+2jmYqmDun+qC/sHOqVb7tD+DxzG+mAq9UVEtL\n1yGdRtVKUUfYn20S1WxFVbb9ncGtlhv4LxXVxbx4SZIkZsUwVGEJSI3yZ4bLb0Qz1SrJkxWaXFMj\nVVZm6H9hH5tILH/O0TAUP/k/KpMJLb5GNbrOCxiUz4dqacV8+GDVj632RiqYa6aKgWVZxOMWbqmo\nllT2mI3sPgonsE2iqtyZKpt0/DuDjk7KkmaqQiilCKgaJq1QQY1UkNn6B9bcuLNmur761n9o7Vv/\nAP4aVXBFNb7M+dRK0xedU13v1j9kxlSZdws4p1rlo6kgc7TD5coUf+UK1TLQjcw5GL+/0isRomi2\nSVSzr2TS8e8MxjIV1cwZVfmptViAACFrqqDRVJDZ+gfKXlFVRgFd/1PrrKjWuAq+RjURt/C4q68q\npy2apVrMjoGre2dh51Sr/PrULI830zBnmrZYrr3oOqq2DuWyz494IZZjm69iZWQqqrL17wyZM6p5\ntv5l4H9eAVXDhDmJXsCwf8iMp4LyJ6qFNFOZoRCu9ZxR9Tuhorpo638d46mytK7tmP3frnpO1UpV\n/9Y/ZEZUhaesZc8Wi/VTc4mqEE5gm0QVjxs8njXNYhTVy1DGkq3/7H8Xmox9l9SqAJNWqOBmqpq5\niqqv3McoDGP18VShySK2/gv72JXOqFbS4hFVsXWOp4LsOdWW1c+p2mDrHzIV1fBUdT5vtqfr0vEv\nHMM2iapqasHzzv8l77wdInOF6sIER86nLi97RrXQrX8fG1NRVfrKXf9WPJ5JZP01a/7cfv9atv7t\nUVEt5owqZMZUmatt/9tl69+jmJqy5HxqOei6NFIJx7BPoqoU2rauSi9DlEi+8VRyferyAtmKaoHV\nZk1peOf+V1arXKFqTYVQ9Y3reoO5tmYqC7ctzqiur+s/q5Bzqnbo+oe5rf+QzFAtB9e2Llw7d1d6\nGUKUhG0SVeEshjJILtr6j8v51GUFVM2amqkA6lQtAbX2Suaa6PqK46nWu+0PmUS14PFU8ersHJ9/\njWraSpMijbuIOcFaVzdm//2VZ9em7Lb1X+mVOI++/wn0fQcrvQwhSkISVVERBjqpxVv/VhyPkmH/\n+QRUgDTpgsdTAfyt93/Q4mou46pWH/i/3o5/yGz9r6miWoUJz/wzqpnLLDxFHV9S/hpcWzpI99xc\n/oPssvXvzW79S0VVCLE8SVRFRWTGUy3a+peK6rJqyVRGCx34D+Cb6/wvq1WaqczJSVzrbIDMVFQL\nPKOaoCoTHh2d1FxFtdht/9znPHyU9OWLy/65bbb+PXMVVfmWF0KsQBJVUREGOklrcUV1/R3RThdQ\nAYA1bf1vCD1zM5Vl5U8oranQ+iuqNYrYGrb+q7GiqiuN9NwZ1WiRjVRZ2sFDpO/0YsWi+T/ABleo\nAnh9Srr+hRCrkkRVVES+impcmqmWVTN31rTQ8VQbRblc4HJBOp33z9d7fSqsreu/apup5m/9l+iN\nmPL50bbvJH39av4PsNF4qmQSqagKIVYkiaqoiHwD/2Xrf3luZeDBU3DX/4ZaYeh/Mc1U2aJgMrF6\nslq9zVSPx1OVausfQHvyKKlltv/tsvWfraRKRVUIsRJJVEVFZH+Am5aZ+724NFOtKKBq0Ktt6x/m\nOv+XJqqWaWKFp1B160tUlVL4/IWdU40nLNxVmPDMr6iWausfQNu7H3PgAdZ0eOkf2qSZyjv3TyEV\nVSHESiRRFRWhlJprNJl3a08Jf5A7Ua0KVN3WPyzf+W9FpsHnL6q65/NT0O1UVVtRVfrjM6pWrGQX\nMCjDjbbvAKmrf1nyZ5ZtxlNJRVUIsTpJVEXFGOgLzqnGrLg0U60goALoa+j63zDLDP23QpO41rnt\nn+UvtKIar/6KaowYvhK+EdMPHyX9lzzb/3bZ+s8lqhVeiBCiqpW1PGOaJr/73e8YHx9HKcWbb76J\nruu89957KKUIBoO88cYb5VyCqGKZof9JmMsvMgP/5afWcp7Xn6FZNVV6GUvp+UdUWaHMrVTF8PkL\nu50qEQd3FZ4aWTyeKju9oRRcO3ZhvvuvmI/GcDW3Pv4Du2z9z32rV+MbDCFE9Shrotrb2wvAf/tv\n/4379+/z8ccfA/Dyyy/T2dnJ73//e27dusXevXvLuQxRpRZfoypXqK5sl7aj0kvISxkGVp7bqYoZ\n9p/lL3jrvzrHHGVuppo7o2rFaFGlu4BBaRr6E0+SvnwJ10uv5n7fStmrouqV0z5CiBWUdet/7969\n/Kf/9J8ACIVC+Hw+hoaG6OzsBGDnzp3cvXu3nEsQVUxfdDuVdP3b1DJd/8V0/GcV2kyVSFTnHFVN\naaTmzqjGKF3Xf+7zP3mU1F8uLpxja5PxVN65+yikoiqEWEnZOzNcLhe/+c1vuHXrFm+//TZ9fX25\nP/N4PMRiMQDC4TCRSGTB343FYtTW1ub9vLquL/h1I2iahrEBlYrvSmxulxtLA2Puh2oiFidg1GBo\npV2HPG/FWym2hMeNZplL1pEIT2Hs2rPu9WmaRiCgEY+z4udIpTJJms+3vr3/cj5v7rSbKDEMwyCe\nSFCjBzAMo2TPm759JwkzjTY2gralA4B4KoXu86EbRlV/TRoGaHqUQMDAMNZeM6nm2Irl5NiEWKsN\n+S74z//5PxOJRPjHf/xHUvO2COPxON65fZ8LFy5w+vTpBX/vhRde4MUXX1zxczc2Fre1WM2cHpt/\nxkdNQw2tvsz5usRMis3Nm2kxyns/fbk5/XlbLFVTQ63PT6C1dcHvxyLTNHVvx7vo99ciuMmi/36c\n1hU+R2Q6jdcbWfFjClGO561hsp5UKk1rayupWIr2xrbc13upaN//AdatG7Q8eRSAqGXRFAzimffv\nUa1fkyf/o6KruxldX39VtVpjKwUnxyZEocqaqF6+fJlwOMzzzz+Prusopdi8eTP379+nq6uLO3fu\n0N3dDcCxY8fYs2fPgr8fi8UYGxvLv3Bdp7GxkcnJyQXJbzl5PB7i8XjZH+e7EhspGJscoyWSaRCa\nTc0yOznDmDJX+SxrI89b8VaKLWFaTD0aJ7roezUxNsYUiullvodX4/F4MM0IE4+Sy74OAExOmBhu\na8WPWUk5n7dYPEbEnGZsbIzpZIT4VIyxyFhJn7f0nn3M/OP/h/niSZTLRSoWZTISQRsbq/qvyZf/\nA0xOjq/rcao9tmLYLbZi3yQKsZKyJqr79u3jt7/9Lf/rf/0vTNPktddeo6Wlhffffx/TNGlpaWH/\n/v0A1NXVUVdXt+DvDw4OklzmxpusVCq16seUiq7rG/ZY4PzYNFMjloqRJIlpmcSJ40q6SKrSrkOe\nt9LJF5upaaRiMdS837cScaxkgpTbs+D310LXddwek8iMuWKMMzMmhpui/x3K8ryZikQ6STKZJGpF\n0VM6STNZ2uetqQX8fuK3e9C278RKJEihMOd9/u/a12S5SGxCbLyyJqput5uf/vSnS37/nXfeKefD\nCpsw1OM5qgmSGBi4lIz2tRul67Co6pMZTdWAUsU1yhQynqpaO/4h2/X/eDxVqQb+L3mcw0dJX76Y\nSVRtMkdVCCEKIVmBqJjMeKrMO/i4DPu3L2PpHFVrKlT0aCoobDxVPF6dHf+QSVRTpEhbaZKk8FCe\nYa/aoSOkrl/NjAlL2WOOqhBCFEISVVExutJJWY9v7ZFh/zalL71C1QpNouqLG00F4POtPp4qEbfw\nuKuzoqrNDfyPzV1mUWyFeTmuhkZcwU2kb9+yzXgqIYQohCSqomLmV1Rl2L99qTwVVTM0iasEFVWP\nN/Op0+nlk9WqrqgqjbSVLuu2f5Z2+CjpC+dBKZSmlfWxhBBio0iiKirG4PEZVbk+1cbyDPwv1da/\nUgqvb+Xt/0Sies+oanNb/1FiZb/MQn/iMOnbPbLtL4RwFElURcUYyiBpZSuqMTxlrjiJ8lBG+bb+\nAfyr3E6VqOaKKjppMhXVUt9KtZjy1+DasVO2/YUQjiKJqqiYzNZ/tqKakIqqXen60maq0GRJKqqw\neud/PG7hLk+PUtGyFdWYVf6KKmS6/6XjXwjhJBt3P5sQi+jopHhcUZWuf5syDEg+Hk9lmSZWeApV\nX1+ST79a538iDrV11bn1ryudtJXObP1vwI6Btv8J2foXQjiKVFRFxWS2/rNd/3E8UlG1JWUYWPMr\nqjMR8HhRRmnKnL5Vtv6ruplqXkXVtwFvxJRhoO9/ouyPI4QQG0USVVEx85upYlZ8QypOogwWNVOV\nquM/a7Wt/+pupsqOp9qYrX8hhHAaSVRFxWQS1bmB/9L1b1+GseBmKisUQjWUppEK7N5MlbmZKipv\nxIQQYl0kURUVoy/o+pc5qnalFg38t6ZK10gF4FvljGqmmapKK6pKI2XNbf1LRVUIIdZMElVRMQY6\nqVzXv9xMZVu6vmDrPzOaqnSJaiEVVU+VfunkxlNtUDOVEEI4jSSqomLkZiqHWHQzVam3/lcdT5Ww\ncFftGVWNFGmiG3AzlRBCOJEkqqJiDKWTsqSZyu4WD/wv9dZ/IeOpqreiquUqqrL1L4QQayeJqqiY\n+RVVaaayMX1hRdUMhXCVcOt/tfFUiSo+o+rChYXFrBWVOcFCCLEOkqiKitEXjKeSgf+2ZTweT2Ul\nEhCPQU1NyT69f4Wtf8uyqnqOqlIKDY2INSPjqYQQYh0kURUVY8zv+peB//alaWBZWOk01lQIVd+A\ncpXupcXrg1gMTHNpsppOg1Kg69VZUYXM9n+UKD452iKEEGsmiaqomMzWf4q0lcbExECufrQjpdTc\n9n+q5B3/AC6XwuPJFGoXq+YZqlk6OgqFm9Lc1CWEEN8lkqiKismOp8pWU5Wq3qqYWMXciKpMI1Xp\nOv6zljunGo9X761UWZrS8ODBpeTlVggh1kpeOUXFaGiYmESl0cT2lGFgpZKYoVBJO/6zljunGo+D\nu8oLlRqabPsLIcQ6SaIqKkYphY5OxJqR86l2NzdL1QpN4ipLRRVm84yoSsSrd4Zqlo4ujVRCCLFO\nkqiKijLQiVgRqajaXXbrPxQq+RlVWH7ofyJR/WdUNTT5+hZCiHWSRFVUlK4MpolIxcnmMlv/qcwZ\n1cbybP3nO6OasMEZVV3pMuxfCCHWSRJVUVFSUXUI3YBEIjeeqtR8y9xOFY+Dp8rPqOpocuuaEEKs\nk17pBazE7XajaVreP1NKMTs7i2EY6PrGhOFyufD5fGV/nO9SbJ64h6gWo8ZVU7bHl+eteKvFlvR4\n0GdnSHi9+OvqS/KY82Orr4fJSXNJrJYZw1ejivo3KPfz5k64CWiBBWusluetHCS24jk5NiHWqqoT\n1UQiseyfGYZBQ0MDMzMzJOfdM15OPp+PaDRa9sf5LsWmWS5CySnqVV3ZHl+et+KtFpvp0ogPPkTV\nN5RsPfNj040U0+H0ks8diSTRNKuoxyz386bMTNPg/DVWy/NWDhJb8ewWW2MZjvsIkSVb/6KiDAym\nrYh0/dudYWCNj5alkQrA72eZZio7nFGV8VTgSXLQAAAgAElEQVRCCLFekqiKisqOp5IzfDan65hj\nY2UZ9g/Zgf9Lf98ON1NpaHjljZgQQqyLJKqiogxlSDOVAyjDwJoYL8uwf1h+PJUdBv53u7rY4tpc\n6WUIIYQtVfUZVeF8BjozzMrWv90ZBqRSZdz6X+kK1ep+v/0D49lKL0EIIWyrul/hheMZGABSUbU7\nPfM8lm/rPzOeyrIWJqt2GPgvhBBi/SRRFRVlqExRXwb+25uaS1RdZdr613WFpmfOpM5nh4H/Qggh\n1k8SVVFR+lxF1SMVVXszDNA0qAmU7SH8fkU0uqiiaoMzqkIIIdZPElVRUQbZiqokqram66j6BpSr\nfC8pPh9LOv/jcQu3VFSFEMKxJFEVFaXPbf1LRdXelGGUreM/K1/nfyIBHvnSEUIIx5JEVVRUrplK\nKqq2ptra0fYfLOtj5Ov8j8ct3G6pqAohhFPJeCpRUcbc/zSlVXopogja1m1oW7eV9TGynf9ZlmXZ\nYuC/EEKI9ZOKqqgoQ+lSTRUF8S/a+k+nQanMRAAhhBDOJImqqCgDQ86nioL4Fm39x2NSTRVCCKeT\nRFVUlI5UVEVhFldUEwmZoSqEEE4niaqoKLeSiqoojM+/cDxVXM6nCiGE40kzlaioHa7t1LvrK70M\nYQOLx1Ml4hYe6fgXQghHk0RVVJRbGWxWbZVehrCBpVv/UlEVQgink61/IYQtLNn6j8mtVEII4XSS\nqAohbCFfRdXjruCChBBClJ0kqkIIWzDcYJqQTGSS1Xjcwu2ViqoQQjiZJKpCCFtQSmVup4pmEtVE\nXCqqQgjhdJKoCiFsIzP0P/P/43E5oyqEEE5Xtq7/dDrNb3/7W0KhEOl0mh/84Ae0trby3nvvoZQi\nGAzyxhtvlOvhhRAO5PerxxXVBNTJZDMhhHC0siWqV65cwe/381d/9VdEo1H+5//8n7S1tfHyyy/T\n2dnJ73//e27dusXevXvLtQQhhMPMn6WaiFt4PLIpJIQQTla2V/kDBw7w0ksvAWBZFi6Xi6GhITo7\nOwHYuXMnd+/eLdfDCyEcyO+HaG7rH9xyRlUIIRytbBVV99xPkHg8zr/927/x0ksv8eGHH+b+3OPx\nEIvFcv8dDoeJRCILPkcsFqO2tjbv59d1fcGvG0HTNAzDKPvjSGylJbEVr1piqwmkiMdcGIZBKpnA\nX6MXHX+1xFYOEltpSWxCbLyyfhdMTU3xv//3/+app57iiSee4M9//nPuz+LxOF6vN/ffFy5c4PTp\n0wv+/gsvvMCLL7644mM0NjaWdtFVRGKzJ4mtfFpbJ0gkLFpbmzHNBMFgA62t/pJ87krHVk4Smz05\nOTYhClW2RDUSifDP//zPvPHGG3R3dwPQ3t7O/fv36erq4s6dO7nfBzh27Bh79uxZ8DlisRhjY2P5\nF67rNDY2Mjk5SSqVKlcYC3g8HuLxeNkfR2IrLYmteNUSm2XFGR83GRsziUQSRKNTjI3NFPU41RJb\nOUhspSWx5dfa2lri1QjxWNkS1c8//5xYLMbp06dzldLXXnuNP/zhD5imSUtLC/v37899fF1dHXV1\ndQs+x+DgIMlkcsXHSaVSq35Mqei6vmGPBRJbqUhspVPp2Nxek5lImmQySTxmoulpkklrmc+wNpWO\nrZwkttKQ2ITYeGVLVF977TVee+21Jb//zjvvlOshhRAON/8a1URCmqmEEMLpZLaLEMI2fH6YnX18\nhapHBv4LIYSjSaIqhLCNTEU1M/IuEQdDKqpCCOFokqgKIWwjc4WqRSoFSoGuS0VVCCGcTBJVIYRt\neDyQTEA0Ch7v6h8vhBDC3iRRFULYhsul8PogHDJxu6WaKoQQTieJqhDCVnw+xeSkhdtT6ZUIIYQo\nN0lUhRC24vMrpiYtPFJRFUIIx5NEVQhhK34/TIUsOaMqhBDfAZKoCiFsxedXhCYtOaMqhBDfAZKo\nCiFsxedXhEJyRlUIIb4LJFEVQtiK3w+hSRO33EolhBCOJ4mqEMJWfH7FTAQ8ciuVEEI4niSqQghb\n8fszlVSpqAohhPNJoiqEsBXfXKLqkTOqQgjheJKoCiFsxe/P/CoVVSGEcD5JVIUQtpKtqLrljKoQ\nQjieJKpCCFuRrX8hhPjukERVCGErPl/mV9n6F0II55NEVQhhK5qm8HiloiqEEN8FkqgKIWynpkbh\n9UpFVQghnE6v9AKEEGKt/s//x0NdvSSqQgjhdJKoCiFsp75BNoOEEOK7QF7thRBCCCFEVZJEVQgh\nhBBCVCVlWZZV6UUsZ3x8HE3T8v6ZUgq3200ikWCjQnC5XJimWfbHkdhKS2IrnsRWWhJb8SS20iom\ntsbGxhKvRojHqvqMaiKRWPbPDMOgoaGBmZkZksnkhqzH5/MRjUbL/jgSW2lJbMWT2EpLYiuexFZa\nxcQmiaooJ9n6F0IIIYQQVUkSVSGEEEIIUZUkURVCCCGEEFVJElUhhBBCCFGVJFEVQgghhBBVSRJV\nIYQQQghRlSRRFUIIIYQQVUkSVSGEEEIIUZUkURVCCCGEEFVJElUhhBBCCFGVJFEVQgghhBBVSRJV\nIYQQQghRlSRRFUIIIYQQVUkSVSGEEEIIUZUkURVCCCGEEFVJElUhhBBCCFGVJFEVQgghhBBVSRJV\nIYQQQghRlSRRFUIIIYQQVUkSVSGEEEIIUZUkURVCCCGEEFVJElUhhBBCCFGV9HI/wMDAAB999BE/\n//nPmZiY4L333kMpRTAY5I033ij3wwshhBBCCJsqa0X1yy+/5P333yeVSgHwwQcf8PLLL/POO+9g\nWRa3bt0q58MLIYQQQggbK2ui2tTUxM9+9rPcfw8ODtLZ2QnAzp07uXv3bjkfXgghhBBC2FhZt/73\n7dtHKBTK+2cej4dYLJb773A4TCQSWfAxsViM2travH9f1/UFv24ETdMwDKPsjyOxlZbEVjyJrbQk\ntuJJbKW1UbEJsVYb910AKKVy/z8ej+P1enP/feHCBU6fPr3g41944QVefPHFvJ8rHA5z6tQpjh07\nRmNjY3kWXCESmz1JbPYksdmTxCbEd8OGJqrt7e3cv3+frq4u7ty5Q3d3d+7Pjh07xp49exZ8fCAQ\nWPZzRSIRTp8+zZ49e6irqyvbmitBYrMnic2eJDZ7ktiE+G7Y0ET11Vdf5f3338c0TVpaWti/f3/u\nz+rq6uQbUgghhBBC5JQ9UW1oaOC///f/DkBzczPvvPNOuR9SCCGEEEI4gAz8F0IIIYQQVUn7+7//\n+7+v9CLWw7Is3G43XV1deDyeSi+npCQ2e5LY7ElisyeJTYjvBmVZllXpRQghhBBCCLGYbP1XQDqd\nrvQSysbJsT148KDSSygbJ8dmmqZjvy6dHJuTayhOjk2IUqvKRDUcDnPu3DnHfjNfuXKFeDxe6WWU\nhVNjO336NNeuXQMyM4BTqVTuamC7c3Js4XCYTz75hCtXrmCaZqWXU1JOju3atWtcvnyZwcHBSi+l\n5JwcmxDlUJWJanbwv1KKoaEhJiYmCIfDFV5VaXz22Wc8evQIj8dDOBzm22+/ZXZ2ttLLKgmnxhYO\nh7lz5w4nT57kzJkzvPvuu/zpT3+ip6en0ksrmpNjAzh16hS1tbXU1NRw7do1fv3rX3PlypVKL6sk\nnBpbOBzms88+o6WlhVAoxKVLl/jiiy8qvayScHJsQpRL1SWqDx48YHJykqeeeopf/vKXfPTRR5w6\ndYobN25UemlFC4fDXLlyhRdeeIGPPvqIP/7xj1y9epVPPvmEycnJSi+vKE6Orbe3l2AwyOjoKEND\nQ/z4xz9m27ZtnDt3joGBgUovryhOjm1qaopIJMITTzzBuXPniMVi7Nq1iwsXLnD58uVKL68oTo7t\n8uXLHD58GKUU58+fxzRNhoeH+cUvfmH73RonxyZEuVRd139fXx8zMzNEIhF0Xeett96ioaGBc+fO\nUVNTQ3Nzc6WXuG5DQ0NEo1FisRjDw8P85Cc/obW1ldHRUVwuF62trZVe4ro5OTav10tvby+ffvop\nzzzzDB0dHWzatIlYLMbs7Cxbtmyp9BLXzemxTU1NMTY2RlNTE9/73vfYtGkTLS0t9PX1sWPHjgXX\nOtuJk2PTNI2hoSHi8TiHDh1i79697N+/n/7+fhobG1e8sbDaOTk2Icql6iqqR44cobm5mdOnT1Nf\nXw/A5s2b2bVrFxMTExVeXXHa2tpoa2vj0qVLdHZ2opSiqamJlpYW7t+/X+nlFcWpsaVSKZqamnj7\n7bd5/fXXMQyDaDTKzMwMN2/etPUbJyfHltXa2sr169e5fPky/f39JBIJHj58yOzsLC5X1b38rYlT\nY6utrWV6eporV67Q29tLIpHAsiwGBwdtX3V0cmxClEvVjKeyLItwOJxLTh89ekQymcTlcjEwMMC5\nc+d4++23aWpqqvBK1ycej+fm4fX19WFZFu3t7UxPT/Pv//7vvPTSS3R3d1d4levj1NgGBgYYGBhg\nx44dCyrC58+f5/Lly+zZs4fnn3++gitcPyfHlk6nuXv3Lrt27QIgFArx6aefMjU1RUNDA6FQKLdT\nYzdOjm1kZIRNmzYBmWkGn3/+OTdu3GDr1q3Mzs5SU1PDm2++WeFVro+TYxOi3KomUe3p6eHevXvs\n3r2btrY2/H4/kOmQ7OvrY9++fezevbvCq1yfwcFBPv30U44fP74ghgsXLnDz5k0OHDjAkSNHKrjC\n9XNybNevX+fTTz9l7969BINBtm3blnsjFYvFcLvdtq1cOTU2y7KYnJzkH/7hH9ixYwfPP/987vjC\n0NAQuq7j9/upqamp8ErXzsmxAfz6179mZGSE559/noMHDwKZs7gPHjygra2N2tpa2w6/d3JsQpRb\n1ZxRDYfDfPHFF2ialuvwDwQCbNq0ib1799p6G9I0Tc6dO8fMzAx37tzB5/NRX1/P5s2b2b9/v63P\nATo5tng8zv379+ns7GR0dJSJiQlSqRQ+nw+fz2fbM4Dg3NiUUvh8Pvr6+ggGg5w6dYqhoSG6u7tp\nbGykpqYGt9td6WWui5NjA0gkEgwMDNDf38/ly5fZtGkTra2tBINB/H4/uq5Xeonr5uTYhCi3qklU\np6eniUaj7N69m/HxccbHx5menkYpRSAQwLIs2/7wDIfDjIyM8MILL5BOp7lx4wbDw8PU1dXZ/vC8\nk2Pz+/0Eg0H27duH3+8nFAoxODhINBpl8+bNlV5eUZwc28zMDEopfvCDH3D06FHu3bvHBx98wOzs\nLNu3b7f1a4lTYzNNk3A4zO7duzl58iTRaJQPP/yQgYEBdu7caetEzsmxCbERqmbrH2B0dJRgMMjs\n7Cx37tzhwYMHbNq0iePHj1d6aUXLJm+6rjM2NsbNmzeZnZ3lRz/6UaWXVjSnxZZOpxkfH8+dKZv/\n+7dv36a+vp729vYKra44To7NNM3ccYXshQXZJGBoaIgLFy7Y9hygk2Obb2pqKncEJZFI8N5773Hg\nwAEOHDhQ4ZUVz8mxCVFOFU9Ux8bGGBwcpKOjY0mj1NjYGF6vl9ra2gqtrjiTk5OMj4+zbds2NE1b\n8M45EolgmiZ1dXUVXOH6OTW2O3fucOnSJQDGx8d58cUX2bt3b4VXVRpOjg3giy++YGpqiubmZgKB\nANu3b8fv99u2yjifU2MbHR2lp6cHj8eD3+9n8+bNtm2YXczJsQmxkSq69X/27FkuXryIUooPPviA\nyclJuru7c5WDmpoa2x4w7+np4fPPP2dgYIBbt24RjUbxeDy5Rge32y2xVaE//elPPPXUUzz33HPU\n1NRw6tQpent76ezsxOv1Vnp5RXFybGfOnGF0dJTdu3eTTCZ59OgRw8PDNDQ04PP5SKfTtmwOA2fH\n9u677xIMBonFYkSjUR48eIBlWTQ1Ndk6LnB2bEJspIolqslkktOnT/Pmm2+yf/9+Dh8+zK1bt/j4\n449paWmx/TvPjz/+mOeee47nnnuO+vp6+vv7uXPnDi0tLbbtys1yamyRSIS7d+8SDAZpbGwkGAxy\n4sQJxsbGCIVCdHR0VHqJ6+bk2CAzxeDJJ5/Mjdvyer2MjIwQCoXYtm2brZMCp8Y2ODjIw4cPee21\n1+jq6sLv95NOp7l37x7t7e22fvPk5NiE2GgVSVQtyyKdTjM0NEQsFqOhoYGamhr27dtHfX09o6Oj\nbNu2baOXVTLJZJKhoSEmJyfp7OyksbGRXbt2EQ6HuX79Ojt37kTTtEovc12cHJvb7cYwDPr7+9E0\nDU3T8Hg8NDQ0cPbsWQ4cOGDbpMDJsUFmisGf//xnWltbaW5upr6+nra2Nr7++mva29tz4+7syKmx\neTwe/vKXvxCPx9m6dSs1NTW0t7fz7bffMjExQUdHh22PNTg5NiE2WkUSVaUUmqZhGAZDQ0O5wf41\nNTXEYjG+/vprjh49utHLKhlN0wgGg3z77bc8fPgQTdOor69n69atfPXVVxw6dMi2yZxTY7t37x7j\n4+NYlkU8HufevXu57bpr166xZcsWW15aAM6OLZVKEYlEaGtro6mpic8++yw3m3JqaoobN27Y9uIC\nJ8dmmiapVIqdO3fyzTffcPXqVWpra2loaODatWvU1dWxdevWSi9zXZwcmxCVUJFmqrNnz5JMJmls\nbATg7t27+Hw+YrEYk5OTnDhxgn379m30skri8uXLuXvS29vbefToEaFQiFAohMfjobm5mRdffLHS\ny1wXp8Y2MjLCH//4RxobG9E0jeeeey43Z9SyLCzL4plnnqn0MtfFybEB/OpXv0LXdfr6+vjRj37E\npk2bOHv2LD09PXR3d7Nz50727NlT6WWui1NjGxkZ4cyZM4yPj7N161Z++MMfcv36db766iva29tJ\np9P8zd/8TaWXuS5Ojk2IStnwRPXGjRtcunSJ7u5uBgcHOX78OJs3b6a/vx/DMADo7OzcyCWVzOjo\nKL/73e84fvw4k5OTbN26lY6ODqanpxkbG8Pv90tsVeiXv/wlBw8eZO/evZw+fZrJyUl+/OMfAxCN\nRvH5fBVe4fo5Obbe3l4uXrzIz372M/r7+7l27Rqvv/46kDmikn09sSMnx/brX/+a7du38+STT/Lb\n3/6W733ve7lxadFoFMMwbDtb1MmxCVEpG34o7caNG5w8eZJnn32W3bt3c+nSJdxuNzt37sTn89k2\n2YFMd+6RI0c4fPgwra2tfPrpp3g8HlpaWmhpaZHYqpBpmgQCAWKxGABPPPEEMzMzAFy5coXLly9X\ncnlFcXJskGlYySYBTU1NjI6OkkgkSCaTfPHFF7l5o3bk1NgmJiaYmppi586dQObiiTt37gBw+/Zt\nJicnbZvIOTk2ISppwxPVQCCQm+XY3d1NKBQC4NNPP6Wvr2+jl1NSHR0dJBIJAA4cOICmaSSTSS5f\nvszFixcrvLriODU2l8vF3r17SSaTAHi9XtxuN1NTU1y8eJGurq7KLrAITo4NYM+ePSilSKfTuVvQ\nwuEw586dIxaL2TopcGpsTU1NbN26lYmJCQB2797NgwcPME2Tzz//3NYNfU6OTYhK2vBmqo6ODmpq\naqirq8OyLIaHh1FKcfXqVV555RVbb2npuk40GqWtrY10Os3IyAg+n49z587x7LPP2vpKUSfH1tDQ\nwJYtWwAwDIPh4WE+//xzdu/ebftbY5wam2ma1NbW0tTUlDu+YJom165dY3BwkDfffNO2yZxlWQQC\nAcfFlr2cIBAIsGnTJlwuF36/n3v37vHgwQMaGho4dOhQpZe5Lk6OTYhK29C3eKZp4vF4ch2PXq8X\nn8/Hb37zG44fP27r83IAwWCQJ598EnjcHf+v//qvdHZ20tbWVuHVFcfJsaXTaSDz9QlQW1vLyMgI\nJ06cqOSySsppsblcLpRSuSspAdrb27l69SqHDh2y/ZxKJ8aWbYfYtGlTLtE2DIPp6Wl6e3ttO8Fg\nPifHJkSlbOjbcpfLlbuzOvsOtLOzk3v37nHw4MGNXMqGCAaDKKV46qmnKr2UomWfr+yvTogtHA5T\nV1eHpmm5RA7g+PHjdHd32zYhyNdsk912tHtsY2NjjI2NsX///iXXhzY1NfHss89y5MiRCq6wePnm\nazohtuzrv1JqwWvJwYMHsSzLtrfZwdLnzEmxCVFpG9L1PzMzw8OHD+nq6sLtdgPkElaAWCxm2x+c\nAwMDxGIxgsFg7jjD/BctO3dW37p1C5/Px9atW/PORrVrbA8fPuTChQtEo1Hi8TgnT56kvb0dWPh1\naUejo6P86le/4pVXXmHbtm0LfkDa/V54gH/5l38hmUzy85//vNJLKbn79+/T1NREXV1dpZdSUo8e\nPeLy5cucOHGC2traSi+npEKhEH19ffj9frZv3y4JqRBlUPYzqleuXOHs2bNMT0/z4YcfEo/H6erq\nWvAD047nrQAePHjAqVOnGB4e5ubNm2zZsmXBFaKWZdn2zO2DBw/48ssv8fl8uFwupqenSSQSuN3u\nXDUk+6bDbv74xz+ye/duXnrpJSKRCB9++CFjY2Ns377dtl+LWTU1NXzzzTd8++23TE1NEYvF6Onp\nobOz0/ZJ6s2bNxkbG6OpqQmPx7Ngaxzsm4hblsX09DS//e1viUQiaJqWu0ksK1uJtKP+/n6++uor\nRkZGckWJR48eUVdXRyqVsvUbw1//+tcAXLt2jenpaYLBIAMDA9TV1eUqx0KI4pQ9Uf3Tn/7EK6+8\nwpEjR2htbeXUqVM8ePCA5uZmWzfgAHzwwQc888wzPP/880xMTDAyMpK74Sc7M8+uPvzwQ374wx9i\nmiZ/+ctfuHbtGpFIBJ/PR319vW1fgKenp+np6WH37t3U19ezbds2jh49Sm9vL9PT07a+MSadTud+\n6Ge7xv/85z+jlGL37t22TsIty+L999/n1Vdfpb6+nk8++WTJG0O7fk0qpXJXbiYSCUKhENPT0+i6\njsfjQdM028YGmUkvjx494tChQwwPD/Pxxx9jGAZdXV22TlIHBga4ffs2P/nJTzh48CAff/wxk5OT\nPHz4EMMwaGlpqfQShXCEsiWqlmUxOzvLvXv3CAQCNDY20tLSwszMDM3NzcRisdx2qx0lk0nu3r2L\n3++nra0NXdfp7e3lwIEDXLhwgUePHtk2PsuymJycZHx8nIGBAd566y2OHDnC5OQkly9fZvv27bat\npma35u7du4fX68UwDLxeL+3t7XzzzTfs2bPHllfAwuNzqKlUipGREZqamgiFQtTX13P+/Hn27t1r\ny2TVsiwmJiYwTZP9+/fT2NhIIpFgdHQ0d2e6Xaup8LjJSNd1vv/979PY2Ji7onhmZoaGhgbbvuk1\nTRNd1xkaGqK+vh6v18vg4CC6rnPnzh22b99u22RVKUVvby+GYXDmzBk0TeOv//qvSafT3Llzh507\nd9o2NiGqSdkSVaUUbrebVCrF8PAwg4ODXL58GbfbzZNPPsmXX37JwYMHbfvDRdM0DMMgnU7nGotu\n375NR0cHp06d4qmnnsLv91d6meuilKKuro6+vj4mJiaor6+nubmZLVu28M0333DgwAFbJqrZiqPf\n72dkZIT+/n4SiQTj4+Ncv34dv9/P7t27K73MdRkZGWF6eprZ2Vm2bNlCX18f33zzDT/60Y84cuQI\nW7ZsWbJVbhdKKfx+P9u2bcslpT6fj5s3b3L//n127Nhh24TAsixisRiaptHW1kYqlaKpqYldu3aR\nTCZ5+PAhe/futXV8LpeL1tZWzp8/z927d3nxxRfZu3cvtbW1NDc3V3qJ6+bxeHC73QwPDxOLxdi7\ndy+bNm3iypUr+Hw+tm/fXuklCuEIZWumunr1KqlUCrfbTSwWy/1w8fl8fPPNN+zYsYNjx46V46HL\nbmJigkAgsKQx7Pe//z0jIyPs27ePZ599tsKrXJ++vj5mZ2eJxWI0NDRw/fp1pqency/KhmHwxhtv\nVHqZazYzM8Pp06c5duxY7safnp4eRkZGSCaTpNNpXnrpJVtWHMPhMO+99x5+vx+3280Pf/hDHj16\nxJ07dzh58mSll1e0L774gnQ6zfDwMLt27eLo0aMAzM7O8pvf/IYnnnjCtjMqP/jgA+LxOPfu3eOt\nt96iq6trQUNfOp22ZYU/Eolw48YNIpEILpeLH/7wh3z66ackk0nbf03Ozs7S09PD4cOHc8/T9evX\n+eUvf8mRI0cYHx/nv/yX/2LbKrgQ1aYsFdV79+5x9uxZXC4Xw8PD7N27lz179tDQ0MDk5CSWZfHM\nM8+U+mE3RDwe57PPPiMcDqPrOoFAIFcVHhoa4s6dO/z1X/+1LX+4hMNh/v3f/52GhgbC4TAtLS0c\nO3aMtrY2TNOkq6uLEydO2K66k53f+/vf/56+vj7i8ThNTU1s3ryZrVu3smPHDltX5f7whz+we/du\nXn75Zfr7++nr6+Ppp59mx44dJJPJ3MxRO+rv7+fixYs89dRTtLS0cPbsWS5dukQwGKS5uZlDhw7l\n3njYTX9/P9evX+ftt9+msbGR+/fvs3379gXPlV2/Jj/44ANSqRTbt2/n7t27fPTRR7S0tPDSSy+h\nlLJ1c9ijR4/45JNPGBkZAaC5uZlgMMjhw4epqamx9W6aENWoLInqRx99xHPPPcfRo0eZnp7m5s2b\n7Nu3L9cUsG/fvlI/5IYwTRPDMDh37hzj4+Mkk0mmpqZwu934fD42b96ca9Kxow8//JCuri6eeeYZ\nIpEIZ86c4fjx49TW1tLQ0EB7e7stf3Bmt4sHBwc5evQoAwMDXL16FaUUjY2NtqyiZpmmSX9/P+3t\n7bnRRj09PRw8eJDe3l76+/tzN1PZ0aVLl6itreXQoUM0NTVx9OhR0uk0vb29bN++3ZZvCLPOnz9P\nQ0MD3d3d6LrOmTNnOHjwIJqmce7cOdra2mz5/RYKhbhw4QKvv/46wWCQ/fv3097ezq1bt/B4PLS0\ntNg2SYVMf8LVq1fZs2cPfX193L9/n9raWlpaWmhubpYRVUKUWMlfBS3Lora2lm+//RbIdB9PT08D\n8NVXX9HT01Pqh9ww2R8ara2tHDlyhGUMjHgAABG4SURBVMbGRoaHh7l27Ro3btwAsPUtTW1tbbm5\nqIcPH0bXdUzT5NatW3z55ZcVXl3xnn76aXbv3s1bb73FsWPHuHLlCu+99x6xWKzSS1s3l8tFR0cH\nAwMDQGY8lWmaxGIxvv76a9t3Hh8+fJh4PM7Dhw9Jp9OYpsmJEycwTTMXs11lLy1IpVI0NDSg6zrT\n09OcP3+ewcFB2ybhDQ0N7Nq1i5s3bxKPxzFNk23btvH0009z//79BZdr2JGmaRw4cIDu7m6eeuop\nAoEAn332GZ9++qntYxOiGpW8oqqUoqmpCaUULS0tWJbFwMAAtbW1fP311zz//PO2He6f1dbWRjAY\nZMuWLdTW1jI1NcXg4CCbN2+2dWypVIqJiQk6OjpIpVL09/cTDAb58ssvOXr0KA0NDZVe4rplG8Sy\nzR0tLS0cOnQIt9tt263jrGAwmJuTahgGo6OjfP3117S3t+fOc9pRdg7xxMQEFy9eJJFIoGka4XCY\nK1eucPz4cdt+v1mWhdfrpa6uLjcEP5VKMTAwQF9fH6+99pqtK3OWZXH16lXGxsZy8d29e5dQKGTb\nHbUsj8dDZ2cnfr8/V0kNBAJommbbSS9CVLOSN1Plu9nno48+4tq1azz33HMcP368lA9XMYvjHB0d\nJRgMVnBFpXfu3Dk+//xzDh06ZPsGiMXPl91voJovG0v21y+++IKPPvqIv/u7v3PMLUcPHz7k4sWL\nKKVIpVJs3rzZ1tf35vPtt9/yT//0T7z66qu2PcM/XyQS4auvvmJqagqfz8fExARvvfWW7b8mF18n\nDeQqqU55TRGimpT8cN78b9T598Kbpmnr6s5i2Tjnx2hn+eZQBoNBZmZmbJsQzI9p8Q8Qu/9AyRdb\n9tenn36ajo4O2ycE8LjrfcuWLWzZsoVwOOyIuODxG4zsc7lp0yaOHDnC008/XemlFcWyLCzLIhAI\ncPLkSSYnJzEMA13XbVsBny/f3F67v54IUc1KVlEdGhrC5XLlGou8Xu+Cb+bp6Wnb3vOcjWNychJN\n0xzzgxJWj21iYoKmpqYKra40rl+/TkNDA8Fg0HEjY5wYWyHVbrsO+F8tNrvGtZhdx2oVYn5sTnm+\nhKhmJXkbmM11z58/z7vvvpsb2zH/G9iuSSo8jqOvr4/e3t4Kr6a0lovNNE0sy7Jtkprdirt06RIX\nLlwgEolgGAa3b9+u8MqK5+TYsmeIU6kU77//Pp999hk9PT1EIpEFH2fH5KCQ2OwYFzz+muzt7eWL\nL77gj3/8I1euXKnwqkpjpdjs+nwJYSclSVSzDVSapmGaJn19fVy6dIlIJMLo6CglPga74bLrb2tr\n49q1a5w/f37B79vZcrEppWz9IuxyuUin05w7d44333yTPXv2EA6HuX79OhMTE5VeXlGcHFvW2bNn\nSSQSWJbF/fv3uXLlCvfu3XPE95zTYguFQrlLM7788svcrUx37tyhr6+v0ssripNjE8Iuij6jmt3K\n0jSN5557jh07dpBKpRgbG+MXv/gFO3bs4MUXXyzFWjfc/EPzlmXR1tbGT3/6U7788ksmJydpbGys\n9BLXzcmxZSml6OjoYHZ2NjdjNBQKkUqlKr20ojk1NqUUoVCIUCjEj3/8Y3Rd5/79+9y8eZPa2lpb\nv3lyamxnzpxhamqK1tZWtm7dmrtxMFu06O7utu0ZTifHJoRdFJ2oZr9Jf/Ob3+D3+/n+97+faxDo\n6uqy9eif7A+O8+fPc/v2bQKBAPF4nHQ6zbvvvss777xj23OBTo1tcZNRd3c3v/jFL9i1axdutzt3\ni4wdOTm2+fr7+7l69Soej4eTJ0/S1dXFli1bbJvIzefE2F5//XWuXLmS2w5/9OgRzc3NTE1NkUql\nbJ3IOTk2IeyiJM1UfX19fP755/zX//pfAbhz5w6zs7McPny46AVWyuKRP7dv32bz5s08ePCAWCxG\nOp3Ovbu2GyfHlnXx4sXcbNv29nbu37+f+/9ut7vSyyuKE2PLfi1mG1XC4TB/+MMfmJqa4plnnuHQ\noUO2bVz5LsQGmTmwX331Fffu3cPv92MYBq+++mruEhG7cXJsQthJScZTWZbF1q1bcy+0qVSK69ev\n2zpRzb5AnTp1iomJidzW6okTJyq8suI5NbbsD5aenh5u3brFc889x7/927/xzDPPcPjwYQKBQKWX\nuG5Ojg0ef03+7ne/I5FI0NbWxttvv829e/c4e/Yshw4dsmUiB86NLfs1ee/ePXp7exkdHeV73/se\ne/bs4ezZs3R0dNg2kXNybELYTVE3Uz18+BCPx4NhGJw7d46RkRHcbjdnzpzhxIkTtr2+0TRNlFL0\n9PRw8+ZNXnvtNVwuF729vfj9fluf33RybNkf9l9//TXHjh1jenqazZs3U19fT09PD93d3RVe4fo5\nObbs1+Q333zD9PQ0Tz31FOfOnePq1as0Njby6quvVnqJ6+bk2LJfk7/61a945ZVXePDgAQ8ePKCh\noYHvf//7tr6lycmxCWE36zpg09fXxx/+8Ac+++wz/vmf/5m+vj5OnjyJYRjcvXuXgwcPsmfPnlKv\ndcNkKyADAwMcOnSIxsZG9u/fT0dHh+1HADk5tqy9e/dy5swZTp8+zdGjR7l27Zqtz0rP58TYsiOb\nbt68yfP/f3t3G9NW+cZx/NvyuLYyBqyC1rEQO5PWMahjNnOYGZcIycyiCzIHa4y+MCYuJmhiYuYb\nH2LUBDCYzZCow2Fwy7I3xMg71wSmPMjEDNg6oCsonQUhoy2Up9UXpP2vm9nfsYf2HK9PQpaent5c\nP7I0V+5z7nOXljI6Osq2bdswGo2KX1mt5myw8j2SnZ1NWloai4uL7Nu3j76+Pnw+X7xLu21qziaE\nkqzq0n97ezvbt2/HbDYzOTlJV1cXQ0NDPPvss+j1+jtd4z118eJF7rvvPnJzc9m4cSNOp5PU1FQs\nFgvDw8OKvndTrdkmJiZwu90EAgHS09PJzMxkw4YNpKSk0NbWhk6nw2q1xrvMVVFzNlh5NmV+fj5p\naWls27aN8fHx6GXWwcFBRc84qjWb2+1menoam81Gbm4u6enpfPPNN1gsFjweDwsLC4pd1KfmbEIo\n1S1f+v/555/RaDTY7XaWl5cxGAyYzWZ+//13QqGQoi+JXLlyhZ6eHmZmZgiFQhiNRgwGA8PDw3R3\nd2M0GrHb7fEuc1XUnO27774jNzeXcDhMamoqXq+XzMxMCgsLyc/PZ9OmTYp8ggGoO9vk5CRtbW14\nvV50Oh05OTmsW7cOr9dLX18f6enpFBUVxbvMVVFzttbWVqxWK2vXrgUgPT2d+fl5QqEQY2Nj7Nq1\nS7ETFmrOJoRS3fKq/+7ubjIzMzGbzVy9epWlpSVSU1NxuVwMDQ1RVlam6Ed2TE1NMTw8zJ9//klO\nTg4ZGRk89NBDJCcnR/erVio1Zuvq6mJqaoqysjIAgsEgHo+H/v5+ysvLMRgMil1RreZsEeFwmM7O\nTs6fP09+fj7FxcV4vV6uXr2q6CYc1Jmts7OTqakpysvLmZ2dpbOzk507d+L3+0lOTiYcDiu2kVNz\nNiGU7JY7Sp1Ox+nTp5mYmECr1UYfhzMwMMD69esV3aQCZGVlUVJSwtatWwkEAgwODtLT00M4HFZk\nI3cttWULBAJ0dHSwY8cOYGXhil6vx2KxoNfr8Xq9gDK3OVRztojIQiO73c7zzz9PKBTi+PHjZGVl\nYbVaFdnIRagxWyAQwOl0Rv9Ptre3s7i4iEajISMjA51Op9hGTs3ZhFC6W+5OrFYrfr+fc+fOYTQa\nWbduHX/99ReBQECxjzcKBoM4nU5mZ2fJyMhgbGyM7OxsxsfHWV5eZnx8nCeeeCLeZa6KmrNFdtA6\nc+YMmzZtYuPGjdH35ufnmZubi19xt0nN2SIiG4OEw2EyMjIoLy/nzJkzDA4OqmKBmNqyhUIh1q9f\nT1tbGyaTicnJSfbv3w8QfUasUqk5mxBKt6pptKKiIvr7+7l8+TJOp5OioiLFbpMKK/eTuVwuNBoN\nOp2OiooKwuEwWq2WtLQ0kpKSFPtFpeZsJpOJPXv2MDQ0RE9PD0NDQ5SWljI5Ocni4iKFhYXxLnHV\n1JztWhqNBo1GQyAQ4PLly/T19bFr1654l3VHqC1bTk4ODoeDgYEBOjo60Gg0BINB9Hq9Yr9DItSc\nTQilu62dqSIzBkq/3B8Oh5mZmcHtduN2u8nOzubRRx8lKysr3qXdNjVni1heXsbn8+FyuaKr5Pfu\n3UtBQUG8S7ttas52LZ/Pxy+//ML999+PzWaLdzl3lBqzzc7O0tvby4ULF8jLy1P82oRrqTmbEEp0\nR7ZQVYulpSUmJia4cOECExMT5OXlsX37dlV8Sak5W8TCwgJutxufz0dpaWm8y7mj1JxNKJfP58Pj\n8Sj2tq+bUXM2IZREGtV/EGkK/H4/W7dujXc5d5Sas0UofSX8zag5mxBCCHE9aVRvIrLfsxqpOZsQ\nQggh1EEaVSGEEEIIkZBkSk0IIYQQQiQkaVSFEEIIIURCkkZVCCGEEEIkJGlUhRBCCCFEQpJGVYj/\niC+//BK73Y7VasVsNvPMM8/Q1dUVc86bb75JWloa4+PjMcd37tyJVqvl0qVLMcedTidarZba2loA\nXnrpJUwmEzabDZvNRnFxMTabjc8///ymtXk8HpKTk6Of27JlCyUlJRw7duyGc1tbW9FqtZw4cSJ6\n7MqVK9HfZTab0el00bHefvttPB4PSUlJMTVF/l1aWrqVP6MQQoh7aFVbqAohlOWdd96hvb2dkydP\nYjKZAPjxxx/ZvXs3vb29mEwm5ufnOXbsGBUVFTQ0NPDRRx9FP6/RaMjPz6e5uZlDhw5Fjzc1NZGb\nmxtzXk1NDTU1Nbdco06no7e3N/p6dHSUp59+GoPBwHPPPRc9/sUXX1BdXU19fT0vvPACAGvXruXs\n2bPASvN88ODBmLE8Hg96vT7mmBBCiMQnM6pCqJzP5+Ozzz6LaVIBnnrqKerq6ggGgwC0tLTw8MMP\nU1NTQ2NjI6FQKGac6upqvv322+jrubk5Ojo67tr+9Rs2bOC9997jk08+iR4bGRnh9OnT1NbW4nK5\n6OzsvCu/WwghRGKQRlUIlfvpp5+wWCwYjcYb3quqquKRRx4BVmYqDxw4gM1m44EHHqCpqSnm3OLi\nYlJTU+nu7gbg1KlT7Nmzh6SkpJjzamtrb7j039/fv6rat2zZwrlz56KvGxsb2b17Nzk5Obz44ovU\n19f/67FmZ2ejdUV+Dh48uKq6hBBC3Bty6V8Ilbt+29VAIEBpaSkajQa/309lZSV79+7l119/5Ycf\nfgDA4XBQX1/Pq6++GjOWw+GgubmZkpISmpqaqK+v59NPP405Z7WX/v+JRqNBp9MBK9v/fvXVV3z9\n9dcAHDhwgB07dvDHH3/w4IMP/t+xrr+1QAghROKTGVUhVO7xxx/n/PnzTE9PA2AwGDh79iy9vb1U\nV1czMzPD4cOHSUlJ4bHHHqOgoICGhgYuXrxIW1tbzFj79+/n5MmTXLp0Cb/fj8Viuau1d3V1sXnz\nZgBOnDjB9PQ0r7/+OgUFBVRWVqLVamloaLirNQghhIgfaVSFULm8vDzeeOMNKioqGBsbix4fHR2l\no6MDrVZLS0sL33//PSMjI4yMjDA6OkpVVRV1dXU3jLV582ZefvllHA7HHa3z+t2cXS4XH3zwAW+9\n9RYAR44c4d1338XtdjMyMoLb7ebIkSM0NjYyNzd3y+MLIYRIfHLpX4j/gPfff5+WlhaqqqoIBoMs\nLCywZs0aKisrSUlJwWq18uSTT8Z85tChQ1itVgYGBmJuHXA4HLzyyiucOnUKIOY9gLq6Opqbm2OO\n2e12Dh8+fNMaQ6EQNpstOuaaNWv4+OOPKSsr47fffqOvr4/W1taYzzgcDj788EOOHj3Ka6+99q/H\nh//dEnH06FEKCwtv+lkhhBDxoQnLNIMQQgghhEhAMqMqhLgn9u3bh8vlijkWmdU8fvw4ZrM5TpUJ\nIYRIVDKjKoQQQgghEpIsphJCCCGEEAlJGlUhhBBCCJGQpFEVQgghhBAJSRpVIYQQQgiRkKRRFUII\nIYQQCelvbFmSuBvX/dMAAAAASUVORK5CYII=\n",
      "text/plain": [
       "<matplotlib.figure.Figure at 0x10e273a10>"
      ]
     },
     "metadata": {},
     "output_type": "display_data"
    },
    {
     "data": {
      "text/plain": [
       "<ggplot: (275031889)>"
      ]
     },
     "execution_count": 134,
     "metadata": {},
     "output_type": "execute_result"
    }
   ],
   "source": [
    "plot_trend([\"Stephen Curry\",\"Russell Westbrook\",\"LeBron James\"], \"FanPTs\")"
   ]
  },
  {
   "cell_type": "code",
   "execution_count": 147,
   "metadata": {
    "collapsed": false
   },
   "outputs": [
    {
     "data": {
      "image/png": "iVBORw0KGgoAAAANSUhEUgAAArAAAAInCAYAAABgJ2pNAAAABHNCSVQICAgIfAhkiAAAAAlwSFlz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\nEIoiDawQQgghhFCU/wBS3z4mhSLOZgAAAABJRU5ErkJggg==\n",
      "text/plain": [
       "<matplotlib.figure.Figure at 0x111c09450>"
      ]
     },
     "metadata": {},
     "output_type": "display_data"
    },
    {
     "data": {
      "text/plain": [
       "<ggplot: (283317365)>"
      ]
     },
     "execution_count": 147,
     "metadata": {},
     "output_type": "execute_result"
    }
   ],
   "source": [
    "plot_trend([\"Stephen Curry\",\"Russell Westbrook\",\"LeBron James\"], \"PLUS_MINUS\")"
   ]
  },
  {
   "cell_type": "markdown",
   "metadata": {},
   "source": [
    "function to plot relationship between two attributes with annotation for top players"
   ]
  },
  {
   "cell_type": "code",
   "execution_count": null,
   "metadata": {
    "collapsed": true
   },
   "outputs": [],
   "source": [
    "def plot_relationship(stat1, stat2,PlayerFeaturesTable): #players should be a list   \n",
    "    tmp = allplayerFantasyGameLogs[allplayerFantasyGameLogs[\"fullName\"].isin(players)][['fullName',stat]].reset_index()\n",
    "    plot_obj = ggplot(aes(x='GAME_DATE', y=stat, colour='fullName'), data=tmp) + geom_line() \\\n",
    "+ ggtitle(\"Stats For Players\")+theme(axis_text_x  = element_text(angle = 60, hjust = 1))\n",
    "    return(plot_obj)"
   ]
  },
  {
   "cell_type": "code",
   "execution_count": 151,
   "metadata": {
    "collapsed": false
   },
   "outputs": [
    {
     "data": {
      "text/plain": [
       "2"
      ]
     },
     "execution_count": 151,
     "metadata": {},
     "output_type": "execute_result"
    }
   ],
   "source": [
    "allplayerFantasyGameLogs"
   ]
  },
  {
   "cell_type": "code",
   "execution_count": 19,
   "metadata": {
    "collapsed": false
   },
   "outputs": [
    {
     "data": {
      "image/png": "iVBORw0KGgoAAAANSUhEUgAAAp8AAAHvCAYAAAASIrRUAAAABHNCSVQICAgIfAhkiAAAAAlwSFlz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\nTkSuQmCC\n",
      "text/plain": [
       "<matplotlib.figure.Figure at 0x10ee1d250>"
      ]
     },
     "metadata": {},
     "output_type": "display_data"
    },
    {
     "data": {
      "text/plain": [
       "<ggplot: (283129289)>"
      ]
     },
     "execution_count": 19,
     "metadata": {},
     "output_type": "execute_result"
    }
   ],
   "source": [
    "ggplot(aes(x='AvgMIN',y='AvgFanPTs'), data=PlayerFeaturesTable_02_29_2016) + geom_point()"
   ]
  },
  {
   "cell_type": "code",
   "execution_count": 165,
   "metadata": {
    "collapsed": false
   },
   "outputs": [
    {
     "data": {
      "text/plain": [
       "459"
      ]
     },
     "execution_count": 165,
     "metadata": {},
     "output_type": "execute_result"
    }
   ],
   "source": [
    "len(PlayerFeaturesTable_02_29_2016['Player_ID'].unique())"
   ]
  },
  {
   "cell_type": "code",
   "execution_count": 97,
   "metadata": {
    "collapsed": false
   },
   "outputs": [
    {
     "data": {
      "text/html": [
       "<div>\n",
       "<table border=\"1\" class=\"dataframe\">\n",
       "  <thead>\n",
       "    <tr style=\"text-align: right;\">\n",
       "      <th></th>\n",
       "      <th>fullName</th>\n",
       "      <th>Player_ID</th>\n",
       "      <th>Team</th>\n",
       "      <th>position1</th>\n",
       "      <th>NumGames</th>\n",
       "      <th>AvgFanPTs</th>\n",
       "      <th>AvgPTS</th>\n",
       "      <th>AvgMIN</th>\n",
       "      <th>AvgFGM</th>\n",
       "      <th>AvgFGA</th>\n",
       "      <th>AvgFG3M</th>\n",
       "      <th>AvgFG3A</th>\n",
       "      <th>AvgREB</th>\n",
       "      <th>AvgAST</th>\n",
       "      <th>AvgSTL</th>\n",
       "      <th>AvgTOV</th>\n",
       "      <th>AvgPLUS_MINUS</th>\n",
       "      <th>NumDouBL</th>\n",
       "      <th>NumTriBL</th>\n",
       "    </tr>\n",
       "  </thead>\n",
       "  <tbody>\n",
       "    <tr>\n",
       "      <th>0</th>\n",
       "      <td>Nate Robinson</td>\n",
       "      <td>101126</td>\n",
       "      <td>NOP</td>\n",
       "      <td>PG</td>\n",
       "      <td>2</td>\n",
       "      <td>4.000000</td>\n",
       "      <td>0.000000</td>\n",
       "      <td>11.500000</td>\n",
       "      <td>0.000000</td>\n",
       "      <td>0.500000</td>\n",
       "      <td>0.000000</td>\n",
       "      <td>0.500000</td>\n",
       "      <td>0.000000</td>\n",
       "      <td>2.000000</td>\n",
       "      <td>0.500000</td>\n",
       "      <td>0.000000</td>\n",
       "      <td>-10.000000</td>\n",
       "      <td>0</td>\n",
       "      <td>0</td>\n",
       "    </tr>\n",
       "    <tr>\n",
       "      <th>1</th>\n",
       "      <td>Timofey Mozgov</td>\n",
       "      <td>202389</td>\n",
       "      <td>CLE</td>\n",
       "      <td>C</td>\n",
       "      <td>56</td>\n",
       "      <td>14.223214</td>\n",
       "      <td>6.357143</td>\n",
       "      <td>17.821429</td>\n",
       "      <td>2.732143</td>\n",
       "      <td>4.982143</td>\n",
       "      <td>0.017857</td>\n",
       "      <td>0.125000</td>\n",
       "      <td>4.500000</td>\n",
       "      <td>0.410714</td>\n",
       "      <td>0.285714</td>\n",
       "      <td>0.964286</td>\n",
       "      <td>0.214286</td>\n",
       "      <td>1</td>\n",
       "      <td>0</td>\n",
       "    </tr>\n",
       "    <tr>\n",
       "      <th>2</th>\n",
       "      <td>Alonzo Gee</td>\n",
       "      <td>202087</td>\n",
       "      <td>NOP</td>\n",
       "      <td>SF</td>\n",
       "      <td>58</td>\n",
       "      <td>11.012931</td>\n",
       "      <td>3.827586</td>\n",
       "      <td>21.448276</td>\n",
       "      <td>1.534483</td>\n",
       "      <td>3.172414</td>\n",
       "      <td>0.258621</td>\n",
       "      <td>0.913793</td>\n",
       "      <td>3.051724</td>\n",
       "      <td>0.948276</td>\n",
       "      <td>0.896552</td>\n",
       "      <td>0.637931</td>\n",
       "      <td>-2.517241</td>\n",
       "      <td>0</td>\n",
       "      <td>0</td>\n",
       "    </tr>\n",
       "    <tr>\n",
       "      <th>3</th>\n",
       "      <td>Steve Blake</td>\n",
       "      <td>2581</td>\n",
       "      <td>DET</td>\n",
       "      <td>PG</td>\n",
       "      <td>36</td>\n",
       "      <td>11.430556</td>\n",
       "      <td>4.277778</td>\n",
       "      <td>16.000000</td>\n",
       "      <td>1.527778</td>\n",
       "      <td>3.944444</td>\n",
       "      <td>0.944444</td>\n",
       "      <td>2.611111</td>\n",
       "      <td>1.444444</td>\n",
       "      <td>3.083333</td>\n",
       "      <td>0.416667</td>\n",
       "      <td>1.500000</td>\n",
       "      <td>-1.138889</td>\n",
       "      <td>0</td>\n",
       "      <td>0</td>\n",
       "    </tr>\n",
       "    <tr>\n",
       "      <th>4</th>\n",
       "      <td>Jimmy Butler</td>\n",
       "      <td>202710</td>\n",
       "      <td>CHI</td>\n",
       "      <td>SG</td>\n",
       "      <td>48</td>\n",
       "      <td>39.682292</td>\n",
       "      <td>22.375000</td>\n",
       "      <td>37.812500</td>\n",
       "      <td>7.437500</td>\n",
       "      <td>16.250000</td>\n",
       "      <td>1.104167</td>\n",
       "      <td>3.333333</td>\n",
       "      <td>5.187500</td>\n",
       "      <td>4.270833</td>\n",
       "      <td>1.687500</td>\n",
       "      <td>1.979167</td>\n",
       "      <td>0.187500</td>\n",
       "      <td>6</td>\n",
       "      <td>0</td>\n",
       "    </tr>\n",
       "  </tbody>\n",
       "</table>\n",
       "</div>"
      ],
      "text/plain": [
       "         fullName  Player_ID Team position1  NumGames  AvgFanPTs     AvgPTS  \\\n",
       "0   Nate Robinson     101126  NOP        PG         2   4.000000   0.000000   \n",
       "1  Timofey Mozgov     202389  CLE         C        56  14.223214   6.357143   \n",
       "2      Alonzo Gee     202087  NOP        SF        58  11.012931   3.827586   \n",
       "3     Steve Blake       2581  DET        PG        36  11.430556   4.277778   \n",
       "4    Jimmy Butler     202710  CHI        SG        48  39.682292  22.375000   \n",
       "\n",
       "      AvgMIN    AvgFGM     AvgFGA   AvgFG3M   AvgFG3A    AvgREB    AvgAST  \\\n",
       "0  11.500000  0.000000   0.500000  0.000000  0.500000  0.000000  2.000000   \n",
       "1  17.821429  2.732143   4.982143  0.017857  0.125000  4.500000  0.410714   \n",
       "2  21.448276  1.534483   3.172414  0.258621  0.913793  3.051724  0.948276   \n",
       "3  16.000000  1.527778   3.944444  0.944444  2.611111  1.444444  3.083333   \n",
       "4  37.812500  7.437500  16.250000  1.104167  3.333333  5.187500  4.270833   \n",
       "\n",
       "     AvgSTL    AvgTOV  AvgPLUS_MINUS  NumDouBL  NumTriBL  \n",
       "0  0.500000  0.000000     -10.000000         0         0  \n",
       "1  0.285714  0.964286       0.214286         1         0  \n",
       "2  0.896552  0.637931      -2.517241         0         0  \n",
       "3  0.416667  1.500000      -1.138889         0         0  \n",
       "4  1.687500  1.979167       0.187500         6         0  "
      ]
     },
     "execution_count": 97,
     "metadata": {},
     "output_type": "execute_result"
    }
   ],
   "source": [
    "PlayerFeaturesTable_02_29_2016.head()"
   ]
  },
  {
   "cell_type": "code",
   "execution_count": 7,
   "metadata": {
    "collapsed": false
   },
   "outputs": [
    {
     "data": {
      "text/plain": [
       "(18964, 30)"
      ]
     },
     "execution_count": 7,
     "metadata": {},
     "output_type": "execute_result"
    }
   ],
   "source": [
    "allplayerFantasyGameLogs.shape"
   ]
  },
  {
   "cell_type": "code",
   "execution_count": 53,
   "metadata": {
    "collapsed": false
   },
   "outputs": [
    {
     "data": {
      "text/plain": [
       "456"
      ]
     },
     "execution_count": 53,
     "metadata": {},
     "output_type": "execute_result"
    }
   ],
   "source": [
    "interest_columns = ['fullName','Player_ID','Game_ID','MIN','PTS','FGM','FGA', 'FG3M','FG3A', \\\n",
    "                        'REB','AST','STL','TOV','PLUS_MINUS','DouBL','TriBL','FanPTs','position1']\n",
    "tmp = allplayerFantasyGameLogs.ix['2015-10-27':'2016-2-21']\n",
    "len(tmp['Player_ID'].unique())"
   ]
  },
  {
   "cell_type": "code",
   "execution_count": 58,
   "metadata": {
    "collapsed": false
   },
   "outputs": [],
   "source": [
    "tmp.drop_duplicates(inplace=True)"
   ]
  },
  {
   "cell_type": "code",
   "execution_count": 59,
   "metadata": {
    "collapsed": false
   },
   "outputs": [
    {
     "data": {
      "text/plain": [
       "(17740, 30)"
      ]
     },
     "execution_count": 59,
     "metadata": {},
     "output_type": "execute_result"
    }
   ],
   "source": [
    "tmp.shape"
   ]
  },
  {
   "cell_type": "code",
   "execution_count": null,
   "metadata": {},
   "outputs": [],
   "source": [
    ""
   ]
  }
 ],
 "metadata": {
  "kernelspec": {
   "display_name": "Python 2",
   "language": "python",
   "name": "python2"
  },
  "language_info": {
   "codemirror_mode": {
    "name": "ipython",
    "version": 2.0
   },
   "file_extension": ".py",
   "mimetype": "text/x-python",
   "name": "python",
   "nbconvert_exporter": "python",
   "pygments_lexer": "ipython2",
   "version": "2.7.11"
  }
 },
 "nbformat": 4,
 "nbformat_minor": 0
}